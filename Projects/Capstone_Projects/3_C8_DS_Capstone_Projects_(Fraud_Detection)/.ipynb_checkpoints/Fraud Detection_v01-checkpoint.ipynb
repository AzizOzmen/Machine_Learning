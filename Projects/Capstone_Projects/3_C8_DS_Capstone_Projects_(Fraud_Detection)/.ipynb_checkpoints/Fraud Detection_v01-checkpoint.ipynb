{
 "cells": [
  {
   "cell_type": "markdown",
   "metadata": {
    "id": "jx3Ut_rjMuHR"
   },
   "source": [
    "___\n",
    "\n",
    "<p style=\"text-align: center;\"><img src=\"https://docs.google.com/uc?id=1lY0Uj5R04yMY3-ZppPWxqCr5pvBLYPnV\" class=\"img-fluid\" alt=\"CLRSWY\"></p>\n",
    "\n",
    "___"
   ]
  },
  {
   "cell_type": "markdown",
   "metadata": {
    "id": "-24P_wByMuHX"
   },
   "source": [
    "# WELCOME!"
   ]
  },
  {
   "cell_type": "markdown",
   "metadata": {
    "id": "Ow9AD-4vMuHX"
   },
   "source": [
    "Welcome to \"***Fraud Detection Project***\". This is the last project of the Capstone Series.\n",
    "\n",
    "One of the challenges in this project is the absence of domain knowledge. So without knowing what the column names are, you will only be interested in their values. The other one is the class frequencies of the target variable are quite imbalanced.\n",
    "\n",
    "You will implement ***Logistic Regression, Random Forest, Neural Network*** algorithms and ***SMOTE*** technique. Also visualize performances of the models using ***Seaborn, Matplotlib*** and ***Yellowbrick*** in a variety of ways.\n",
    "\n",
    "At the end of the project, you will have the opportunity to deploy your model by ***Flask API***.\n",
    "\n",
    "Before diving into the project, please take a look at the Determines and Tasks.\n",
    "\n",
    "- ***NOTE:*** *This tutorial assumes that you already know the basics of coding in Python and are familiar with model deployement (flask api) as well as the theory behind Logistic Regression, Random Forest, Neural Network.*\n",
    "\n"
   ]
  },
  {
   "cell_type": "markdown",
   "metadata": {
    "id": "dqbMkIZ-MuHY"
   },
   "source": [
    "---\n",
    "---\n"
   ]
  },
  {
   "cell_type": "markdown",
   "metadata": {
    "id": "spCFDhO7MuHY"
   },
   "source": [
    "# #Determines\n",
    "The datasets contains transactions made by credit cards in September 2013 by european cardholders. This dataset presents transactions that occurred in two days, where it has **492 frauds** out of **284,807** transactions. The dataset is **highly unbalanced**, the positive class (frauds) account for 0.172% of all transactions.\n",
    "\n",
    "**Feature Information:**\n",
    "\n",
    "**Time**: This feature is contains the seconds elapsed between each transaction and the first transaction in the dataset. \n",
    "\n",
    "**Amount**:  This feature is the transaction Amount, can be used for example-dependant cost-senstive learning. \n",
    "\n",
    "**Class**: This feature is the target variable and it takes value 1 in case of fraud and 0 otherwise.\n",
    "\n",
    "---\n",
    "\n",
    "The aim of this project is to predict whether a credit card transaction is fraudulent. Of course, this is not easy to do.\n",
    "First of all, you need to analyze and recognize your data well in order to draw your roadmap and choose the correct arguments you will use. Accordingly, you can examine the frequency distributions of variables. You can observe variable correlations and want to explore multicollinearity. You can show the distribution of the target variable's classes over other variables. \n",
    "Also, it is useful to take missing values and outliers.\n",
    "\n",
    "After these procedures, you can move on to the model building stage by doing the basic data pre-processing you are familiar with. \n",
    "\n",
    "Start with Logistic Regression and evaluate model performance. You will apply the SMOTE technique used to increase the sample for unbalanced data. Next, rebuild your Logistic Regression model with SMOTE applied data to observe its effect.\n",
    "\n",
    "Then, you will use three different algorithms in the model building phase. You have applied Logistic Regression and Random Forest in your previous projects. However, the Deep Learning Neural Network algorithm will appear for the first time.\n",
    "\n",
    "In the final step, you will deploy your model using ***Flask API***. \n",
    "\n",
    "**Optional**: You can Dockerize your project and deploy on cloud."
   ]
  },
  {
   "cell_type": "markdown",
   "metadata": {
    "id": "YOl6z9mXMuHY"
   },
   "source": [
    "---\n",
    "---\n"
   ]
  },
  {
   "cell_type": "markdown",
   "metadata": {
    "id": "1o6X3hLLMuHZ"
   },
   "source": [
    "# #Tasks\n",
    "\n",
    "#### 1. Exploratory Data Analysis & Data Cleaning\n",
    "\n",
    "- Import Modules, Load Data & Data Review\n",
    "- Exploratory Data Analysis\n",
    "- Data Cleaning\n",
    "\n",
    "\n",
    "\n",
    "    \n",
    "#### 2. Data Preprocessing\n",
    "\n",
    "- Scaling\n",
    "- Train - Test Split\n",
    "\n",
    "\n",
    "#### 3. Model Building\n",
    "\n",
    "- Logistic Regression without SMOTE\n",
    "- Apply SMOTE\n",
    "- Logistic Regression with SMOTE\n",
    "- Random Forest Classifier with SMOTE\n",
    "- Neural Network\n",
    "\n",
    "#### 4. Model Deployement\n",
    "\n",
    "- Save and Export the Model as .pkl\n",
    "- Save and Export Variables as .pkl \n",
    "\n",
    "\n"
   ]
  },
  {
   "cell_type": "markdown",
   "metadata": {
    "id": "9sDSWJywMuHZ"
   },
   "source": [
    "---\n",
    "---\n"
   ]
  },
  {
   "cell_type": "markdown",
   "metadata": {
    "id": "fbFMU3AdMuHZ"
   },
   "source": [
    "## 1. Exploratory Data Analysis & Data Cleaning"
   ]
  },
  {
   "cell_type": "markdown",
   "metadata": {
    "id": "5nmI08_GMuHZ"
   },
   "source": [
    "### 1.1 Import Modules, Load Data & Data Review"
   ]
  },
  {
   "cell_type": "markdown",
   "metadata": {
    "id": "TyrWBiyM2sld"
   },
   "source": [
    "### 1.1.1 Importing Modules"
   ]
  },
  {
   "cell_type": "code",
   "execution_count": 1,
   "metadata": {
    "id": "yKZtJybfMuHa"
   },
   "outputs": [
    {
     "data": {
      "text/html": [
       "        <script type=\"text/javascript\">\n",
       "        window.PlotlyConfig = {MathJaxConfig: 'local'};\n",
       "        if (window.MathJax) {MathJax.Hub.Config({SVG: {font: \"STIX-Web\"}});}\n",
       "        if (typeof require !== 'undefined') {\n",
       "        require.undef(\"plotly\");\n",
       "        requirejs.config({\n",
       "            paths: {\n",
       "                'plotly': ['https://cdn.plot.ly/plotly-2.2.0.min']\n",
       "            }\n",
       "        });\n",
       "        require(['plotly'], function(Plotly) {\n",
       "            window._Plotly = Plotly;\n",
       "        });\n",
       "        }\n",
       "        </script>\n",
       "        "
      ]
     },
     "metadata": {},
     "output_type": "display_data"
    }
   ],
   "source": [
    "## Import Libraies\n",
    "\n",
    "## import all main libraries automatically with pyforest\n",
    "# !pip install pyforest\n",
    "import pyforest\n",
    "\n",
    "## main libraries\n",
    "import numpy as np\n",
    "import pandas as pd \n",
    "import seaborn as sns\n",
    "import matplotlib.pyplot as plt\n",
    "%matplotlib inline\n",
    "import matplotlib.ticker as mticker\n",
    "\n",
    "# !pip install squarify\n",
    "import squarify as sq\n",
    "\n",
    "import scipy.stats as stats\n",
    "from scipy.cluster.hierarchy import linkage, dendrogram\n",
    "import statsmodels.api as sm\n",
    "import statsmodels.formula.api as smf\n",
    "import datetime as dt\n",
    "from datetime import datetime\n",
    "from pyclustertend import hopkins\n",
    "\n",
    "## pre-processing\n",
    "from sklearn.cluster import KMeans, AgglomerativeClustering\n",
    "from sklearn.compose import make_column_transformer, ColumnTransformer\n",
    "from sklearn.decomposition import PCA\n",
    "from sklearn.dummy import DummyClassifier\n",
    "from sklearn.impute import SimpleImputer, KNNImputer\n",
    "\n",
    "## feature Selection\n",
    "from sklearn.feature_selection import SelectKBest, SelectPercentile, f_classif, f_regression, mutual_info_regression\n",
    "\n",
    "## scaling\n",
    "from sklearn.preprocessing import scale \n",
    "from sklearn.preprocessing import StandardScaler\n",
    "from sklearn.preprocessing import PolynomialFeatures \n",
    "from sklearn.preprocessing import OneHotEncoder\n",
    "from sklearn.preprocessing import PowerTransformer \n",
    "from sklearn.preprocessing import MinMaxScaler\n",
    "from sklearn.preprocessing import LabelEncoder\n",
    "from sklearn.preprocessing import RobustScaler\n",
    "\n",
    "## regression/prediction\n",
    "from sklearn.discriminant_analysis import LinearDiscriminantAnalysis\n",
    "from sklearn.linear_model import LinearRegression, Lasso, Ridge, ElasticNet, LogisticRegression\n",
    "from sklearn.ensemble import RandomForestRegressor, GradientBoostingRegressor, ExtraTreesRegressor\n",
    "from sklearn.neighbors import KNeighborsRegressor\n",
    "from sklearn.svm import SVR\n",
    "from xgboost import XGBRegressor\n",
    "from sklearn.tree import DecisionTreeRegressor\n",
    "\n",
    "## ann\n",
    "from sklearn.neural_network import MLPRegressor\n",
    "\n",
    "## classification\n",
    "from sklearn.ensemble import RandomForestClassifier, AdaBoostClassifier, GradientBoostingClassifier, ExtraTreesClassifier\n",
    "from sklearn.neighbors import KNeighborsClassifier\n",
    "from sklearn.svm import SVC\n",
    "from sklearn.tree import DecisionTreeClassifier, plot_tree \n",
    "from catboost import CatBoostClassifier\n",
    "from lightgbm import LGBMClassifier\n",
    "from xgboost import XGBClassifier, plot_importance\n",
    "\n",
    "## metrics\n",
    "from sklearn.metrics import plot_confusion_matrix, r2_score, mean_absolute_error, mean_squared_error\n",
    "from sklearn.metrics import confusion_matrix, accuracy_score, classification_report\n",
    "from sklearn.metrics import make_scorer, precision_score, precision_recall_curve, plot_precision_recall_curve \n",
    "from sklearn.metrics import plot_roc_curve, roc_auc_score, roc_curve, f1_score, accuracy_score, recall_score\n",
    "from sklearn.metrics import silhouette_samples,silhouette_score\n",
    "from sklearn.metrics.cluster import adjusted_rand_score\n",
    "\n",
    "## model selection\n",
    "from sklearn import model_selection\n",
    "from sklearn.model_selection import RandomizedSearchCV\n",
    "from sklearn.model_selection import RepeatedStratifiedKFold, KFold, cross_val_predict, train_test_split\n",
    "from sklearn.model_selection import StratifiedKFold, GridSearchCV, cross_val_score, cross_validate\n",
    "\n",
    "## MLearning\n",
    "from sklearn.pipeline import make_pipeline, Pipeline\n",
    "import optuna\n",
    "from sklearn.naive_bayes import GaussianNB\n",
    "\n",
    "## clevers\n",
    "# !pip install -U pandas-profiling --user\n",
    "import pandas_profiling\n",
    "from pandas_profiling.report.presentation.flavours.html.templates import create_html_assets\n",
    "\n",
    "import ipywidgets\n",
    "from ipywidgets import interact\n",
    "import missingno as msno \n",
    "# !pip install wordcloud\n",
    "from wordcloud import WordCloud\n",
    "\n",
    "# !pip install termcolor\n",
    "import colorama\n",
    "from colorama import Fore, Style  # makes strings colored\n",
    "from termcolor import colored\n",
    "from termcolor import cprint\n",
    "# grey red green yellow blue magenta cyan white (on_grey ..)\n",
    "# bold dark underline blink reverse concealed\n",
    "# cprint(\"Have a first look to:\",\"blue\",\"on_grey\", attrs=['bold'])\n",
    "\n",
    "## plotly and cufflinks\n",
    "import plotly \n",
    "import plotly.express as px\n",
    "import cufflinks as cf\n",
    "import plotly.graph_objs as go\n",
    "import plotly.offline as py\n",
    "from plotly.offline import iplot\n",
    "from plotly.subplots import make_subplots\n",
    "import plotly.figure_factory as ff\n",
    "cf.go_offline()\n",
    "cf.set_config_file(offline=False, world_readable=True)\n",
    "\n",
    "## Ignore Warnings\n",
    "import warnings\n",
    "warnings.filterwarnings(\"ignore\")\n",
    "warnings.warn(\"this will not show\")\n",
    "\n",
    "## Figure&Display options\n",
    "plt.rcParams[\"figure.figsize\"] = (10,6)\n",
    "pd.set_option('max_colwidth',200)\n",
    "pd.set_option('display.max_rows', 1000)\n",
    "pd.set_option('display.max_columns', 200)\n",
    "pd.set_option('display.float_format', lambda x: '%.3f' % x)"
   ]
  },
  {
   "cell_type": "code",
   "execution_count": 2,
   "metadata": {},
   "outputs": [],
   "source": [
    "## Some Useful User-Defined-Functions\n",
    "\n",
    "###############################################################################\n",
    "\n",
    "def missing_values(df):\n",
    "    missing_number = df.isnull().sum().sort_values(ascending=False)\n",
    "    missing_percent = (df.isnull().sum()/df.isnull().count()).sort_values(ascending=False)\n",
    "    missing_values = pd.concat([missing_number, missing_percent], axis=1, keys=['Missing_Number', 'Missing_Percent'])\n",
    "    return missing_values[missing_values['Missing_Number']>0]\n",
    "\n",
    "###############################################################################\n",
    "\n",
    "def first_looking(df):\n",
    "    print(colored(\"Shape:\", 'yellow', attrs=['bold']), df.shape,'\\n', \n",
    "          colored('*'*100, 'red', attrs=['bold']),\n",
    "          colored(\"\\nInfo:\\n\",'yellow', attrs=['bold']), sep='')\n",
    "    print(df.info(), '\\n', \n",
    "          colored('*'*100, 'red', attrs=['bold']), sep='')\n",
    "    print(colored(\"Number of Uniques:\\n\", 'yellow', attrs=['bold']), df.nunique(),'\\n',\n",
    "          colored('*'*100, 'red', attrs=['bold']), sep='')\n",
    "    print(colored(\"Missing Values:\\n\", 'yellow', attrs=['bold']), missing_values(df),'\\n', \n",
    "          colored('*'*100, 'red', attrs=['bold']), sep='')\n",
    "    print(colored(\"All Columns:\", 'yellow', attrs=['bold']), *list(df.columns), sep='\\n- ') \n",
    "    print(colored('*'*100, 'red', attrs=['bold']), sep='')\n",
    "\n",
    "    df.columns= df.columns.str.lower().str.replace('&', '_').str.replace(' ', '_')\n",
    "    \n",
    "    print(colored(\"Columns after rename:\", 'yellow', attrs=['bold']), *list(df.columns), sep='\\n- ')\n",
    "    print(colored('*'*100, 'red', attrs=['bold']), sep='')\n",
    "    \n",
    "###############################################################################\n",
    "## To view summary information about the columns\n",
    "\n",
    "def summary(column):\n",
    "    print(colored(\"Column: \",'yellow', attrs=['bold']), column)\n",
    "    print(colored('*'*100, 'red', attrs=['bold']), sep='')\n",
    "    print(colored(\"Missing values: \", 'yellow', attrs=['bold']), df[column].isnull().sum())\n",
    "    print(colored('*'*100, 'red', attrs=['bold']), sep='')\n",
    "    print(colored(\"Missing values(%): \", 'yellow', attrs=['bold']), round(df[column].isnull().sum()/df.shape[0]*100, 2))\n",
    "    print(colored('*'*100, 'red', attrs=['bold']), sep='')\n",
    "    print(colored(\"Unique values: \", 'yellow', attrs=['bold']), df[column].nunique())\n",
    "    print(colored('*'*100, 'red', attrs=['bold']), sep='')\n",
    "    print(colored(\"Value counts: \\n\", 'yellow', attrs=['bold']), df[column].value_counts(dropna = False), sep='')\n",
    "    print(colored('*'*100, 'red', attrs=['bold']), sep='')\n",
    "    \n",
    "###############################################################################\n",
    "    \n",
    "def multicolinearity_control(df):\n",
    "    feature =[]\n",
    "    collinear=[]\n",
    "    for col in df.corr().columns:\n",
    "        for i in df.corr().index:\n",
    "            if (abs(df.corr()[col][i])> .9 and abs(df.corr()[col][i]) < 1):\n",
    "                    feature.append(col)\n",
    "                    collinear.append(i)\n",
    "                    print(colored(f\"Multicolinearity alert in between:{col} - {i}\", \n",
    "                                  \"red\", attrs=['bold']), df.shape,'\\n',\n",
    "                                  colored('*'*100, 'red', attrs=['bold']), sep='')\n",
    "\n",
    "###############################################################################\n",
    "\n",
    "def duplicate_values(df):\n",
    "    print(colored(\"Duplicate check...\", 'yellow', attrs=['bold']), sep='')\n",
    "    duplicate_values = df.duplicated(subset=None, keep='first').sum()\n",
    "    if duplicate_values > 0:\n",
    "        df.drop_duplicates(keep='first', inplace=True)\n",
    "        print(duplicate_values, colored(\" Duplicates were dropped!\"),'\\n',\n",
    "              colored('*'*100, 'red', attrs=['bold']), sep='')\n",
    "    else:\n",
    "        print(colored(\"There are no duplicates\"),'\\n',\n",
    "              colored('*'*100, 'red', attrs=['bold']), sep='')     \n",
    "\n",
    "###############################################################################\n",
    "        \n",
    "def drop_columns(df, drop_columns):\n",
    "    if drop_columns !=[]:\n",
    "        df.drop(drop_columns, axis=1, inplace=True)\n",
    "        print(drop_columns, 'were dropped')\n",
    "    else:\n",
    "        print(colored('Missing value control...', 'yellow', attrs=['bold']),'\\n',\n",
    "              colored('If there is a missing value above the limit you have given, the relevant columns are dropped and an information is given.'), sep='')\n",
    "\n",
    "###############################################################################\n",
    "\n",
    "def drop_null(df, limit):\n",
    "    for i in df.isnull().sum().index:\n",
    "        if (df.isnull().sum()[i]/df.shape[0]*100)>limit:\n",
    "            print(df.isnull().sum()[i], 'percent of', i ,'were null and dropped')\n",
    "            df.drop(i, axis=1, inplace=True)\n",
    "    print(colored('Last shape after missing value control:', 'yellow', attrs=['bold']), df.shape, '\\n', \n",
    "          colored('*'*100, 'red', attrs=['bold']), sep='')\n",
    "\n",
    "###############################################################################\n",
    "\n",
    "def fill_most(df, group_col, col_name):\n",
    "    '''Fills the missing values with the most existing value (mode) in the relevant column according to single-stage grouping'''\n",
    "    for group in list(df[group_col].unique()):\n",
    "        cond = df[group_col]==group\n",
    "        mode = list(df[cond][col_name].mode())\n",
    "        if mode != []:\n",
    "            df.loc[cond, col_name] = df.loc[cond, col_name].fillna(df[cond][col_name].mode()[0])\n",
    "        else:\n",
    "            df.loc[cond, col_name] = df.loc[cond, col_name].fillna(df[col_name].mode()[0])\n",
    "    print(\"Number of NaN : \",df[col_name].isnull().sum())\n",
    "    print(\"------------------\")\n",
    "    print(df[col_name].value_counts(dropna=False))\n",
    "    \n",
    "###############################################################################  \n",
    "\n",
    "def shape_control():\n",
    "    print('df.shape:', df.shape)\n",
    "    print('X.shape:', X.shape)\n",
    "    print('y.shape:', y.shape)\n",
    "    print('X_train.shape:', X_train.shape)\n",
    "    print('y_train.shape:', y_train.shape)\n",
    "    print('X_test.shape:', X_test.shape)\n",
    "    print('y_test.shape:', y_test.shape)\n",
    "\n",
    "###############################################################################  \n",
    "\n",
    "## show values in bar graphic\n",
    "def show_values_on_bars(axs):\n",
    "    def _show_on_single_plot(ax):        \n",
    "        for p in ax.patches:\n",
    "            _x = p.get_x() + p.get_width() / 2\n",
    "            _y = p.get_y() + p.get_height()\n",
    "            value = '{:.2f}'.format(p.get_height())\n",
    "            ax.text(_x, _y, value, ha=\"center\") \n",
    "    if isinstance(axs, np.ndarray):\n",
    "        for idx, ax in np.ndenumerate(axs):\n",
    "            _show_on_single_plot(ax)\n",
    "    else:\n",
    "        _show_on_single_plot(axs)\n",
    "        \n",
    "###############################################################################   "
   ]
  },
  {
   "cell_type": "markdown",
   "metadata": {
    "id": "vS9n2J9-2sln"
   },
   "source": [
    "### 1.1.2 Loading Dataset\n"
   ]
  },
  {
   "cell_type": "code",
   "execution_count": 3,
   "metadata": {},
   "outputs": [
    {
     "data": {
      "text/html": [
       "<div>\n",
       "<style scoped>\n",
       "    .dataframe tbody tr th:only-of-type {\n",
       "        vertical-align: middle;\n",
       "    }\n",
       "\n",
       "    .dataframe tbody tr th {\n",
       "        vertical-align: top;\n",
       "    }\n",
       "\n",
       "    .dataframe thead th {\n",
       "        text-align: right;\n",
       "    }\n",
       "</style>\n",
       "<table border=\"1\" class=\"dataframe\">\n",
       "  <thead>\n",
       "    <tr style=\"text-align: right;\">\n",
       "      <th></th>\n",
       "      <th>Time</th>\n",
       "      <th>V1</th>\n",
       "      <th>V2</th>\n",
       "      <th>V3</th>\n",
       "      <th>V4</th>\n",
       "      <th>V5</th>\n",
       "      <th>V6</th>\n",
       "      <th>V7</th>\n",
       "      <th>V8</th>\n",
       "      <th>V9</th>\n",
       "      <th>V10</th>\n",
       "      <th>V11</th>\n",
       "      <th>V12</th>\n",
       "      <th>V13</th>\n",
       "      <th>V14</th>\n",
       "      <th>V15</th>\n",
       "      <th>V16</th>\n",
       "      <th>V17</th>\n",
       "      <th>V18</th>\n",
       "      <th>V19</th>\n",
       "      <th>V20</th>\n",
       "      <th>V21</th>\n",
       "      <th>V22</th>\n",
       "      <th>V23</th>\n",
       "      <th>V24</th>\n",
       "      <th>V25</th>\n",
       "      <th>V26</th>\n",
       "      <th>V27</th>\n",
       "      <th>V28</th>\n",
       "      <th>Amount</th>\n",
       "      <th>Class</th>\n",
       "    </tr>\n",
       "  </thead>\n",
       "  <tbody>\n",
       "    <tr>\n",
       "      <th>0</th>\n",
       "      <td>0.000</td>\n",
       "      <td>-1.360</td>\n",
       "      <td>-0.073</td>\n",
       "      <td>2.536</td>\n",
       "      <td>1.378</td>\n",
       "      <td>-0.338</td>\n",
       "      <td>0.462</td>\n",
       "      <td>0.240</td>\n",
       "      <td>0.099</td>\n",
       "      <td>0.364</td>\n",
       "      <td>0.091</td>\n",
       "      <td>-0.552</td>\n",
       "      <td>-0.618</td>\n",
       "      <td>-0.991</td>\n",
       "      <td>-0.311</td>\n",
       "      <td>1.468</td>\n",
       "      <td>-0.470</td>\n",
       "      <td>0.208</td>\n",
       "      <td>0.026</td>\n",
       "      <td>0.404</td>\n",
       "      <td>0.251</td>\n",
       "      <td>-0.018</td>\n",
       "      <td>0.278</td>\n",
       "      <td>-0.110</td>\n",
       "      <td>0.067</td>\n",
       "      <td>0.129</td>\n",
       "      <td>-0.189</td>\n",
       "      <td>0.134</td>\n",
       "      <td>-0.021</td>\n",
       "      <td>149.620</td>\n",
       "      <td>0</td>\n",
       "    </tr>\n",
       "    <tr>\n",
       "      <th>1</th>\n",
       "      <td>0.000</td>\n",
       "      <td>1.192</td>\n",
       "      <td>0.266</td>\n",
       "      <td>0.166</td>\n",
       "      <td>0.448</td>\n",
       "      <td>0.060</td>\n",
       "      <td>-0.082</td>\n",
       "      <td>-0.079</td>\n",
       "      <td>0.085</td>\n",
       "      <td>-0.255</td>\n",
       "      <td>-0.167</td>\n",
       "      <td>1.613</td>\n",
       "      <td>1.065</td>\n",
       "      <td>0.489</td>\n",
       "      <td>-0.144</td>\n",
       "      <td>0.636</td>\n",
       "      <td>0.464</td>\n",
       "      <td>-0.115</td>\n",
       "      <td>-0.183</td>\n",
       "      <td>-0.146</td>\n",
       "      <td>-0.069</td>\n",
       "      <td>-0.226</td>\n",
       "      <td>-0.639</td>\n",
       "      <td>0.101</td>\n",
       "      <td>-0.340</td>\n",
       "      <td>0.167</td>\n",
       "      <td>0.126</td>\n",
       "      <td>-0.009</td>\n",
       "      <td>0.015</td>\n",
       "      <td>2.690</td>\n",
       "      <td>0</td>\n",
       "    </tr>\n",
       "    <tr>\n",
       "      <th>2</th>\n",
       "      <td>1.000</td>\n",
       "      <td>-1.358</td>\n",
       "      <td>-1.340</td>\n",
       "      <td>1.773</td>\n",
       "      <td>0.380</td>\n",
       "      <td>-0.503</td>\n",
       "      <td>1.800</td>\n",
       "      <td>0.791</td>\n",
       "      <td>0.248</td>\n",
       "      <td>-1.515</td>\n",
       "      <td>0.208</td>\n",
       "      <td>0.625</td>\n",
       "      <td>0.066</td>\n",
       "      <td>0.717</td>\n",
       "      <td>-0.166</td>\n",
       "      <td>2.346</td>\n",
       "      <td>-2.890</td>\n",
       "      <td>1.110</td>\n",
       "      <td>-0.121</td>\n",
       "      <td>-2.262</td>\n",
       "      <td>0.525</td>\n",
       "      <td>0.248</td>\n",
       "      <td>0.772</td>\n",
       "      <td>0.909</td>\n",
       "      <td>-0.689</td>\n",
       "      <td>-0.328</td>\n",
       "      <td>-0.139</td>\n",
       "      <td>-0.055</td>\n",
       "      <td>-0.060</td>\n",
       "      <td>378.660</td>\n",
       "      <td>0</td>\n",
       "    </tr>\n",
       "  </tbody>\n",
       "</table>\n",
       "</div>"
      ],
      "text/plain": [
       "   Time     V1     V2    V3    V4     V5     V6     V7    V8     V9    V10  \\\n",
       "0 0.000 -1.360 -0.073 2.536 1.378 -0.338  0.462  0.240 0.099  0.364  0.091   \n",
       "1 0.000  1.192  0.266 0.166 0.448  0.060 -0.082 -0.079 0.085 -0.255 -0.167   \n",
       "2 1.000 -1.358 -1.340 1.773 0.380 -0.503  1.800  0.791 0.248 -1.515  0.208   \n",
       "\n",
       "     V11    V12    V13    V14   V15    V16    V17    V18    V19    V20    V21  \\\n",
       "0 -0.552 -0.618 -0.991 -0.311 1.468 -0.470  0.208  0.026  0.404  0.251 -0.018   \n",
       "1  1.613  1.065  0.489 -0.144 0.636  0.464 -0.115 -0.183 -0.146 -0.069 -0.226   \n",
       "2  0.625  0.066  0.717 -0.166 2.346 -2.890  1.110 -0.121 -2.262  0.525  0.248   \n",
       "\n",
       "     V22    V23    V24    V25    V26    V27    V28  Amount  Class  \n",
       "0  0.278 -0.110  0.067  0.129 -0.189  0.134 -0.021 149.620      0  \n",
       "1 -0.639  0.101 -0.340  0.167  0.126 -0.009  0.015   2.690      0  \n",
       "2  0.772  0.909 -0.689 -0.328 -0.139 -0.055 -0.060 378.660      0  "
      ]
     },
     "execution_count": 3,
     "metadata": {},
     "output_type": "execute_result"
    }
   ],
   "source": [
    "df0 = pd.read_csv('creditcard.csv')\n",
    "df = df0.copy()\n",
    "df.head(3) "
   ]
  },
  {
   "cell_type": "markdown",
   "metadata": {
    "id": "wc8t0m9u2sl2"
   },
   "source": [
    "### 1.1.3 Data Insights"
   ]
  },
  {
   "cell_type": "code",
   "execution_count": 4,
   "metadata": {},
   "outputs": [
    {
     "name": "stdout",
     "output_type": "stream",
     "text": [
      "\u001b[1m\u001b[33mShape:\u001b[0m(284807, 31)\n",
      "\u001b[1m\u001b[31m****************************************************************************************************\u001b[0m\u001b[1m\u001b[33m\n",
      "Info:\n",
      "\u001b[0m\n",
      "<class 'pandas.core.frame.DataFrame'>\n",
      "RangeIndex: 284807 entries, 0 to 284806\n",
      "Data columns (total 31 columns):\n",
      " #   Column  Non-Null Count   Dtype  \n",
      "---  ------  --------------   -----  \n",
      " 0   Time    284807 non-null  float64\n",
      " 1   V1      284807 non-null  float64\n",
      " 2   V2      284807 non-null  float64\n",
      " 3   V3      284807 non-null  float64\n",
      " 4   V4      284807 non-null  float64\n",
      " 5   V5      284807 non-null  float64\n",
      " 6   V6      284807 non-null  float64\n",
      " 7   V7      284807 non-null  float64\n",
      " 8   V8      284807 non-null  float64\n",
      " 9   V9      284807 non-null  float64\n",
      " 10  V10     284807 non-null  float64\n",
      " 11  V11     284807 non-null  float64\n",
      " 12  V12     284807 non-null  float64\n",
      " 13  V13     284807 non-null  float64\n",
      " 14  V14     284807 non-null  float64\n",
      " 15  V15     284807 non-null  float64\n",
      " 16  V16     284807 non-null  float64\n",
      " 17  V17     284807 non-null  float64\n",
      " 18  V18     284807 non-null  float64\n",
      " 19  V19     284807 non-null  float64\n",
      " 20  V20     284807 non-null  float64\n",
      " 21  V21     284807 non-null  float64\n",
      " 22  V22     284807 non-null  float64\n",
      " 23  V23     284807 non-null  float64\n",
      " 24  V24     284807 non-null  float64\n",
      " 25  V25     284807 non-null  float64\n",
      " 26  V26     284807 non-null  float64\n",
      " 27  V27     284807 non-null  float64\n",
      " 28  V28     284807 non-null  float64\n",
      " 29  Amount  284807 non-null  float64\n",
      " 30  Class   284807 non-null  int64  \n",
      "dtypes: float64(30), int64(1)\n",
      "memory usage: 67.4 MB\n",
      "None\n",
      "\u001b[1m\u001b[31m****************************************************************************************************\u001b[0m\n",
      "\u001b[1m\u001b[33mNumber of Uniques:\n",
      "\u001b[0mTime      124592\n",
      "V1        275663\n",
      "V2        275663\n",
      "V3        275663\n",
      "V4        275663\n",
      "V5        275663\n",
      "V6        275663\n",
      "V7        275663\n",
      "V8        275663\n",
      "V9        275663\n",
      "V10       275663\n",
      "V11       275663\n",
      "V12       275663\n",
      "V13       275663\n",
      "V14       275663\n",
      "V15       275663\n",
      "V16       275663\n",
      "V17       275663\n",
      "V18       275663\n",
      "V19       275663\n",
      "V20       275663\n",
      "V21       275663\n",
      "V22       275663\n",
      "V23       275663\n",
      "V24       275663\n",
      "V25       275663\n",
      "V26       275663\n",
      "V27       275663\n",
      "V28       275663\n",
      "Amount     32767\n",
      "Class          2\n",
      "dtype: int64\n",
      "\u001b[1m\u001b[31m****************************************************************************************************\u001b[0m\n",
      "\u001b[1m\u001b[33mMissing Values:\n",
      "\u001b[0mEmpty DataFrame\n",
      "Columns: [Missing_Number, Missing_Percent]\n",
      "Index: []\n",
      "\u001b[1m\u001b[31m****************************************************************************************************\u001b[0m\n",
      "\u001b[1m\u001b[33mAll Columns:\u001b[0m\n",
      "- Time\n",
      "- V1\n",
      "- V2\n",
      "- V3\n",
      "- V4\n",
      "- V5\n",
      "- V6\n",
      "- V7\n",
      "- V8\n",
      "- V9\n",
      "- V10\n",
      "- V11\n",
      "- V12\n",
      "- V13\n",
      "- V14\n",
      "- V15\n",
      "- V16\n",
      "- V17\n",
      "- V18\n",
      "- V19\n",
      "- V20\n",
      "- V21\n",
      "- V22\n",
      "- V23\n",
      "- V24\n",
      "- V25\n",
      "- V26\n",
      "- V27\n",
      "- V28\n",
      "- Amount\n",
      "- Class\n",
      "\u001b[1m\u001b[31m****************************************************************************************************\u001b[0m\n",
      "\u001b[1m\u001b[33mColumns after rename:\u001b[0m\n",
      "- time\n",
      "- v1\n",
      "- v2\n",
      "- v3\n",
      "- v4\n",
      "- v5\n",
      "- v6\n",
      "- v7\n",
      "- v8\n",
      "- v9\n",
      "- v10\n",
      "- v11\n",
      "- v12\n",
      "- v13\n",
      "- v14\n",
      "- v15\n",
      "- v16\n",
      "- v17\n",
      "- v18\n",
      "- v19\n",
      "- v20\n",
      "- v21\n",
      "- v22\n",
      "- v23\n",
      "- v24\n",
      "- v25\n",
      "- v26\n",
      "- v27\n",
      "- v28\n",
      "- amount\n",
      "- class\n",
      "\u001b[1m\u001b[31m****************************************************************************************************\u001b[0m\n",
      "\u001b[1m\u001b[33mDuplicate check...\u001b[0m\n",
      "1081 Duplicates were dropped!\u001b[0m\n",
      "\u001b[1m\u001b[31m****************************************************************************************************\u001b[0m\n",
      "\u001b[1m\u001b[33mMissing value control...\u001b[0m\n",
      "If there is a missing value above the limit you have given, the relevant columns are dropped and an information is given.\u001b[0m\n",
      "\u001b[1m\u001b[33mLast shape after missing value control:\u001b[0m(283726, 31)\n",
      "\u001b[1m\u001b[31m****************************************************************************************************\u001b[0m\n"
     ]
    }
   ],
   "source": [
    "first_looking(df)\n",
    "duplicate_values(df)\n",
    "drop_columns(df, [])\n",
    "drop_null(df, 90)\n",
    "# df.describe().T"
   ]
  },
  {
   "cell_type": "code",
   "execution_count": 5,
   "metadata": {},
   "outputs": [
    {
     "data": {
      "text/html": [
       "<div>\n",
       "<style scoped>\n",
       "    .dataframe tbody tr th:only-of-type {\n",
       "        vertical-align: middle;\n",
       "    }\n",
       "\n",
       "    .dataframe tbody tr th {\n",
       "        vertical-align: top;\n",
       "    }\n",
       "\n",
       "    .dataframe thead th {\n",
       "        text-align: right;\n",
       "    }\n",
       "</style>\n",
       "<table border=\"1\" class=\"dataframe\">\n",
       "  <thead>\n",
       "    <tr style=\"text-align: right;\">\n",
       "      <th></th>\n",
       "      <th>count</th>\n",
       "      <th>mean</th>\n",
       "      <th>std</th>\n",
       "      <th>min</th>\n",
       "      <th>25%</th>\n",
       "      <th>50%</th>\n",
       "      <th>75%</th>\n",
       "      <th>max</th>\n",
       "    </tr>\n",
       "  </thead>\n",
       "  <tbody>\n",
       "    <tr>\n",
       "      <th>time</th>\n",
       "      <td>283726.000</td>\n",
       "      <td>94811.078</td>\n",
       "      <td>47481.048</td>\n",
       "      <td>0.000</td>\n",
       "      <td>54204.750</td>\n",
       "      <td>84692.500</td>\n",
       "      <td>139298.000</td>\n",
       "      <td>172792.000</td>\n",
       "    </tr>\n",
       "    <tr>\n",
       "      <th>v1</th>\n",
       "      <td>283726.000</td>\n",
       "      <td>0.006</td>\n",
       "      <td>1.948</td>\n",
       "      <td>-56.408</td>\n",
       "      <td>-0.916</td>\n",
       "      <td>0.020</td>\n",
       "      <td>1.316</td>\n",
       "      <td>2.455</td>\n",
       "    </tr>\n",
       "    <tr>\n",
       "      <th>v2</th>\n",
       "      <td>283726.000</td>\n",
       "      <td>-0.004</td>\n",
       "      <td>1.647</td>\n",
       "      <td>-72.716</td>\n",
       "      <td>-0.600</td>\n",
       "      <td>0.064</td>\n",
       "      <td>0.800</td>\n",
       "      <td>22.058</td>\n",
       "    </tr>\n",
       "    <tr>\n",
       "      <th>v3</th>\n",
       "      <td>283726.000</td>\n",
       "      <td>0.002</td>\n",
       "      <td>1.509</td>\n",
       "      <td>-48.326</td>\n",
       "      <td>-0.890</td>\n",
       "      <td>0.180</td>\n",
       "      <td>1.027</td>\n",
       "      <td>9.383</td>\n",
       "    </tr>\n",
       "    <tr>\n",
       "      <th>v4</th>\n",
       "      <td>283726.000</td>\n",
       "      <td>-0.003</td>\n",
       "      <td>1.414</td>\n",
       "      <td>-5.683</td>\n",
       "      <td>-0.850</td>\n",
       "      <td>-0.022</td>\n",
       "      <td>0.740</td>\n",
       "      <td>16.875</td>\n",
       "    </tr>\n",
       "    <tr>\n",
       "      <th>v5</th>\n",
       "      <td>283726.000</td>\n",
       "      <td>0.002</td>\n",
       "      <td>1.377</td>\n",
       "      <td>-113.743</td>\n",
       "      <td>-0.690</td>\n",
       "      <td>-0.053</td>\n",
       "      <td>0.612</td>\n",
       "      <td>34.802</td>\n",
       "    </tr>\n",
       "    <tr>\n",
       "      <th>v6</th>\n",
       "      <td>283726.000</td>\n",
       "      <td>-0.001</td>\n",
       "      <td>1.332</td>\n",
       "      <td>-26.161</td>\n",
       "      <td>-0.769</td>\n",
       "      <td>-0.275</td>\n",
       "      <td>0.397</td>\n",
       "      <td>73.302</td>\n",
       "    </tr>\n",
       "    <tr>\n",
       "      <th>v7</th>\n",
       "      <td>283726.000</td>\n",
       "      <td>0.002</td>\n",
       "      <td>1.228</td>\n",
       "      <td>-43.557</td>\n",
       "      <td>-0.553</td>\n",
       "      <td>0.041</td>\n",
       "      <td>0.570</td>\n",
       "      <td>120.589</td>\n",
       "    </tr>\n",
       "    <tr>\n",
       "      <th>v8</th>\n",
       "      <td>283726.000</td>\n",
       "      <td>-0.001</td>\n",
       "      <td>1.179</td>\n",
       "      <td>-73.217</td>\n",
       "      <td>-0.209</td>\n",
       "      <td>0.022</td>\n",
       "      <td>0.326</td>\n",
       "      <td>20.007</td>\n",
       "    </tr>\n",
       "    <tr>\n",
       "      <th>v9</th>\n",
       "      <td>283726.000</td>\n",
       "      <td>-0.002</td>\n",
       "      <td>1.095</td>\n",
       "      <td>-13.434</td>\n",
       "      <td>-0.644</td>\n",
       "      <td>-0.053</td>\n",
       "      <td>0.596</td>\n",
       "      <td>15.595</td>\n",
       "    </tr>\n",
       "    <tr>\n",
       "      <th>v10</th>\n",
       "      <td>283726.000</td>\n",
       "      <td>-0.001</td>\n",
       "      <td>1.076</td>\n",
       "      <td>-24.588</td>\n",
       "      <td>-0.536</td>\n",
       "      <td>-0.093</td>\n",
       "      <td>0.454</td>\n",
       "      <td>23.745</td>\n",
       "    </tr>\n",
       "    <tr>\n",
       "      <th>v11</th>\n",
       "      <td>283726.000</td>\n",
       "      <td>0.000</td>\n",
       "      <td>1.019</td>\n",
       "      <td>-4.797</td>\n",
       "      <td>-0.762</td>\n",
       "      <td>-0.032</td>\n",
       "      <td>0.740</td>\n",
       "      <td>12.019</td>\n",
       "    </tr>\n",
       "    <tr>\n",
       "      <th>v12</th>\n",
       "      <td>283726.000</td>\n",
       "      <td>-0.001</td>\n",
       "      <td>0.995</td>\n",
       "      <td>-18.684</td>\n",
       "      <td>-0.406</td>\n",
       "      <td>0.139</td>\n",
       "      <td>0.617</td>\n",
       "      <td>7.848</td>\n",
       "    </tr>\n",
       "    <tr>\n",
       "      <th>v13</th>\n",
       "      <td>283726.000</td>\n",
       "      <td>0.001</td>\n",
       "      <td>0.995</td>\n",
       "      <td>-5.792</td>\n",
       "      <td>-0.648</td>\n",
       "      <td>-0.013</td>\n",
       "      <td>0.663</td>\n",
       "      <td>7.127</td>\n",
       "    </tr>\n",
       "    <tr>\n",
       "      <th>v14</th>\n",
       "      <td>283726.000</td>\n",
       "      <td>0.000</td>\n",
       "      <td>0.952</td>\n",
       "      <td>-19.214</td>\n",
       "      <td>-0.426</td>\n",
       "      <td>0.050</td>\n",
       "      <td>0.492</td>\n",
       "      <td>10.527</td>\n",
       "    </tr>\n",
       "    <tr>\n",
       "      <th>v15</th>\n",
       "      <td>283726.000</td>\n",
       "      <td>0.001</td>\n",
       "      <td>0.915</td>\n",
       "      <td>-4.499</td>\n",
       "      <td>-0.581</td>\n",
       "      <td>0.049</td>\n",
       "      <td>0.650</td>\n",
       "      <td>8.878</td>\n",
       "    </tr>\n",
       "    <tr>\n",
       "      <th>v16</th>\n",
       "      <td>283726.000</td>\n",
       "      <td>0.001</td>\n",
       "      <td>0.874</td>\n",
       "      <td>-14.130</td>\n",
       "      <td>-0.467</td>\n",
       "      <td>0.067</td>\n",
       "      <td>0.524</td>\n",
       "      <td>17.315</td>\n",
       "    </tr>\n",
       "    <tr>\n",
       "      <th>v17</th>\n",
       "      <td>283726.000</td>\n",
       "      <td>0.000</td>\n",
       "      <td>0.843</td>\n",
       "      <td>-25.163</td>\n",
       "      <td>-0.484</td>\n",
       "      <td>-0.066</td>\n",
       "      <td>0.399</td>\n",
       "      <td>9.254</td>\n",
       "    </tr>\n",
       "    <tr>\n",
       "      <th>v18</th>\n",
       "      <td>283726.000</td>\n",
       "      <td>0.002</td>\n",
       "      <td>0.837</td>\n",
       "      <td>-9.499</td>\n",
       "      <td>-0.498</td>\n",
       "      <td>-0.002</td>\n",
       "      <td>0.502</td>\n",
       "      <td>5.041</td>\n",
       "    </tr>\n",
       "    <tr>\n",
       "      <th>v19</th>\n",
       "      <td>283726.000</td>\n",
       "      <td>-0.000</td>\n",
       "      <td>0.813</td>\n",
       "      <td>-7.214</td>\n",
       "      <td>-0.456</td>\n",
       "      <td>0.003</td>\n",
       "      <td>0.459</td>\n",
       "      <td>5.592</td>\n",
       "    </tr>\n",
       "    <tr>\n",
       "      <th>v20</th>\n",
       "      <td>283726.000</td>\n",
       "      <td>0.000</td>\n",
       "      <td>0.770</td>\n",
       "      <td>-54.498</td>\n",
       "      <td>-0.211</td>\n",
       "      <td>-0.062</td>\n",
       "      <td>0.133</td>\n",
       "      <td>39.421</td>\n",
       "    </tr>\n",
       "    <tr>\n",
       "      <th>v21</th>\n",
       "      <td>283726.000</td>\n",
       "      <td>-0.000</td>\n",
       "      <td>0.724</td>\n",
       "      <td>-34.830</td>\n",
       "      <td>-0.228</td>\n",
       "      <td>-0.029</td>\n",
       "      <td>0.186</td>\n",
       "      <td>27.203</td>\n",
       "    </tr>\n",
       "    <tr>\n",
       "      <th>v22</th>\n",
       "      <td>283726.000</td>\n",
       "      <td>-0.000</td>\n",
       "      <td>0.725</td>\n",
       "      <td>-10.933</td>\n",
       "      <td>-0.543</td>\n",
       "      <td>0.007</td>\n",
       "      <td>0.528</td>\n",
       "      <td>10.503</td>\n",
       "    </tr>\n",
       "    <tr>\n",
       "      <th>v23</th>\n",
       "      <td>283726.000</td>\n",
       "      <td>0.000</td>\n",
       "      <td>0.624</td>\n",
       "      <td>-44.808</td>\n",
       "      <td>-0.162</td>\n",
       "      <td>-0.011</td>\n",
       "      <td>0.148</td>\n",
       "      <td>22.528</td>\n",
       "    </tr>\n",
       "    <tr>\n",
       "      <th>v24</th>\n",
       "      <td>283726.000</td>\n",
       "      <td>0.000</td>\n",
       "      <td>0.606</td>\n",
       "      <td>-2.837</td>\n",
       "      <td>-0.354</td>\n",
       "      <td>0.041</td>\n",
       "      <td>0.440</td>\n",
       "      <td>4.585</td>\n",
       "    </tr>\n",
       "    <tr>\n",
       "      <th>v25</th>\n",
       "      <td>283726.000</td>\n",
       "      <td>-0.000</td>\n",
       "      <td>0.521</td>\n",
       "      <td>-10.295</td>\n",
       "      <td>-0.317</td>\n",
       "      <td>0.016</td>\n",
       "      <td>0.351</td>\n",
       "      <td>7.520</td>\n",
       "    </tr>\n",
       "    <tr>\n",
       "      <th>v26</th>\n",
       "      <td>283726.000</td>\n",
       "      <td>0.000</td>\n",
       "      <td>0.482</td>\n",
       "      <td>-2.605</td>\n",
       "      <td>-0.327</td>\n",
       "      <td>-0.052</td>\n",
       "      <td>0.240</td>\n",
       "      <td>3.517</td>\n",
       "    </tr>\n",
       "    <tr>\n",
       "      <th>v27</th>\n",
       "      <td>283726.000</td>\n",
       "      <td>0.002</td>\n",
       "      <td>0.396</td>\n",
       "      <td>-22.566</td>\n",
       "      <td>-0.071</td>\n",
       "      <td>0.001</td>\n",
       "      <td>0.091</td>\n",
       "      <td>31.612</td>\n",
       "    </tr>\n",
       "    <tr>\n",
       "      <th>v28</th>\n",
       "      <td>283726.000</td>\n",
       "      <td>0.001</td>\n",
       "      <td>0.328</td>\n",
       "      <td>-15.430</td>\n",
       "      <td>-0.053</td>\n",
       "      <td>0.011</td>\n",
       "      <td>0.078</td>\n",
       "      <td>33.848</td>\n",
       "    </tr>\n",
       "    <tr>\n",
       "      <th>amount</th>\n",
       "      <td>283726.000</td>\n",
       "      <td>88.473</td>\n",
       "      <td>250.399</td>\n",
       "      <td>0.000</td>\n",
       "      <td>5.600</td>\n",
       "      <td>22.000</td>\n",
       "      <td>77.510</td>\n",
       "      <td>25691.160</td>\n",
       "    </tr>\n",
       "    <tr>\n",
       "      <th>class</th>\n",
       "      <td>283726.000</td>\n",
       "      <td>0.002</td>\n",
       "      <td>0.041</td>\n",
       "      <td>0.000</td>\n",
       "      <td>0.000</td>\n",
       "      <td>0.000</td>\n",
       "      <td>0.000</td>\n",
       "      <td>1.000</td>\n",
       "    </tr>\n",
       "  </tbody>\n",
       "</table>\n",
       "</div>"
      ],
      "text/plain": [
       "            count      mean       std      min       25%       50%        75%  \\\n",
       "time   283726.000 94811.078 47481.048    0.000 54204.750 84692.500 139298.000   \n",
       "v1     283726.000     0.006     1.948  -56.408    -0.916     0.020      1.316   \n",
       "v2     283726.000    -0.004     1.647  -72.716    -0.600     0.064      0.800   \n",
       "v3     283726.000     0.002     1.509  -48.326    -0.890     0.180      1.027   \n",
       "v4     283726.000    -0.003     1.414   -5.683    -0.850    -0.022      0.740   \n",
       "v5     283726.000     0.002     1.377 -113.743    -0.690    -0.053      0.612   \n",
       "v6     283726.000    -0.001     1.332  -26.161    -0.769    -0.275      0.397   \n",
       "v7     283726.000     0.002     1.228  -43.557    -0.553     0.041      0.570   \n",
       "v8     283726.000    -0.001     1.179  -73.217    -0.209     0.022      0.326   \n",
       "v9     283726.000    -0.002     1.095  -13.434    -0.644    -0.053      0.596   \n",
       "v10    283726.000    -0.001     1.076  -24.588    -0.536    -0.093      0.454   \n",
       "v11    283726.000     0.000     1.019   -4.797    -0.762    -0.032      0.740   \n",
       "v12    283726.000    -0.001     0.995  -18.684    -0.406     0.139      0.617   \n",
       "v13    283726.000     0.001     0.995   -5.792    -0.648    -0.013      0.663   \n",
       "v14    283726.000     0.000     0.952  -19.214    -0.426     0.050      0.492   \n",
       "v15    283726.000     0.001     0.915   -4.499    -0.581     0.049      0.650   \n",
       "v16    283726.000     0.001     0.874  -14.130    -0.467     0.067      0.524   \n",
       "v17    283726.000     0.000     0.843  -25.163    -0.484    -0.066      0.399   \n",
       "v18    283726.000     0.002     0.837   -9.499    -0.498    -0.002      0.502   \n",
       "v19    283726.000    -0.000     0.813   -7.214    -0.456     0.003      0.459   \n",
       "v20    283726.000     0.000     0.770  -54.498    -0.211    -0.062      0.133   \n",
       "v21    283726.000    -0.000     0.724  -34.830    -0.228    -0.029      0.186   \n",
       "v22    283726.000    -0.000     0.725  -10.933    -0.543     0.007      0.528   \n",
       "v23    283726.000     0.000     0.624  -44.808    -0.162    -0.011      0.148   \n",
       "v24    283726.000     0.000     0.606   -2.837    -0.354     0.041      0.440   \n",
       "v25    283726.000    -0.000     0.521  -10.295    -0.317     0.016      0.351   \n",
       "v26    283726.000     0.000     0.482   -2.605    -0.327    -0.052      0.240   \n",
       "v27    283726.000     0.002     0.396  -22.566    -0.071     0.001      0.091   \n",
       "v28    283726.000     0.001     0.328  -15.430    -0.053     0.011      0.078   \n",
       "amount 283726.000    88.473   250.399    0.000     5.600    22.000     77.510   \n",
       "class  283726.000     0.002     0.041    0.000     0.000     0.000      0.000   \n",
       "\n",
       "              max  \n",
       "time   172792.000  \n",
       "v1          2.455  \n",
       "v2         22.058  \n",
       "v3          9.383  \n",
       "v4         16.875  \n",
       "v5         34.802  \n",
       "v6         73.302  \n",
       "v7        120.589  \n",
       "v8         20.007  \n",
       "v9         15.595  \n",
       "v10        23.745  \n",
       "v11        12.019  \n",
       "v12         7.848  \n",
       "v13         7.127  \n",
       "v14        10.527  \n",
       "v15         8.878  \n",
       "v16        17.315  \n",
       "v17         9.254  \n",
       "v18         5.041  \n",
       "v19         5.592  \n",
       "v20        39.421  \n",
       "v21        27.203  \n",
       "v22        10.503  \n",
       "v23        22.528  \n",
       "v24         4.585  \n",
       "v25         7.520  \n",
       "v26         3.517  \n",
       "v27        31.612  \n",
       "v28        33.848  \n",
       "amount  25691.160  \n",
       "class       1.000  "
      ]
     },
     "execution_count": 5,
     "metadata": {},
     "output_type": "execute_result"
    }
   ],
   "source": [
    "df.describe().T"
   ]
  },
  {
   "cell_type": "markdown",
   "metadata": {},
   "source": [
    "#### Feature-Target Examination"
   ]
  },
  {
   "cell_type": "code",
   "execution_count": 6,
   "metadata": {},
   "outputs": [
    {
     "name": "stdout",
     "output_type": "stream",
     "text": [
      "\u001b[1m\u001b[33mColumn: \u001b[0m class\n",
      "\u001b[1m\u001b[31m****************************************************************************************************\u001b[0m\n",
      "\u001b[1m\u001b[33mMissing values: \u001b[0m 0\n",
      "\u001b[1m\u001b[31m****************************************************************************************************\u001b[0m\n",
      "\u001b[1m\u001b[33mMissing values(%): \u001b[0m 0.0\n",
      "\u001b[1m\u001b[31m****************************************************************************************************\u001b[0m\n",
      "\u001b[1m\u001b[33mUnique values: \u001b[0m 2\n",
      "\u001b[1m\u001b[31m****************************************************************************************************\u001b[0m\n",
      "\u001b[1m\u001b[33mValue counts: \n",
      "\u001b[0m0    283253\n",
      "1       473\n",
      "Name: class, dtype: int64\n",
      "\u001b[1m\u001b[31m****************************************************************************************************\u001b[0m\n"
     ]
    }
   ],
   "source": [
    "## Feature-Target Examination\n",
    "target = \"class\"\n",
    "summary(target)\n",
    "X = df.drop(target, axis=1)\n",
    "y = df[target]\n",
    "X_numerical = df.drop(target, axis=1).select_dtypes('number').astype('float64')\n",
    "X_categorical = df.drop(target, axis=1).select_dtypes('object')\n",
    "# X.columns\n",
    "# X_numerical.columns\n",
    "# X_categorical.columns"
   ]
  },
  {
   "cell_type": "markdown",
   "metadata": {},
   "source": [
    "#### Target"
   ]
  },
  {
   "cell_type": "code",
   "execution_count": 7,
   "metadata": {},
   "outputs": [
    {
     "data": {
      "application/vnd.plotly.v1+json": {
       "config": {
        "linkText": "Export to plot.ly",
        "plotlyServerURL": "https://plot.ly",
        "showLink": true
       },
       "data": [
        {
         "marker": {
          "color": "rgba(255, 153, 51, 0.6)",
          "line": {
           "color": "rgba(255, 153, 51, 1.0)",
           "width": 1
          }
         },
         "name": "class",
         "orientation": "v",
         "text": "",
         "type": "bar",
         "x": [
          0,
          1
         ],
         "y": [
          283253,
          473
         ]
        }
       ],
       "layout": {
        "legend": {
         "bgcolor": "#F5F6F9",
         "font": {
          "color": "#4D5663"
         }
        },
        "paper_bgcolor": "#F5F6F9",
        "plot_bgcolor": "#F5F6F9",
        "template": {
         "data": {
          "bar": [
           {
            "error_x": {
             "color": "#2a3f5f"
            },
            "error_y": {
             "color": "#2a3f5f"
            },
            "marker": {
             "line": {
              "color": "#E5ECF6",
              "width": 0.5
             },
             "pattern": {
              "fillmode": "overlay",
              "size": 10,
              "solidity": 0.2
             }
            },
            "type": "bar"
           }
          ],
          "barpolar": [
           {
            "marker": {
             "line": {
              "color": "#E5ECF6",
              "width": 0.5
             },
             "pattern": {
              "fillmode": "overlay",
              "size": 10,
              "solidity": 0.2
             }
            },
            "type": "barpolar"
           }
          ],
          "carpet": [
           {
            "aaxis": {
             "endlinecolor": "#2a3f5f",
             "gridcolor": "white",
             "linecolor": "white",
             "minorgridcolor": "white",
             "startlinecolor": "#2a3f5f"
            },
            "baxis": {
             "endlinecolor": "#2a3f5f",
             "gridcolor": "white",
             "linecolor": "white",
             "minorgridcolor": "white",
             "startlinecolor": "#2a3f5f"
            },
            "type": "carpet"
           }
          ],
          "choropleth": [
           {
            "colorbar": {
             "outlinewidth": 0,
             "ticks": ""
            },
            "type": "choropleth"
           }
          ],
          "contour": [
           {
            "colorbar": {
             "outlinewidth": 0,
             "ticks": ""
            },
            "colorscale": [
             [
              0,
              "#0d0887"
             ],
             [
              0.1111111111111111,
              "#46039f"
             ],
             [
              0.2222222222222222,
              "#7201a8"
             ],
             [
              0.3333333333333333,
              "#9c179e"
             ],
             [
              0.4444444444444444,
              "#bd3786"
             ],
             [
              0.5555555555555556,
              "#d8576b"
             ],
             [
              0.6666666666666666,
              "#ed7953"
             ],
             [
              0.7777777777777778,
              "#fb9f3a"
             ],
             [
              0.8888888888888888,
              "#fdca26"
             ],
             [
              1,
              "#f0f921"
             ]
            ],
            "type": "contour"
           }
          ],
          "contourcarpet": [
           {
            "colorbar": {
             "outlinewidth": 0,
             "ticks": ""
            },
            "type": "contourcarpet"
           }
          ],
          "heatmap": [
           {
            "colorbar": {
             "outlinewidth": 0,
             "ticks": ""
            },
            "colorscale": [
             [
              0,
              "#0d0887"
             ],
             [
              0.1111111111111111,
              "#46039f"
             ],
             [
              0.2222222222222222,
              "#7201a8"
             ],
             [
              0.3333333333333333,
              "#9c179e"
             ],
             [
              0.4444444444444444,
              "#bd3786"
             ],
             [
              0.5555555555555556,
              "#d8576b"
             ],
             [
              0.6666666666666666,
              "#ed7953"
             ],
             [
              0.7777777777777778,
              "#fb9f3a"
             ],
             [
              0.8888888888888888,
              "#fdca26"
             ],
             [
              1,
              "#f0f921"
             ]
            ],
            "type": "heatmap"
           }
          ],
          "heatmapgl": [
           {
            "colorbar": {
             "outlinewidth": 0,
             "ticks": ""
            },
            "colorscale": [
             [
              0,
              "#0d0887"
             ],
             [
              0.1111111111111111,
              "#46039f"
             ],
             [
              0.2222222222222222,
              "#7201a8"
             ],
             [
              0.3333333333333333,
              "#9c179e"
             ],
             [
              0.4444444444444444,
              "#bd3786"
             ],
             [
              0.5555555555555556,
              "#d8576b"
             ],
             [
              0.6666666666666666,
              "#ed7953"
             ],
             [
              0.7777777777777778,
              "#fb9f3a"
             ],
             [
              0.8888888888888888,
              "#fdca26"
             ],
             [
              1,
              "#f0f921"
             ]
            ],
            "type": "heatmapgl"
           }
          ],
          "histogram": [
           {
            "marker": {
             "pattern": {
              "fillmode": "overlay",
              "size": 10,
              "solidity": 0.2
             }
            },
            "type": "histogram"
           }
          ],
          "histogram2d": [
           {
            "colorbar": {
             "outlinewidth": 0,
             "ticks": ""
            },
            "colorscale": [
             [
              0,
              "#0d0887"
             ],
             [
              0.1111111111111111,
              "#46039f"
             ],
             [
              0.2222222222222222,
              "#7201a8"
             ],
             [
              0.3333333333333333,
              "#9c179e"
             ],
             [
              0.4444444444444444,
              "#bd3786"
             ],
             [
              0.5555555555555556,
              "#d8576b"
             ],
             [
              0.6666666666666666,
              "#ed7953"
             ],
             [
              0.7777777777777778,
              "#fb9f3a"
             ],
             [
              0.8888888888888888,
              "#fdca26"
             ],
             [
              1,
              "#f0f921"
             ]
            ],
            "type": "histogram2d"
           }
          ],
          "histogram2dcontour": [
           {
            "colorbar": {
             "outlinewidth": 0,
             "ticks": ""
            },
            "colorscale": [
             [
              0,
              "#0d0887"
             ],
             [
              0.1111111111111111,
              "#46039f"
             ],
             [
              0.2222222222222222,
              "#7201a8"
             ],
             [
              0.3333333333333333,
              "#9c179e"
             ],
             [
              0.4444444444444444,
              "#bd3786"
             ],
             [
              0.5555555555555556,
              "#d8576b"
             ],
             [
              0.6666666666666666,
              "#ed7953"
             ],
             [
              0.7777777777777778,
              "#fb9f3a"
             ],
             [
              0.8888888888888888,
              "#fdca26"
             ],
             [
              1,
              "#f0f921"
             ]
            ],
            "type": "histogram2dcontour"
           }
          ],
          "mesh3d": [
           {
            "colorbar": {
             "outlinewidth": 0,
             "ticks": ""
            },
            "type": "mesh3d"
           }
          ],
          "parcoords": [
           {
            "line": {
             "colorbar": {
              "outlinewidth": 0,
              "ticks": ""
             }
            },
            "type": "parcoords"
           }
          ],
          "pie": [
           {
            "automargin": true,
            "type": "pie"
           }
          ],
          "scatter": [
           {
            "marker": {
             "colorbar": {
              "outlinewidth": 0,
              "ticks": ""
             }
            },
            "type": "scatter"
           }
          ],
          "scatter3d": [
           {
            "line": {
             "colorbar": {
              "outlinewidth": 0,
              "ticks": ""
             }
            },
            "marker": {
             "colorbar": {
              "outlinewidth": 0,
              "ticks": ""
             }
            },
            "type": "scatter3d"
           }
          ],
          "scattercarpet": [
           {
            "marker": {
             "colorbar": {
              "outlinewidth": 0,
              "ticks": ""
             }
            },
            "type": "scattercarpet"
           }
          ],
          "scattergeo": [
           {
            "marker": {
             "colorbar": {
              "outlinewidth": 0,
              "ticks": ""
             }
            },
            "type": "scattergeo"
           }
          ],
          "scattergl": [
           {
            "marker": {
             "colorbar": {
              "outlinewidth": 0,
              "ticks": ""
             }
            },
            "type": "scattergl"
           }
          ],
          "scattermapbox": [
           {
            "marker": {
             "colorbar": {
              "outlinewidth": 0,
              "ticks": ""
             }
            },
            "type": "scattermapbox"
           }
          ],
          "scatterpolar": [
           {
            "marker": {
             "colorbar": {
              "outlinewidth": 0,
              "ticks": ""
             }
            },
            "type": "scatterpolar"
           }
          ],
          "scatterpolargl": [
           {
            "marker": {
             "colorbar": {
              "outlinewidth": 0,
              "ticks": ""
             }
            },
            "type": "scatterpolargl"
           }
          ],
          "scatterternary": [
           {
            "marker": {
             "colorbar": {
              "outlinewidth": 0,
              "ticks": ""
             }
            },
            "type": "scatterternary"
           }
          ],
          "surface": [
           {
            "colorbar": {
             "outlinewidth": 0,
             "ticks": ""
            },
            "colorscale": [
             [
              0,
              "#0d0887"
             ],
             [
              0.1111111111111111,
              "#46039f"
             ],
             [
              0.2222222222222222,
              "#7201a8"
             ],
             [
              0.3333333333333333,
              "#9c179e"
             ],
             [
              0.4444444444444444,
              "#bd3786"
             ],
             [
              0.5555555555555556,
              "#d8576b"
             ],
             [
              0.6666666666666666,
              "#ed7953"
             ],
             [
              0.7777777777777778,
              "#fb9f3a"
             ],
             [
              0.8888888888888888,
              "#fdca26"
             ],
             [
              1,
              "#f0f921"
             ]
            ],
            "type": "surface"
           }
          ],
          "table": [
           {
            "cells": {
             "fill": {
              "color": "#EBF0F8"
             },
             "line": {
              "color": "white"
             }
            },
            "header": {
             "fill": {
              "color": "#C8D4E3"
             },
             "line": {
              "color": "white"
             }
            },
            "type": "table"
           }
          ]
         },
         "layout": {
          "annotationdefaults": {
           "arrowcolor": "#2a3f5f",
           "arrowhead": 0,
           "arrowwidth": 1
          },
          "autotypenumbers": "strict",
          "coloraxis": {
           "colorbar": {
            "outlinewidth": 0,
            "ticks": ""
           }
          },
          "colorscale": {
           "diverging": [
            [
             0,
             "#8e0152"
            ],
            [
             0.1,
             "#c51b7d"
            ],
            [
             0.2,
             "#de77ae"
            ],
            [
             0.3,
             "#f1b6da"
            ],
            [
             0.4,
             "#fde0ef"
            ],
            [
             0.5,
             "#f7f7f7"
            ],
            [
             0.6,
             "#e6f5d0"
            ],
            [
             0.7,
             "#b8e186"
            ],
            [
             0.8,
             "#7fbc41"
            ],
            [
             0.9,
             "#4d9221"
            ],
            [
             1,
             "#276419"
            ]
           ],
           "sequential": [
            [
             0,
             "#0d0887"
            ],
            [
             0.1111111111111111,
             "#46039f"
            ],
            [
             0.2222222222222222,
             "#7201a8"
            ],
            [
             0.3333333333333333,
             "#9c179e"
            ],
            [
             0.4444444444444444,
             "#bd3786"
            ],
            [
             0.5555555555555556,
             "#d8576b"
            ],
            [
             0.6666666666666666,
             "#ed7953"
            ],
            [
             0.7777777777777778,
             "#fb9f3a"
            ],
            [
             0.8888888888888888,
             "#fdca26"
            ],
            [
             1,
             "#f0f921"
            ]
           ],
           "sequentialminus": [
            [
             0,
             "#0d0887"
            ],
            [
             0.1111111111111111,
             "#46039f"
            ],
            [
             0.2222222222222222,
             "#7201a8"
            ],
            [
             0.3333333333333333,
             "#9c179e"
            ],
            [
             0.4444444444444444,
             "#bd3786"
            ],
            [
             0.5555555555555556,
             "#d8576b"
            ],
            [
             0.6666666666666666,
             "#ed7953"
            ],
            [
             0.7777777777777778,
             "#fb9f3a"
            ],
            [
             0.8888888888888888,
             "#fdca26"
            ],
            [
             1,
             "#f0f921"
            ]
           ]
          },
          "colorway": [
           "#636efa",
           "#EF553B",
           "#00cc96",
           "#ab63fa",
           "#FFA15A",
           "#19d3f3",
           "#FF6692",
           "#B6E880",
           "#FF97FF",
           "#FECB52"
          ],
          "font": {
           "color": "#2a3f5f"
          },
          "geo": {
           "bgcolor": "white",
           "lakecolor": "white",
           "landcolor": "#E5ECF6",
           "showlakes": true,
           "showland": true,
           "subunitcolor": "white"
          },
          "hoverlabel": {
           "align": "left"
          },
          "hovermode": "closest",
          "mapbox": {
           "style": "light"
          },
          "paper_bgcolor": "white",
          "plot_bgcolor": "#E5ECF6",
          "polar": {
           "angularaxis": {
            "gridcolor": "white",
            "linecolor": "white",
            "ticks": ""
           },
           "bgcolor": "#E5ECF6",
           "radialaxis": {
            "gridcolor": "white",
            "linecolor": "white",
            "ticks": ""
           }
          },
          "scene": {
           "xaxis": {
            "backgroundcolor": "#E5ECF6",
            "gridcolor": "white",
            "gridwidth": 2,
            "linecolor": "white",
            "showbackground": true,
            "ticks": "",
            "zerolinecolor": "white"
           },
           "yaxis": {
            "backgroundcolor": "#E5ECF6",
            "gridcolor": "white",
            "gridwidth": 2,
            "linecolor": "white",
            "showbackground": true,
            "ticks": "",
            "zerolinecolor": "white"
           },
           "zaxis": {
            "backgroundcolor": "#E5ECF6",
            "gridcolor": "white",
            "gridwidth": 2,
            "linecolor": "white",
            "showbackground": true,
            "ticks": "",
            "zerolinecolor": "white"
           }
          },
          "shapedefaults": {
           "line": {
            "color": "#2a3f5f"
           }
          },
          "ternary": {
           "aaxis": {
            "gridcolor": "white",
            "linecolor": "white",
            "ticks": ""
           },
           "baxis": {
            "gridcolor": "white",
            "linecolor": "white",
            "ticks": ""
           },
           "bgcolor": "#E5ECF6",
           "caxis": {
            "gridcolor": "white",
            "linecolor": "white",
            "ticks": ""
           }
          },
          "title": {
           "x": 0.05
          },
          "xaxis": {
           "automargin": true,
           "gridcolor": "white",
           "linecolor": "white",
           "ticks": "",
           "title": {
            "standoff": 15
           },
           "zerolinecolor": "white",
           "zerolinewidth": 2
          },
          "yaxis": {
           "automargin": true,
           "gridcolor": "white",
           "linecolor": "white",
           "ticks": "",
           "title": {
            "standoff": 15
           },
           "zerolinecolor": "white",
           "zerolinewidth": 2
          }
         }
        },
        "title": {
         "font": {
          "color": "#4D5663"
         },
         "text": "Target: class"
        },
        "xaxis": {
         "gridcolor": "#E1E5ED",
         "showgrid": true,
         "tickfont": {
          "color": "#4D5663"
         },
         "title": {
          "font": {
           "color": "#4D5663"
          },
          "text": ""
         },
         "zerolinecolor": "#E1E5ED"
        },
        "yaxis": {
         "gridcolor": "#E1E5ED",
         "showgrid": true,
         "tickfont": {
          "color": "#4D5663"
         },
         "title": {
          "font": {
           "color": "#4D5663"
          },
          "text": ""
         },
         "zerolinecolor": "#E1E5ED"
        }
       }
      },
      "text/html": [
       "<div>                            <div id=\"1969f2ef-2686-4bf8-9389-ec859c1c947b\" class=\"plotly-graph-div\" style=\"height:525px; width:100%;\"></div>            <script type=\"text/javascript\">                require([\"plotly\"], function(Plotly) {                    window.PLOTLYENV=window.PLOTLYENV || {};\n",
       "                    window.PLOTLYENV.BASE_URL='https://plot.ly';                                    if (document.getElementById(\"1969f2ef-2686-4bf8-9389-ec859c1c947b\")) {                    Plotly.newPlot(                        \"1969f2ef-2686-4bf8-9389-ec859c1c947b\",                        [{\"marker\":{\"color\":\"rgba(255, 153, 51, 0.6)\",\"line\":{\"color\":\"rgba(255, 153, 51, 1.0)\",\"width\":1}},\"name\":\"class\",\"orientation\":\"v\",\"text\":\"\",\"type\":\"bar\",\"x\":[0,1],\"y\":[283253,473]}],                        {\"legend\":{\"bgcolor\":\"#F5F6F9\",\"font\":{\"color\":\"#4D5663\"}},\"paper_bgcolor\":\"#F5F6F9\",\"plot_bgcolor\":\"#F5F6F9\",\"template\":{\"data\":{\"bar\":[{\"error_x\":{\"color\":\"#2a3f5f\"},\"error_y\":{\"color\":\"#2a3f5f\"},\"marker\":{\"line\":{\"color\":\"#E5ECF6\",\"width\":0.5},\"pattern\":{\"fillmode\":\"overlay\",\"size\":10,\"solidity\":0.2}},\"type\":\"bar\"}],\"barpolar\":[{\"marker\":{\"line\":{\"color\":\"#E5ECF6\",\"width\":0.5},\"pattern\":{\"fillmode\":\"overlay\",\"size\":10,\"solidity\":0.2}},\"type\":\"barpolar\"}],\"carpet\":[{\"aaxis\":{\"endlinecolor\":\"#2a3f5f\",\"gridcolor\":\"white\",\"linecolor\":\"white\",\"minorgridcolor\":\"white\",\"startlinecolor\":\"#2a3f5f\"},\"baxis\":{\"endlinecolor\":\"#2a3f5f\",\"gridcolor\":\"white\",\"linecolor\":\"white\",\"minorgridcolor\":\"white\",\"startlinecolor\":\"#2a3f5f\"},\"type\":\"carpet\"}],\"choropleth\":[{\"colorbar\":{\"outlinewidth\":0,\"ticks\":\"\"},\"type\":\"choropleth\"}],\"contour\":[{\"colorbar\":{\"outlinewidth\":0,\"ticks\":\"\"},\"colorscale\":[[0.0,\"#0d0887\"],[0.1111111111111111,\"#46039f\"],[0.2222222222222222,\"#7201a8\"],[0.3333333333333333,\"#9c179e\"],[0.4444444444444444,\"#bd3786\"],[0.5555555555555556,\"#d8576b\"],[0.6666666666666666,\"#ed7953\"],[0.7777777777777778,\"#fb9f3a\"],[0.8888888888888888,\"#fdca26\"],[1.0,\"#f0f921\"]],\"type\":\"contour\"}],\"contourcarpet\":[{\"colorbar\":{\"outlinewidth\":0,\"ticks\":\"\"},\"type\":\"contourcarpet\"}],\"heatmap\":[{\"colorbar\":{\"outlinewidth\":0,\"ticks\":\"\"},\"colorscale\":[[0.0,\"#0d0887\"],[0.1111111111111111,\"#46039f\"],[0.2222222222222222,\"#7201a8\"],[0.3333333333333333,\"#9c179e\"],[0.4444444444444444,\"#bd3786\"],[0.5555555555555556,\"#d8576b\"],[0.6666666666666666,\"#ed7953\"],[0.7777777777777778,\"#fb9f3a\"],[0.8888888888888888,\"#fdca26\"],[1.0,\"#f0f921\"]],\"type\":\"heatmap\"}],\"heatmapgl\":[{\"colorbar\":{\"outlinewidth\":0,\"ticks\":\"\"},\"colorscale\":[[0.0,\"#0d0887\"],[0.1111111111111111,\"#46039f\"],[0.2222222222222222,\"#7201a8\"],[0.3333333333333333,\"#9c179e\"],[0.4444444444444444,\"#bd3786\"],[0.5555555555555556,\"#d8576b\"],[0.6666666666666666,\"#ed7953\"],[0.7777777777777778,\"#fb9f3a\"],[0.8888888888888888,\"#fdca26\"],[1.0,\"#f0f921\"]],\"type\":\"heatmapgl\"}],\"histogram\":[{\"marker\":{\"pattern\":{\"fillmode\":\"overlay\",\"size\":10,\"solidity\":0.2}},\"type\":\"histogram\"}],\"histogram2d\":[{\"colorbar\":{\"outlinewidth\":0,\"ticks\":\"\"},\"colorscale\":[[0.0,\"#0d0887\"],[0.1111111111111111,\"#46039f\"],[0.2222222222222222,\"#7201a8\"],[0.3333333333333333,\"#9c179e\"],[0.4444444444444444,\"#bd3786\"],[0.5555555555555556,\"#d8576b\"],[0.6666666666666666,\"#ed7953\"],[0.7777777777777778,\"#fb9f3a\"],[0.8888888888888888,\"#fdca26\"],[1.0,\"#f0f921\"]],\"type\":\"histogram2d\"}],\"histogram2dcontour\":[{\"colorbar\":{\"outlinewidth\":0,\"ticks\":\"\"},\"colorscale\":[[0.0,\"#0d0887\"],[0.1111111111111111,\"#46039f\"],[0.2222222222222222,\"#7201a8\"],[0.3333333333333333,\"#9c179e\"],[0.4444444444444444,\"#bd3786\"],[0.5555555555555556,\"#d8576b\"],[0.6666666666666666,\"#ed7953\"],[0.7777777777777778,\"#fb9f3a\"],[0.8888888888888888,\"#fdca26\"],[1.0,\"#f0f921\"]],\"type\":\"histogram2dcontour\"}],\"mesh3d\":[{\"colorbar\":{\"outlinewidth\":0,\"ticks\":\"\"},\"type\":\"mesh3d\"}],\"parcoords\":[{\"line\":{\"colorbar\":{\"outlinewidth\":0,\"ticks\":\"\"}},\"type\":\"parcoords\"}],\"pie\":[{\"automargin\":true,\"type\":\"pie\"}],\"scatter\":[{\"marker\":{\"colorbar\":{\"outlinewidth\":0,\"ticks\":\"\"}},\"type\":\"scatter\"}],\"scatter3d\":[{\"line\":{\"colorbar\":{\"outlinewidth\":0,\"ticks\":\"\"}},\"marker\":{\"colorbar\":{\"outlinewidth\":0,\"ticks\":\"\"}},\"type\":\"scatter3d\"}],\"scattercarpet\":[{\"marker\":{\"colorbar\":{\"outlinewidth\":0,\"ticks\":\"\"}},\"type\":\"scattercarpet\"}],\"scattergeo\":[{\"marker\":{\"colorbar\":{\"outlinewidth\":0,\"ticks\":\"\"}},\"type\":\"scattergeo\"}],\"scattergl\":[{\"marker\":{\"colorbar\":{\"outlinewidth\":0,\"ticks\":\"\"}},\"type\":\"scattergl\"}],\"scattermapbox\":[{\"marker\":{\"colorbar\":{\"outlinewidth\":0,\"ticks\":\"\"}},\"type\":\"scattermapbox\"}],\"scatterpolar\":[{\"marker\":{\"colorbar\":{\"outlinewidth\":0,\"ticks\":\"\"}},\"type\":\"scatterpolar\"}],\"scatterpolargl\":[{\"marker\":{\"colorbar\":{\"outlinewidth\":0,\"ticks\":\"\"}},\"type\":\"scatterpolargl\"}],\"scatterternary\":[{\"marker\":{\"colorbar\":{\"outlinewidth\":0,\"ticks\":\"\"}},\"type\":\"scatterternary\"}],\"surface\":[{\"colorbar\":{\"outlinewidth\":0,\"ticks\":\"\"},\"colorscale\":[[0.0,\"#0d0887\"],[0.1111111111111111,\"#46039f\"],[0.2222222222222222,\"#7201a8\"],[0.3333333333333333,\"#9c179e\"],[0.4444444444444444,\"#bd3786\"],[0.5555555555555556,\"#d8576b\"],[0.6666666666666666,\"#ed7953\"],[0.7777777777777778,\"#fb9f3a\"],[0.8888888888888888,\"#fdca26\"],[1.0,\"#f0f921\"]],\"type\":\"surface\"}],\"table\":[{\"cells\":{\"fill\":{\"color\":\"#EBF0F8\"},\"line\":{\"color\":\"white\"}},\"header\":{\"fill\":{\"color\":\"#C8D4E3\"},\"line\":{\"color\":\"white\"}},\"type\":\"table\"}]},\"layout\":{\"annotationdefaults\":{\"arrowcolor\":\"#2a3f5f\",\"arrowhead\":0,\"arrowwidth\":1},\"autotypenumbers\":\"strict\",\"coloraxis\":{\"colorbar\":{\"outlinewidth\":0,\"ticks\":\"\"}},\"colorscale\":{\"diverging\":[[0,\"#8e0152\"],[0.1,\"#c51b7d\"],[0.2,\"#de77ae\"],[0.3,\"#f1b6da\"],[0.4,\"#fde0ef\"],[0.5,\"#f7f7f7\"],[0.6,\"#e6f5d0\"],[0.7,\"#b8e186\"],[0.8,\"#7fbc41\"],[0.9,\"#4d9221\"],[1,\"#276419\"]],\"sequential\":[[0.0,\"#0d0887\"],[0.1111111111111111,\"#46039f\"],[0.2222222222222222,\"#7201a8\"],[0.3333333333333333,\"#9c179e\"],[0.4444444444444444,\"#bd3786\"],[0.5555555555555556,\"#d8576b\"],[0.6666666666666666,\"#ed7953\"],[0.7777777777777778,\"#fb9f3a\"],[0.8888888888888888,\"#fdca26\"],[1.0,\"#f0f921\"]],\"sequentialminus\":[[0.0,\"#0d0887\"],[0.1111111111111111,\"#46039f\"],[0.2222222222222222,\"#7201a8\"],[0.3333333333333333,\"#9c179e\"],[0.4444444444444444,\"#bd3786\"],[0.5555555555555556,\"#d8576b\"],[0.6666666666666666,\"#ed7953\"],[0.7777777777777778,\"#fb9f3a\"],[0.8888888888888888,\"#fdca26\"],[1.0,\"#f0f921\"]]},\"colorway\":[\"#636efa\",\"#EF553B\",\"#00cc96\",\"#ab63fa\",\"#FFA15A\",\"#19d3f3\",\"#FF6692\",\"#B6E880\",\"#FF97FF\",\"#FECB52\"],\"font\":{\"color\":\"#2a3f5f\"},\"geo\":{\"bgcolor\":\"white\",\"lakecolor\":\"white\",\"landcolor\":\"#E5ECF6\",\"showlakes\":true,\"showland\":true,\"subunitcolor\":\"white\"},\"hoverlabel\":{\"align\":\"left\"},\"hovermode\":\"closest\",\"mapbox\":{\"style\":\"light\"},\"paper_bgcolor\":\"white\",\"plot_bgcolor\":\"#E5ECF6\",\"polar\":{\"angularaxis\":{\"gridcolor\":\"white\",\"linecolor\":\"white\",\"ticks\":\"\"},\"bgcolor\":\"#E5ECF6\",\"radialaxis\":{\"gridcolor\":\"white\",\"linecolor\":\"white\",\"ticks\":\"\"}},\"scene\":{\"xaxis\":{\"backgroundcolor\":\"#E5ECF6\",\"gridcolor\":\"white\",\"gridwidth\":2,\"linecolor\":\"white\",\"showbackground\":true,\"ticks\":\"\",\"zerolinecolor\":\"white\"},\"yaxis\":{\"backgroundcolor\":\"#E5ECF6\",\"gridcolor\":\"white\",\"gridwidth\":2,\"linecolor\":\"white\",\"showbackground\":true,\"ticks\":\"\",\"zerolinecolor\":\"white\"},\"zaxis\":{\"backgroundcolor\":\"#E5ECF6\",\"gridcolor\":\"white\",\"gridwidth\":2,\"linecolor\":\"white\",\"showbackground\":true,\"ticks\":\"\",\"zerolinecolor\":\"white\"}},\"shapedefaults\":{\"line\":{\"color\":\"#2a3f5f\"}},\"ternary\":{\"aaxis\":{\"gridcolor\":\"white\",\"linecolor\":\"white\",\"ticks\":\"\"},\"baxis\":{\"gridcolor\":\"white\",\"linecolor\":\"white\",\"ticks\":\"\"},\"bgcolor\":\"#E5ECF6\",\"caxis\":{\"gridcolor\":\"white\",\"linecolor\":\"white\",\"ticks\":\"\"}},\"title\":{\"x\":0.05},\"xaxis\":{\"automargin\":true,\"gridcolor\":\"white\",\"linecolor\":\"white\",\"ticks\":\"\",\"title\":{\"standoff\":15},\"zerolinecolor\":\"white\",\"zerolinewidth\":2},\"yaxis\":{\"automargin\":true,\"gridcolor\":\"white\",\"linecolor\":\"white\",\"ticks\":\"\",\"title\":{\"standoff\":15},\"zerolinecolor\":\"white\",\"zerolinewidth\":2}}},\"title\":{\"font\":{\"color\":\"#4D5663\"},\"text\":\"Target: class\"},\"xaxis\":{\"gridcolor\":\"#E1E5ED\",\"showgrid\":true,\"tickfont\":{\"color\":\"#4D5663\"},\"title\":{\"font\":{\"color\":\"#4D5663\"},\"text\":\"\"},\"zerolinecolor\":\"#E1E5ED\"},\"yaxis\":{\"gridcolor\":\"#E1E5ED\",\"showgrid\":true,\"tickfont\":{\"color\":\"#4D5663\"},\"title\":{\"font\":{\"color\":\"#4D5663\"},\"text\":\"\"},\"zerolinecolor\":\"#E1E5ED\"}},                        {\"showLink\": true, \"linkText\": \"Export to plot.ly\", \"plotlyServerURL\": \"https://plot.ly\", \"responsive\": true}                    ).then(function(){\n",
       "                            \n",
       "var gd = document.getElementById('1969f2ef-2686-4bf8-9389-ec859c1c947b');\n",
       "var x = new MutationObserver(function (mutations, observer) {{\n",
       "        var display = window.getComputedStyle(gd).display;\n",
       "        if (!display || display === 'none') {{\n",
       "            console.log([gd, 'removed!']);\n",
       "            Plotly.purge(gd);\n",
       "            observer.disconnect();\n",
       "        }}\n",
       "}});\n",
       "\n",
       "// Listen for the removal of the full notebook cells\n",
       "var notebookContainer = gd.closest('#notebook-container');\n",
       "if (notebookContainer) {{\n",
       "    x.observe(notebookContainer, {childList: true});\n",
       "}}\n",
       "\n",
       "// Listen for the clearing of the current output cell\n",
       "var outputEl = gd.closest('.output');\n",
       "if (outputEl) {{\n",
       "    x.observe(outputEl, {childList: true});\n",
       "}}\n",
       "\n",
       "                        })                };                });            </script>        </div>"
      ]
     },
     "metadata": {},
     "output_type": "display_data"
    }
   ],
   "source": [
    "df[target].value_counts().iplot(kind=\"bar\", title = f\"Target: {target}\")"
   ]
  },
  {
   "cell_type": "code",
   "execution_count": 8,
   "metadata": {},
   "outputs": [
    {
     "data": {
      "application/vnd.plotly.v1+json": {
       "config": {
        "plotlyServerURL": "https://plot.ly"
       },
       "data": [
        {
         "domain": {
          "x": [
           0,
           1
          ],
          "y": [
           0,
           1
          ]
         },
         "hovertemplate": "label=%{label}<br>value=%{value}<extra></extra>",
         "labels": [
          0,
          1
         ],
         "legendgroup": "",
         "name": "",
         "showlegend": true,
         "type": "pie",
         "values": [
          283253,
          473
         ]
        }
       ],
       "layout": {
        "legend": {
         "tracegroupgap": 0
        },
        "template": {
         "data": {
          "bar": [
           {
            "error_x": {
             "color": "#2a3f5f"
            },
            "error_y": {
             "color": "#2a3f5f"
            },
            "marker": {
             "line": {
              "color": "#E5ECF6",
              "width": 0.5
             },
             "pattern": {
              "fillmode": "overlay",
              "size": 10,
              "solidity": 0.2
             }
            },
            "type": "bar"
           }
          ],
          "barpolar": [
           {
            "marker": {
             "line": {
              "color": "#E5ECF6",
              "width": 0.5
             },
             "pattern": {
              "fillmode": "overlay",
              "size": 10,
              "solidity": 0.2
             }
            },
            "type": "barpolar"
           }
          ],
          "carpet": [
           {
            "aaxis": {
             "endlinecolor": "#2a3f5f",
             "gridcolor": "white",
             "linecolor": "white",
             "minorgridcolor": "white",
             "startlinecolor": "#2a3f5f"
            },
            "baxis": {
             "endlinecolor": "#2a3f5f",
             "gridcolor": "white",
             "linecolor": "white",
             "minorgridcolor": "white",
             "startlinecolor": "#2a3f5f"
            },
            "type": "carpet"
           }
          ],
          "choropleth": [
           {
            "colorbar": {
             "outlinewidth": 0,
             "ticks": ""
            },
            "type": "choropleth"
           }
          ],
          "contour": [
           {
            "colorbar": {
             "outlinewidth": 0,
             "ticks": ""
            },
            "colorscale": [
             [
              0,
              "#0d0887"
             ],
             [
              0.1111111111111111,
              "#46039f"
             ],
             [
              0.2222222222222222,
              "#7201a8"
             ],
             [
              0.3333333333333333,
              "#9c179e"
             ],
             [
              0.4444444444444444,
              "#bd3786"
             ],
             [
              0.5555555555555556,
              "#d8576b"
             ],
             [
              0.6666666666666666,
              "#ed7953"
             ],
             [
              0.7777777777777778,
              "#fb9f3a"
             ],
             [
              0.8888888888888888,
              "#fdca26"
             ],
             [
              1,
              "#f0f921"
             ]
            ],
            "type": "contour"
           }
          ],
          "contourcarpet": [
           {
            "colorbar": {
             "outlinewidth": 0,
             "ticks": ""
            },
            "type": "contourcarpet"
           }
          ],
          "heatmap": [
           {
            "colorbar": {
             "outlinewidth": 0,
             "ticks": ""
            },
            "colorscale": [
             [
              0,
              "#0d0887"
             ],
             [
              0.1111111111111111,
              "#46039f"
             ],
             [
              0.2222222222222222,
              "#7201a8"
             ],
             [
              0.3333333333333333,
              "#9c179e"
             ],
             [
              0.4444444444444444,
              "#bd3786"
             ],
             [
              0.5555555555555556,
              "#d8576b"
             ],
             [
              0.6666666666666666,
              "#ed7953"
             ],
             [
              0.7777777777777778,
              "#fb9f3a"
             ],
             [
              0.8888888888888888,
              "#fdca26"
             ],
             [
              1,
              "#f0f921"
             ]
            ],
            "type": "heatmap"
           }
          ],
          "heatmapgl": [
           {
            "colorbar": {
             "outlinewidth": 0,
             "ticks": ""
            },
            "colorscale": [
             [
              0,
              "#0d0887"
             ],
             [
              0.1111111111111111,
              "#46039f"
             ],
             [
              0.2222222222222222,
              "#7201a8"
             ],
             [
              0.3333333333333333,
              "#9c179e"
             ],
             [
              0.4444444444444444,
              "#bd3786"
             ],
             [
              0.5555555555555556,
              "#d8576b"
             ],
             [
              0.6666666666666666,
              "#ed7953"
             ],
             [
              0.7777777777777778,
              "#fb9f3a"
             ],
             [
              0.8888888888888888,
              "#fdca26"
             ],
             [
              1,
              "#f0f921"
             ]
            ],
            "type": "heatmapgl"
           }
          ],
          "histogram": [
           {
            "marker": {
             "pattern": {
              "fillmode": "overlay",
              "size": 10,
              "solidity": 0.2
             }
            },
            "type": "histogram"
           }
          ],
          "histogram2d": [
           {
            "colorbar": {
             "outlinewidth": 0,
             "ticks": ""
            },
            "colorscale": [
             [
              0,
              "#0d0887"
             ],
             [
              0.1111111111111111,
              "#46039f"
             ],
             [
              0.2222222222222222,
              "#7201a8"
             ],
             [
              0.3333333333333333,
              "#9c179e"
             ],
             [
              0.4444444444444444,
              "#bd3786"
             ],
             [
              0.5555555555555556,
              "#d8576b"
             ],
             [
              0.6666666666666666,
              "#ed7953"
             ],
             [
              0.7777777777777778,
              "#fb9f3a"
             ],
             [
              0.8888888888888888,
              "#fdca26"
             ],
             [
              1,
              "#f0f921"
             ]
            ],
            "type": "histogram2d"
           }
          ],
          "histogram2dcontour": [
           {
            "colorbar": {
             "outlinewidth": 0,
             "ticks": ""
            },
            "colorscale": [
             [
              0,
              "#0d0887"
             ],
             [
              0.1111111111111111,
              "#46039f"
             ],
             [
              0.2222222222222222,
              "#7201a8"
             ],
             [
              0.3333333333333333,
              "#9c179e"
             ],
             [
              0.4444444444444444,
              "#bd3786"
             ],
             [
              0.5555555555555556,
              "#d8576b"
             ],
             [
              0.6666666666666666,
              "#ed7953"
             ],
             [
              0.7777777777777778,
              "#fb9f3a"
             ],
             [
              0.8888888888888888,
              "#fdca26"
             ],
             [
              1,
              "#f0f921"
             ]
            ],
            "type": "histogram2dcontour"
           }
          ],
          "mesh3d": [
           {
            "colorbar": {
             "outlinewidth": 0,
             "ticks": ""
            },
            "type": "mesh3d"
           }
          ],
          "parcoords": [
           {
            "line": {
             "colorbar": {
              "outlinewidth": 0,
              "ticks": ""
             }
            },
            "type": "parcoords"
           }
          ],
          "pie": [
           {
            "automargin": true,
            "type": "pie"
           }
          ],
          "scatter": [
           {
            "marker": {
             "colorbar": {
              "outlinewidth": 0,
              "ticks": ""
             }
            },
            "type": "scatter"
           }
          ],
          "scatter3d": [
           {
            "line": {
             "colorbar": {
              "outlinewidth": 0,
              "ticks": ""
             }
            },
            "marker": {
             "colorbar": {
              "outlinewidth": 0,
              "ticks": ""
             }
            },
            "type": "scatter3d"
           }
          ],
          "scattercarpet": [
           {
            "marker": {
             "colorbar": {
              "outlinewidth": 0,
              "ticks": ""
             }
            },
            "type": "scattercarpet"
           }
          ],
          "scattergeo": [
           {
            "marker": {
             "colorbar": {
              "outlinewidth": 0,
              "ticks": ""
             }
            },
            "type": "scattergeo"
           }
          ],
          "scattergl": [
           {
            "marker": {
             "colorbar": {
              "outlinewidth": 0,
              "ticks": ""
             }
            },
            "type": "scattergl"
           }
          ],
          "scattermapbox": [
           {
            "marker": {
             "colorbar": {
              "outlinewidth": 0,
              "ticks": ""
             }
            },
            "type": "scattermapbox"
           }
          ],
          "scatterpolar": [
           {
            "marker": {
             "colorbar": {
              "outlinewidth": 0,
              "ticks": ""
             }
            },
            "type": "scatterpolar"
           }
          ],
          "scatterpolargl": [
           {
            "marker": {
             "colorbar": {
              "outlinewidth": 0,
              "ticks": ""
             }
            },
            "type": "scatterpolargl"
           }
          ],
          "scatterternary": [
           {
            "marker": {
             "colorbar": {
              "outlinewidth": 0,
              "ticks": ""
             }
            },
            "type": "scatterternary"
           }
          ],
          "surface": [
           {
            "colorbar": {
             "outlinewidth": 0,
             "ticks": ""
            },
            "colorscale": [
             [
              0,
              "#0d0887"
             ],
             [
              0.1111111111111111,
              "#46039f"
             ],
             [
              0.2222222222222222,
              "#7201a8"
             ],
             [
              0.3333333333333333,
              "#9c179e"
             ],
             [
              0.4444444444444444,
              "#bd3786"
             ],
             [
              0.5555555555555556,
              "#d8576b"
             ],
             [
              0.6666666666666666,
              "#ed7953"
             ],
             [
              0.7777777777777778,
              "#fb9f3a"
             ],
             [
              0.8888888888888888,
              "#fdca26"
             ],
             [
              1,
              "#f0f921"
             ]
            ],
            "type": "surface"
           }
          ],
          "table": [
           {
            "cells": {
             "fill": {
              "color": "#EBF0F8"
             },
             "line": {
              "color": "white"
             }
            },
            "header": {
             "fill": {
              "color": "#C8D4E3"
             },
             "line": {
              "color": "white"
             }
            },
            "type": "table"
           }
          ]
         },
         "layout": {
          "annotationdefaults": {
           "arrowcolor": "#2a3f5f",
           "arrowhead": 0,
           "arrowwidth": 1
          },
          "autotypenumbers": "strict",
          "coloraxis": {
           "colorbar": {
            "outlinewidth": 0,
            "ticks": ""
           }
          },
          "colorscale": {
           "diverging": [
            [
             0,
             "#8e0152"
            ],
            [
             0.1,
             "#c51b7d"
            ],
            [
             0.2,
             "#de77ae"
            ],
            [
             0.3,
             "#f1b6da"
            ],
            [
             0.4,
             "#fde0ef"
            ],
            [
             0.5,
             "#f7f7f7"
            ],
            [
             0.6,
             "#e6f5d0"
            ],
            [
             0.7,
             "#b8e186"
            ],
            [
             0.8,
             "#7fbc41"
            ],
            [
             0.9,
             "#4d9221"
            ],
            [
             1,
             "#276419"
            ]
           ],
           "sequential": [
            [
             0,
             "#0d0887"
            ],
            [
             0.1111111111111111,
             "#46039f"
            ],
            [
             0.2222222222222222,
             "#7201a8"
            ],
            [
             0.3333333333333333,
             "#9c179e"
            ],
            [
             0.4444444444444444,
             "#bd3786"
            ],
            [
             0.5555555555555556,
             "#d8576b"
            ],
            [
             0.6666666666666666,
             "#ed7953"
            ],
            [
             0.7777777777777778,
             "#fb9f3a"
            ],
            [
             0.8888888888888888,
             "#fdca26"
            ],
            [
             1,
             "#f0f921"
            ]
           ],
           "sequentialminus": [
            [
             0,
             "#0d0887"
            ],
            [
             0.1111111111111111,
             "#46039f"
            ],
            [
             0.2222222222222222,
             "#7201a8"
            ],
            [
             0.3333333333333333,
             "#9c179e"
            ],
            [
             0.4444444444444444,
             "#bd3786"
            ],
            [
             0.5555555555555556,
             "#d8576b"
            ],
            [
             0.6666666666666666,
             "#ed7953"
            ],
            [
             0.7777777777777778,
             "#fb9f3a"
            ],
            [
             0.8888888888888888,
             "#fdca26"
            ],
            [
             1,
             "#f0f921"
            ]
           ]
          },
          "colorway": [
           "#636efa",
           "#EF553B",
           "#00cc96",
           "#ab63fa",
           "#FFA15A",
           "#19d3f3",
           "#FF6692",
           "#B6E880",
           "#FF97FF",
           "#FECB52"
          ],
          "font": {
           "color": "#2a3f5f"
          },
          "geo": {
           "bgcolor": "white",
           "lakecolor": "white",
           "landcolor": "#E5ECF6",
           "showlakes": true,
           "showland": true,
           "subunitcolor": "white"
          },
          "hoverlabel": {
           "align": "left"
          },
          "hovermode": "closest",
          "mapbox": {
           "style": "light"
          },
          "paper_bgcolor": "white",
          "plot_bgcolor": "#E5ECF6",
          "polar": {
           "angularaxis": {
            "gridcolor": "white",
            "linecolor": "white",
            "ticks": ""
           },
           "bgcolor": "#E5ECF6",
           "radialaxis": {
            "gridcolor": "white",
            "linecolor": "white",
            "ticks": ""
           }
          },
          "scene": {
           "xaxis": {
            "backgroundcolor": "#E5ECF6",
            "gridcolor": "white",
            "gridwidth": 2,
            "linecolor": "white",
            "showbackground": true,
            "ticks": "",
            "zerolinecolor": "white"
           },
           "yaxis": {
            "backgroundcolor": "#E5ECF6",
            "gridcolor": "white",
            "gridwidth": 2,
            "linecolor": "white",
            "showbackground": true,
            "ticks": "",
            "zerolinecolor": "white"
           },
           "zaxis": {
            "backgroundcolor": "#E5ECF6",
            "gridcolor": "white",
            "gridwidth": 2,
            "linecolor": "white",
            "showbackground": true,
            "ticks": "",
            "zerolinecolor": "white"
           }
          },
          "shapedefaults": {
           "line": {
            "color": "#2a3f5f"
           }
          },
          "ternary": {
           "aaxis": {
            "gridcolor": "white",
            "linecolor": "white",
            "ticks": ""
           },
           "baxis": {
            "gridcolor": "white",
            "linecolor": "white",
            "ticks": ""
           },
           "bgcolor": "#E5ECF6",
           "caxis": {
            "gridcolor": "white",
            "linecolor": "white",
            "ticks": ""
           }
          },
          "title": {
           "x": 0.05
          },
          "xaxis": {
           "automargin": true,
           "gridcolor": "white",
           "linecolor": "white",
           "ticks": "",
           "title": {
            "standoff": 15
           },
           "zerolinecolor": "white",
           "zerolinewidth": 2
          },
          "yaxis": {
           "automargin": true,
           "gridcolor": "white",
           "linecolor": "white",
           "ticks": "",
           "title": {
            "standoff": 15
           },
           "zerolinecolor": "white",
           "zerolinewidth": 2
          }
         }
        },
        "title": {
         "text": "Target: class"
        }
       }
      },
      "text/html": [
       "<div>                            <div id=\"086201f4-f9c4-483c-90b5-b5d6038047b1\" class=\"plotly-graph-div\" style=\"height:525px; width:100%;\"></div>            <script type=\"text/javascript\">                require([\"plotly\"], function(Plotly) {                    window.PLOTLYENV=window.PLOTLYENV || {};                                    if (document.getElementById(\"086201f4-f9c4-483c-90b5-b5d6038047b1\")) {                    Plotly.newPlot(                        \"086201f4-f9c4-483c-90b5-b5d6038047b1\",                        [{\"domain\":{\"x\":[0.0,1.0],\"y\":[0.0,1.0]},\"hovertemplate\":\"label=%{label}<br>value=%{value}<extra></extra>\",\"labels\":[0,1],\"legendgroup\":\"\",\"name\":\"\",\"showlegend\":true,\"type\":\"pie\",\"values\":[283253,473]}],                        {\"legend\":{\"tracegroupgap\":0},\"template\":{\"data\":{\"bar\":[{\"error_x\":{\"color\":\"#2a3f5f\"},\"error_y\":{\"color\":\"#2a3f5f\"},\"marker\":{\"line\":{\"color\":\"#E5ECF6\",\"width\":0.5},\"pattern\":{\"fillmode\":\"overlay\",\"size\":10,\"solidity\":0.2}},\"type\":\"bar\"}],\"barpolar\":[{\"marker\":{\"line\":{\"color\":\"#E5ECF6\",\"width\":0.5},\"pattern\":{\"fillmode\":\"overlay\",\"size\":10,\"solidity\":0.2}},\"type\":\"barpolar\"}],\"carpet\":[{\"aaxis\":{\"endlinecolor\":\"#2a3f5f\",\"gridcolor\":\"white\",\"linecolor\":\"white\",\"minorgridcolor\":\"white\",\"startlinecolor\":\"#2a3f5f\"},\"baxis\":{\"endlinecolor\":\"#2a3f5f\",\"gridcolor\":\"white\",\"linecolor\":\"white\",\"minorgridcolor\":\"white\",\"startlinecolor\":\"#2a3f5f\"},\"type\":\"carpet\"}],\"choropleth\":[{\"colorbar\":{\"outlinewidth\":0,\"ticks\":\"\"},\"type\":\"choropleth\"}],\"contour\":[{\"colorbar\":{\"outlinewidth\":0,\"ticks\":\"\"},\"colorscale\":[[0.0,\"#0d0887\"],[0.1111111111111111,\"#46039f\"],[0.2222222222222222,\"#7201a8\"],[0.3333333333333333,\"#9c179e\"],[0.4444444444444444,\"#bd3786\"],[0.5555555555555556,\"#d8576b\"],[0.6666666666666666,\"#ed7953\"],[0.7777777777777778,\"#fb9f3a\"],[0.8888888888888888,\"#fdca26\"],[1.0,\"#f0f921\"]],\"type\":\"contour\"}],\"contourcarpet\":[{\"colorbar\":{\"outlinewidth\":0,\"ticks\":\"\"},\"type\":\"contourcarpet\"}],\"heatmap\":[{\"colorbar\":{\"outlinewidth\":0,\"ticks\":\"\"},\"colorscale\":[[0.0,\"#0d0887\"],[0.1111111111111111,\"#46039f\"],[0.2222222222222222,\"#7201a8\"],[0.3333333333333333,\"#9c179e\"],[0.4444444444444444,\"#bd3786\"],[0.5555555555555556,\"#d8576b\"],[0.6666666666666666,\"#ed7953\"],[0.7777777777777778,\"#fb9f3a\"],[0.8888888888888888,\"#fdca26\"],[1.0,\"#f0f921\"]],\"type\":\"heatmap\"}],\"heatmapgl\":[{\"colorbar\":{\"outlinewidth\":0,\"ticks\":\"\"},\"colorscale\":[[0.0,\"#0d0887\"],[0.1111111111111111,\"#46039f\"],[0.2222222222222222,\"#7201a8\"],[0.3333333333333333,\"#9c179e\"],[0.4444444444444444,\"#bd3786\"],[0.5555555555555556,\"#d8576b\"],[0.6666666666666666,\"#ed7953\"],[0.7777777777777778,\"#fb9f3a\"],[0.8888888888888888,\"#fdca26\"],[1.0,\"#f0f921\"]],\"type\":\"heatmapgl\"}],\"histogram\":[{\"marker\":{\"pattern\":{\"fillmode\":\"overlay\",\"size\":10,\"solidity\":0.2}},\"type\":\"histogram\"}],\"histogram2d\":[{\"colorbar\":{\"outlinewidth\":0,\"ticks\":\"\"},\"colorscale\":[[0.0,\"#0d0887\"],[0.1111111111111111,\"#46039f\"],[0.2222222222222222,\"#7201a8\"],[0.3333333333333333,\"#9c179e\"],[0.4444444444444444,\"#bd3786\"],[0.5555555555555556,\"#d8576b\"],[0.6666666666666666,\"#ed7953\"],[0.7777777777777778,\"#fb9f3a\"],[0.8888888888888888,\"#fdca26\"],[1.0,\"#f0f921\"]],\"type\":\"histogram2d\"}],\"histogram2dcontour\":[{\"colorbar\":{\"outlinewidth\":0,\"ticks\":\"\"},\"colorscale\":[[0.0,\"#0d0887\"],[0.1111111111111111,\"#46039f\"],[0.2222222222222222,\"#7201a8\"],[0.3333333333333333,\"#9c179e\"],[0.4444444444444444,\"#bd3786\"],[0.5555555555555556,\"#d8576b\"],[0.6666666666666666,\"#ed7953\"],[0.7777777777777778,\"#fb9f3a\"],[0.8888888888888888,\"#fdca26\"],[1.0,\"#f0f921\"]],\"type\":\"histogram2dcontour\"}],\"mesh3d\":[{\"colorbar\":{\"outlinewidth\":0,\"ticks\":\"\"},\"type\":\"mesh3d\"}],\"parcoords\":[{\"line\":{\"colorbar\":{\"outlinewidth\":0,\"ticks\":\"\"}},\"type\":\"parcoords\"}],\"pie\":[{\"automargin\":true,\"type\":\"pie\"}],\"scatter\":[{\"marker\":{\"colorbar\":{\"outlinewidth\":0,\"ticks\":\"\"}},\"type\":\"scatter\"}],\"scatter3d\":[{\"line\":{\"colorbar\":{\"outlinewidth\":0,\"ticks\":\"\"}},\"marker\":{\"colorbar\":{\"outlinewidth\":0,\"ticks\":\"\"}},\"type\":\"scatter3d\"}],\"scattercarpet\":[{\"marker\":{\"colorbar\":{\"outlinewidth\":0,\"ticks\":\"\"}},\"type\":\"scattercarpet\"}],\"scattergeo\":[{\"marker\":{\"colorbar\":{\"outlinewidth\":0,\"ticks\":\"\"}},\"type\":\"scattergeo\"}],\"scattergl\":[{\"marker\":{\"colorbar\":{\"outlinewidth\":0,\"ticks\":\"\"}},\"type\":\"scattergl\"}],\"scattermapbox\":[{\"marker\":{\"colorbar\":{\"outlinewidth\":0,\"ticks\":\"\"}},\"type\":\"scattermapbox\"}],\"scatterpolar\":[{\"marker\":{\"colorbar\":{\"outlinewidth\":0,\"ticks\":\"\"}},\"type\":\"scatterpolar\"}],\"scatterpolargl\":[{\"marker\":{\"colorbar\":{\"outlinewidth\":0,\"ticks\":\"\"}},\"type\":\"scatterpolargl\"}],\"scatterternary\":[{\"marker\":{\"colorbar\":{\"outlinewidth\":0,\"ticks\":\"\"}},\"type\":\"scatterternary\"}],\"surface\":[{\"colorbar\":{\"outlinewidth\":0,\"ticks\":\"\"},\"colorscale\":[[0.0,\"#0d0887\"],[0.1111111111111111,\"#46039f\"],[0.2222222222222222,\"#7201a8\"],[0.3333333333333333,\"#9c179e\"],[0.4444444444444444,\"#bd3786\"],[0.5555555555555556,\"#d8576b\"],[0.6666666666666666,\"#ed7953\"],[0.7777777777777778,\"#fb9f3a\"],[0.8888888888888888,\"#fdca26\"],[1.0,\"#f0f921\"]],\"type\":\"surface\"}],\"table\":[{\"cells\":{\"fill\":{\"color\":\"#EBF0F8\"},\"line\":{\"color\":\"white\"}},\"header\":{\"fill\":{\"color\":\"#C8D4E3\"},\"line\":{\"color\":\"white\"}},\"type\":\"table\"}]},\"layout\":{\"annotationdefaults\":{\"arrowcolor\":\"#2a3f5f\",\"arrowhead\":0,\"arrowwidth\":1},\"autotypenumbers\":\"strict\",\"coloraxis\":{\"colorbar\":{\"outlinewidth\":0,\"ticks\":\"\"}},\"colorscale\":{\"diverging\":[[0,\"#8e0152\"],[0.1,\"#c51b7d\"],[0.2,\"#de77ae\"],[0.3,\"#f1b6da\"],[0.4,\"#fde0ef\"],[0.5,\"#f7f7f7\"],[0.6,\"#e6f5d0\"],[0.7,\"#b8e186\"],[0.8,\"#7fbc41\"],[0.9,\"#4d9221\"],[1,\"#276419\"]],\"sequential\":[[0.0,\"#0d0887\"],[0.1111111111111111,\"#46039f\"],[0.2222222222222222,\"#7201a8\"],[0.3333333333333333,\"#9c179e\"],[0.4444444444444444,\"#bd3786\"],[0.5555555555555556,\"#d8576b\"],[0.6666666666666666,\"#ed7953\"],[0.7777777777777778,\"#fb9f3a\"],[0.8888888888888888,\"#fdca26\"],[1.0,\"#f0f921\"]],\"sequentialminus\":[[0.0,\"#0d0887\"],[0.1111111111111111,\"#46039f\"],[0.2222222222222222,\"#7201a8\"],[0.3333333333333333,\"#9c179e\"],[0.4444444444444444,\"#bd3786\"],[0.5555555555555556,\"#d8576b\"],[0.6666666666666666,\"#ed7953\"],[0.7777777777777778,\"#fb9f3a\"],[0.8888888888888888,\"#fdca26\"],[1.0,\"#f0f921\"]]},\"colorway\":[\"#636efa\",\"#EF553B\",\"#00cc96\",\"#ab63fa\",\"#FFA15A\",\"#19d3f3\",\"#FF6692\",\"#B6E880\",\"#FF97FF\",\"#FECB52\"],\"font\":{\"color\":\"#2a3f5f\"},\"geo\":{\"bgcolor\":\"white\",\"lakecolor\":\"white\",\"landcolor\":\"#E5ECF6\",\"showlakes\":true,\"showland\":true,\"subunitcolor\":\"white\"},\"hoverlabel\":{\"align\":\"left\"},\"hovermode\":\"closest\",\"mapbox\":{\"style\":\"light\"},\"paper_bgcolor\":\"white\",\"plot_bgcolor\":\"#E5ECF6\",\"polar\":{\"angularaxis\":{\"gridcolor\":\"white\",\"linecolor\":\"white\",\"ticks\":\"\"},\"bgcolor\":\"#E5ECF6\",\"radialaxis\":{\"gridcolor\":\"white\",\"linecolor\":\"white\",\"ticks\":\"\"}},\"scene\":{\"xaxis\":{\"backgroundcolor\":\"#E5ECF6\",\"gridcolor\":\"white\",\"gridwidth\":2,\"linecolor\":\"white\",\"showbackground\":true,\"ticks\":\"\",\"zerolinecolor\":\"white\"},\"yaxis\":{\"backgroundcolor\":\"#E5ECF6\",\"gridcolor\":\"white\",\"gridwidth\":2,\"linecolor\":\"white\",\"showbackground\":true,\"ticks\":\"\",\"zerolinecolor\":\"white\"},\"zaxis\":{\"backgroundcolor\":\"#E5ECF6\",\"gridcolor\":\"white\",\"gridwidth\":2,\"linecolor\":\"white\",\"showbackground\":true,\"ticks\":\"\",\"zerolinecolor\":\"white\"}},\"shapedefaults\":{\"line\":{\"color\":\"#2a3f5f\"}},\"ternary\":{\"aaxis\":{\"gridcolor\":\"white\",\"linecolor\":\"white\",\"ticks\":\"\"},\"baxis\":{\"gridcolor\":\"white\",\"linecolor\":\"white\",\"ticks\":\"\"},\"bgcolor\":\"#E5ECF6\",\"caxis\":{\"gridcolor\":\"white\",\"linecolor\":\"white\",\"ticks\":\"\"}},\"title\":{\"x\":0.05},\"xaxis\":{\"automargin\":true,\"gridcolor\":\"white\",\"linecolor\":\"white\",\"ticks\":\"\",\"title\":{\"standoff\":15},\"zerolinecolor\":\"white\",\"zerolinewidth\":2},\"yaxis\":{\"automargin\":true,\"gridcolor\":\"white\",\"linecolor\":\"white\",\"ticks\":\"\",\"title\":{\"standoff\":15},\"zerolinecolor\":\"white\",\"zerolinewidth\":2}}},\"title\":{\"text\":\"Target: class\"}},                        {\"responsive\": true}                    ).then(function(){\n",
       "                            \n",
       "var gd = document.getElementById('086201f4-f9c4-483c-90b5-b5d6038047b1');\n",
       "var x = new MutationObserver(function (mutations, observer) {{\n",
       "        var display = window.getComputedStyle(gd).display;\n",
       "        if (!display || display === 'none') {{\n",
       "            console.log([gd, 'removed!']);\n",
       "            Plotly.purge(gd);\n",
       "            observer.disconnect();\n",
       "        }}\n",
       "}});\n",
       "\n",
       "// Listen for the removal of the full notebook cells\n",
       "var notebookContainer = gd.closest('#notebook-container');\n",
       "if (notebookContainer) {{\n",
       "    x.observe(notebookContainer, {childList: true});\n",
       "}}\n",
       "\n",
       "// Listen for the clearing of the current output cell\n",
       "var outputEl = gd.closest('.output');\n",
       "if (outputEl) {{\n",
       "    x.observe(outputEl, {childList: true});\n",
       "}}\n",
       "\n",
       "                        })                };                });            </script>        </div>"
      ]
     },
     "metadata": {},
     "output_type": "display_data"
    }
   ],
   "source": [
    "px.pie(df, values=df[target].value_counts(), names=(df[target].value_counts()).index, title=f\"Target: {target}\").show();"
   ]
  },
  {
   "cell_type": "code",
   "execution_count": 9,
   "metadata": {},
   "outputs": [
    {
     "data": {
      "text/html": [
       "<div>\n",
       "<style scoped>\n",
       "    .dataframe tbody tr th:only-of-type {\n",
       "        vertical-align: middle;\n",
       "    }\n",
       "\n",
       "    .dataframe tbody tr th {\n",
       "        vertical-align: top;\n",
       "    }\n",
       "\n",
       "    .dataframe thead th {\n",
       "        text-align: right;\n",
       "    }\n",
       "</style>\n",
       "<table border=\"1\" class=\"dataframe\">\n",
       "  <thead>\n",
       "    <tr style=\"text-align: right;\">\n",
       "      <th></th>\n",
       "      <th>time</th>\n",
       "      <th>v1</th>\n",
       "      <th>v2</th>\n",
       "      <th>v3</th>\n",
       "      <th>v4</th>\n",
       "      <th>v5</th>\n",
       "      <th>v6</th>\n",
       "      <th>v7</th>\n",
       "      <th>v8</th>\n",
       "      <th>v9</th>\n",
       "      <th>v10</th>\n",
       "      <th>v11</th>\n",
       "      <th>v12</th>\n",
       "      <th>v13</th>\n",
       "      <th>v14</th>\n",
       "      <th>v15</th>\n",
       "      <th>v16</th>\n",
       "      <th>v17</th>\n",
       "      <th>v18</th>\n",
       "      <th>v19</th>\n",
       "      <th>v20</th>\n",
       "      <th>v21</th>\n",
       "      <th>v22</th>\n",
       "      <th>v23</th>\n",
       "      <th>v24</th>\n",
       "      <th>v25</th>\n",
       "      <th>v26</th>\n",
       "      <th>v27</th>\n",
       "      <th>v28</th>\n",
       "      <th>amount</th>\n",
       "    </tr>\n",
       "    <tr>\n",
       "      <th>class</th>\n",
       "      <th></th>\n",
       "      <th></th>\n",
       "      <th></th>\n",
       "      <th></th>\n",
       "      <th></th>\n",
       "      <th></th>\n",
       "      <th></th>\n",
       "      <th></th>\n",
       "      <th></th>\n",
       "      <th></th>\n",
       "      <th></th>\n",
       "      <th></th>\n",
       "      <th></th>\n",
       "      <th></th>\n",
       "      <th></th>\n",
       "      <th></th>\n",
       "      <th></th>\n",
       "      <th></th>\n",
       "      <th></th>\n",
       "      <th></th>\n",
       "      <th></th>\n",
       "      <th></th>\n",
       "      <th></th>\n",
       "      <th></th>\n",
       "      <th></th>\n",
       "      <th></th>\n",
       "      <th></th>\n",
       "      <th></th>\n",
       "      <th></th>\n",
       "      <th></th>\n",
       "    </tr>\n",
       "  </thead>\n",
       "  <tbody>\n",
       "    <tr>\n",
       "      <th>0</th>\n",
       "      <td>94835.058</td>\n",
       "      <td>0.013</td>\n",
       "      <td>-0.010</td>\n",
       "      <td>0.013</td>\n",
       "      <td>-0.010</td>\n",
       "      <td>0.007</td>\n",
       "      <td>0.001</td>\n",
       "      <td>0.010</td>\n",
       "      <td>-0.002</td>\n",
       "      <td>0.003</td>\n",
       "      <td>0.008</td>\n",
       "      <td>-0.006</td>\n",
       "      <td>0.009</td>\n",
       "      <td>0.001</td>\n",
       "      <td>0.012</td>\n",
       "      <td>0.001</td>\n",
       "      <td>0.008</td>\n",
       "      <td>0.011</td>\n",
       "      <td>0.005</td>\n",
       "      <td>-0.001</td>\n",
       "      <td>-0.000</td>\n",
       "      <td>-0.001</td>\n",
       "      <td>-0.000</td>\n",
       "      <td>0.000</td>\n",
       "      <td>0.000</td>\n",
       "      <td>-0.000</td>\n",
       "      <td>0.000</td>\n",
       "      <td>0.001</td>\n",
       "      <td>0.000</td>\n",
       "      <td>88.414</td>\n",
       "    </tr>\n",
       "    <tr>\n",
       "      <th>1</th>\n",
       "      <td>80450.514</td>\n",
       "      <td>-4.498</td>\n",
       "      <td>3.406</td>\n",
       "      <td>-6.730</td>\n",
       "      <td>4.473</td>\n",
       "      <td>-2.957</td>\n",
       "      <td>-1.433</td>\n",
       "      <td>-5.176</td>\n",
       "      <td>0.953</td>\n",
       "      <td>-2.522</td>\n",
       "      <td>-5.453</td>\n",
       "      <td>3.716</td>\n",
       "      <td>-6.103</td>\n",
       "      <td>-0.094</td>\n",
       "      <td>-6.836</td>\n",
       "      <td>-0.073</td>\n",
       "      <td>-4.001</td>\n",
       "      <td>-6.463</td>\n",
       "      <td>-2.157</td>\n",
       "      <td>0.669</td>\n",
       "      <td>0.405</td>\n",
       "      <td>0.467</td>\n",
       "      <td>0.087</td>\n",
       "      <td>-0.096</td>\n",
       "      <td>-0.107</td>\n",
       "      <td>0.041</td>\n",
       "      <td>0.050</td>\n",
       "      <td>0.214</td>\n",
       "      <td>0.078</td>\n",
       "      <td>123.872</td>\n",
       "    </tr>\n",
       "  </tbody>\n",
       "</table>\n",
       "</div>"
      ],
      "text/plain": [
       "           time     v1     v2     v3     v4     v5     v6     v7     v8  \\\n",
       "class                                                                     \n",
       "0     94835.058  0.013 -0.010  0.013 -0.010  0.007  0.001  0.010 -0.002   \n",
       "1     80450.514 -4.498  3.406 -6.730  4.473 -2.957 -1.433 -5.176  0.953   \n",
       "\n",
       "          v9    v10    v11    v12    v13    v14    v15    v16    v17    v18  \\\n",
       "class                                                                         \n",
       "0      0.003  0.008 -0.006  0.009  0.001  0.012  0.001  0.008  0.011  0.005   \n",
       "1     -2.522 -5.453  3.716 -6.103 -0.094 -6.836 -0.073 -4.001 -6.463 -2.157   \n",
       "\n",
       "         v19    v20    v21    v22    v23    v24    v25   v26   v27   v28  \\\n",
       "class                                                                      \n",
       "0     -0.001 -0.000 -0.001 -0.000  0.000  0.000 -0.000 0.000 0.001 0.000   \n",
       "1      0.669  0.405  0.467  0.087 -0.096 -0.107  0.041 0.050 0.214 0.078   \n",
       "\n",
       "       amount  \n",
       "class          \n",
       "0      88.414  \n",
       "1     123.872  "
      ]
     },
     "execution_count": 9,
     "metadata": {},
     "output_type": "execute_result"
    }
   ],
   "source": [
    "df.groupby(target).mean()"
   ]
  },
  {
   "cell_type": "code",
   "execution_count": 10,
   "metadata": {},
   "outputs": [
    {
     "name": "stdout",
     "output_type": "stream",
     "text": [
      "\u001b[1m\u001b[40m\u001b[34mDescriptive statistics according to the \"class==1, Fraudulent\"\u001b[0m\n"
     ]
    },
    {
     "data": {
      "text/html": [
       "<style type=\"text/css\">\n",
       "#T_c5332_row0_col1, #T_c5332_row0_col3, #T_c5332_row0_col5, #T_c5332_row0_col7 {\n",
       "  background-color: #49006a;\n",
       "  color: #f1f1f1;\n",
       "}\n",
       "#T_c5332_row1_col1, #T_c5332_row1_col5, #T_c5332_row1_col7, #T_c5332_row2_col1, #T_c5332_row2_col5, #T_c5332_row2_col7, #T_c5332_row3_col1, #T_c5332_row3_col5, #T_c5332_row3_col7, #T_c5332_row4_col1, #T_c5332_row4_col5, #T_c5332_row4_col7, #T_c5332_row5_col1, #T_c5332_row5_col5, #T_c5332_row5_col7, #T_c5332_row6_col1, #T_c5332_row6_col5, #T_c5332_row6_col7, #T_c5332_row7_col1, #T_c5332_row7_col3, #T_c5332_row7_col5, #T_c5332_row7_col7, #T_c5332_row8_col1, #T_c5332_row8_col5, #T_c5332_row8_col7, #T_c5332_row9_col1, #T_c5332_row9_col5, #T_c5332_row9_col7, #T_c5332_row10_col1, #T_c5332_row10_col5, #T_c5332_row10_col7, #T_c5332_row11_col1, #T_c5332_row11_col5, #T_c5332_row11_col7, #T_c5332_row12_col1, #T_c5332_row12_col5, #T_c5332_row12_col7, #T_c5332_row13_col1, #T_c5332_row13_col5, #T_c5332_row13_col7, #T_c5332_row14_col1, #T_c5332_row14_col5, #T_c5332_row14_col7, #T_c5332_row15_col1, #T_c5332_row15_col5, #T_c5332_row15_col7, #T_c5332_row16_col1, #T_c5332_row16_col5, #T_c5332_row16_col7, #T_c5332_row17_col1, #T_c5332_row17_col5, #T_c5332_row17_col7, #T_c5332_row18_col1, #T_c5332_row18_col5, #T_c5332_row18_col7, #T_c5332_row19_col1, #T_c5332_row19_col5, #T_c5332_row19_col7, #T_c5332_row20_col1, #T_c5332_row20_col5, #T_c5332_row20_col7, #T_c5332_row21_col1, #T_c5332_row21_col5, #T_c5332_row21_col7, #T_c5332_row22_col1, #T_c5332_row22_col5, #T_c5332_row22_col7, #T_c5332_row23_col1, #T_c5332_row23_col5, #T_c5332_row23_col7, #T_c5332_row24_col1, #T_c5332_row24_col5, #T_c5332_row24_col7, #T_c5332_row25_col1, #T_c5332_row25_col5, #T_c5332_row25_col7, #T_c5332_row26_col1, #T_c5332_row26_col5, #T_c5332_row26_col7, #T_c5332_row27_col1, #T_c5332_row27_col5, #T_c5332_row27_col7, #T_c5332_row28_col1, #T_c5332_row28_col5, #T_c5332_row28_col7, #T_c5332_row29_col1, #T_c5332_row29_col5, #T_c5332_row30_col1, #T_c5332_row30_col5, #T_c5332_row30_col7 {\n",
       "  background-color: #fff7f3;\n",
       "  color: #000000;\n",
       "}\n",
       "#T_c5332_row1_col3, #T_c5332_row3_col3 {\n",
       "  background-color: #fff2ee;\n",
       "  color: #000000;\n",
       "}\n",
       "#T_c5332_row2_col3, #T_c5332_row27_col3 {\n",
       "  background-color: #fee9e5;\n",
       "  color: #000000;\n",
       "}\n",
       "#T_c5332_row4_col3, #T_c5332_row26_col3, #T_c5332_row29_col3 {\n",
       "  background-color: #fde6e2;\n",
       "  color: #000000;\n",
       "}\n",
       "#T_c5332_row5_col3 {\n",
       "  background-color: #feeeeb;\n",
       "  color: #000000;\n",
       "}\n",
       "#T_c5332_row6_col3 {\n",
       "  background-color: #fee8e5;\n",
       "  color: #000000;\n",
       "}\n",
       "#T_c5332_row8_col3 {\n",
       "  background-color: #fff6f2;\n",
       "  color: #000000;\n",
       "}\n",
       "#T_c5332_row9_col3 {\n",
       "  background-color: #feebe7;\n",
       "  color: #000000;\n",
       "}\n",
       "#T_c5332_row10_col3, #T_c5332_row17_col3 {\n",
       "  background-color: #fef0ec;\n",
       "  color: #000000;\n",
       "}\n",
       "#T_c5332_row11_col3, #T_c5332_row13_col3, #T_c5332_row24_col3, #T_c5332_row28_col3 {\n",
       "  background-color: #fee6e3;\n",
       "  color: #000000;\n",
       "}\n",
       "#T_c5332_row12_col3 {\n",
       "  background-color: #feede9;\n",
       "  color: #000000;\n",
       "}\n",
       "#T_c5332_row14_col3, #T_c5332_row23_col3 {\n",
       "  background-color: #feeeea;\n",
       "  color: #000000;\n",
       "}\n",
       "#T_c5332_row15_col3, #T_c5332_row19_col3, #T_c5332_row20_col3, #T_c5332_row25_col3 {\n",
       "  background-color: #fee7e4;\n",
       "  color: #000000;\n",
       "}\n",
       "#T_c5332_row16_col3 {\n",
       "  background-color: #feebe8;\n",
       "  color: #000000;\n",
       "}\n",
       "#T_c5332_row18_col3, #T_c5332_row22_col3 {\n",
       "  background-color: #fee9e6;\n",
       "  color: #000000;\n",
       "}\n",
       "#T_c5332_row21_col3 {\n",
       "  background-color: #feefeb;\n",
       "  color: #000000;\n",
       "}\n",
       "#T_c5332_row29_col7 {\n",
       "  background-color: #fff5f1;\n",
       "  color: #000000;\n",
       "}\n",
       "#T_c5332_row30_col3 {\n",
       "  background-color: #fde5e2;\n",
       "  color: #000000;\n",
       "}\n",
       "</style>\n",
       "<table id=\"T_c5332_\">\n",
       "  <thead>\n",
       "    <tr>\n",
       "      <th class=\"blank level0\" >&nbsp;</th>\n",
       "      <th class=\"col_heading level0 col0\" >count</th>\n",
       "      <th class=\"col_heading level0 col1\" >mean</th>\n",
       "      <th class=\"col_heading level0 col2\" >std</th>\n",
       "      <th class=\"col_heading level0 col3\" >min</th>\n",
       "      <th class=\"col_heading level0 col4\" >25%</th>\n",
       "      <th class=\"col_heading level0 col5\" >50%</th>\n",
       "      <th class=\"col_heading level0 col6\" >75%</th>\n",
       "      <th class=\"col_heading level0 col7\" >max</th>\n",
       "    </tr>\n",
       "  </thead>\n",
       "  <tbody>\n",
       "    <tr>\n",
       "      <th id=\"T_c5332_level0_row0\" class=\"row_heading level0 row0\" >time</th>\n",
       "      <td id=\"T_c5332_row0_col0\" class=\"data row0 col0\" >473.000000</td>\n",
       "      <td id=\"T_c5332_row0_col1\" class=\"data row0 col1\" >80450.513742</td>\n",
       "      <td id=\"T_c5332_row0_col2\" class=\"data row0 col2\" >48636.179973</td>\n",
       "      <td id=\"T_c5332_row0_col3\" class=\"data row0 col3\" >406.000000</td>\n",
       "      <td id=\"T_c5332_row0_col4\" class=\"data row0 col4\" >41203.000000</td>\n",
       "      <td id=\"T_c5332_row0_col5\" class=\"data row0 col5\" >73408.000000</td>\n",
       "      <td id=\"T_c5332_row0_col6\" class=\"data row0 col6\" >129095.000000</td>\n",
       "      <td id=\"T_c5332_row0_col7\" class=\"data row0 col7\" >170348.000000</td>\n",
       "    </tr>\n",
       "    <tr>\n",
       "      <th id=\"T_c5332_level0_row1\" class=\"row_heading level0 row1\" >v1</th>\n",
       "      <td id=\"T_c5332_row1_col0\" class=\"data row1 col0\" >473.000000</td>\n",
       "      <td id=\"T_c5332_row1_col1\" class=\"data row1 col1\" >-4.498280</td>\n",
       "      <td id=\"T_c5332_row1_col2\" class=\"data row1 col2\" >6.593145</td>\n",
       "      <td id=\"T_c5332_row1_col3\" class=\"data row1 col3\" >-30.552380</td>\n",
       "      <td id=\"T_c5332_row1_col4\" class=\"data row1 col4\" >-5.603690</td>\n",
       "      <td id=\"T_c5332_row1_col5\" class=\"data row1 col5\" >-2.271755</td>\n",
       "      <td id=\"T_c5332_row1_col6\" class=\"data row1 col6\" >-0.361428</td>\n",
       "      <td id=\"T_c5332_row1_col7\" class=\"data row1 col7\" >2.132386</td>\n",
       "    </tr>\n",
       "    <tr>\n",
       "      <th id=\"T_c5332_level0_row2\" class=\"row_heading level0 row2\" >v2</th>\n",
       "      <td id=\"T_c5332_row2_col0\" class=\"data row2 col0\" >473.000000</td>\n",
       "      <td id=\"T_c5332_row2_col1\" class=\"data row2 col1\" >3.405965</td>\n",
       "      <td id=\"T_c5332_row2_col2\" class=\"data row2 col2\" >4.122500</td>\n",
       "      <td id=\"T_c5332_row2_col3\" class=\"data row2 col3\" >-8.402154</td>\n",
       "      <td id=\"T_c5332_row2_col4\" class=\"data row2 col4\" >1.145381</td>\n",
       "      <td id=\"T_c5332_row2_col5\" class=\"data row2 col5\" >2.617105</td>\n",
       "      <td id=\"T_c5332_row2_col6\" class=\"data row2 col6\" >4.571743</td>\n",
       "      <td id=\"T_c5332_row2_col7\" class=\"data row2 col7\" >22.057729</td>\n",
       "    </tr>\n",
       "    <tr>\n",
       "      <th id=\"T_c5332_level0_row3\" class=\"row_heading level0 row3\" >v3</th>\n",
       "      <td id=\"T_c5332_row3_col0\" class=\"data row3 col0\" >473.000000</td>\n",
       "      <td id=\"T_c5332_row3_col1\" class=\"data row3 col1\" >-6.729599</td>\n",
       "      <td id=\"T_c5332_row3_col2\" class=\"data row3 col2\" >6.909647</td>\n",
       "      <td id=\"T_c5332_row3_col3\" class=\"data row3 col3\" >-31.103685</td>\n",
       "      <td id=\"T_c5332_row3_col4\" class=\"data row3 col4\" >-7.926507</td>\n",
       "      <td id=\"T_c5332_row3_col5\" class=\"data row3 col5\" >-4.875397</td>\n",
       "      <td id=\"T_c5332_row3_col6\" class=\"data row3 col6\" >-2.171454</td>\n",
       "      <td id=\"T_c5332_row3_col7\" class=\"data row3 col7\" >2.250210</td>\n",
       "    </tr>\n",
       "    <tr>\n",
       "      <th id=\"T_c5332_level0_row4\" class=\"row_heading level0 row4\" >v4</th>\n",
       "      <td id=\"T_c5332_row4_col0\" class=\"data row4 col0\" >473.000000</td>\n",
       "      <td id=\"T_c5332_row4_col1\" class=\"data row4 col1\" >4.472591</td>\n",
       "      <td id=\"T_c5332_row4_col2\" class=\"data row4 col2\" >2.871523</td>\n",
       "      <td id=\"T_c5332_row4_col3\" class=\"data row4 col3\" >-1.313275</td>\n",
       "      <td id=\"T_c5332_row4_col4\" class=\"data row4 col4\" >2.288644</td>\n",
       "      <td id=\"T_c5332_row4_col5\" class=\"data row4 col5\" >4.100098</td>\n",
       "      <td id=\"T_c5332_row4_col6\" class=\"data row4 col6\" >6.290918</td>\n",
       "      <td id=\"T_c5332_row4_col7\" class=\"data row4 col7\" >12.114672</td>\n",
       "    </tr>\n",
       "    <tr>\n",
       "      <th id=\"T_c5332_level0_row5\" class=\"row_heading level0 row5\" >v5</th>\n",
       "      <td id=\"T_c5332_row5_col0\" class=\"data row5 col0\" >473.000000</td>\n",
       "      <td id=\"T_c5332_row5_col1\" class=\"data row5 col1\" >-2.957197</td>\n",
       "      <td id=\"T_c5332_row5_col2\" class=\"data row5 col2\" >5.278831</td>\n",
       "      <td id=\"T_c5332_row5_col3\" class=\"data row5 col3\" >-22.105532</td>\n",
       "      <td id=\"T_c5332_row5_col4\" class=\"data row5 col4\" >-4.278983</td>\n",
       "      <td id=\"T_c5332_row5_col5\" class=\"data row5 col5\" >-1.372245</td>\n",
       "      <td id=\"T_c5332_row5_col6\" class=\"data row5 col6\" >0.260821</td>\n",
       "      <td id=\"T_c5332_row5_col7\" class=\"data row5 col7\" >11.095089</td>\n",
       "    </tr>\n",
       "    <tr>\n",
       "      <th id=\"T_c5332_level0_row6\" class=\"row_heading level0 row6\" >v6</th>\n",
       "      <td id=\"T_c5332_row6_col0\" class=\"data row6 col0\" >473.000000</td>\n",
       "      <td id=\"T_c5332_row6_col1\" class=\"data row6 col1\" >-1.432518</td>\n",
       "      <td id=\"T_c5332_row6_col2\" class=\"data row6 col2\" >1.715347</td>\n",
       "      <td id=\"T_c5332_row6_col3\" class=\"data row6 col3\" >-6.406267</td>\n",
       "      <td id=\"T_c5332_row6_col4\" class=\"data row6 col4\" >-2.450444</td>\n",
       "      <td id=\"T_c5332_row6_col5\" class=\"data row6 col5\" >-1.420468</td>\n",
       "      <td id=\"T_c5332_row6_col6\" class=\"data row6 col6\" >-0.413647</td>\n",
       "      <td id=\"T_c5332_row6_col7\" class=\"data row6 col7\" >6.474115</td>\n",
       "    </tr>\n",
       "    <tr>\n",
       "      <th id=\"T_c5332_level0_row7\" class=\"row_heading level0 row7\" >v7</th>\n",
       "      <td id=\"T_c5332_row7_col0\" class=\"data row7 col0\" >473.000000</td>\n",
       "      <td id=\"T_c5332_row7_col1\" class=\"data row7 col1\" >-5.175912</td>\n",
       "      <td id=\"T_c5332_row7_col2\" class=\"data row7 col2\" >6.858024</td>\n",
       "      <td id=\"T_c5332_row7_col3\" class=\"data row7 col3\" >-43.557242</td>\n",
       "      <td id=\"T_c5332_row7_col4\" class=\"data row7 col4\" >-6.989195</td>\n",
       "      <td id=\"T_c5332_row7_col5\" class=\"data row7 col5\" >-2.902079</td>\n",
       "      <td id=\"T_c5332_row7_col6\" class=\"data row7 col6\" >-0.907188</td>\n",
       "      <td id=\"T_c5332_row7_col7\" class=\"data row7 col7\" >5.802537</td>\n",
       "    </tr>\n",
       "    <tr>\n",
       "      <th id=\"T_c5332_level0_row8\" class=\"row_heading level0 row8\" >v8</th>\n",
       "      <td id=\"T_c5332_row8_col0\" class=\"data row8 col0\" >473.000000</td>\n",
       "      <td id=\"T_c5332_row8_col1\" class=\"data row8 col1\" >0.953255</td>\n",
       "      <td id=\"T_c5332_row8_col2\" class=\"data row8 col2\" >5.585950</td>\n",
       "      <td id=\"T_c5332_row8_col3\" class=\"data row8 col3\" >-41.044261</td>\n",
       "      <td id=\"T_c5332_row8_col4\" class=\"data row8 col4\" >-0.161518</td>\n",
       "      <td id=\"T_c5332_row8_col5\" class=\"data row8 col5\" >0.617738</td>\n",
       "      <td id=\"T_c5332_row8_col6\" class=\"data row8 col6\" >1.709417</td>\n",
       "      <td id=\"T_c5332_row8_col7\" class=\"data row8 col7\" >20.007208</td>\n",
       "    </tr>\n",
       "    <tr>\n",
       "      <th id=\"T_c5332_level0_row9\" class=\"row_heading level0 row9\" >v9</th>\n",
       "      <td id=\"T_c5332_row9_col0\" class=\"data row9 col0\" >473.000000</td>\n",
       "      <td id=\"T_c5332_row9_col1\" class=\"data row9 col1\" >-2.522124</td>\n",
       "      <td id=\"T_c5332_row9_col2\" class=\"data row9 col2\" >2.465047</td>\n",
       "      <td id=\"T_c5332_row9_col3\" class=\"data row9 col3\" >-13.434066</td>\n",
       "      <td id=\"T_c5332_row9_col4\" class=\"data row9 col4\" >-3.796760</td>\n",
       "      <td id=\"T_c5332_row9_col5\" class=\"data row9 col5\" >-2.099049</td>\n",
       "      <td id=\"T_c5332_row9_col6\" class=\"data row9 col6\" >-0.788388</td>\n",
       "      <td id=\"T_c5332_row9_col7\" class=\"data row9 col7\" >3.353525</td>\n",
       "    </tr>\n",
       "    <tr>\n",
       "      <th id=\"T_c5332_level0_row10\" class=\"row_heading level0 row10\" >v10</th>\n",
       "      <td id=\"T_c5332_row10_col0\" class=\"data row10 col0\" >473.000000</td>\n",
       "      <td id=\"T_c5332_row10_col1\" class=\"data row10 col1\" >-5.453274</td>\n",
       "      <td id=\"T_c5332_row10_col2\" class=\"data row10 col2\" >4.706451</td>\n",
       "      <td id=\"T_c5332_row10_col3\" class=\"data row10 col3\" >-24.588262</td>\n",
       "      <td id=\"T_c5332_row10_col4\" class=\"data row10 col4\" >-7.297803</td>\n",
       "      <td id=\"T_c5332_row10_col5\" class=\"data row10 col5\" >-4.466284</td>\n",
       "      <td id=\"T_c5332_row10_col6\" class=\"data row10 col6\" >-2.447469</td>\n",
       "      <td id=\"T_c5332_row10_col7\" class=\"data row10 col7\" >4.031435</td>\n",
       "    </tr>\n",
       "    <tr>\n",
       "      <th id=\"T_c5332_level0_row11\" class=\"row_heading level0 row11\" >v11</th>\n",
       "      <td id=\"T_c5332_row11_col0\" class=\"data row11 col0\" >473.000000</td>\n",
       "      <td id=\"T_c5332_row11_col1\" class=\"data row11 col1\" >3.716347</td>\n",
       "      <td id=\"T_c5332_row11_col2\" class=\"data row11 col2\" >2.672817</td>\n",
       "      <td id=\"T_c5332_row11_col3\" class=\"data row11 col3\" >-1.702228</td>\n",
       "      <td id=\"T_c5332_row11_col4\" class=\"data row11 col4\" >1.928568</td>\n",
       "      <td id=\"T_c5332_row11_col5\" class=\"data row11 col5\" >3.525726</td>\n",
       "      <td id=\"T_c5332_row11_col6\" class=\"data row11 col6\" >5.224124</td>\n",
       "      <td id=\"T_c5332_row11_col7\" class=\"data row11 col7\" >12.018913</td>\n",
       "    </tr>\n",
       "    <tr>\n",
       "      <th id=\"T_c5332_level0_row12\" class=\"row_heading level0 row12\" >v12</th>\n",
       "      <td id=\"T_c5332_row12_col0\" class=\"data row12 col0\" >473.000000</td>\n",
       "      <td id=\"T_c5332_row12_col1\" class=\"data row12 col1\" >-6.103254</td>\n",
       "      <td id=\"T_c5332_row12_col2\" class=\"data row12 col2\" >4.582331</td>\n",
       "      <td id=\"T_c5332_row12_col3\" class=\"data row12 col3\" >-18.683715</td>\n",
       "      <td id=\"T_c5332_row12_col4\" class=\"data row12 col4\" >-8.601648</td>\n",
       "      <td id=\"T_c5332_row12_col5\" class=\"data row12 col5\" >-5.437354</td>\n",
       "      <td id=\"T_c5332_row12_col6\" class=\"data row12 col6\" >-2.824946</td>\n",
       "      <td id=\"T_c5332_row12_col7\" class=\"data row12 col7\" >1.375941</td>\n",
       "    </tr>\n",
       "    <tr>\n",
       "      <th id=\"T_c5332_level0_row13\" class=\"row_heading level0 row13\" >v13</th>\n",
       "      <td id=\"T_c5332_row13_col0\" class=\"data row13 col0\" >473.000000</td>\n",
       "      <td id=\"T_c5332_row13_col1\" class=\"data row13 col1\" >-0.094324</td>\n",
       "      <td id=\"T_c5332_row13_col2\" class=\"data row13 col2\" >1.108001</td>\n",
       "      <td id=\"T_c5332_row13_col3\" class=\"data row13 col3\" >-3.127795</td>\n",
       "      <td id=\"T_c5332_row13_col4\" class=\"data row13 col4\" >-0.978065</td>\n",
       "      <td id=\"T_c5332_row13_col5\" class=\"data row13 col5\" >-0.063634</td>\n",
       "      <td id=\"T_c5332_row13_col6\" class=\"data row13 col6\" >0.694978</td>\n",
       "      <td id=\"T_c5332_row13_col7\" class=\"data row13 col7\" >2.815440</td>\n",
       "    </tr>\n",
       "    <tr>\n",
       "      <th id=\"T_c5332_level0_row14\" class=\"row_heading level0 row14\" >v14</th>\n",
       "      <td id=\"T_c5332_row14_col0\" class=\"data row14 col0\" >473.000000</td>\n",
       "      <td id=\"T_c5332_row14_col1\" class=\"data row14 col1\" >-6.835946</td>\n",
       "      <td id=\"T_c5332_row14_col2\" class=\"data row14 col2\" >4.253210</td>\n",
       "      <td id=\"T_c5332_row14_col3\" class=\"data row14 col3\" >-19.214325</td>\n",
       "      <td id=\"T_c5332_row14_col4\" class=\"data row14 col4\" >-9.505141</td>\n",
       "      <td id=\"T_c5332_row14_col5\" class=\"data row14 col5\" >-6.590550</td>\n",
       "      <td id=\"T_c5332_row14_col6\" class=\"data row14 col6\" >-4.252466</td>\n",
       "      <td id=\"T_c5332_row14_col7\" class=\"data row14 col7\" >3.442422</td>\n",
       "    </tr>\n",
       "    <tr>\n",
       "      <th id=\"T_c5332_level0_row15\" class=\"row_heading level0 row15\" >v15</th>\n",
       "      <td id=\"T_c5332_row15_col0\" class=\"data row15 col0\" >473.000000</td>\n",
       "      <td id=\"T_c5332_row15_col1\" class=\"data row15 col1\" >-0.072830</td>\n",
       "      <td id=\"T_c5332_row15_col2\" class=\"data row15 col2\" >1.045631</td>\n",
       "      <td id=\"T_c5332_row15_col3\" class=\"data row15 col3\" >-4.498945</td>\n",
       "      <td id=\"T_c5332_row15_col4\" class=\"data row15 col4\" >-0.638498</td>\n",
       "      <td id=\"T_c5332_row15_col5\" class=\"data row15 col5\" >-0.038632</td>\n",
       "      <td id=\"T_c5332_row15_col6\" class=\"data row15 col6\" >0.633979</td>\n",
       "      <td id=\"T_c5332_row15_col7\" class=\"data row15 col7\" >2.471358</td>\n",
       "    </tr>\n",
       "    <tr>\n",
       "      <th id=\"T_c5332_level0_row16\" class=\"row_heading level0 row16\" >v16</th>\n",
       "      <td id=\"T_c5332_row16_col0\" class=\"data row16 col0\" >473.000000</td>\n",
       "      <td id=\"T_c5332_row16_col1\" class=\"data row16 col1\" >-4.000956</td>\n",
       "      <td id=\"T_c5332_row16_col2\" class=\"data row16 col2\" >3.831724</td>\n",
       "      <td id=\"T_c5332_row16_col3\" class=\"data row16 col3\" >-14.129855</td>\n",
       "      <td id=\"T_c5332_row16_col4\" class=\"data row16 col4\" >-6.469187</td>\n",
       "      <td id=\"T_c5332_row16_col5\" class=\"data row16 col5\" >-3.302899</td>\n",
       "      <td id=\"T_c5332_row16_col6\" class=\"data row16 col6\" >-1.142467</td>\n",
       "      <td id=\"T_c5332_row16_col7\" class=\"data row16 col7\" >3.139656</td>\n",
       "    </tr>\n",
       "    <tr>\n",
       "      <th id=\"T_c5332_level0_row17\" class=\"row_heading level0 row17\" >v17</th>\n",
       "      <td id=\"T_c5332_row17_col0\" class=\"data row17 col0\" >473.000000</td>\n",
       "      <td id=\"T_c5332_row17_col1\" class=\"data row17 col1\" >-6.463285</td>\n",
       "      <td id=\"T_c5332_row17_col2\" class=\"data row17 col2\" >6.965744</td>\n",
       "      <td id=\"T_c5332_row17_col3\" class=\"data row17 col3\" >-25.162799</td>\n",
       "      <td id=\"T_c5332_row17_col4\" class=\"data row17 col4\" >-11.588544</td>\n",
       "      <td id=\"T_c5332_row17_col5\" class=\"data row17 col5\" >-5.157596</td>\n",
       "      <td id=\"T_c5332_row17_col6\" class=\"data row17 col6\" >-1.129056</td>\n",
       "      <td id=\"T_c5332_row17_col7\" class=\"data row17 col7\" >6.739384</td>\n",
       "    </tr>\n",
       "    <tr>\n",
       "      <th id=\"T_c5332_level0_row18\" class=\"row_heading level0 row18\" >v18</th>\n",
       "      <td id=\"T_c5332_row18_col0\" class=\"data row18 col0\" >473.000000</td>\n",
       "      <td id=\"T_c5332_row18_col1\" class=\"data row18 col1\" >-2.157071</td>\n",
       "      <td id=\"T_c5332_row18_col2\" class=\"data row18 col2\" >2.901815</td>\n",
       "      <td id=\"T_c5332_row18_col3\" class=\"data row18 col3\" >-9.498746</td>\n",
       "      <td id=\"T_c5332_row18_col4\" class=\"data row18 col4\" >-4.568859</td>\n",
       "      <td id=\"T_c5332_row18_col5\" class=\"data row18 col5\" >-1.417917</td>\n",
       "      <td id=\"T_c5332_row18_col6\" class=\"data row18 col6\" >0.116453</td>\n",
       "      <td id=\"T_c5332_row18_col7\" class=\"data row18 col7\" >3.790316</td>\n",
       "    </tr>\n",
       "    <tr>\n",
       "      <th id=\"T_c5332_level0_row19\" class=\"row_heading level0 row19\" >v19</th>\n",
       "      <td id=\"T_c5332_row19_col0\" class=\"data row19 col0\" >473.000000</td>\n",
       "      <td id=\"T_c5332_row19_col1\" class=\"data row19 col1\" >0.669143</td>\n",
       "      <td id=\"T_c5332_row19_col2\" class=\"data row19 col2\" >1.534246</td>\n",
       "      <td id=\"T_c5332_row19_col3\" class=\"data row19 col3\" >-3.681904</td>\n",
       "      <td id=\"T_c5332_row19_col4\" class=\"data row19 col4\" >-0.300931</td>\n",
       "      <td id=\"T_c5332_row19_col5\" class=\"data row19 col5\" >0.647709</td>\n",
       "      <td id=\"T_c5332_row19_col6\" class=\"data row19 col6\" >1.661029</td>\n",
       "      <td id=\"T_c5332_row19_col7\" class=\"data row19 col7\" >5.228342</td>\n",
       "    </tr>\n",
       "    <tr>\n",
       "      <th id=\"T_c5332_level0_row20\" class=\"row_heading level0 row20\" >v20</th>\n",
       "      <td id=\"T_c5332_row20_col0\" class=\"data row20 col0\" >473.000000</td>\n",
       "      <td id=\"T_c5332_row20_col1\" class=\"data row20 col1\" >0.405043</td>\n",
       "      <td id=\"T_c5332_row20_col2\" class=\"data row20 col2\" >1.289414</td>\n",
       "      <td id=\"T_c5332_row20_col3\" class=\"data row20 col3\" >-4.128186</td>\n",
       "      <td id=\"T_c5332_row20_col4\" class=\"data row20 col4\" >-0.160163</td>\n",
       "      <td id=\"T_c5332_row20_col5\" class=\"data row20 col5\" >0.285559</td>\n",
       "      <td id=\"T_c5332_row20_col6\" class=\"data row20 col6\" >0.821405</td>\n",
       "      <td id=\"T_c5332_row20_col7\" class=\"data row20 col7\" >11.059004</td>\n",
       "    </tr>\n",
       "    <tr>\n",
       "      <th id=\"T_c5332_level0_row21\" class=\"row_heading level0 row21\" >v21</th>\n",
       "      <td id=\"T_c5332_row21_col0\" class=\"data row21 col0\" >473.000000</td>\n",
       "      <td id=\"T_c5332_row21_col1\" class=\"data row21 col1\" >0.466550</td>\n",
       "      <td id=\"T_c5332_row21_col2\" class=\"data row21 col2\" >2.731191</td>\n",
       "      <td id=\"T_c5332_row21_col3\" class=\"data row21 col3\" >-22.797604</td>\n",
       "      <td id=\"T_c5332_row21_col4\" class=\"data row21 col4\" >0.027935</td>\n",
       "      <td id=\"T_c5332_row21_col5\" class=\"data row21 col5\" >0.573898</td>\n",
       "      <td id=\"T_c5332_row21_col6\" class=\"data row21 col6\" >1.192694</td>\n",
       "      <td id=\"T_c5332_row21_col7\" class=\"data row21 col7\" >27.202839</td>\n",
       "    </tr>\n",
       "    <tr>\n",
       "      <th id=\"T_c5332_level0_row22\" class=\"row_heading level0 row22\" >v22</th>\n",
       "      <td id=\"T_c5332_row22_col0\" class=\"data row22 col0\" >473.000000</td>\n",
       "      <td id=\"T_c5332_row22_col1\" class=\"data row22 col1\" >0.086639</td>\n",
       "      <td id=\"T_c5332_row22_col2\" class=\"data row22 col2\" >1.181295</td>\n",
       "      <td id=\"T_c5332_row22_col3\" class=\"data row22 col3\" >-8.887017</td>\n",
       "      <td id=\"T_c5332_row22_col4\" class=\"data row22 col4\" >-0.521934</td>\n",
       "      <td id=\"T_c5332_row22_col5\" class=\"data row22 col5\" >0.055179</td>\n",
       "      <td id=\"T_c5332_row22_col6\" class=\"data row22 col6\" >0.616383</td>\n",
       "      <td id=\"T_c5332_row22_col7\" class=\"data row22 col7\" >8.361985</td>\n",
       "    </tr>\n",
       "    <tr>\n",
       "      <th id=\"T_c5332_level0_row23\" class=\"row_heading level0 row23\" >v23</th>\n",
       "      <td id=\"T_c5332_row23_col0\" class=\"data row23 col0\" >473.000000</td>\n",
       "      <td id=\"T_c5332_row23_col1\" class=\"data row23 col1\" >-0.096464</td>\n",
       "      <td id=\"T_c5332_row23_col2\" class=\"data row23 col2\" >1.508570</td>\n",
       "      <td id=\"T_c5332_row23_col3\" class=\"data row23 col3\" >-19.254328</td>\n",
       "      <td id=\"T_c5332_row23_col4\" class=\"data row23 col4\" >-0.341881</td>\n",
       "      <td id=\"T_c5332_row23_col5\" class=\"data row23 col5\" >-0.075034</td>\n",
       "      <td id=\"T_c5332_row23_col6\" class=\"data row23 col6\" >0.287659</td>\n",
       "      <td id=\"T_c5332_row23_col7\" class=\"data row23 col7\" >5.466230</td>\n",
       "    </tr>\n",
       "    <tr>\n",
       "      <th id=\"T_c5332_level0_row24\" class=\"row_heading level0 row24\" >v24</th>\n",
       "      <td id=\"T_c5332_row24_col0\" class=\"data row24 col0\" >473.000000</td>\n",
       "      <td id=\"T_c5332_row24_col1\" class=\"data row24 col1\" >-0.106643</td>\n",
       "      <td id=\"T_c5332_row24_col2\" class=\"data row24 col2\" >0.517900</td>\n",
       "      <td id=\"T_c5332_row24_col3\" class=\"data row24 col3\" >-2.028024</td>\n",
       "      <td id=\"T_c5332_row24_col4\" class=\"data row24 col4\" >-0.436539</td>\n",
       "      <td id=\"T_c5332_row24_col5\" class=\"data row24 col5\" >-0.061263</td>\n",
       "      <td id=\"T_c5332_row24_col6\" class=\"data row24 col6\" >0.282030</td>\n",
       "      <td id=\"T_c5332_row24_col7\" class=\"data row24 col7\" >1.091435</td>\n",
       "    </tr>\n",
       "    <tr>\n",
       "      <th id=\"T_c5332_level0_row25\" class=\"row_heading level0 row25\" >v25</th>\n",
       "      <td id=\"T_c5332_row25_col0\" class=\"data row25 col0\" >473.000000</td>\n",
       "      <td id=\"T_c5332_row25_col1\" class=\"data row25 col1\" >0.040615</td>\n",
       "      <td id=\"T_c5332_row25_col2\" class=\"data row25 col2\" >0.806785</td>\n",
       "      <td id=\"T_c5332_row25_col3\" class=\"data row25 col3\" >-4.781606</td>\n",
       "      <td id=\"T_c5332_row25_col4\" class=\"data row25 col4\" >-0.320311</td>\n",
       "      <td id=\"T_c5332_row25_col5\" class=\"data row25 col5\" >0.077913</td>\n",
       "      <td id=\"T_c5332_row25_col6\" class=\"data row25 col6\" >0.463827</td>\n",
       "      <td id=\"T_c5332_row25_col7\" class=\"data row25 col7\" >2.208209</td>\n",
       "    </tr>\n",
       "    <tr>\n",
       "      <th id=\"T_c5332_level0_row26\" class=\"row_heading level0 row26\" >v26</th>\n",
       "      <td id=\"T_c5332_row26_col0\" class=\"data row26 col0\" >473.000000</td>\n",
       "      <td id=\"T_c5332_row26_col1\" class=\"data row26 col1\" >0.050456</td>\n",
       "      <td id=\"T_c5332_row26_col2\" class=\"data row26 col2\" >0.463016</td>\n",
       "      <td id=\"T_c5332_row26_col3\" class=\"data row26 col3\" >-1.152671</td>\n",
       "      <td id=\"T_c5332_row26_col4\" class=\"data row26 col4\" >-0.263078</td>\n",
       "      <td id=\"T_c5332_row26_col5\" class=\"data row26 col5\" >0.012792</td>\n",
       "      <td id=\"T_c5332_row26_col6\" class=\"data row26 col6\" >0.395528</td>\n",
       "      <td id=\"T_c5332_row26_col7\" class=\"data row26 col7\" >2.745261</td>\n",
       "    </tr>\n",
       "    <tr>\n",
       "      <th id=\"T_c5332_level0_row27\" class=\"row_heading level0 row27\" >v27</th>\n",
       "      <td id=\"T_c5332_row27_col0\" class=\"data row27 col0\" >473.000000</td>\n",
       "      <td id=\"T_c5332_row27_col1\" class=\"data row27 col1\" >0.213774</td>\n",
       "      <td id=\"T_c5332_row27_col2\" class=\"data row27 col2\" >1.245779</td>\n",
       "      <td id=\"T_c5332_row27_col3\" class=\"data row27 col3\" >-7.263482</td>\n",
       "      <td id=\"T_c5332_row27_col4\" class=\"data row27 col4\" >-0.015551</td>\n",
       "      <td id=\"T_c5332_row27_col5\" class=\"data row27 col5\" >0.394682</td>\n",
       "      <td id=\"T_c5332_row27_col6\" class=\"data row27 col6\" >0.821048</td>\n",
       "      <td id=\"T_c5332_row27_col7\" class=\"data row27 col7\" >3.052358</td>\n",
       "    </tr>\n",
       "    <tr>\n",
       "      <th id=\"T_c5332_level0_row28\" class=\"row_heading level0 row28\" >v28</th>\n",
       "      <td id=\"T_c5332_row28_col0\" class=\"data row28 col0\" >473.000000</td>\n",
       "      <td id=\"T_c5332_row28_col1\" class=\"data row28 col1\" >0.078270</td>\n",
       "      <td id=\"T_c5332_row28_col2\" class=\"data row28 col2\" >0.533100</td>\n",
       "      <td id=\"T_c5332_row28_col3\" class=\"data row28 col3\" >-1.869290</td>\n",
       "      <td id=\"T_c5332_row28_col4\" class=\"data row28 col4\" >-0.097223</td>\n",
       "      <td id=\"T_c5332_row28_col5\" class=\"data row28 col5\" >0.145895</td>\n",
       "      <td id=\"T_c5332_row28_col6\" class=\"data row28 col6\" >0.372393</td>\n",
       "      <td id=\"T_c5332_row28_col7\" class=\"data row28 col7\" >1.779364</td>\n",
       "    </tr>\n",
       "    <tr>\n",
       "      <th id=\"T_c5332_level0_row29\" class=\"row_heading level0 row29\" >amount</th>\n",
       "      <td id=\"T_c5332_row29_col0\" class=\"data row29 col0\" >473.000000</td>\n",
       "      <td id=\"T_c5332_row29_col1\" class=\"data row29 col1\" >123.871860</td>\n",
       "      <td id=\"T_c5332_row29_col2\" class=\"data row29 col2\" >260.211041</td>\n",
       "      <td id=\"T_c5332_row29_col3\" class=\"data row29 col3\" >0.000000</td>\n",
       "      <td id=\"T_c5332_row29_col4\" class=\"data row29 col4\" >1.000000</td>\n",
       "      <td id=\"T_c5332_row29_col5\" class=\"data row29 col5\" >9.820000</td>\n",
       "      <td id=\"T_c5332_row29_col6\" class=\"data row29 col6\" >105.890000</td>\n",
       "      <td id=\"T_c5332_row29_col7\" class=\"data row29 col7\" >2125.870000</td>\n",
       "    </tr>\n",
       "    <tr>\n",
       "      <th id=\"T_c5332_level0_row30\" class=\"row_heading level0 row30\" >class</th>\n",
       "      <td id=\"T_c5332_row30_col0\" class=\"data row30 col0\" >473.000000</td>\n",
       "      <td id=\"T_c5332_row30_col1\" class=\"data row30 col1\" >1.000000</td>\n",
       "      <td id=\"T_c5332_row30_col2\" class=\"data row30 col2\" >0.000000</td>\n",
       "      <td id=\"T_c5332_row30_col3\" class=\"data row30 col3\" >1.000000</td>\n",
       "      <td id=\"T_c5332_row30_col4\" class=\"data row30 col4\" >1.000000</td>\n",
       "      <td id=\"T_c5332_row30_col5\" class=\"data row30 col5\" >1.000000</td>\n",
       "      <td id=\"T_c5332_row30_col6\" class=\"data row30 col6\" >1.000000</td>\n",
       "      <td id=\"T_c5332_row30_col7\" class=\"data row30 col7\" >1.000000</td>\n",
       "    </tr>\n",
       "  </tbody>\n",
       "</table>\n"
      ],
      "text/plain": [
       "<pandas.io.formats.style.Styler at 0x1f41607a388>"
      ]
     },
     "execution_count": 10,
     "metadata": {},
     "output_type": "execute_result"
    }
   ],
   "source": [
    "cprint('Descriptive statistics according to the \"class==1, Fraudulent\"',\"blue\",\"on_grey\", attrs=[\"bold\"])\n",
    "df[df[target] == 1].describe().T.style.background_gradient(subset = ['mean','min','50%', 'max'], cmap = 'RdPu')"
   ]
  },
  {
   "cell_type": "code",
   "execution_count": 11,
   "metadata": {},
   "outputs": [
    {
     "name": "stdout",
     "output_type": "stream",
     "text": [
      "\u001b[1m\u001b[40m\u001b[34mDescriptive statistics according to the \"class==0, Reliable\"\u001b[0m\n"
     ]
    },
    {
     "data": {
      "text/html": [
       "<style type=\"text/css\">\n",
       "#T_6fa06_row0_col1, #T_6fa06_row0_col3, #T_6fa06_row0_col5, #T_6fa06_row0_col7, #T_6fa06_row29_col3, #T_6fa06_row30_col3 {\n",
       "  background-color: #49006a;\n",
       "  color: #f1f1f1;\n",
       "}\n",
       "#T_6fa06_row1_col1, #T_6fa06_row1_col5, #T_6fa06_row1_col7, #T_6fa06_row2_col1, #T_6fa06_row2_col5, #T_6fa06_row2_col7, #T_6fa06_row3_col1, #T_6fa06_row3_col5, #T_6fa06_row3_col7, #T_6fa06_row4_col1, #T_6fa06_row4_col5, #T_6fa06_row4_col7, #T_6fa06_row5_col1, #T_6fa06_row5_col3, #T_6fa06_row5_col5, #T_6fa06_row5_col7, #T_6fa06_row6_col1, #T_6fa06_row6_col5, #T_6fa06_row6_col7, #T_6fa06_row7_col1, #T_6fa06_row7_col5, #T_6fa06_row7_col7, #T_6fa06_row8_col1, #T_6fa06_row8_col5, #T_6fa06_row8_col7, #T_6fa06_row9_col1, #T_6fa06_row9_col5, #T_6fa06_row9_col7, #T_6fa06_row10_col1, #T_6fa06_row10_col5, #T_6fa06_row10_col7, #T_6fa06_row11_col1, #T_6fa06_row11_col5, #T_6fa06_row11_col7, #T_6fa06_row12_col1, #T_6fa06_row12_col5, #T_6fa06_row12_col7, #T_6fa06_row13_col1, #T_6fa06_row13_col5, #T_6fa06_row13_col7, #T_6fa06_row14_col1, #T_6fa06_row14_col5, #T_6fa06_row14_col7, #T_6fa06_row15_col1, #T_6fa06_row15_col5, #T_6fa06_row15_col7, #T_6fa06_row16_col1, #T_6fa06_row16_col5, #T_6fa06_row16_col7, #T_6fa06_row17_col1, #T_6fa06_row17_col5, #T_6fa06_row17_col7, #T_6fa06_row18_col1, #T_6fa06_row18_col5, #T_6fa06_row18_col7, #T_6fa06_row19_col1, #T_6fa06_row19_col5, #T_6fa06_row19_col7, #T_6fa06_row20_col1, #T_6fa06_row20_col5, #T_6fa06_row20_col7, #T_6fa06_row21_col1, #T_6fa06_row21_col5, #T_6fa06_row21_col7, #T_6fa06_row22_col1, #T_6fa06_row22_col5, #T_6fa06_row22_col7, #T_6fa06_row23_col1, #T_6fa06_row23_col5, #T_6fa06_row23_col7, #T_6fa06_row24_col1, #T_6fa06_row24_col5, #T_6fa06_row24_col7, #T_6fa06_row25_col1, #T_6fa06_row25_col5, #T_6fa06_row25_col7, #T_6fa06_row26_col1, #T_6fa06_row26_col5, #T_6fa06_row26_col7, #T_6fa06_row27_col1, #T_6fa06_row27_col5, #T_6fa06_row27_col7, #T_6fa06_row28_col1, #T_6fa06_row28_col5, #T_6fa06_row28_col7, #T_6fa06_row29_col1, #T_6fa06_row29_col5, #T_6fa06_row30_col1, #T_6fa06_row30_col5, #T_6fa06_row30_col7 {\n",
       "  background-color: #fff7f3;\n",
       "  color: #000000;\n",
       "}\n",
       "#T_6fa06_row1_col3 {\n",
       "  background-color: #f666a1;\n",
       "  color: #f1f1f1;\n",
       "}\n",
       "#T_6fa06_row2_col3 {\n",
       "  background-color: #faa3b6;\n",
       "  color: #000000;\n",
       "}\n",
       "#T_6fa06_row3_col3 {\n",
       "  background-color: #e7489b;\n",
       "  color: #f1f1f1;\n",
       "}\n",
       "#T_6fa06_row4_col3, #T_6fa06_row18_col3 {\n",
       "  background-color: #5b006f;\n",
       "  color: #f1f1f1;\n",
       "}\n",
       "#T_6fa06_row6_col3 {\n",
       "  background-color: #a5017d;\n",
       "  color: #f1f1f1;\n",
       "}\n",
       "#T_6fa06_row7_col3 {\n",
       "  background-color: #b90d84;\n",
       "  color: #f1f1f1;\n",
       "}\n",
       "#T_6fa06_row8_col3 {\n",
       "  background-color: #faa5b7;\n",
       "  color: #000000;\n",
       "}\n",
       "#T_6fa06_row9_col3 {\n",
       "  background-color: #5f0070;\n",
       "  color: #f1f1f1;\n",
       "}\n",
       "#T_6fa06_row10_col3 {\n",
       "  background-color: #7c0177;\n",
       "  color: #f1f1f1;\n",
       "}\n",
       "#T_6fa06_row11_col3 {\n",
       "  background-color: #58006e;\n",
       "  color: #f1f1f1;\n",
       "}\n",
       "#T_6fa06_row12_col3, #T_6fa06_row28_col3 {\n",
       "  background-color: #7d0177;\n",
       "  color: #f1f1f1;\n",
       "}\n",
       "#T_6fa06_row13_col3 {\n",
       "  background-color: #5d006f;\n",
       "  color: #f1f1f1;\n",
       "}\n",
       "#T_6fa06_row14_col3 {\n",
       "  background-color: #890179;\n",
       "  color: #f1f1f1;\n",
       "}\n",
       "#T_6fa06_row15_col3 {\n",
       "  background-color: #57006e;\n",
       "  color: #f1f1f1;\n",
       "}\n",
       "#T_6fa06_row16_col3 {\n",
       "  background-color: #6b0173;\n",
       "  color: #f1f1f1;\n",
       "}\n",
       "#T_6fa06_row17_col3 {\n",
       "  background-color: #840178;\n",
       "  color: #f1f1f1;\n",
       "}\n",
       "#T_6fa06_row19_col3 {\n",
       "  background-color: #620171;\n",
       "  color: #f1f1f1;\n",
       "}\n",
       "#T_6fa06_row20_col3 {\n",
       "  background-color: #f35f9f;\n",
       "  color: #f1f1f1;\n",
       "}\n",
       "#T_6fa06_row21_col3 {\n",
       "  background-color: #c31889;\n",
       "  color: #f1f1f1;\n",
       "}\n",
       "#T_6fa06_row22_col3 {\n",
       "  background-color: #6e0174;\n",
       "  color: #f1f1f1;\n",
       "}\n",
       "#T_6fa06_row23_col3 {\n",
       "  background-color: #e13b98;\n",
       "  color: #f1f1f1;\n",
       "}\n",
       "#T_6fa06_row24_col3 {\n",
       "  background-color: #52006c;\n",
       "  color: #f1f1f1;\n",
       "}\n",
       "#T_6fa06_row25_col3 {\n",
       "  background-color: #6c0173;\n",
       "  color: #f1f1f1;\n",
       "}\n",
       "#T_6fa06_row26_col3 {\n",
       "  background-color: #51006c;\n",
       "  color: #f1f1f1;\n",
       "}\n",
       "#T_6fa06_row27_col3 {\n",
       "  background-color: #98017b;\n",
       "  color: #f1f1f1;\n",
       "}\n",
       "#T_6fa06_row29_col7 {\n",
       "  background-color: #fddbd7;\n",
       "  color: #000000;\n",
       "}\n",
       "</style>\n",
       "<table id=\"T_6fa06_\">\n",
       "  <thead>\n",
       "    <tr>\n",
       "      <th class=\"blank level0\" >&nbsp;</th>\n",
       "      <th class=\"col_heading level0 col0\" >count</th>\n",
       "      <th class=\"col_heading level0 col1\" >mean</th>\n",
       "      <th class=\"col_heading level0 col2\" >std</th>\n",
       "      <th class=\"col_heading level0 col3\" >min</th>\n",
       "      <th class=\"col_heading level0 col4\" >25%</th>\n",
       "      <th class=\"col_heading level0 col5\" >50%</th>\n",
       "      <th class=\"col_heading level0 col6\" >75%</th>\n",
       "      <th class=\"col_heading level0 col7\" >max</th>\n",
       "    </tr>\n",
       "  </thead>\n",
       "  <tbody>\n",
       "    <tr>\n",
       "      <th id=\"T_6fa06_level0_row0\" class=\"row_heading level0 row0\" >time</th>\n",
       "      <td id=\"T_6fa06_row0_col0\" class=\"data row0 col0\" >283253.000000</td>\n",
       "      <td id=\"T_6fa06_row0_col1\" class=\"data row0 col1\" >94835.058093</td>\n",
       "      <td id=\"T_6fa06_row0_col2\" class=\"data row0 col2\" >47475.550607</td>\n",
       "      <td id=\"T_6fa06_row0_col3\" class=\"data row0 col3\" >0.000000</td>\n",
       "      <td id=\"T_6fa06_row0_col4\" class=\"data row0 col4\" >54233.000000</td>\n",
       "      <td id=\"T_6fa06_row0_col5\" class=\"data row0 col5\" >84711.000000</td>\n",
       "      <td id=\"T_6fa06_row0_col6\" class=\"data row0 col6\" >139308.000000</td>\n",
       "      <td id=\"T_6fa06_row0_col7\" class=\"data row0 col7\" >172792.000000</td>\n",
       "    </tr>\n",
       "    <tr>\n",
       "      <th id=\"T_6fa06_level0_row1\" class=\"row_heading level0 row1\" >v1</th>\n",
       "      <td id=\"T_6fa06_row1_col0\" class=\"data row1 col0\" >283253.000000</td>\n",
       "      <td id=\"T_6fa06_row1_col1\" class=\"data row1 col1\" >0.013439</td>\n",
       "      <td id=\"T_6fa06_row1_col2\" class=\"data row1 col2\" >1.922179</td>\n",
       "      <td id=\"T_6fa06_row1_col3\" class=\"data row1 col3\" >-56.407510</td>\n",
       "      <td id=\"T_6fa06_row1_col4\" class=\"data row1 col4\" >-0.913431</td>\n",
       "      <td id=\"T_6fa06_row1_col5\" class=\"data row1 col5\" >0.022562</td>\n",
       "      <td id=\"T_6fa06_row1_col6\" class=\"data row1 col6\" >1.316788</td>\n",
       "      <td id=\"T_6fa06_row1_col7\" class=\"data row1 col7\" >2.454930</td>\n",
       "    </tr>\n",
       "    <tr>\n",
       "      <th id=\"T_6fa06_level0_row2\" class=\"row_heading level0 row2\" >v2</th>\n",
       "      <td id=\"T_6fa06_row2_col0\" class=\"data row2 col0\" >283253.000000</td>\n",
       "      <td id=\"T_6fa06_row2_col1\" class=\"data row2 col1\" >-0.009829</td>\n",
       "      <td id=\"T_6fa06_row2_col2\" class=\"data row2 col2\" >1.633520</td>\n",
       "      <td id=\"T_6fa06_row2_col3\" class=\"data row2 col3\" >-72.715728</td>\n",
       "      <td id=\"T_6fa06_row2_col4\" class=\"data row2 col4\" >-0.601398</td>\n",
       "      <td id=\"T_6fa06_row2_col5\" class=\"data row2 col5\" >0.062561</td>\n",
       "      <td id=\"T_6fa06_row2_col6\" class=\"data row2 col6\" >0.797012</td>\n",
       "      <td id=\"T_6fa06_row2_col7\" class=\"data row2 col7\" >18.902453</td>\n",
       "    </tr>\n",
       "    <tr>\n",
       "      <th id=\"T_6fa06_level0_row3\" class=\"row_heading level0 row3\" >v3</th>\n",
       "      <td id=\"T_6fa06_row3_col0\" class=\"data row3 col0\" >283253.000000</td>\n",
       "      <td id=\"T_6fa06_row3_col1\" class=\"data row3 col1\" >0.012853</td>\n",
       "      <td id=\"T_6fa06_row3_col2\" class=\"data row3 col2\" >1.457593</td>\n",
       "      <td id=\"T_6fa06_row3_col3\" class=\"data row3 col3\" >-48.325589</td>\n",
       "      <td id=\"T_6fa06_row3_col4\" class=\"data row3 col4\" >-0.883966</td>\n",
       "      <td id=\"T_6fa06_row3_col5\" class=\"data row3 col5\" >0.182247</td>\n",
       "      <td id=\"T_6fa06_row3_col6\" class=\"data row3 col6\" >1.028261</td>\n",
       "      <td id=\"T_6fa06_row3_col7\" class=\"data row3 col7\" >9.382558</td>\n",
       "    </tr>\n",
       "    <tr>\n",
       "      <th id=\"T_6fa06_level0_row4\" class=\"row_heading level0 row4\" >v4</th>\n",
       "      <td id=\"T_6fa06_row4_col0\" class=\"data row4 col0\" >283253.000000</td>\n",
       "      <td id=\"T_6fa06_row4_col1\" class=\"data row4 col1\" >-0.010440</td>\n",
       "      <td id=\"T_6fa06_row4_col2\" class=\"data row4 col2\" >1.398575</td>\n",
       "      <td id=\"T_6fa06_row4_col3\" class=\"data row4 col3\" >-5.683171</td>\n",
       "      <td id=\"T_6fa06_row4_col4\" class=\"data row4 col4\" >-0.851605</td>\n",
       "      <td id=\"T_6fa06_row4_col5\" class=\"data row4 col5\" >-0.024500</td>\n",
       "      <td id=\"T_6fa06_row4_col6\" class=\"data row4 col6\" >0.734231</td>\n",
       "      <td id=\"T_6fa06_row4_col7\" class=\"data row4 col7\" >16.875344</td>\n",
       "    </tr>\n",
       "    <tr>\n",
       "      <th id=\"T_6fa06_level0_row5\" class=\"row_heading level0 row5\" >v5</th>\n",
       "      <td id=\"T_6fa06_row5_col0\" class=\"data row5 col0\" >283253.000000</td>\n",
       "      <td id=\"T_6fa06_row5_col1\" class=\"data row5 col1\" >0.006769</td>\n",
       "      <td id=\"T_6fa06_row5_col2\" class=\"data row5 col2\" >1.355816</td>\n",
       "      <td id=\"T_6fa06_row5_col3\" class=\"data row5 col3\" >-113.743307</td>\n",
       "      <td id=\"T_6fa06_row5_col4\" class=\"data row5 col4\" >-0.687888</td>\n",
       "      <td id=\"T_6fa06_row5_col5\" class=\"data row5 col5\" >-0.052807</td>\n",
       "      <td id=\"T_6fa06_row5_col6\" class=\"data row5 col6\" >0.612442</td>\n",
       "      <td id=\"T_6fa06_row5_col7\" class=\"data row5 col7\" >34.801666</td>\n",
       "    </tr>\n",
       "    <tr>\n",
       "      <th id=\"T_6fa06_level0_row6\" class=\"row_heading level0 row6\" >v6</th>\n",
       "      <td id=\"T_6fa06_row6_col0\" class=\"data row6 col0\" >283253.000000</td>\n",
       "      <td id=\"T_6fa06_row6_col1\" class=\"data row6 col1\" >0.001251</td>\n",
       "      <td id=\"T_6fa06_row6_col2\" class=\"data row6 col2\" >1.329914</td>\n",
       "      <td id=\"T_6fa06_row6_col3\" class=\"data row6 col3\" >-26.160506</td>\n",
       "      <td id=\"T_6fa06_row6_col4\" class=\"data row6 col4\" >-0.767543</td>\n",
       "      <td id=\"T_6fa06_row6_col5\" class=\"data row6 col5\" >-0.274172</td>\n",
       "      <td id=\"T_6fa06_row6_col6\" class=\"data row6 col6\" >0.397678</td>\n",
       "      <td id=\"T_6fa06_row6_col7\" class=\"data row6 col7\" >73.301626</td>\n",
       "    </tr>\n",
       "    <tr>\n",
       "      <th id=\"T_6fa06_level0_row7\" class=\"row_heading level0 row7\" >v7</th>\n",
       "      <td id=\"T_6fa06_row7_col0\" class=\"data row7 col0\" >283253.000000</td>\n",
       "      <td id=\"T_6fa06_row7_col1\" class=\"data row7 col1\" >0.010447</td>\n",
       "      <td id=\"T_6fa06_row7_col2\" class=\"data row7 col2\" >1.177480</td>\n",
       "      <td id=\"T_6fa06_row7_col3\" class=\"data row7 col3\" >-31.764946</td>\n",
       "      <td id=\"T_6fa06_row7_col4\" class=\"data row7 col4\" >-0.550146</td>\n",
       "      <td id=\"T_6fa06_row7_col5\" class=\"data row7 col5\" >0.041664</td>\n",
       "      <td id=\"T_6fa06_row7_col6\" class=\"data row7 col6\" >0.571029</td>\n",
       "      <td id=\"T_6fa06_row7_col7\" class=\"data row7 col7\" >120.589494</td>\n",
       "    </tr>\n",
       "    <tr>\n",
       "      <th id=\"T_6fa06_level0_row8\" class=\"row_heading level0 row8\" >v8</th>\n",
       "      <td id=\"T_6fa06_row8_col0\" class=\"data row8 col0\" >283253.000000</td>\n",
       "      <td id=\"T_6fa06_row8_col1\" class=\"data row8 col1\" >-0.002448</td>\n",
       "      <td id=\"T_6fa06_row8_col2\" class=\"data row8 col2\" >1.157140</td>\n",
       "      <td id=\"T_6fa06_row8_col3\" class=\"data row8 col3\" >-73.216718</td>\n",
       "      <td id=\"T_6fa06_row8_col4\" class=\"data row8 col4\" >-0.208841</td>\n",
       "      <td id=\"T_6fa06_row8_col5\" class=\"data row8 col5\" >0.021633</td>\n",
       "      <td id=\"T_6fa06_row8_col6\" class=\"data row8 col6\" >0.324473</td>\n",
       "      <td id=\"T_6fa06_row8_col7\" class=\"data row8 col7\" >18.709255</td>\n",
       "    </tr>\n",
       "    <tr>\n",
       "      <th id=\"T_6fa06_level0_row9\" class=\"row_heading level0 row9\" >v9</th>\n",
       "      <td id=\"T_6fa06_row9_col0\" class=\"data row9 col0\" >283253.000000</td>\n",
       "      <td id=\"T_6fa06_row9_col1\" class=\"data row9 col1\" >0.002613</td>\n",
       "      <td id=\"T_6fa06_row9_col2\" class=\"data row9 col2\" >1.086902</td>\n",
       "      <td id=\"T_6fa06_row9_col3\" class=\"data row9 col3\" >-6.290730</td>\n",
       "      <td id=\"T_6fa06_row9_col4\" class=\"data row9 col4\" >-0.641649</td>\n",
       "      <td id=\"T_6fa06_row9_col5\" class=\"data row9 col5\" >-0.051368</td>\n",
       "      <td id=\"T_6fa06_row9_col6\" class=\"data row9 col6\" >0.596969</td>\n",
       "      <td id=\"T_6fa06_row9_col7\" class=\"data row9 col7\" >15.594995</td>\n",
       "    </tr>\n",
       "    <tr>\n",
       "      <th id=\"T_6fa06_level0_row10\" class=\"row_heading level0 row10\" >v10</th>\n",
       "      <td id=\"T_6fa06_row10_col0\" class=\"data row10 col0\" >283253.000000</td>\n",
       "      <td id=\"T_6fa06_row10_col1\" class=\"data row10 col1\" >0.007663</td>\n",
       "      <td id=\"T_6fa06_row10_col2\" class=\"data row10 col2\" >1.036321</td>\n",
       "      <td id=\"T_6fa06_row10_col3\" class=\"data row10 col3\" >-14.741096</td>\n",
       "      <td id=\"T_6fa06_row10_col4\" class=\"data row10 col4\" >-0.533155</td>\n",
       "      <td id=\"T_6fa06_row10_col5\" class=\"data row10 col5\" >-0.092120</td>\n",
       "      <td id=\"T_6fa06_row10_col6\" class=\"data row10 col6\" >0.454792</td>\n",
       "      <td id=\"T_6fa06_row10_col7\" class=\"data row10 col7\" >23.745136</td>\n",
       "    </tr>\n",
       "    <tr>\n",
       "      <th id=\"T_6fa06_level0_row11\" class=\"row_heading level0 row11\" >v11</th>\n",
       "      <td id=\"T_6fa06_row11_col0\" class=\"data row11 col0\" >283253.000000</td>\n",
       "      <td id=\"T_6fa06_row11_col1\" class=\"data row11 col1\" >-0.006004</td>\n",
       "      <td id=\"T_6fa06_row11_col2\" class=\"data row11 col2\" >1.002257</td>\n",
       "      <td id=\"T_6fa06_row11_col3\" class=\"data row11 col3\" >-4.797473</td>\n",
       "      <td id=\"T_6fa06_row11_col4\" class=\"data row11 col4\" >-0.762737</td>\n",
       "      <td id=\"T_6fa06_row11_col5\" class=\"data row11 col5\" >-0.034446</td>\n",
       "      <td id=\"T_6fa06_row11_col6\" class=\"data row11 col6\" >0.736553</td>\n",
       "      <td id=\"T_6fa06_row11_col7\" class=\"data row11 col7\" >10.002190</td>\n",
       "    </tr>\n",
       "    <tr>\n",
       "      <th id=\"T_6fa06_level0_row12\" class=\"row_heading level0 row12\" >v12</th>\n",
       "      <td id=\"T_6fa06_row12_col0\" class=\"data row12 col0\" >283253.000000</td>\n",
       "      <td id=\"T_6fa06_row12_col1\" class=\"data row12 col1\" >0.009476</td>\n",
       "      <td id=\"T_6fa06_row12_col2\" class=\"data row12 col2\" >0.945382</td>\n",
       "      <td id=\"T_6fa06_row12_col3\" class=\"data row12 col3\" >-15.144988</td>\n",
       "      <td id=\"T_6fa06_row12_col4\" class=\"data row12 col4\" >-0.402882</td>\n",
       "      <td id=\"T_6fa06_row12_col5\" class=\"data row12 col5\" >0.140573</td>\n",
       "      <td id=\"T_6fa06_row12_col6\" class=\"data row12 col6\" >0.617780</td>\n",
       "      <td id=\"T_6fa06_row12_col7\" class=\"data row12 col7\" >7.848392</td>\n",
       "    </tr>\n",
       "    <tr>\n",
       "      <th id=\"T_6fa06_level0_row13\" class=\"row_heading level0 row13\" >v13</th>\n",
       "      <td id=\"T_6fa06_row13_col0\" class=\"data row13 col0\" >283253.000000</td>\n",
       "      <td id=\"T_6fa06_row13_col1\" class=\"data row13 col1\" >0.000762</td>\n",
       "      <td id=\"T_6fa06_row13_col2\" class=\"data row13 col2\" >0.995226</td>\n",
       "      <td id=\"T_6fa06_row13_col3\" class=\"data row13 col3\" >-5.791881</td>\n",
       "      <td id=\"T_6fa06_row13_col4\" class=\"data row13 col4\" >-0.647502</td>\n",
       "      <td id=\"T_6fa06_row13_col5\" class=\"data row13 col5\" >-0.012905</td>\n",
       "      <td id=\"T_6fa06_row13_col6\" class=\"data row13 col6\" >0.663106</td>\n",
       "      <td id=\"T_6fa06_row13_col7\" class=\"data row13 col7\" >7.126883</td>\n",
       "    </tr>\n",
       "    <tr>\n",
       "      <th id=\"T_6fa06_level0_row14\" class=\"row_heading level0 row14\" >v14</th>\n",
       "      <td id=\"T_6fa06_row14_col0\" class=\"data row14 col0\" >283253.000000</td>\n",
       "      <td id=\"T_6fa06_row14_col1\" class=\"data row14 col1\" >0.011668</td>\n",
       "      <td id=\"T_6fa06_row14_col2\" class=\"data row14 col2\" >0.894379</td>\n",
       "      <td id=\"T_6fa06_row14_col3\" class=\"data row14 col3\" >-18.392091</td>\n",
       "      <td id=\"T_6fa06_row14_col4\" class=\"data row14 col4\" >-0.422708</td>\n",
       "      <td id=\"T_6fa06_row14_col5\" class=\"data row14 col5\" >0.051486</td>\n",
       "      <td id=\"T_6fa06_row14_col6\" class=\"data row14 col6\" >0.493060</td>\n",
       "      <td id=\"T_6fa06_row14_col7\" class=\"data row14 col7\" >10.526766</td>\n",
       "    </tr>\n",
       "    <tr>\n",
       "      <th id=\"T_6fa06_level0_row15\" class=\"row_heading level0 row15\" >v15</th>\n",
       "      <td id=\"T_6fa06_row15_col0\" class=\"data row15 col0\" >283253.000000</td>\n",
       "      <td id=\"T_6fa06_row15_col1\" class=\"data row15 col1\" >0.001166</td>\n",
       "      <td id=\"T_6fa06_row15_col2\" class=\"data row15 col2\" >0.914657</td>\n",
       "      <td id=\"T_6fa06_row15_col3\" class=\"data row15 col3\" >-4.391307</td>\n",
       "      <td id=\"T_6fa06_row15_col4\" class=\"data row15 col4\" >-0.581407</td>\n",
       "      <td id=\"T_6fa06_row15_col5\" class=\"data row15 col5\" >0.049435</td>\n",
       "      <td id=\"T_6fa06_row15_col6\" class=\"data row15 col6\" >0.650146</td>\n",
       "      <td id=\"T_6fa06_row15_col7\" class=\"data row15 col7\" >8.877742</td>\n",
       "    </tr>\n",
       "    <tr>\n",
       "      <th id=\"T_6fa06_level0_row16\" class=\"row_heading level0 row16\" >v16</th>\n",
       "      <td id=\"T_6fa06_row16_col0\" class=\"data row16 col0\" >283253.000000</td>\n",
       "      <td id=\"T_6fa06_row16_col1\" class=\"data row16 col1\" >0.007845</td>\n",
       "      <td id=\"T_6fa06_row16_col2\" class=\"data row16 col2\" >0.844608</td>\n",
       "      <td id=\"T_6fa06_row16_col3\" class=\"data row16 col3\" >-10.115560</td>\n",
       "      <td id=\"T_6fa06_row16_col4\" class=\"data row16 col4\" >-0.464241</td>\n",
       "      <td id=\"T_6fa06_row16_col5\" class=\"data row16 col5\" >0.068100</td>\n",
       "      <td id=\"T_6fa06_row16_col6\" class=\"data row16 col6\" >0.523966</td>\n",
       "      <td id=\"T_6fa06_row16_col7\" class=\"data row16 col7\" >17.315112</td>\n",
       "    </tr>\n",
       "    <tr>\n",
       "      <th id=\"T_6fa06_level0_row17\" class=\"row_heading level0 row17\" >v17</th>\n",
       "      <td id=\"T_6fa06_row17_col0\" class=\"data row17 col0\" >283253.000000</td>\n",
       "      <td id=\"T_6fa06_row17_col1\" class=\"data row17 col1\" >0.010963</td>\n",
       "      <td id=\"T_6fa06_row17_col2\" class=\"data row17 col2\" >0.748513</td>\n",
       "      <td id=\"T_6fa06_row17_col3\" class=\"data row17 col3\" >-17.098444</td>\n",
       "      <td id=\"T_6fa06_row17_col4\" class=\"data row17 col4\" >-0.482794</td>\n",
       "      <td id=\"T_6fa06_row17_col5\" class=\"data row17 col5\" >-0.065096</td>\n",
       "      <td id=\"T_6fa06_row17_col6\" class=\"data row17 col6\" >0.399179</td>\n",
       "      <td id=\"T_6fa06_row17_col7\" class=\"data row17 col7\" >9.253526</td>\n",
       "    </tr>\n",
       "    <tr>\n",
       "      <th id=\"T_6fa06_level0_row18\" class=\"row_heading level0 row18\" >v18</th>\n",
       "      <td id=\"T_6fa06_row18_col0\" class=\"data row18 col0\" >283253.000000</td>\n",
       "      <td id=\"T_6fa06_row18_col1\" class=\"data row18 col1\" >0.005120</td>\n",
       "      <td id=\"T_6fa06_row18_col2\" class=\"data row18 col2\" >0.824952</td>\n",
       "      <td id=\"T_6fa06_row18_col3\" class=\"data row18 col3\" >-5.366660</td>\n",
       "      <td id=\"T_6fa06_row18_col4\" class=\"data row18 col4\" >-0.496635</td>\n",
       "      <td id=\"T_6fa06_row18_col5\" class=\"data row18 col5\" >-0.001436</td>\n",
       "      <td id=\"T_6fa06_row18_col6\" class=\"data row18 col6\" >0.502295</td>\n",
       "      <td id=\"T_6fa06_row18_col7\" class=\"data row18 col7\" >5.041069</td>\n",
       "    </tr>\n",
       "    <tr>\n",
       "      <th id=\"T_6fa06_level0_row19\" class=\"row_heading level0 row19\" >v19</th>\n",
       "      <td id=\"T_6fa06_row19_col0\" class=\"data row19 col0\" >283253.000000</td>\n",
       "      <td id=\"T_6fa06_row19_col1\" class=\"data row19 col1\" >-0.001382</td>\n",
       "      <td id=\"T_6fa06_row19_col2\" class=\"data row19 col2\" >0.811183</td>\n",
       "      <td id=\"T_6fa06_row19_col3\" class=\"data row19 col3\" >-7.213527</td>\n",
       "      <td id=\"T_6fa06_row19_col4\" class=\"data row19 col4\" >-0.456350</td>\n",
       "      <td id=\"T_6fa06_row19_col5\" class=\"data row19 col5\" >0.002737</td>\n",
       "      <td id=\"T_6fa06_row19_col6\" class=\"data row19 col6\" >0.457174</td>\n",
       "      <td id=\"T_6fa06_row19_col7\" class=\"data row19 col7\" >5.591971</td>\n",
       "    </tr>\n",
       "    <tr>\n",
       "      <th id=\"T_6fa06_level0_row20\" class=\"row_heading level0 row20\" >v20</th>\n",
       "      <td id=\"T_6fa06_row20_col0\" class=\"data row20 col0\" >283253.000000</td>\n",
       "      <td id=\"T_6fa06_row20_col1\" class=\"data row20 col1\" >-0.000489</td>\n",
       "      <td id=\"T_6fa06_row20_col2\" class=\"data row20 col2\" >0.768649</td>\n",
       "      <td id=\"T_6fa06_row20_col3\" class=\"data row20 col3\" >-54.497720</td>\n",
       "      <td id=\"T_6fa06_row20_col4\" class=\"data row20 col4\" >-0.211517</td>\n",
       "      <td id=\"T_6fa06_row20_col5\" class=\"data row20 col5\" >-0.062507</td>\n",
       "      <td id=\"T_6fa06_row20_col6\" class=\"data row20 col6\" >0.132626</td>\n",
       "      <td id=\"T_6fa06_row20_col7\" class=\"data row20 col7\" >39.420904</td>\n",
       "    </tr>\n",
       "    <tr>\n",
       "      <th id=\"T_6fa06_level0_row21\" class=\"row_heading level0 row21\" >v21</th>\n",
       "      <td id=\"T_6fa06_row21_col0\" class=\"data row21 col0\" >283253.000000</td>\n",
       "      <td id=\"T_6fa06_row21_col1\" class=\"data row21 col1\" >-0.001150</td>\n",
       "      <td id=\"T_6fa06_row21_col2\" class=\"data row21 col2\" >0.715629</td>\n",
       "      <td id=\"T_6fa06_row21_col3\" class=\"data row21 col3\" >-34.830382</td>\n",
       "      <td id=\"T_6fa06_row21_col4\" class=\"data row21 col4\" >-0.228406</td>\n",
       "      <td id=\"T_6fa06_row21_col5\" class=\"data row21 col5\" >-0.029798</td>\n",
       "      <td id=\"T_6fa06_row21_col6\" class=\"data row21 col6\" >0.185470</td>\n",
       "      <td id=\"T_6fa06_row21_col7\" class=\"data row21 col7\" >22.614889</td>\n",
       "    </tr>\n",
       "    <tr>\n",
       "      <th id=\"T_6fa06_level0_row22\" class=\"row_heading level0 row22\" >v22</th>\n",
       "      <td id=\"T_6fa06_row22_col0\" class=\"data row22 col0\" >283253.000000</td>\n",
       "      <td id=\"T_6fa06_row22_col1\" class=\"data row22 col1\" >-0.000160</td>\n",
       "      <td id=\"T_6fa06_row22_col2\" class=\"data row22 col2\" >0.723541</td>\n",
       "      <td id=\"T_6fa06_row22_col3\" class=\"data row22 col3\" >-10.933144</td>\n",
       "      <td id=\"T_6fa06_row22_col4\" class=\"data row22 col4\" >-0.542737</td>\n",
       "      <td id=\"T_6fa06_row22_col5\" class=\"data row22 col5\" >0.006675</td>\n",
       "      <td id=\"T_6fa06_row22_col6\" class=\"data row22 col6\" >0.528136</td>\n",
       "      <td id=\"T_6fa06_row22_col7\" class=\"data row22 col7\" >10.503090</td>\n",
       "    </tr>\n",
       "    <tr>\n",
       "      <th id=\"T_6fa06_level0_row23\" class=\"row_heading level0 row23\" >v23</th>\n",
       "      <td id=\"T_6fa06_row23_col0\" class=\"data row23 col0\" >283253.000000</td>\n",
       "      <td id=\"T_6fa06_row23_col1\" class=\"data row23 col1\" >0.000360</td>\n",
       "      <td id=\"T_6fa06_row23_col2\" class=\"data row23 col2\" >0.621165</td>\n",
       "      <td id=\"T_6fa06_row23_col3\" class=\"data row23 col3\" >-44.807735</td>\n",
       "      <td id=\"T_6fa06_row23_col4\" class=\"data row23 col4\" >-0.161490</td>\n",
       "      <td id=\"T_6fa06_row23_col5\" class=\"data row23 col5\" >-0.011077</td>\n",
       "      <td id=\"T_6fa06_row23_col6\" class=\"data row23 col6\" >0.147633</td>\n",
       "      <td id=\"T_6fa06_row23_col7\" class=\"data row23 col7\" >22.528412</td>\n",
       "    </tr>\n",
       "    <tr>\n",
       "      <th id=\"T_6fa06_level0_row24\" class=\"row_heading level0 row24\" >v24</th>\n",
       "      <td id=\"T_6fa06_row24_col0\" class=\"data row24 col0\" >283253.000000</td>\n",
       "      <td id=\"T_6fa06_row24_col1\" class=\"data row24 col1\" >0.000393</td>\n",
       "      <td id=\"T_6fa06_row24_col2\" class=\"data row24 col2\" >0.605748</td>\n",
       "      <td id=\"T_6fa06_row24_col3\" class=\"data row24 col3\" >-2.836627</td>\n",
       "      <td id=\"T_6fa06_row24_col4\" class=\"data row24 col4\" >-0.354306</td>\n",
       "      <td id=\"T_6fa06_row24_col5\" class=\"data row24 col5\" >0.041115</td>\n",
       "      <td id=\"T_6fa06_row24_col6\" class=\"data row24 col6\" >0.440051</td>\n",
       "      <td id=\"T_6fa06_row24_col7\" class=\"data row24 col7\" >4.584549</td>\n",
       "    </tr>\n",
       "    <tr>\n",
       "      <th id=\"T_6fa06_level0_row25\" class=\"row_heading level0 row25\" >v25</th>\n",
       "      <td id=\"T_6fa06_row25_col0\" class=\"data row25 col0\" >283253.000000</td>\n",
       "      <td id=\"T_6fa06_row25_col1\" class=\"data row25 col1\" >-0.000301</td>\n",
       "      <td id=\"T_6fa06_row25_col2\" class=\"data row25 col2\" >0.520612</td>\n",
       "      <td id=\"T_6fa06_row25_col3\" class=\"data row25 col3\" >-10.295397</td>\n",
       "      <td id=\"T_6fa06_row25_col4\" class=\"data row25 col4\" >-0.317476</td>\n",
       "      <td id=\"T_6fa06_row25_col5\" class=\"data row25 col5\" >0.016190</td>\n",
       "      <td id=\"T_6fa06_row25_col6\" class=\"data row25 col6\" >0.350490</td>\n",
       "      <td id=\"T_6fa06_row25_col7\" class=\"data row25 col7\" >7.519589</td>\n",
       "    </tr>\n",
       "    <tr>\n",
       "      <th id=\"T_6fa06_level0_row26\" class=\"row_heading level0 row26\" >v26</th>\n",
       "      <td id=\"T_6fa06_row26_col0\" class=\"data row26 col0\" >283253.000000</td>\n",
       "      <td id=\"T_6fa06_row26_col1\" class=\"data row26 col1\" >0.000065</td>\n",
       "      <td id=\"T_6fa06_row26_col2\" class=\"data row26 col2\" >0.482080</td>\n",
       "      <td id=\"T_6fa06_row26_col3\" class=\"data row26 col3\" >-2.604551</td>\n",
       "      <td id=\"T_6fa06_row26_col4\" class=\"data row26 col4\" >-0.326853</td>\n",
       "      <td id=\"T_6fa06_row26_col5\" class=\"data row26 col5\" >-0.052293</td>\n",
       "      <td id=\"T_6fa06_row26_col6\" class=\"data row26 col6\" >0.240023</td>\n",
       "      <td id=\"T_6fa06_row26_col7\" class=\"data row26 col7\" >3.517346</td>\n",
       "    </tr>\n",
       "    <tr>\n",
       "      <th id=\"T_6fa06_level0_row27\" class=\"row_heading level0 row27\" >v27</th>\n",
       "      <td id=\"T_6fa06_row27_col0\" class=\"data row27 col0\" >283253.000000</td>\n",
       "      <td id=\"T_6fa06_row27_col1\" class=\"data row27 col1\" >0.001409</td>\n",
       "      <td id=\"T_6fa06_row27_col2\" class=\"data row27 col2\" >0.392700</td>\n",
       "      <td id=\"T_6fa06_row27_col3\" class=\"data row27 col3\" >-22.565679</td>\n",
       "      <td id=\"T_6fa06_row27_col4\" class=\"data row27 col4\" >-0.070650</td>\n",
       "      <td id=\"T_6fa06_row27_col5\" class=\"data row27 col5\" >0.001368</td>\n",
       "      <td id=\"T_6fa06_row27_col6\" class=\"data row27 col6\" >0.090760</td>\n",
       "      <td id=\"T_6fa06_row27_col7\" class=\"data row27 col7\" >31.612198</td>\n",
       "    </tr>\n",
       "    <tr>\n",
       "      <th id=\"T_6fa06_level0_row28\" class=\"row_heading level0 row28\" >v28</th>\n",
       "      <td id=\"T_6fa06_row28_col0\" class=\"data row28 col0\" >283253.000000</td>\n",
       "      <td id=\"T_6fa06_row28_col1\" class=\"data row28 col1\" >0.000418</td>\n",
       "      <td id=\"T_6fa06_row28_col2\" class=\"data row28 col2\" >0.327563</td>\n",
       "      <td id=\"T_6fa06_row28_col3\" class=\"data row28 col3\" >-15.430084</td>\n",
       "      <td id=\"T_6fa06_row28_col4\" class=\"data row28 col4\" >-0.052808</td>\n",
       "      <td id=\"T_6fa06_row28_col5\" class=\"data row28 col5\" >0.011238</td>\n",
       "      <td id=\"T_6fa06_row28_col6\" class=\"data row28 col6\" >0.077961</td>\n",
       "      <td id=\"T_6fa06_row28_col7\" class=\"data row28 col7\" >33.847808</td>\n",
       "    </tr>\n",
       "    <tr>\n",
       "      <th id=\"T_6fa06_level0_row29\" class=\"row_heading level0 row29\" >amount</th>\n",
       "      <td id=\"T_6fa06_row29_col0\" class=\"data row29 col0\" >283253.000000</td>\n",
       "      <td id=\"T_6fa06_row29_col1\" class=\"data row29 col1\" >88.413575</td>\n",
       "      <td id=\"T_6fa06_row29_col2\" class=\"data row29 col2\" >250.379023</td>\n",
       "      <td id=\"T_6fa06_row29_col3\" class=\"data row29 col3\" >0.000000</td>\n",
       "      <td id=\"T_6fa06_row29_col4\" class=\"data row29 col4\" >5.670000</td>\n",
       "      <td id=\"T_6fa06_row29_col5\" class=\"data row29 col5\" >22.000000</td>\n",
       "      <td id=\"T_6fa06_row29_col6\" class=\"data row29 col6\" >77.460000</td>\n",
       "      <td id=\"T_6fa06_row29_col7\" class=\"data row29 col7\" >25691.160000</td>\n",
       "    </tr>\n",
       "    <tr>\n",
       "      <th id=\"T_6fa06_level0_row30\" class=\"row_heading level0 row30\" >class</th>\n",
       "      <td id=\"T_6fa06_row30_col0\" class=\"data row30 col0\" >283253.000000</td>\n",
       "      <td id=\"T_6fa06_row30_col1\" class=\"data row30 col1\" >0.000000</td>\n",
       "      <td id=\"T_6fa06_row30_col2\" class=\"data row30 col2\" >0.000000</td>\n",
       "      <td id=\"T_6fa06_row30_col3\" class=\"data row30 col3\" >0.000000</td>\n",
       "      <td id=\"T_6fa06_row30_col4\" class=\"data row30 col4\" >0.000000</td>\n",
       "      <td id=\"T_6fa06_row30_col5\" class=\"data row30 col5\" >0.000000</td>\n",
       "      <td id=\"T_6fa06_row30_col6\" class=\"data row30 col6\" >0.000000</td>\n",
       "      <td id=\"T_6fa06_row30_col7\" class=\"data row30 col7\" >0.000000</td>\n",
       "    </tr>\n",
       "  </tbody>\n",
       "</table>\n"
      ],
      "text/plain": [
       "<pandas.io.formats.style.Styler at 0x1f43121fa88>"
      ]
     },
     "execution_count": 11,
     "metadata": {},
     "output_type": "execute_result"
    }
   ],
   "source": [
    "cprint('Descriptive statistics according to the \"class==0, Reliable\"',\"blue\",\"on_grey\", attrs=[\"bold\"])\n",
    "df[df[target] == 0].describe().T.style.background_gradient(subset = ['mean','min','50%', 'max'], cmap = 'RdPu')"
   ]
  },
  {
   "cell_type": "markdown",
   "metadata": {},
   "source": [
    "#### Features"
   ]
  },
  {
   "cell_type": "code",
   "execution_count": 12,
   "metadata": {},
   "outputs": [
    {
     "data": {
      "text/plain": [
       "Index(['time', 'v1', 'v2', 'v3', 'v4', 'v5', 'v6', 'v7', 'v8', 'v9', 'v10',\n",
       "       'v11', 'v12', 'v13', 'v14', 'v15', 'v16', 'v17', 'v18', 'v19', 'v20',\n",
       "       'v21', 'v22', 'v23', 'v24', 'v25', 'v26', 'v27', 'v28', 'amount'],\n",
       "      dtype='object')"
      ]
     },
     "execution_count": 12,
     "metadata": {},
     "output_type": "execute_result"
    }
   ],
   "source": [
    "X.columns"
   ]
  },
  {
   "cell_type": "code",
   "execution_count": 13,
   "metadata": {},
   "outputs": [
    {
     "data": {
      "text/plain": [
       "Index(['time', 'v1', 'v2', 'v3', 'v4', 'v5', 'v6', 'v7', 'v8', 'v9', 'v10',\n",
       "       'v11', 'v12', 'v13', 'v14', 'v15', 'v16', 'v17', 'v18', 'v19', 'v20',\n",
       "       'v21', 'v22', 'v23', 'v24', 'v25', 'v26', 'v27', 'v28', 'amount'],\n",
       "      dtype='object')"
      ]
     },
     "execution_count": 13,
     "metadata": {},
     "output_type": "execute_result"
    }
   ],
   "source": [
    "X_numerical.columns"
   ]
  },
  {
   "cell_type": "code",
   "execution_count": 14,
   "metadata": {},
   "outputs": [
    {
     "data": {
      "text/plain": [
       "Index([], dtype='object')"
      ]
     },
     "execution_count": 14,
     "metadata": {},
     "output_type": "execute_result"
    }
   ],
   "source": [
    "X_categorical.columns"
   ]
  },
  {
   "cell_type": "markdown",
   "metadata": {},
   "source": [
    "##### 1- \"time\""
   ]
  },
  {
   "cell_type": "code",
   "execution_count": 17,
   "metadata": {},
   "outputs": [
    {
     "name": "stdout",
     "output_type": "stream",
     "text": [
      "\u001b[1m\u001b[40m\u001b[34mHave a first look to time\u001b[0m\n",
      "\u001b[1m\u001b[33mColumn: \u001b[0m time\n",
      "\u001b[1m\u001b[31m****************************************************************************************************\u001b[0m\n",
      "\u001b[1m\u001b[33mMissing values: \u001b[0m 0\n",
      "\u001b[1m\u001b[31m****************************************************************************************************\u001b[0m\n",
      "\u001b[1m\u001b[33mMissing values(%): \u001b[0m 0.0\n",
      "\u001b[1m\u001b[31m****************************************************************************************************\u001b[0m\n",
      "\u001b[1m\u001b[33mUnique values: \u001b[0m 124592\n",
      "\u001b[1m\u001b[31m****************************************************************************************************\u001b[0m\n",
      "\u001b[1m\u001b[33mValue counts: \n",
      "\u001b[0m3767.000      21\n",
      "3770.000      20\n",
      "19912.000     19\n",
      "3750.000      19\n",
      "73885.000     17\n",
      "              ..\n",
      "127732.000     1\n",
      "62217.000      1\n",
      "127739.000     1\n",
      "127741.000     1\n",
      "172792.000     1\n",
      "Name: time, Length: 124592, dtype: int64\n",
      "\u001b[1m\u001b[31m****************************************************************************************************\u001b[0m\n"
     ]
    }
   ],
   "source": [
    "feature_col = \"time\"\n",
    "cprint(f\"Have a first look to {feature_col}\",\"blue\",\"on_grey\", attrs=[\"bold\"])\n",
    "summary(feature_col)"
   ]
  },
  {
   "cell_type": "code",
   "execution_count": null,
   "metadata": {},
   "outputs": [],
   "source": [
    "# pd.crosstab(df['time'], df[target]).iplot(kind='bar', title = 'time and target')"
   ]
  },
  {
   "cell_type": "markdown",
   "metadata": {},
   "source": [
    "##### 2- \"amount\""
   ]
  },
  {
   "cell_type": "code",
   "execution_count": 18,
   "metadata": {},
   "outputs": [
    {
     "name": "stdout",
     "output_type": "stream",
     "text": [
      "\u001b[1m\u001b[40m\u001b[34mHave a first look to amount\u001b[0m\n",
      "\u001b[1m\u001b[33mColumn: \u001b[0m amount\n",
      "\u001b[1m\u001b[31m****************************************************************************************************\u001b[0m\n",
      "\u001b[1m\u001b[33mMissing values: \u001b[0m 0\n",
      "\u001b[1m\u001b[31m****************************************************************************************************\u001b[0m\n",
      "\u001b[1m\u001b[33mMissing values(%): \u001b[0m 0.0\n",
      "\u001b[1m\u001b[31m****************************************************************************************************\u001b[0m\n",
      "\u001b[1m\u001b[33mUnique values: \u001b[0m 32767\n",
      "\u001b[1m\u001b[31m****************************************************************************************************\u001b[0m\n",
      "\u001b[1m\u001b[33mValue counts: \n",
      "\u001b[0m1.000      13566\n",
      "1.980       6044\n",
      "0.890       4871\n",
      "9.990       4738\n",
      "15.000      3280\n",
      "           ...  \n",
      "526.600        1\n",
      "248.160        1\n",
      "492.650        1\n",
      "811.500        1\n",
      "95.630         1\n",
      "Name: amount, Length: 32767, dtype: int64\n",
      "\u001b[1m\u001b[31m****************************************************************************************************\u001b[0m\n"
     ]
    }
   ],
   "source": [
    "feature_col = \"amount\"\n",
    "cprint(f\"Have a first look to {feature_col}\",\"blue\",\"on_grey\", attrs=[\"bold\"])\n",
    "summary(feature_col)"
   ]
  },
  {
   "cell_type": "markdown",
   "metadata": {
    "id": "K22reBkbMuHa"
   },
   "source": [
    "### Exploratory Data Analysis"
   ]
  },
  {
   "cell_type": "markdown",
   "metadata": {
    "id": "2_yeQU4WJQ0D"
   },
   "source": []
  },
  {
   "cell_type": "markdown",
   "metadata": {
    "id": "NGyEoz9fJQ0E"
   },
   "source": [
    "### Data Cleaning\n",
    "Check Missing Values and Outliers"
   ]
  },
  {
   "cell_type": "code",
   "execution_count": null,
   "metadata": {
    "id": "BvpEPuGAMuHa"
   },
   "outputs": [],
   "source": []
  },
  {
   "cell_type": "markdown",
   "metadata": {
    "id": "tMOO7g-sMuHb"
   },
   "source": [
    "---\n",
    "---\n"
   ]
  },
  {
   "cell_type": "markdown",
   "metadata": {
    "id": "Yf6VvH6WMuHb"
   },
   "source": [
    "## 2. Data Preprocessing"
   ]
  },
  {
   "cell_type": "markdown",
   "metadata": {
    "id": "OV28RJBeMuHb"
   },
   "source": [
    "#### Scaling"
   ]
  },
  {
   "cell_type": "code",
   "execution_count": null,
   "metadata": {
    "cellView": "form",
    "id": "9YbdPguXMuHb"
   },
   "outputs": [],
   "source": [
    "#@title\n"
   ]
  },
  {
   "cell_type": "markdown",
   "metadata": {
    "id": "hlm6gCsKMuHb"
   },
   "source": [
    "#### Train - Test Split\n",
    "\n",
    "As in this case, for extremely imbalanced datasets you may want to make sure that classes are balanced across train and test data."
   ]
  },
  {
   "cell_type": "code",
   "execution_count": null,
   "metadata": {
    "id": "AuzpxEmKMuHb"
   },
   "outputs": [],
   "source": []
  },
  {
   "cell_type": "markdown",
   "metadata": {
    "id": "HO4HAIofMuHc"
   },
   "source": [
    "---\n",
    "---\n"
   ]
  },
  {
   "cell_type": "markdown",
   "metadata": {
    "id": "MwQdl4PdJQ0I"
   },
   "source": [
    "## 3. Model Building\n",
    "It was previously stated that you need to make class prediction with three different algorithms. As in this case, different approaches are required to obtain better performance on unbalanced data.\n",
    "\n",
    "This dataset is severely **unbalanced** (most of the transactions are non-fraud). So the algorithms are much more likely to classify new observations to the majority class and high accuracy won't tell us anything. To address the problem of imbalanced dataset we can use undersampling and oversampling data approach techniques. Oversampling increases the number of minority class members in the training set. The advantage of oversampling is that no information from the original training set is lost unlike in undersampling, as all observations from the minority and majority classes are kept. On the other hand, it is prone to overfitting. \n",
    "\n",
    "There is a type of oversampling called **[SMOTE](https://www.geeksforgeeks.org/ml-handling-imbalanced-data-with-smote-and-near-miss-algorithm-in-python/)** (Synthetic Minority Oversampling Technique), which we are going to use to make our dataset balanced. It creates synthetic points from the minority class.\n",
    "\n",
    "- It is important that you can evaluate the effectiveness of SMOTE. For this reason, implement the Logistic Regression algorithm in two different ways, with SMOTE applied and without.\n",
    "\n",
    "***Note***: \n",
    "\n",
    "- *Do not forget to import the necessary libraries and modules before starting the model building!*\n",
    "\n",
    "- *If you are going to use the cross validation method to be more sure of the performance of your model for unbalanced data, you should make sure that the class distributions in the iterations are equal. For this case, you should use **[StratifiedKFold](https://www.analyseup.com/python-machine-learning/stratified-kfold.html)** instead of regular cross validation method.*"
   ]
  },
  {
   "cell_type": "markdown",
   "metadata": {
    "id": "zKZcwgucJQ0I"
   },
   "source": [
    "### Logistic Regression without SMOTE\n",
    "\n",
    "- The steps you are going to cover for this algorithm are as follows: \n",
    "\n",
    "   i. Import Libraries\n",
    "   \n",
    "   *ii. Model Training*\n",
    "   \n",
    "   *iii. Prediction and Model Evaluating*\n",
    "   \n",
    "   *iv. Plot Precision and Recall Curve*\n",
    "   \n",
    "   *v. Apply and Plot StratifiedKFold*"
   ]
  },
  {
   "cell_type": "markdown",
   "metadata": {
    "id": "o48s5BCdMuHd"
   },
   "source": [
    "***i. Import Libraries***"
   ]
  },
  {
   "cell_type": "code",
   "execution_count": null,
   "metadata": {
    "id": "3G3cx-UjMuHd"
   },
   "outputs": [],
   "source": []
  },
  {
   "cell_type": "markdown",
   "metadata": {
    "id": "6KD76bc5MuHd"
   },
   "source": [
    "***ii. Model Training***"
   ]
  },
  {
   "cell_type": "code",
   "execution_count": null,
   "metadata": {
    "id": "g7GAK-u3MuHd"
   },
   "outputs": [],
   "source": []
  },
  {
   "cell_type": "markdown",
   "metadata": {
    "id": "uvKAJVTNMuHd"
   },
   "source": [
    "***iii. Prediction and Model Evaluating***"
   ]
  },
  {
   "cell_type": "code",
   "execution_count": null,
   "metadata": {
    "id": "Kb68hH1TMuHd"
   },
   "outputs": [],
   "source": []
  },
  {
   "cell_type": "markdown",
   "metadata": {
    "id": "l193OP5fMuHd"
   },
   "source": [
    "\n",
    "You're evaluating \"accuracy score\"? Is your performance metric reflect real success? You may need to use different metrics to evaluate performance on unbalanced data. You should use **[precision and recall metrics](https://scikit-learn.org/stable/auto_examples/model_selection/plot_precision_recall.html#:~:text=The%20precision%2Drecall%20curve%20shows,a%20low%20false%20negative%20rate.)**."
   ]
  },
  {
   "cell_type": "markdown",
   "metadata": {
    "id": "fUDt5voIMuHe"
   },
   "source": [
    "***iv. Plot Precision and Recall Curve***\n"
   ]
  },
  {
   "cell_type": "code",
   "execution_count": null,
   "metadata": {
    "id": "WI0OI9SDMuHe"
   },
   "outputs": [],
   "source": []
  },
  {
   "cell_type": "markdown",
   "metadata": {
    "id": "CAzArHfTMuHe"
   },
   "source": [
    "***v. Apply and Plot StratifiedKFold***"
   ]
  },
  {
   "cell_type": "code",
   "execution_count": null,
   "metadata": {
    "id": "8ugUuOhhMuHe"
   },
   "outputs": [],
   "source": []
  },
  {
   "cell_type": "markdown",
   "metadata": {
    "id": "bwELs8xsJQ0Q"
   },
   "source": [
    "- Didn't the performance of the model you implemented above satisfy you? If your model is biased towards the majority class and minority class recall is not sufficient, apply **SMOTE**."
   ]
  },
  {
   "cell_type": "markdown",
   "metadata": {
    "id": "4f8q5y12MuHe"
   },
   "source": [
    "### Apply SMOTE"
   ]
  },
  {
   "cell_type": "code",
   "execution_count": null,
   "metadata": {
    "id": "rlz070TfMuHf"
   },
   "outputs": [],
   "source": []
  },
  {
   "cell_type": "markdown",
   "metadata": {
    "id": "9wvBCEvpJQ0U"
   },
   "source": [
    "### Logistic Regression with SMOTE\n",
    "\n",
    "- The steps you are going to cover for this algorithm are as follows:\n",
    "   \n",
    "   *i. Train-Test Split (Again)*\n",
    "   \n",
    "   *ii. Model Training*\n",
    "   \n",
    "   *iii. Prediction and Model Evaluating*\n",
    "   \n",
    "   *iv. Plot Precision and Recall Curve*\n",
    "   \n",
    "   *v. Apply and Plot StratifiedKFold*"
   ]
  },
  {
   "cell_type": "markdown",
   "metadata": {
    "id": "IJqXQ_aHMuHf"
   },
   "source": [
    "***i. Train-Test Split (Again)***\n",
    "\n",
    "Use SMOTE applied data."
   ]
  },
  {
   "cell_type": "code",
   "execution_count": null,
   "metadata": {
    "id": "Qmc3bUHKMuHf"
   },
   "outputs": [],
   "source": []
  },
  {
   "cell_type": "markdown",
   "metadata": {
    "id": "evc6DLPcMuHf"
   },
   "source": [
    "***ii. Model Training***"
   ]
  },
  {
   "cell_type": "code",
   "execution_count": null,
   "metadata": {
    "id": "hz36IA3EMuHf"
   },
   "outputs": [],
   "source": []
  },
  {
   "cell_type": "markdown",
   "metadata": {
    "id": "kqJHSV5FMuHf"
   },
   "source": [
    "***iii. Prediction and Model Evaluating***"
   ]
  },
  {
   "cell_type": "code",
   "execution_count": null,
   "metadata": {
    "id": "J_lxSdHyMuHg"
   },
   "outputs": [],
   "source": []
  },
  {
   "cell_type": "markdown",
   "metadata": {
    "id": "AFGgLGBqMuHg"
   },
   "source": [
    "***iv.  Plot Precision and Recall Curve***\n"
   ]
  },
  {
   "cell_type": "code",
   "execution_count": null,
   "metadata": {
    "id": "CWdU7r-UMuHg"
   },
   "outputs": [],
   "source": []
  },
  {
   "cell_type": "markdown",
   "metadata": {
    "id": "HELeR2YVMuHg"
   },
   "source": [
    "***v. Apply and Plot StratifiedKFold***"
   ]
  },
  {
   "cell_type": "code",
   "execution_count": null,
   "metadata": {
    "id": "hcmB-zKsMuHg"
   },
   "outputs": [],
   "source": []
  },
  {
   "cell_type": "markdown",
   "metadata": {
    "id": "_3zm70O7JQ0Z"
   },
   "source": [
    "### Random Forest Classifier with SMOTE\n",
    "\n",
    "- The steps you are going to cover for this algorithm are as follows:\n",
    "\n",
    "   *i. Model Training*\n",
    "   \n",
    "   *ii. Prediction and Model Evaluating*\n",
    "   \n",
    "   *iii. Plot Precision and Recall Curve*\n",
    "   \n",
    "   *iv. Apply and Plot StratifiedKFold*\n",
    "   "
   ]
  },
  {
   "cell_type": "markdown",
   "metadata": {
    "id": "sr5U80HbMuHg"
   },
   "source": [
    "***i. Model Training***"
   ]
  },
  {
   "cell_type": "code",
   "execution_count": null,
   "metadata": {
    "id": "kuvRr7f3MuHh"
   },
   "outputs": [],
   "source": []
  },
  {
   "cell_type": "markdown",
   "metadata": {
    "id": "dJ9TJdpmMuHh"
   },
   "source": [
    "***ii. Prediction and Model Evaluating***"
   ]
  },
  {
   "cell_type": "code",
   "execution_count": null,
   "metadata": {
    "id": "BaNd2jTRMuHh"
   },
   "outputs": [],
   "source": []
  },
  {
   "cell_type": "markdown",
   "metadata": {
    "id": "8bdqEhrdMuHh"
   },
   "source": [
    "***iii. Plot Precision and Recall Curve***\n"
   ]
  },
  {
   "cell_type": "code",
   "execution_count": null,
   "metadata": {
    "id": "smne1OBWMuHh"
   },
   "outputs": [],
   "source": []
  },
  {
   "cell_type": "markdown",
   "metadata": {
    "id": "1n8q3JXcMuHh"
   },
   "source": [
    "***iv. Apply and Plot StratifiedKFold***"
   ]
  },
  {
   "cell_type": "code",
   "execution_count": null,
   "metadata": {
    "id": "WukW9Gb3MuHh"
   },
   "outputs": [],
   "source": []
  },
  {
   "cell_type": "markdown",
   "metadata": {
    "id": "ife6NlFRJQ0f"
   },
   "source": [
    "### Neural Network\n",
    "\n",
    "In the final step, you will make classification with Neural Network which is a Deep Learning algorithm. \n",
    "\n",
    "Neural networks are a series of algorithms that mimic the operations of a human brain to recognize relationships between vast amounts of data. They are used in a variety of applications in financial services, from forecasting and marketing research to fraud detection and risk assessment.\n",
    "\n",
    "A neural network contains layers of interconnected nodes. Each node is a perceptron and is similar to a multiple linear regression. The perceptron feeds the signal produced by a multiple linear regression into an activation function that may be nonlinear.\n",
    "\n",
    "In a multi-layered perceptron (MLP), perceptrons are arranged in interconnected layers. The input layer collects input patterns. The output layer has classifications or output signals to which input patterns may map. \n",
    "\n",
    "Hidden layers fine-tune the input weightings until the neural network’s margin of error is minimal. It is hypothesized that hidden layers extrapolate salient features in the input data that have predictive power regarding the outputs.\n",
    "\n",
    "You will discover **[how to create](https://towardsdatascience.com/building-our-first-neural-network-in-keras-bdc8abbc17f5)** your deep learning neural network model in Python using **[Keras](https://keras.io/about/)**. Keras is a powerful and easy-to-use free open source Python library for developing and evaluating deep learning models.\n",
    "\n",
    "- The steps you are going to cover for this algorithm are as follows:\n",
    "\n",
    "   *i. Import Libraries*\n",
    "   \n",
    "   *ii. Define Model*\n",
    "    \n",
    "   *iii. Compile Model*\n",
    "   \n",
    "   *iv. Fit Model*\n",
    "   \n",
    "   *v. Prediction and Model Evaluating*\n",
    "   \n",
    "   *vi. Plot Precision and Recall Curve*"
   ]
  },
  {
   "cell_type": "markdown",
   "metadata": {
    "id": "i9Rl75fpMuHi"
   },
   "source": [
    "***i. Import Libraries***"
   ]
  },
  {
   "cell_type": "code",
   "execution_count": null,
   "metadata": {
    "executionInfo": {
     "elapsed": 1897,
     "status": "ok",
     "timestamp": 1610977899555,
     "user": {
      "displayName": "Owen l",
      "photoUrl": "",
      "userId": "01085249422681493006"
     },
     "user_tz": -180
    },
    "id": "LhEc3K9KMuHi"
   },
   "outputs": [],
   "source": []
  },
  {
   "cell_type": "markdown",
   "metadata": {
    "id": "gD6Rh1R8MuHi"
   },
   "source": [
    "***ii. Define Model***"
   ]
  },
  {
   "cell_type": "code",
   "execution_count": null,
   "metadata": {
    "executionInfo": {
     "elapsed": 2582,
     "status": "ok",
     "timestamp": 1610977900244,
     "user": {
      "displayName": "Owen l",
      "photoUrl": "",
      "userId": "01085249422681493006"
     },
     "user_tz": -180
    },
    "id": "4okQmpRpMuHi"
   },
   "outputs": [],
   "source": []
  },
  {
   "cell_type": "markdown",
   "metadata": {
    "id": "_IQN7--qMuHi"
   },
   "source": [
    "***iii. Compile Model***"
   ]
  },
  {
   "cell_type": "code",
   "execution_count": null,
   "metadata": {
    "executionInfo": {
     "elapsed": 2582,
     "status": "ok",
     "timestamp": 1610977900245,
     "user": {
      "displayName": "Owen l",
      "photoUrl": "",
      "userId": "01085249422681493006"
     },
     "user_tz": -180
    },
    "id": "f4W96rfHMuHi"
   },
   "outputs": [],
   "source": []
  },
  {
   "cell_type": "markdown",
   "metadata": {
    "id": "PsM_5PhJMuHi"
   },
   "source": [
    "***iv. Fit Model***"
   ]
  },
  {
   "cell_type": "code",
   "execution_count": null,
   "metadata": {
    "executionInfo": {
     "elapsed": 2580,
     "status": "ok",
     "timestamp": 1610977900245,
     "user": {
      "displayName": "Owen l",
      "photoUrl": "",
      "userId": "01085249422681493006"
     },
     "user_tz": -180
    },
    "id": "cmkPKExFMuHj"
   },
   "outputs": [],
   "source": []
  },
  {
   "cell_type": "markdown",
   "metadata": {
    "id": "InMeP9kgMuHj"
   },
   "source": [
    "***v. Prediction and Model Evaluating***"
   ]
  },
  {
   "cell_type": "code",
   "execution_count": null,
   "metadata": {
    "executionInfo": {
     "elapsed": 2579,
     "status": "ok",
     "timestamp": 1610977900246,
     "user": {
      "displayName": "Owen l",
      "photoUrl": "",
      "userId": "01085249422681493006"
     },
     "user_tz": -180
    },
    "id": "wRi_uFjIMuHj"
   },
   "outputs": [],
   "source": []
  },
  {
   "cell_type": "markdown",
   "metadata": {
    "id": "_JAEDNkjMuHj"
   },
   "source": [
    "***vi. Plot Precision and Recall Curve***"
   ]
  },
  {
   "cell_type": "markdown",
   "metadata": {
    "id": "LpbiGnpIxVK3"
   },
   "source": [
    "## 4. Model Deployement\n",
    "You cooked the food in the kitchen and moved on to the serving stage. The question is how do you showcase your work to others? Model Deployement helps you showcase your work to the world and make better decisions with it. But, deploying a model can get a little tricky at times. Before deploying the model, many things such as data storage, preprocessing, model building and monitoring need to be studied.\n",
    "\n",
    "Deployment of machine learning models, means making your models available to your other business systems. By deploying models, other systems can send data to them and get their predictions, which are in turn populated back into the company systems. Through machine learning model deployment, can begin to take full advantage of the model you built.\n",
    "\n",
    "Data science is concerned with how to build machine learning models, which algorithm is more predictive, how to design features, and what variables to use to make the models more accurate. However, how these models are actually used is often neglected. And yet this is the most important step in the machine learning pipline. Only when a model is fully integrated with the business systems, real values ​​can be extract from its predictions.\n",
    "\n",
    "After doing the following operations in this notebook, jump to *Pycharm* and create your web app with Flask API."
   ]
  },
  {
   "cell_type": "markdown",
   "metadata": {
    "id": "oCAYcMLEH_7P"
   },
   "source": [
    "### Save and Export the Model as .pkl\n"
   ]
  },
  {
   "cell_type": "code",
   "execution_count": null,
   "metadata": {
    "id": "MqluJ9yvIOex"
   },
   "outputs": [],
   "source": []
  },
  {
   "cell_type": "markdown",
   "metadata": {
    "id": "vaZP1N93IPQi"
   },
   "source": [
    "### Save and Export Variables as .pkl"
   ]
  },
  {
   "cell_type": "code",
   "execution_count": null,
   "metadata": {
    "id": "q_vA-dJWxfFH"
   },
   "outputs": [],
   "source": []
  },
  {
   "cell_type": "markdown",
   "metadata": {
    "id": "cm9Z__Y7MuHj"
   },
   "source": [
    "___\n",
    "\n",
    "<p style=\"text-align: center;\"><img src=\"https://docs.google.com/uc?id=1lY0Uj5R04yMY3-ZppPWxqCr5pvBLYPnV\" class=\"img-fluid\" alt=\"CLRSWY\"></p>\n",
    "\n",
    "___"
   ]
  }
 ],
 "metadata": {
  "colab": {
   "collapsed_sections": [
    "OV28RJBeMuHb",
    "hlm6gCsKMuHb",
    "zKZcwgucJQ0I",
    "4f8q5y12MuHe",
    "9wvBCEvpJQ0U",
    "_3zm70O7JQ0Z"
   ],
   "name": "Fraud Detection_Student_V2.ipynb",
   "provenance": [],
   "toc_visible": true
  },
  "kernelspec": {
   "display_name": "Python 3",
   "language": "python",
   "name": "python3"
  },
  "language_info": {
   "codemirror_mode": {
    "name": "ipython",
    "version": 3
   },
   "file_extension": ".py",
   "mimetype": "text/x-python",
   "name": "python",
   "nbconvert_exporter": "python",
   "pygments_lexer": "ipython3",
   "version": "3.9.1"
  }
 },
 "nbformat": 4,
 "nbformat_minor": 1
}
