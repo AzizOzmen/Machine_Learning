{
 "cells": [
  {
   "cell_type": "code",
   "execution_count": null,
   "metadata": {
    "_cell_guid": "b1076dfc-b9ad-4769-8c92-a6c4dae69d19",
    "_uuid": "8f2839f25d086af736a60e9eeb907d3b93b6e0e5",
    "execution": {
     "iopub.execute_input": "2021-10-08T18:46:00.784089Z",
     "iopub.status.busy": "2021-10-08T18:46:00.78375Z",
     "iopub.status.idle": "2021-10-08T18:46:00.801725Z",
     "shell.execute_reply": "2021-10-08T18:46:00.800473Z",
     "shell.execute_reply.started": "2021-10-08T18:46:00.784052Z"
    }
   },
   "outputs": [],
   "source": [
    "# This Python 3 environment comes with many helpful analytics libraries installed\n",
    "# It is defined by the kaggle/python Docker image: https://github.com/kaggle/docker-python\n",
    "# For example, here's several helpful packages to load\n",
    "\n",
    "import numpy as np # linear algebra\n",
    "import pandas as pd # data processing, CSV file I/O (e.g. pd.read_csv)\n",
    "\n",
    "# Input data files are available in the read-only \"../input/\" directory\n",
    "# For example, running this (by clicking run or pressing Shift+Enter) will list all files under the input directory\n",
    "\n",
    "import os\n",
    "for dirname, _, filenames in os.walk('/kaggle/input'):\n",
    "    for filename in filenames:\n",
    "        print(os.path.join(dirname, filename))\n",
    "\n",
    "# You can write up to 20GB to the current directory (/kaggle/working/) that gets preserved as output when you create a version using \"Save & Run All\" \n",
    "# You can also write temporary files to /kaggle/temp/, but they won't be saved outside of the current session"
   ]
  },
  {
   "cell_type": "code",
   "execution_count": null,
   "metadata": {
    "execution": {
     "iopub.execute_input": "2021-10-08T18:46:00.805042Z",
     "iopub.status.busy": "2021-10-08T18:46:00.804591Z",
     "iopub.status.idle": "2021-10-08T18:46:00.82294Z",
     "shell.execute_reply": "2021-10-08T18:46:00.821719Z",
     "shell.execute_reply.started": "2021-10-08T18:46:00.805007Z"
    }
   },
   "outputs": [],
   "source": [
    "# importing libraries\n",
    "import numpy as np\n",
    "import pandas as pd\n",
    "\n",
    "import seaborn as sns\n",
    "import plotly.express as px\n",
    "import matplotlib.ticker as mtick\n",
    "import matplotlib.pyplot as plt\n",
    "%matplotlib inline\n",
    "\n",
    "from sklearn import metrics\n",
    "from sklearn.model_selection import train_test_split\n",
    "from sklearn.preprocessing import OneHotEncoder\n",
    "\n",
    "from sklearn.tree import DecisionTreeClassifier\n",
    "\n",
    "from imblearn.combine import SMOTEENN # imbalanced-learn Python library,\n",
    "\n",
    "import warnings\n",
    "warnings.filterwarnings('ignore')"
   ]
  },
  {
   "cell_type": "code",
   "execution_count": null,
   "metadata": {
    "execution": {
     "iopub.execute_input": "2021-10-08T18:46:00.824797Z",
     "iopub.status.busy": "2021-10-08T18:46:00.824536Z",
     "iopub.status.idle": "2021-10-08T18:46:00.837325Z",
     "shell.execute_reply": "2021-10-08T18:46:00.8366Z",
     "shell.execute_reply.started": "2021-10-08T18:46:00.824762Z"
    }
   },
   "outputs": [],
   "source": [
    "# to get a view of all the columns\n",
    "pd.set_option(\"display.max_columns\", None)"
   ]
  },
  {
   "cell_type": "markdown",
   "metadata": {},
   "source": [
    "### About features available:\n",
    "  #### 1.customerID - customer id\n",
    "  #### 2. gender - client's gender (male / female)\n",
    "  #### 3. SeniorCitizen - is the client retired (1-yes, 0-no)\n",
    "  #### 4. Partner - is the client married (Yes, No)\n",
    "  #### 5. tenure - how many months a person has been a client of the company\n",
    "  #### 6. PhoneService - is the telephone service connected (Yes, No)\n",
    "  #### 7. MultipleLines - are multiple phone lines connected (Yes, No, No phone service)\n",
    "  #### 8. InternetService - client's Internet service provider (DSL, Fiber optic, No)\n",
    "  #### 9. OnlineSecurity - is the online security service connected (Yes, No, No internet service)\n",
    "  #### 10. OnlineBackup - is the online backup service activated (Yes, No, No internet service)\n",
    "  #### 11. DeviceProtection - does the client have equipment insurance (Yes, No, No internet service)\n",
    "  #### 12. TechSupport - is the technical support service connected (Yes, No, No internet service)\n",
    "  #### 13. StreamingTV - is the streaming TV service connected (Yes, No, No internet service)\n",
    "  #### 14. StreamingMovies - is the streaming cinema service activated (Yes, No, No internet service)\n",
    "  #### 15. Contract - type of customer contract (Month-to-month, One year, Two year)\n",
    "  #### 16. PaperlessBilling - whether the client uses paperless billing (Yes, No)\n",
    "  #### 17. PaymentMethod - payment method (Electronic check, Mailed check, Bank transfer (automatic), Credit card (automatic))\n",
    "  #### 18. MonthlyCharges - current monthly payment\n",
    "  #### 19. TotalCharges - the total amount that the client paid for the services for the entire time\n",
    "  #### 20.**Churn** - whether there was a churn (Yes or No)"
   ]
  },
  {
   "cell_type": "code",
   "execution_count": null,
   "metadata": {
    "execution": {
     "iopub.execute_input": "2021-10-08T18:46:00.841167Z",
     "iopub.status.busy": "2021-10-08T18:46:00.840934Z",
     "iopub.status.idle": "2021-10-08T18:46:00.92852Z",
     "shell.execute_reply": "2021-10-08T18:46:00.922563Z",
     "shell.execute_reply.started": "2021-10-08T18:46:00.841144Z"
    }
   },
   "outputs": [],
   "source": [
    "# Importing data\n",
    "dataset = pd.read_csv(\"../input/telco-customer-churn/WA_Fn-UseC_-Telco-Customer-Churn.csv\")\n",
    "dataset.head()"
   ]
  },
  {
   "cell_type": "code",
   "execution_count": null,
   "metadata": {
    "execution": {
     "iopub.execute_input": "2021-10-08T18:46:00.932275Z",
     "iopub.status.busy": "2021-10-08T18:46:00.931107Z",
     "iopub.status.idle": "2021-10-08T18:46:00.947312Z",
     "shell.execute_reply": "2021-10-08T18:46:00.946566Z",
     "shell.execute_reply.started": "2021-10-08T18:46:00.932228Z"
    }
   },
   "outputs": [],
   "source": [
    "dataset.Churn.value_counts() # pandas.core.series.Series"
   ]
  },
  {
   "cell_type": "code",
   "execution_count": null,
   "metadata": {
    "execution": {
     "iopub.execute_input": "2021-10-08T18:46:00.953989Z",
     "iopub.status.busy": "2021-10-08T18:46:00.951729Z",
     "iopub.status.idle": "2021-10-08T18:46:01.19325Z",
     "shell.execute_reply": "2021-10-08T18:46:01.192643Z",
     "shell.execute_reply.started": "2021-10-08T18:46:00.95395Z"
    }
   },
   "outputs": [],
   "source": [
    "# Visualization of imbalance data\n",
    "plt.bar(x = dataset['Churn'].unique(), height = dataset.Churn.value_counts())\n",
    "plt.legend()\n",
    "plt.xlabel(\"Churn label\")\n",
    "plt.ylabel(\"Count\")\n",
    "plt.show()"
   ]
  },
  {
   "cell_type": "code",
   "execution_count": null,
   "metadata": {
    "execution": {
     "iopub.execute_input": "2021-10-08T18:46:01.198705Z",
     "iopub.status.busy": "2021-10-08T18:46:01.196874Z",
     "iopub.status.idle": "2021-10-08T18:46:01.382589Z",
     "shell.execute_reply": "2021-10-08T18:46:01.381883Z",
     "shell.execute_reply.started": "2021-10-08T18:46:01.198669Z"
    }
   },
   "outputs": [],
   "source": [
    "plt.pie(dataset.Churn.value_counts(), labels = dataset['Churn'].unique(), explode = [0.1, 0.5])\n",
    "plt.legend()\n",
    "plt.show()"
   ]
  },
  {
   "cell_type": "markdown",
   "metadata": {},
   "source": [
    "##### Observations: The data is clearly imbalanced (More data of non-churners)\n",
    "##### As Data is imbanced, we shouldn't consider \"Accuracy\" to measure the performance of the model. Accuracy will give wrong measure, for eg. lets just print \"No\" for every example, then also majority of times we will be correct."
   ]
  },
  {
   "cell_type": "markdown",
   "metadata": {},
   "source": [
    "## Data Description"
   ]
  },
  {
   "cell_type": "code",
   "execution_count": null,
   "metadata": {
    "execution": {
     "iopub.execute_input": "2021-10-08T18:46:01.388535Z",
     "iopub.status.busy": "2021-10-08T18:46:01.386552Z",
     "iopub.status.idle": "2021-10-08T18:46:01.429705Z",
     "shell.execute_reply": "2021-10-08T18:46:01.429039Z",
     "shell.execute_reply.started": "2021-10-08T18:46:01.388499Z"
    }
   },
   "outputs": [],
   "source": [
    "# more understanding on data\n",
    "dataset.info()"
   ]
  },
  {
   "cell_type": "markdown",
   "metadata": {},
   "source": [
    "##### Observations: Most of the columns are of **object** type, with seemingly no missing values"
   ]
  },
  {
   "cell_type": "code",
   "execution_count": null,
   "metadata": {
    "execution": {
     "iopub.execute_input": "2021-10-08T18:46:01.435718Z",
     "iopub.status.busy": "2021-10-08T18:46:01.433672Z",
     "iopub.status.idle": "2021-10-08T18:46:01.56726Z",
     "shell.execute_reply": "2021-10-08T18:46:01.566544Z",
     "shell.execute_reply.started": "2021-10-08T18:46:01.435679Z"
    }
   },
   "outputs": [],
   "source": [
    "# include='all' helps to describe all types of columns, (both categorical and numerical)\n",
    "dataset.describe(include='all')"
   ]
  },
  {
   "cell_type": "markdown",
   "metadata": {},
   "source": [
    "### Observations: using .info() and .describe() method we can observe that although 'TotalCharges' have been considered as object, but in reality it is numeric. So we must further investigate"
   ]
  },
  {
   "cell_type": "code",
   "execution_count": null,
   "metadata": {
    "execution": {
     "iopub.execute_input": "2021-10-08T18:46:01.570432Z",
     "iopub.status.busy": "2021-10-08T18:46:01.570062Z",
     "iopub.status.idle": "2021-10-08T18:46:01.584329Z",
     "shell.execute_reply": "2021-10-08T18:46:01.583367Z",
     "shell.execute_reply.started": "2021-10-08T18:46:01.570398Z"
    }
   },
   "outputs": [],
   "source": [
    "dataset.TotalCharges.value_counts()\n",
    "# Observation: There is one ' ' blank value, which has occurred 11 times; making the data type as object instead of float64"
   ]
  },
  {
   "cell_type": "code",
   "execution_count": null,
   "metadata": {
    "execution": {
     "iopub.execute_input": "2021-10-08T18:46:01.585895Z",
     "iopub.status.busy": "2021-10-08T18:46:01.585636Z",
     "iopub.status.idle": "2021-10-08T18:46:01.615983Z",
     "shell.execute_reply": "2021-10-08T18:46:01.615043Z",
     "shell.execute_reply.started": "2021-10-08T18:46:01.585863Z"
    }
   },
   "outputs": [],
   "source": [
    "dataset[dataset['TotalCharges'] == ' ']\n",
    "# rows with total Charges as blank(' ')"
   ]
  },
  {
   "cell_type": "code",
   "execution_count": null,
   "metadata": {
    "execution": {
     "iopub.execute_input": "2021-10-08T18:46:01.618353Z",
     "iopub.status.busy": "2021-10-08T18:46:01.61794Z",
     "iopub.status.idle": "2021-10-08T18:46:01.636028Z",
     "shell.execute_reply": "2021-10-08T18:46:01.635178Z",
     "shell.execute_reply.started": "2021-10-08T18:46:01.618316Z"
    }
   },
   "outputs": [],
   "source": [
    "# We will replace the 11 blank places with 0.0 here\n",
    "print(\"Before removing blank values\")\n",
    "print(dataset[dataset['TotalCharges'] == ' '].index) \n",
    "# to print those indexes values where variable 'TotalCharges == ' '\n",
    "\n",
    "# dataset['TotalCharges'] = dataset.TotalCharges.replace(r'^\\s*$', 0.0, regex=True) \n",
    "# to replace white spaces (any number of white spaces (' ') and then ending with white space) with 0.0\n",
    "# replacing with corresponding Monthly charges, where TotalCharges has blanks\n",
    "# df['col1'] = np.where(df['col1'] == ' ', df['col2'], df['col1'])\n",
    "dataset['TotalCharges'] = np.where(dataset['TotalCharges'] == ' ', dataset['MonthlyCharges'], dataset['TotalCharges'])\n",
    "\n",
    "print(\"After removing full blank values\")\n",
    "print(dataset[dataset['TotalCharges'] == ' '].index)"
   ]
  },
  {
   "cell_type": "code",
   "execution_count": null,
   "metadata": {
    "execution": {
     "iopub.execute_input": "2021-10-08T18:46:01.637414Z",
     "iopub.status.busy": "2021-10-08T18:46:01.63707Z",
     "iopub.status.idle": "2021-10-08T18:46:01.669287Z",
     "shell.execute_reply": "2021-10-08T18:46:01.668252Z",
     "shell.execute_reply.started": "2021-10-08T18:46:01.637376Z"
    }
   },
   "outputs": [],
   "source": [
    "dataset[dataset['TotalCharges'] == dataset['MonthlyCharges']]\n",
    "# After replacing blanks"
   ]
  },
  {
   "cell_type": "markdown",
   "metadata": {},
   "source": [
    "#### Converting 'TotalCharges'from categorical to float type"
   ]
  },
  {
   "cell_type": "code",
   "execution_count": null,
   "metadata": {
    "execution": {
     "iopub.execute_input": "2021-10-08T18:46:01.671297Z",
     "iopub.status.busy": "2021-10-08T18:46:01.670824Z",
     "iopub.status.idle": "2021-10-08T18:46:01.719678Z",
     "shell.execute_reply": "2021-10-08T18:46:01.718788Z",
     "shell.execute_reply.started": "2021-10-08T18:46:01.67126Z"
    }
   },
   "outputs": [],
   "source": [
    "# we need to change the data type of variable 'Totalcharges' to float64\n",
    "dataset.info() # still object\n",
    "dataset['TotalCharges'] = dataset['TotalCharges'].astype(float)\n",
    "dataset.info() # yes now it has changed to float64"
   ]
  },
  {
   "cell_type": "markdown",
   "metadata": {},
   "source": [
    "# Understanding the Business Problem\n",
    "### To get an understanding of data and give our analysis some direction we can come up with some basic questions as follows:\n",
    "#### 1. How gender, partner and dependents are related to churn? \n",
    "#### 2. How tenure has an impact on churn?\n",
    "#### 3. As the dataset is about telecom industry, we need some insights on phone and internet services!\n",
    "#### 4. Does Tech support have any impact on churn?\n",
    "#### 5. Is there any relationship of churn with monthly charges or total charges?\n",
    "#### 6. How is the service for customers who opted for streaming?\n",
    "#### 7. How contract is impacting business the most?"
   ]
  },
  {
   "cell_type": "markdown",
   "metadata": {},
   "source": [
    "# Visualization \n",
    "#### Mostly using Plotly and Seaborn"
   ]
  },
  {
   "cell_type": "markdown",
   "metadata": {},
   "source": [
    "### 1. How gender, partner and dependents are related to churn?"
   ]
  },
  {
   "cell_type": "code",
   "execution_count": null,
   "metadata": {
    "execution": {
     "iopub.execute_input": "2021-10-08T18:46:01.721246Z",
     "iopub.status.busy": "2021-10-08T18:46:01.720968Z",
     "iopub.status.idle": "2021-10-08T18:46:01.736408Z",
     "shell.execute_reply": "2021-10-08T18:46:01.735532Z",
     "shell.execute_reply.started": "2021-10-08T18:46:01.721202Z"
    }
   },
   "outputs": [],
   "source": [
    "# The count for each churn categories in this path\n",
    "dataset.groupby(['gender', 'Partner', 'Dependents', 'Churn']).size()"
   ]
  },
  {
   "cell_type": "code",
   "execution_count": null,
   "metadata": {
    "execution": {
     "iopub.execute_input": "2021-10-08T18:46:01.738197Z",
     "iopub.status.busy": "2021-10-08T18:46:01.737935Z",
     "iopub.status.idle": "2021-10-08T18:46:01.762955Z",
     "shell.execute_reply": "2021-10-08T18:46:01.762093Z",
     "shell.execute_reply.started": "2021-10-08T18:46:01.738164Z"
    }
   },
   "outputs": [],
   "source": [
    "# instead of keeping multi index, or merged data, changing it to row-wise data to get a better view\n",
    "dataset.groupby(['gender', 'Partner', 'Dependents', 'Churn']).size().reset_index(name='Count')"
   ]
  },
  {
   "cell_type": "code",
   "execution_count": null,
   "metadata": {
    "execution": {
     "iopub.execute_input": "2021-10-08T18:46:01.764625Z",
     "iopub.status.busy": "2021-10-08T18:46:01.764215Z",
     "iopub.status.idle": "2021-10-08T18:46:01.898095Z",
     "shell.execute_reply": "2021-10-08T18:46:01.897333Z",
     "shell.execute_reply.started": "2021-10-08T18:46:01.764592Z"
    }
   },
   "outputs": [],
   "source": [
    "# visualizing the above info using plotly\n",
    "# Treemap charts visualize hierarchical data using nested rectangles\n",
    "# all the features here are categorical in nature\n",
    "fig = px.treemap(dataset.groupby(['gender', 'Partner', 'Dependents', 'Churn']).size().reset_index(name='Count'), \n",
    "                 path=['gender', 'Partner', 'Dependents', 'Churn'], values='Count', color='Churn', \n",
    "                 title='1. How gender, partner and dependents are related to churn?')\n",
    "\n",
    "fig.show()"
   ]
  },
  {
   "cell_type": "markdown",
   "metadata": {},
   "source": [
    "#### Observation: Whether male or female, if they do not have partner or dependents, they are more likely to churn!!"
   ]
  },
  {
   "cell_type": "markdown",
   "metadata": {},
   "source": [
    "### 2. Does tenure has any impact on churn?"
   ]
  },
  {
   "cell_type": "code",
   "execution_count": null,
   "metadata": {
    "execution": {
     "iopub.execute_input": "2021-10-08T18:46:01.899624Z",
     "iopub.status.busy": "2021-10-08T18:46:01.89936Z",
     "iopub.status.idle": "2021-10-08T18:46:01.918003Z",
     "shell.execute_reply": "2021-10-08T18:46:01.91735Z",
     "shell.execute_reply.started": "2021-10-08T18:46:01.899592Z"
    }
   },
   "outputs": [],
   "source": [
    "dataset.groupby(['tenure', 'Churn']).size().reset_index(name='count')\n",
    "# tenure is a numerical variable, and thus will have large number of unique values"
   ]
  },
  {
   "cell_type": "code",
   "execution_count": null,
   "metadata": {
    "execution": {
     "iopub.execute_input": "2021-10-08T18:46:01.919388Z",
     "iopub.status.busy": "2021-10-08T18:46:01.919142Z",
     "iopub.status.idle": "2021-10-08T18:46:02.009512Z",
     "shell.execute_reply": "2021-10-08T18:46:02.00869Z",
     "shell.execute_reply.started": "2021-10-08T18:46:01.919357Z"
    }
   },
   "outputs": [],
   "source": [
    "# Here, reset_index is from pandas.Series.reset_index\n",
    "# A rug plot is a plot of data for a single quantitative variable, displayed as marks along an axis. \n",
    "# Rug plots are used to visualise the distribution of the data\n",
    "\n",
    "# A marginal distribution is the percentages out of totals\n",
    "\n",
    "fig = px.histogram(dataset.groupby(['tenure', 'Churn']).size().reset_index(name='count'), \n",
    "                   x=\"tenure\", y=\"count\", color=\"Churn\", marginal=\"rug\", color_discrete_map={\"Yes\":\"#E45756\", \"No\":\"#1CBE4F\"}, \n",
    "                   title=\"2. Does tenure has any impact on churn?\")\n",
    "\n",
    "fig.show()\n",
    "\n",
    "# Observation: customers with low tenure (0-10) has the highest rate of churning"
   ]
  },
  {
   "cell_type": "markdown",
   "metadata": {},
   "source": [
    "##### Observation: During 0-10 years of tenure, we can see maximum churning. As the customer turns old, they might get habituated using same telecom service"
   ]
  },
  {
   "cell_type": "markdown",
   "metadata": {},
   "source": [
    "### 3. As the dataset is about telecom industry, we need some insights on phone and internet services!"
   ]
  },
  {
   "cell_type": "code",
   "execution_count": null,
   "metadata": {
    "execution": {
     "iopub.execute_input": "2021-10-08T18:46:02.011137Z",
     "iopub.status.busy": "2021-10-08T18:46:02.010885Z",
     "iopub.status.idle": "2021-10-08T18:46:02.02355Z",
     "shell.execute_reply": "2021-10-08T18:46:02.022735Z",
     "shell.execute_reply.started": "2021-10-08T18:46:02.011101Z"
    }
   },
   "outputs": [],
   "source": [
    "dataset.groupby(['Churn', 'PhoneService', 'InternetService']).size()"
   ]
  },
  {
   "cell_type": "code",
   "execution_count": null,
   "metadata": {
    "execution": {
     "iopub.execute_input": "2021-10-08T18:46:02.025177Z",
     "iopub.status.busy": "2021-10-08T18:46:02.024913Z",
     "iopub.status.idle": "2021-10-08T18:46:02.124022Z",
     "shell.execute_reply": "2021-10-08T18:46:02.12319Z",
     "shell.execute_reply.started": "2021-10-08T18:46:02.025144Z"
    }
   },
   "outputs": [],
   "source": [
    "# Sunburst plots visualize hierarchical data spanning outwards radially from root to leaves\n",
    "# the root starts from the center and children are added to the outer rings.\n",
    "\n",
    "fig = px.sunburst(dataset.groupby(['Churn', 'PhoneService', 'InternetService']).size().reset_index(name='count'), \n",
    "                  path = ['Churn', 'PhoneService', 'InternetService'], values = 'count', \n",
    "                  title='3. As the dataset is about telecom industry, we need some insights on phone and internet services!')\n",
    "\n",
    "fig.show()"
   ]
  },
  {
   "cell_type": "markdown",
   "metadata": {},
   "source": [
    "##### Observations: People with Phone services (yes) and 'Fiber optic' Internet Service are churning more"
   ]
  },
  {
   "cell_type": "markdown",
   "metadata": {},
   "source": [
    "### 4. Does Tech support have any impact on churn, considering the tenure?"
   ]
  },
  {
   "cell_type": "code",
   "execution_count": null,
   "metadata": {
    "execution": {
     "iopub.execute_input": "2021-10-08T18:46:02.125779Z",
     "iopub.status.busy": "2021-10-08T18:46:02.125317Z",
     "iopub.status.idle": "2021-10-08T18:46:02.138688Z",
     "shell.execute_reply": "2021-10-08T18:46:02.137753Z",
     "shell.execute_reply.started": "2021-10-08T18:46:02.125744Z"
    }
   },
   "outputs": [],
   "source": [
    "np.unique(dataset.TechSupport)"
   ]
  },
  {
   "cell_type": "code",
   "execution_count": null,
   "metadata": {
    "execution": {
     "iopub.execute_input": "2021-10-08T18:46:02.140897Z",
     "iopub.status.busy": "2021-10-08T18:46:02.140419Z",
     "iopub.status.idle": "2021-10-08T18:46:02.151647Z",
     "shell.execute_reply": "2021-10-08T18:46:02.150926Z",
     "shell.execute_reply.started": "2021-10-08T18:46:02.140862Z"
    }
   },
   "outputs": [],
   "source": [
    "# Let me take only \"Yes\" and \"No\" for TechSupport in consideration\n",
    "data_techSupport_yes = dataset[dataset['TechSupport'] == 'Yes']\n",
    "data_techSupport_no = dataset[dataset['TechSupport'] == 'No'] # type == pandas.core.frame.DataFrame\n",
    "# same as --> dataset.loc[dataset['TechSupport'] == 'No',:]"
   ]
  },
  {
   "cell_type": "markdown",
   "metadata": {},
   "source": [
    "#### Customers who took tech support"
   ]
  },
  {
   "cell_type": "code",
   "execution_count": null,
   "metadata": {
    "execution": {
     "iopub.execute_input": "2021-10-08T18:46:02.153436Z",
     "iopub.status.busy": "2021-10-08T18:46:02.153183Z",
     "iopub.status.idle": "2021-10-08T18:46:02.165264Z",
     "shell.execute_reply": "2021-10-08T18:46:02.164531Z",
     "shell.execute_reply.started": "2021-10-08T18:46:02.153404Z"
    }
   },
   "outputs": [],
   "source": [
    "# for each tenure, whether Churned or not, and its corresponding count\n",
    "data_techSupport_yes.groupby(['tenure', 'Churn']).size()"
   ]
  },
  {
   "cell_type": "code",
   "execution_count": null,
   "metadata": {
    "execution": {
     "iopub.execute_input": "2021-10-08T18:46:02.169987Z",
     "iopub.status.busy": "2021-10-08T18:46:02.169805Z",
     "iopub.status.idle": "2021-10-08T18:46:02.257354Z",
     "shell.execute_reply": "2021-10-08T18:46:02.256583Z",
     "shell.execute_reply.started": "2021-10-08T18:46:02.169966Z"
    }
   },
   "outputs": [],
   "source": [
    "fig = px.histogram(data_techSupport_yes.groupby(['tenure', 'Churn']).size().reset_index(name='count'), \n",
    "                   x=\"tenure\", y=\"count\", marginal=\"rug\", color=\"Churn\", color_discrete_map={\"Yes\":\"#E45756\", \"No\":\"#1CBE4F\"}, \n",
    "                   title=\"Statistics of customers opted for tech support with churning\")\n",
    "# color=\"Churn\" is vvi to mention, or else it will color 'count'\n",
    "fig.show()"
   ]
  },
  {
   "cell_type": "markdown",
   "metadata": {},
   "source": [
    "#### Customers who didn't took tech support"
   ]
  },
  {
   "cell_type": "code",
   "execution_count": null,
   "metadata": {
    "execution": {
     "iopub.execute_input": "2021-10-08T18:46:02.258861Z",
     "iopub.status.busy": "2021-10-08T18:46:02.258425Z",
     "iopub.status.idle": "2021-10-08T18:46:02.272014Z",
     "shell.execute_reply": "2021-10-08T18:46:02.271383Z",
     "shell.execute_reply.started": "2021-10-08T18:46:02.258825Z"
    }
   },
   "outputs": [],
   "source": [
    "# for each tenure, whether Churned or not, and its corresponding count\n",
    "data_techSupport_no.groupby(['tenure', 'Churn']).size()"
   ]
  },
  {
   "cell_type": "code",
   "execution_count": null,
   "metadata": {
    "execution": {
     "iopub.execute_input": "2021-10-08T18:46:02.273459Z",
     "iopub.status.busy": "2021-10-08T18:46:02.273138Z",
     "iopub.status.idle": "2021-10-08T18:46:02.358978Z",
     "shell.execute_reply": "2021-10-08T18:46:02.358235Z",
     "shell.execute_reply.started": "2021-10-08T18:46:02.273402Z"
    }
   },
   "outputs": [],
   "source": [
    "# plotting histogram for customer churning who took no tech support\n",
    "fig = px.histogram(data_techSupport_no.groupby(['tenure', 'Churn']).size().reset_index(name='count'),\n",
    "                   x='tenure', y='count',color='Churn', marginal='rug', color_discrete_map={\"Yes\":\"#E45756\", \"No\":\"#1CBE4F\"}, \n",
    "                   title=\"Statistics of customers opted for tech support with churning\")\n",
    "\n",
    "fig.show()"
   ]
  },
  {
   "cell_type": "code",
   "execution_count": null,
   "metadata": {
    "execution": {
     "iopub.execute_input": "2021-10-08T18:46:02.360428Z",
     "iopub.status.busy": "2021-10-08T18:46:02.36018Z",
     "iopub.status.idle": "2021-10-08T18:46:02.518013Z",
     "shell.execute_reply": "2021-10-08T18:46:02.517247Z",
     "shell.execute_reply.started": "2021-10-08T18:46:02.360394Z"
    }
   },
   "outputs": [],
   "source": [
    "fig = px.sunburst(dataset.groupby(['Churn', 'TechSupport', 'tenure']).size().reset_index(name='count'), \n",
    "                            path=['Churn', 'TechSupport', 'tenure'], values='count', \n",
    "                            title='Does customers opted for tech support stayed for longer tenure with less churn?')\n",
    "\n",
    "fig.show()"
   ]
  },
  {
   "cell_type": "markdown",
   "metadata": {},
   "source": [
    "##### Observations: more churning takes place in first 10 yrs (max in first year itself), for customers with or without tech support. But Churning is more in case of \"without tech support\" customers"
   ]
  },
  {
   "cell_type": "markdown",
   "metadata": {},
   "source": [
    "### 5. Is there any relationship of churn with monthly charges or total charges?"
   ]
  },
  {
   "cell_type": "markdown",
   "metadata": {},
   "source": [
    "#### About KDE\n",
    "* kernel density estimate (KDE) plot is a method for visualizing the distribution of observations in a dataset, analagous to a histogram. \n",
    "* KDE represents the data using a continuous probability density curve in one or more dimensions."
   ]
  },
  {
   "cell_type": "code",
   "execution_count": null,
   "metadata": {
    "execution": {
     "iopub.execute_input": "2021-10-08T18:46:02.519595Z",
     "iopub.status.busy": "2021-10-08T18:46:02.519348Z",
     "iopub.status.idle": "2021-10-08T18:46:02.937317Z",
     "shell.execute_reply": "2021-10-08T18:46:02.936534Z",
     "shell.execute_reply.started": "2021-10-08T18:46:02.519566Z"
    }
   },
   "outputs": [],
   "source": [
    "sns.set(rc={'figure.figsize':(26, 8.27)}) # rc - seems row, column\n",
    "sns.kdeplot(data = dataset, x=\"MonthlyCharges\", hue=\"Churn\", multiple=\"stack\").set(title=\"5. Is there any relationship of churn with monthly charges?\")"
   ]
  },
  {
   "cell_type": "markdown",
   "metadata": {},
   "source": [
    "##### Observations: As the monthy charges are incresing, we can see the density increasing too (60-120), which means more churning with increasing monthly charges"
   ]
  },
  {
   "cell_type": "code",
   "execution_count": null,
   "metadata": {
    "execution": {
     "iopub.execute_input": "2021-10-08T18:46:02.938891Z",
     "iopub.status.busy": "2021-10-08T18:46:02.938418Z",
     "iopub.status.idle": "2021-10-08T18:46:03.345749Z",
     "shell.execute_reply": "2021-10-08T18:46:03.345059Z",
     "shell.execute_reply.started": "2021-10-08T18:46:02.938854Z"
    }
   },
   "outputs": [],
   "source": [
    "sns.set(rc={'figure.figsize':(26,8.27)})\n",
    "sns.kdeplot(data=dataset, x=\"TotalCharges\", hue=\"Churn\", multiple=\"stack\").set(title=\"Did customers' total charges relate with churn?\")"
   ]
  },
  {
   "cell_type": "markdown",
   "metadata": {},
   "source": [
    "##### Observation: It is quite opposite of what has been seen for monthly charges. Here high churning occurs when total charges is less,  0-2000 total charges have maximum churning"
   ]
  },
  {
   "cell_type": "markdown",
   "metadata": {},
   "source": [
    "### 6. Is there any relation between churning and customers who opted for streaming?"
   ]
  },
  {
   "cell_type": "code",
   "execution_count": null,
   "metadata": {
    "execution": {
     "iopub.execute_input": "2021-10-08T18:46:03.347322Z",
     "iopub.status.busy": "2021-10-08T18:46:03.347074Z",
     "iopub.status.idle": "2021-10-08T18:46:03.358902Z",
     "shell.execute_reply": "2021-10-08T18:46:03.358029Z",
     "shell.execute_reply.started": "2021-10-08T18:46:03.347289Z"
    }
   },
   "outputs": [],
   "source": [
    "dataset.groupby(['Churn', 'StreamingTV']).size()"
   ]
  },
  {
   "cell_type": "code",
   "execution_count": null,
   "metadata": {
    "execution": {
     "iopub.execute_input": "2021-10-08T18:46:03.360795Z",
     "iopub.status.busy": "2021-10-08T18:46:03.360352Z",
     "iopub.status.idle": "2021-10-08T18:46:03.644579Z",
     "shell.execute_reply": "2021-10-08T18:46:03.643947Z",
     "shell.execute_reply.started": "2021-10-08T18:46:03.36076Z"
    }
   },
   "outputs": [],
   "source": [
    "ax = sns.barplot(x=\"StreamingTV\", y=\"count\", hue=\"Churn\", data = dataset.groupby(['Churn', 'StreamingTV']).size().reset_index(name='count'), \n",
    "                 palette=\"Set2\").set(title = \"6. Is there any relation between churning and customers who opted for streaming?\")"
   ]
  },
  {
   "cell_type": "code",
   "execution_count": null,
   "metadata": {
    "execution": {
     "iopub.execute_input": "2021-10-08T18:46:03.646084Z",
     "iopub.status.busy": "2021-10-08T18:46:03.645842Z",
     "iopub.status.idle": "2021-10-08T18:46:03.743656Z",
     "shell.execute_reply": "2021-10-08T18:46:03.742875Z",
     "shell.execute_reply.started": "2021-10-08T18:46:03.646051Z"
    }
   },
   "outputs": [],
   "source": [
    "fig = px.sunburst(dataset.groupby(['Churn', 'InternetService', 'StreamingTV']).size().reset_index(name='count'), \n",
    "                            path=['Churn', 'InternetService', 'StreamingTV'], values='count', \n",
    "                            title='6. Is there any relation between churning and customers who opted for streaming?')\n",
    "\n",
    "fig.show()"
   ]
  },
  {
   "cell_type": "code",
   "execution_count": null,
   "metadata": {
    "execution": {
     "iopub.execute_input": "2021-10-08T18:46:03.745258Z",
     "iopub.status.busy": "2021-10-08T18:46:03.745006Z",
     "iopub.status.idle": "2021-10-08T18:46:03.820694Z",
     "shell.execute_reply": "2021-10-08T18:46:03.819924Z",
     "shell.execute_reply.started": "2021-10-08T18:46:03.745226Z"
    }
   },
   "outputs": [],
   "source": [
    "fig = px.sunburst(dataset.groupby(['Churn', 'StreamingTV']).size().reset_index(name='count'), \n",
    "                            path=['Churn', 'StreamingTV'], values='count', \n",
    "                            title='Do customers opted for streaming, faced issue with the service?')\n",
    "\n",
    "fig.show()"
   ]
  },
  {
   "cell_type": "markdown",
   "metadata": {},
   "source": [
    "##### Observation: Churning is being observed equally for the 'Yes', 'No' group of whether connected StreamingTv or not!"
   ]
  },
  {
   "cell_type": "code",
   "execution_count": null,
   "metadata": {
    "execution": {
     "iopub.execute_input": "2021-10-08T18:46:03.822293Z",
     "iopub.status.busy": "2021-10-08T18:46:03.822044Z",
     "iopub.status.idle": "2021-10-08T18:46:03.833754Z",
     "shell.execute_reply": "2021-10-08T18:46:03.832917Z",
     "shell.execute_reply.started": "2021-10-08T18:46:03.822262Z"
    }
   },
   "outputs": [],
   "source": [
    "dataset.groupby(['Churn', 'StreamingMovies']).size()"
   ]
  },
  {
   "cell_type": "code",
   "execution_count": null,
   "metadata": {
    "execution": {
     "iopub.execute_input": "2021-10-08T18:46:03.835404Z",
     "iopub.status.busy": "2021-10-08T18:46:03.835015Z",
     "iopub.status.idle": "2021-10-08T18:46:04.116551Z",
     "shell.execute_reply": "2021-10-08T18:46:04.115919Z",
     "shell.execute_reply.started": "2021-10-08T18:46:03.835369Z"
    }
   },
   "outputs": [],
   "source": [
    "# plotting Streaming movies count with Churn to see if there exists any relationship\n",
    "ax = sns.barplot(x=\"Churn\", y=\"count\", hue=\"StreamingMovies\", \n",
    "                 data = dataset.groupby(['Churn', 'StreamingMovies']).size().reset_index(name=\"count\"), palette=\"Set2\").set(title=\"\")"
   ]
  },
  {
   "cell_type": "markdown",
   "metadata": {},
   "source": [
    "##### Observation: Churning is being observed equally for both the 'Yes', 'No' group of StreamingMovies"
   ]
  },
  {
   "cell_type": "markdown",
   "metadata": {},
   "source": [
    "### 7. How contract is impacting business?"
   ]
  },
  {
   "cell_type": "code",
   "execution_count": null,
   "metadata": {
    "execution": {
     "iopub.execute_input": "2021-10-08T18:46:04.117886Z",
     "iopub.status.busy": "2021-10-08T18:46:04.117641Z",
     "iopub.status.idle": "2021-10-08T18:46:04.129159Z",
     "shell.execute_reply": "2021-10-08T18:46:04.128466Z",
     "shell.execute_reply.started": "2021-10-08T18:46:04.117853Z"
    }
   },
   "outputs": [],
   "source": [
    "dataset.groupby(['Churn', 'Contract']).size()"
   ]
  },
  {
   "cell_type": "code",
   "execution_count": null,
   "metadata": {
    "execution": {
     "iopub.execute_input": "2021-10-08T18:46:04.130804Z",
     "iopub.status.busy": "2021-10-08T18:46:04.130364Z",
     "iopub.status.idle": "2021-10-08T18:46:04.20468Z",
     "shell.execute_reply": "2021-10-08T18:46:04.20391Z",
     "shell.execute_reply.started": "2021-10-08T18:46:04.130768Z"
    }
   },
   "outputs": [],
   "source": [
    "# plotting graph to get better understanding\n",
    "fig = px.sunburst(dataset.groupby(['Churn', 'Contract']).size().reset_index(name='count'), \n",
    "                  path=['Churn', 'Contract'], values='count', \n",
    "                  title='7. How contract is impacting business?')\n",
    "\n",
    "fig.show()"
   ]
  },
  {
   "cell_type": "markdown",
   "metadata": {},
   "source": [
    "### Observations: clearly visible that customers with month-to-month contract are the highest churners"
   ]
  },
  {
   "cell_type": "markdown",
   "metadata": {},
   "source": [
    "#### Senior Citizen vs Churning"
   ]
  },
  {
   "cell_type": "code",
   "execution_count": null,
   "metadata": {
    "execution": {
     "iopub.execute_input": "2021-10-08T18:46:04.206181Z",
     "iopub.status.busy": "2021-10-08T18:46:04.20588Z",
     "iopub.status.idle": "2021-10-08T18:46:04.282162Z",
     "shell.execute_reply": "2021-10-08T18:46:04.281406Z",
     "shell.execute_reply.started": "2021-10-08T18:46:04.206146Z"
    }
   },
   "outputs": [],
   "source": [
    "# plotting graph to get better understanding\n",
    "# 0 - not a senior citizen\n",
    "# 1 - senior citizen\n",
    "fig = px.sunburst(dataset.groupby(['Churn', 'SeniorCitizen']).size().reset_index(name='count'), \n",
    "                  path=['Churn', 'SeniorCitizen'], values='count', \n",
    "                  title='How being or non being SeniorCitizen is impacting Churning?')\n",
    "\n",
    "fig.show()"
   ]
  },
  {
   "cell_type": "code",
   "execution_count": null,
   "metadata": {
    "execution": {
     "iopub.execute_input": "2021-10-08T18:46:04.283731Z",
     "iopub.status.busy": "2021-10-08T18:46:04.283486Z",
     "iopub.status.idle": "2021-10-08T18:46:04.360214Z",
     "shell.execute_reply": "2021-10-08T18:46:04.359433Z",
     "shell.execute_reply.started": "2021-10-08T18:46:04.283699Z"
    }
   },
   "outputs": [],
   "source": [
    "# plotting graph to get better understanding\n",
    "fig = px.sunburst(dataset.groupby(['Churn', 'MultipleLines']).size().reset_index(name='count'), \n",
    "                  path=['Churn', 'MultipleLines'], values='count', \n",
    "                  title='How having MultipleLines is impacting Churning?')\n",
    "\n",
    "fig.show()\n",
    "# Observation: Having (yes) multiple lines have almost equal impact as not having (No) multiple lines"
   ]
  },
  {
   "cell_type": "markdown",
   "metadata": {},
   "source": [
    "### Observations Based on Visualizations\n",
    "* Observation-1: Whether male or female, if they do not have partner or dependents, they are more likely to churn!!¶\n",
    "* Observation-2: During 0-10 years of tenure, we can see maximum churning. As the customer turns old, they might get habituated using same telecom service\n",
    "* Observations-3: People with Phone services (yes) and 'Fiber optic' Internet Service are churning more\n",
    "* Observations-4:more churning takes place in first 10 yrs, for customers with or without tech support. But Churning is more in case of \"without tech support\" customers\n",
    "* Observations-5: As the monthy charges are incresing, we can see the density increasing too (60-120), which means more churning with increasing monthly charges\n",
    "* Observation-6: It is quite opposite of what has been seen for monthly charges. Here high churning occurs in early phase itself, 0-2000 total charges have maximum churning\n",
    "* Observation-7: Churning is being observed equally for the 'Yes', 'No' group of whether connected StreamingTv or not!\n",
    "* Observation-8: Churning is being observed equally for both the 'Yes', 'No' group of StreamingMovies\n",
    "* Observations-9: clearly visible that customers with month-to-month contract are the highest churners\n",
    "* Observation-10: Most churners are non-senior citizens. Although we should also consider the fact that, data is more for non-senior citizens (5:1)"
   ]
  },
  {
   "cell_type": "markdown",
   "metadata": {},
   "source": [
    "## Pandas Profiling\n",
    "[Tutorial by Analyticsvidya on Pandas Profiling](http://www.analyticsvidhya.com/blog/2021/06/generate-reports-using-pandas-profiling-deploy-using-streamlit/)\n",
    "\n",
    "#### Pandas Profiling consists of 3 tabs:\n",
    "* 1. Overview\n",
    "* 2. Warnings\n",
    "* 3. Reproduction\n",
    "\n",
    "#### The \"Overview\" consists of overall statistics of our dataframe passed. This includes the \n",
    "* - number of variables (features or columns of the dataframe), \n",
    "* - Number of observations (rows of dataframe), \n",
    "* - Missing cells,  \n",
    "* - Percentage of missing cells, \n",
    "* - Duplicate rows, \n",
    "* - Percentage of duplicate rows, \n",
    "* - Total size in memory.\n",
    "\n",
    "\n",
    "#### The \"Warnings\" tab provides waring info regarding cardinality, correlation among variables (features), missing values, skewness in features, etc.\n",
    "\n",
    "#### The \"reproduction\" tab is on meta data of report. It provides information like start time, end time of the report generation analysis, etc."
   ]
  },
  {
   "cell_type": "code",
   "execution_count": null,
   "metadata": {
    "execution": {
     "iopub.execute_input": "2021-10-08T18:46:04.361862Z",
     "iopub.status.busy": "2021-10-08T18:46:04.36141Z",
     "iopub.status.idle": "2021-10-08T18:46:23.300261Z",
     "shell.execute_reply": "2021-10-08T18:46:23.299688Z",
     "shell.execute_reply.started": "2021-10-08T18:46:04.361827Z"
    }
   },
   "outputs": [],
   "source": [
    "from pandas_profiling import ProfileReport\n",
    "\n",
    "# generating the profile report by passing the dataframe object to the profiling function\n",
    "profile = ProfileReport(dataset)\n",
    "profile\n",
    "# profile.to_file(\"Analysis.html\") --> if analysis is required in html format"
   ]
  },
  {
   "cell_type": "markdown",
   "metadata": {},
   "source": [
    "#### Observation: Most important piece of info that I can take into consideration is the Warning tab, showing correlations"
   ]
  },
  {
   "cell_type": "markdown",
   "metadata": {},
   "source": [
    "## Missing Values"
   ]
  },
  {
   "cell_type": "code",
   "execution_count": null,
   "metadata": {
    "execution": {
     "iopub.execute_input": "2021-10-08T18:46:23.301828Z",
     "iopub.status.busy": "2021-10-08T18:46:23.301457Z",
     "iopub.status.idle": "2021-10-08T18:46:23.325288Z",
     "shell.execute_reply": "2021-10-08T18:46:23.324628Z",
     "shell.execute_reply.started": "2021-10-08T18:46:23.301794Z"
    }
   },
   "outputs": [],
   "source": [
    "dataset.isnull().sum()"
   ]
  },
  {
   "cell_type": "markdown",
   "metadata": {},
   "source": [
    "##### Observations: No missing values observed"
   ]
  },
  {
   "cell_type": "code",
   "execution_count": null,
   "metadata": {
    "execution": {
     "iopub.execute_input": "2021-10-08T18:46:23.327207Z",
     "iopub.status.busy": "2021-10-08T18:46:23.326774Z",
     "iopub.status.idle": "2021-10-08T18:46:24.849319Z",
     "shell.execute_reply": "2021-10-08T18:46:24.848673Z",
     "shell.execute_reply.started": "2021-10-08T18:46:23.327139Z"
    }
   },
   "outputs": [],
   "source": [
    "import missingno as msno\n",
    "msno.bar(dataset)\n",
    "# All the features have complete data"
   ]
  },
  {
   "cell_type": "markdown",
   "metadata": {},
   "source": [
    "## Data Pre-processing"
   ]
  },
  {
   "cell_type": "markdown",
   "metadata": {},
   "source": [
    "#### Splitting data into dependent and indendent variables"
   ]
  },
  {
   "cell_type": "code",
   "execution_count": null,
   "metadata": {
    "execution": {
     "iopub.execute_input": "2021-10-08T18:46:24.850883Z",
     "iopub.status.busy": "2021-10-08T18:46:24.850544Z",
     "iopub.status.idle": "2021-10-08T18:46:24.858088Z",
     "shell.execute_reply": "2021-10-08T18:46:24.857367Z",
     "shell.execute_reply.started": "2021-10-08T18:46:24.850845Z"
    }
   },
   "outputs": [],
   "source": [
    "X = dataset.drop(['customerID', 'Churn'], axis=1)\n",
    "y = dataset.Churn"
   ]
  },
  {
   "cell_type": "code",
   "execution_count": null,
   "metadata": {
    "execution": {
     "iopub.execute_input": "2021-10-08T18:46:24.859667Z",
     "iopub.status.busy": "2021-10-08T18:46:24.859191Z",
     "iopub.status.idle": "2021-10-08T18:46:24.868204Z",
     "shell.execute_reply": "2021-10-08T18:46:24.867426Z",
     "shell.execute_reply.started": "2021-10-08T18:46:24.859631Z"
    }
   },
   "outputs": [],
   "source": [
    "# List of categorical columns\n",
    "cat_cols = [col for col in X.columns if X[col].dtype == 'object'] + ['SeniorCitizen'] \n",
    "# although Senior Citizen got the 0,1 (int64) values, but basically it is a categorical column\n",
    "print(cat_cols)"
   ]
  },
  {
   "cell_type": "markdown",
   "metadata": {},
   "source": [
    "#### One Hot encoding of categorical columns"
   ]
  },
  {
   "cell_type": "code",
   "execution_count": null,
   "metadata": {
    "execution": {
     "iopub.execute_input": "2021-10-08T18:46:24.86994Z",
     "iopub.status.busy": "2021-10-08T18:46:24.86969Z",
     "iopub.status.idle": "2021-10-08T18:46:24.928547Z",
     "shell.execute_reply": "2021-10-08T18:46:24.927835Z",
     "shell.execute_reply.started": "2021-10-08T18:46:24.869905Z"
    }
   },
   "outputs": [],
   "source": [
    "OH_encoder = OneHotEncoder(handle_unknown='ignore', sparse=False)\n",
    "X_encoded = pd.DataFrame(OH_encoder.fit_transform(X[cat_cols]), index = X.index)\n",
    "\n",
    "X_num = X.drop(cat_cols, axis=1)\n",
    "X_encoded = pd.concat([X_encoded, X_num], axis=1)"
   ]
  },
  {
   "cell_type": "code",
   "execution_count": null,
   "metadata": {
    "execution": {
     "iopub.execute_input": "2021-10-08T18:46:24.930125Z",
     "iopub.status.busy": "2021-10-08T18:46:24.929863Z",
     "iopub.status.idle": "2021-10-08T18:46:24.984793Z",
     "shell.execute_reply": "2021-10-08T18:46:24.983964Z",
     "shell.execute_reply.started": "2021-10-08T18:46:24.930093Z"
    }
   },
   "outputs": [],
   "source": [
    "X_encoded.head()"
   ]
  },
  {
   "cell_type": "code",
   "execution_count": null,
   "metadata": {
    "execution": {
     "iopub.execute_input": "2021-10-08T18:46:24.986335Z",
     "iopub.status.busy": "2021-10-08T18:46:24.98608Z",
     "iopub.status.idle": "2021-10-08T18:46:24.991454Z",
     "shell.execute_reply": "2021-10-08T18:46:24.990747Z",
     "shell.execute_reply.started": "2021-10-08T18:46:24.986303Z"
    }
   },
   "outputs": [],
   "source": [
    "X_encoded.shape\n",
    "# number of features increased"
   ]
  },
  {
   "cell_type": "markdown",
   "metadata": {},
   "source": [
    "#### Feature Scaling - MinMax Scaler"
   ]
  },
  {
   "cell_type": "code",
   "execution_count": null,
   "metadata": {
    "execution": {
     "iopub.execute_input": "2021-10-08T18:46:24.993086Z",
     "iopub.status.busy": "2021-10-08T18:46:24.992644Z",
     "iopub.status.idle": "2021-10-08T18:46:25.008687Z",
     "shell.execute_reply": "2021-10-08T18:46:25.007854Z",
     "shell.execute_reply.started": "2021-10-08T18:46:24.99305Z"
    }
   },
   "outputs": [],
   "source": [
    "cols = X_encoded.columns # keeping the names of all columns\n",
    "\n",
    "from sklearn import preprocessing\n",
    "\n",
    "scaler = preprocessing.MinMaxScaler()\n",
    "x_scaled = scaler.fit_transform(X_encoded)\n",
    "X_encoded_scaled = pd.DataFrame(x_scaled, columns=cols)"
   ]
  },
  {
   "cell_type": "markdown",
   "metadata": {},
   "source": [
    "#### Label encoding the target column"
   ]
  },
  {
   "cell_type": "code",
   "execution_count": null,
   "metadata": {
    "execution": {
     "iopub.execute_input": "2021-10-08T18:46:25.01032Z",
     "iopub.status.busy": "2021-10-08T18:46:25.009968Z",
     "iopub.status.idle": "2021-10-08T18:46:25.017588Z",
     "shell.execute_reply": "2021-10-08T18:46:25.016684Z",
     "shell.execute_reply.started": "2021-10-08T18:46:25.010285Z"
    }
   },
   "outputs": [],
   "source": [
    "y #pandas.core.series.Series\n",
    "# y[0] -- is valid; y['Churn'] is not valid for series data type "
   ]
  },
  {
   "cell_type": "code",
   "execution_count": null,
   "metadata": {
    "execution": {
     "iopub.execute_input": "2021-10-08T18:46:25.019356Z",
     "iopub.status.busy": "2021-10-08T18:46:25.019094Z",
     "iopub.status.idle": "2021-10-08T18:46:25.033601Z",
     "shell.execute_reply": "2021-10-08T18:46:25.032811Z",
     "shell.execute_reply.started": "2021-10-08T18:46:25.019324Z"
    }
   },
   "outputs": [],
   "source": [
    "print(\"Before encoding: \", y.unique())\n",
    "\n",
    "y = np.where(y.str.contains(\"Yes\"), 1, 0)\n",
    "\n",
    "print(\"After encoding: \", y) # Now y is a numpy array"
   ]
  },
  {
   "cell_type": "markdown",
   "metadata": {},
   "source": [
    "## Model Building"
   ]
  },
  {
   "cell_type": "markdown",
   "metadata": {},
   "source": [
    "#### Finding Optimum k-value for k-nearest neighbour"
   ]
  },
  {
   "cell_type": "code",
   "execution_count": null,
   "metadata": {
    "execution": {
     "iopub.execute_input": "2021-10-08T18:46:25.035277Z",
     "iopub.status.busy": "2021-10-08T18:46:25.034611Z",
     "iopub.status.idle": "2021-10-08T18:46:25.043329Z",
     "shell.execute_reply": "2021-10-08T18:46:25.042417Z",
     "shell.execute_reply.started": "2021-10-08T18:46:25.035243Z"
    }
   },
   "outputs": [],
   "source": [
    "# Finding out optimum k-value using elbow method\n",
    "from sklearn.neighbors import KNeighborsClassifier\n",
    "def find_k_KNN(x_train, x_test, y_train, y_test):\n",
    "    error_rate = []\n",
    "\n",
    "    # calculating error rate\n",
    "    for i in range(1,40):\n",
    "        knn = KNeighborsClassifier(n_neighbors=i)\n",
    "        knn.fit(x_train, y_train)\n",
    "        pred_i = knn.predict(x_test)\n",
    "        error_rate.append(np.mean(pred_i != y_test))\n",
    "\n",
    "\n",
    "    # Plotting elbow graph\n",
    "    plt.figure(figsize=(10,6))\n",
    "    plt.plot(range(1,40), error_rate, color=\"green\", linestyle=\"dashed\", marker=\"o\",\n",
    "             markerfacecolor=\"red\", markersize=10)\n",
    "    plt.title(\"Error Rate vs. K Value\")\n",
    "    plt.xticks(range(1,40))\n",
    "    plt.xlabel(\"K\")\n",
    "    plt.ylabel(\"Error Rate\")"
   ]
  },
  {
   "cell_type": "code",
   "execution_count": null,
   "metadata": {
    "execution": {
     "iopub.execute_input": "2021-10-08T18:46:25.045288Z",
     "iopub.status.busy": "2021-10-08T18:46:25.044929Z",
     "iopub.status.idle": "2021-10-08T18:46:25.063219Z",
     "shell.execute_reply": "2021-10-08T18:46:25.062392Z",
     "shell.execute_reply.started": "2021-10-08T18:46:25.045256Z"
    }
   },
   "outputs": [],
   "source": [
    "from sklearn.linear_model import LogisticRegression\n",
    "from sklearn.ensemble import RandomForestClassifier\n",
    "from xgboost.sklearn import XGBClassifier\n",
    "from sklearn.neighbors import KNeighborsClassifier\n",
    "from sklearn import tree\n",
    "from sklearn.naive_bayes import GaussianNB\n",
    "from sklearn import svm\n",
    "\n",
    "\n",
    "\n",
    "\n",
    "\n",
    "from sklearn.model_selection import GridSearchCV # grid search CV was taking hours to calculate all the combinations\n",
    "from sklearn.model_selection import RandomizedSearchCV\n",
    "\n",
    "\n",
    "def train_models(x_train, y_train, k_values):\n",
    "    # defining models\n",
    "    models = [LogisticRegression(penalty = 'l2'), RandomForestClassifier(), \n",
    "              XGBClassifier(use_label_encoder=False, verbosity = 0, eval_metric='logloss', tree_method = 'gpu_hist', \n",
    "                            predictor = 'gpu_predictor'),\n",
    "              KNeighborsClassifier(), tree.DecisionTreeClassifier(), GaussianNB(), svm.SVC()]\n",
    "\n",
    "    # predictor = 'gpu_predictor', tree_method = 'gpu_hist' --> to use gpu for XGBoost\n",
    "    \n",
    "    \n",
    "    # defining model names\n",
    "    model_names = ['Logistic Regression', 'Random Forest', 'Gradient Boosting Classifier', 'KNN', 'Decision Tree', \n",
    "                   'Naive Bayes', 'Support Vector Machines']\n",
    "\n",
    "    # defining parameters\n",
    "\n",
    "    parameters = [{'solver':['newton-cg', 'lbfgs', 'liblinear', 'sag', 'saga']}, # logistic regression\n",
    "\n",
    "                 {'n_estimators':[100, 300, 500, 600, 700, 1000], 'criterion':['gini', 'entropy'], \n",
    "                  'max_depth' : [10, 20, 25, 30, 35, 40], 'min_samples_split': [100, 200, 50, 25]}, # random forest classifier\n",
    "\n",
    "                 {\"learning_rate\"    : [0.05, 0.10, 0.15, 0.20, 0.25, 0.30 ] , \"max_depth\": [ 3, 4, 5, 6, 8, 10, 12, 15],\n",
    "                  \"min_child_weight\" : [ 1, 3, 5, 7 ], \"gamma\": [ 0.0, 0.1, 0.2 , 0.3, 0.4 ], \"colsample_bytree\" : [ 0.3, 0.4, 0.5 , 0.7 ], \n",
    "                  \"n_estimators\": [100, 120, 135, 150, 165, 200]}, # xgb classifier\n",
    "\n",
    "                 {'n_neighbors' : k_values}, # kNN\n",
    "\n",
    "                {'criterion':['gini', 'entropy'], 'max_depth' : [10, 20, 25, 30, 35, 40], 'min_samples_split': [100, 200, 50, 25]}, # decision tree\n",
    "\n",
    "                {}, # naive bayer\n",
    "\n",
    "                {'kernel': ['linear', 'poly', 'rbf', 'sigmoid']} # svm\n",
    "                 ]\n",
    "    \n",
    "    \n",
    "    # training the models\n",
    "\n",
    "    for model_idx in range(len(models)):\n",
    "        \n",
    "        \n",
    "        if model_names[model_idx] in ['Logistic Regression', 'KNN', 'Naive Bayes', 'Support Vector Machines']:\n",
    "            classifier = GridSearchCV(estimator = models[model_idx], param_grid = parameters[model_idx], n_jobs=-1)\n",
    "        else:\n",
    "            classifier = RandomizedSearchCV(estimator = models[model_idx], param_distributions = parameters[model_idx], random_state=0, n_jobs=-1)\n",
    "\n",
    "        classifier.fit(x_train, y_train)\n",
    "\n",
    "        print(model_names[model_idx])\n",
    "        print(classifier.best_estimator_)\n",
    "        models[model_idx] = classifier.best_estimator_ # updating the model with best hyperparameters as per training data\n",
    "        \n",
    "        print(f'Best train score: { classifier.best_score_}')\n",
    "        print(classifier.best_params_)\n",
    "        print(\"\\n******************************************************************************************************************\\n\")\n",
    "    \n",
    "    return (models, model_names)"
   ]
  },
  {
   "cell_type": "code",
   "execution_count": null,
   "metadata": {
    "execution": {
     "iopub.execute_input": "2021-10-08T18:46:25.064963Z",
     "iopub.status.busy": "2021-10-08T18:46:25.0645Z",
     "iopub.status.idle": "2021-10-08T18:46:25.075963Z",
     "shell.execute_reply": "2021-10-08T18:46:25.075288Z",
     "shell.execute_reply.started": "2021-10-08T18:46:25.064927Z"
    }
   },
   "outputs": [],
   "source": [
    "from sklearn.metrics import classification_report\n",
    "\n",
    "def test_models(x_train, x_test, y_train, y_test, models, model_names):\n",
    "    for classifier_idx in range(len(models)):\n",
    "        models[classifier_idx].fit(x_train, y_train)\n",
    "        y_pred = models[classifier_idx].predict(x_test)\n",
    "        \n",
    "        print(model_names[classifier_idx])\n",
    "        print(f'{models[classifier_idx].score(x_test, y_test)*100}')\n",
    "        print(\"\\n####################\")\n",
    "        print(classification_report(y_test, y_pred))\n",
    "        print(\"\\n\\n******************************************************************************************************************\\n\\n\")\n",
    "    "
   ]
  },
  {
   "cell_type": "markdown",
   "metadata": {},
   "source": [
    "### Model creation and prediction using imbalanced data"
   ]
  },
  {
   "cell_type": "code",
   "execution_count": null,
   "metadata": {
    "execution": {
     "iopub.execute_input": "2021-10-08T18:46:25.077424Z",
     "iopub.status.busy": "2021-10-08T18:46:25.077115Z",
     "iopub.status.idle": "2021-10-08T18:46:39.256045Z",
     "shell.execute_reply": "2021-10-08T18:46:39.255377Z",
     "shell.execute_reply.started": "2021-10-08T18:46:25.077392Z"
    }
   },
   "outputs": [],
   "source": [
    "%%time\n",
    "# dependent and independent variables\n",
    "X_encoded_scaled.shape, y.shape\n",
    "\n",
    "# train - test split\n",
    "x_train, x_test, y_train, y_test = train_test_split(X_encoded_scaled, y, test_size = 0.10, stratify=y)\n",
    "\n",
    "find_k_KNN(x_train, x_test, y_train, y_test) # decide using the pictorial graph"
   ]
  },
  {
   "cell_type": "code",
   "execution_count": null,
   "metadata": {
    "execution": {
     "iopub.execute_input": "2021-10-08T18:46:39.257475Z",
     "iopub.status.busy": "2021-10-08T18:46:39.257206Z",
     "iopub.status.idle": "2021-10-08T18:49:06.386474Z",
     "shell.execute_reply": "2021-10-08T18:49:06.384948Z",
     "shell.execute_reply.started": "2021-10-08T18:46:39.257424Z"
    }
   },
   "outputs": [],
   "source": [
    "%%time\n",
    "k_values = [2, 4, 6]\n",
    "\n",
    "# for training the models to find the best estimators based on training score\n",
    "models, model_names = train_models(x_train, y_train, k_values)\n"
   ]
  },
  {
   "cell_type": "code",
   "execution_count": null,
   "metadata": {
    "execution": {
     "iopub.execute_input": "2021-10-08T18:49:06.388447Z",
     "iopub.status.busy": "2021-10-08T18:49:06.388153Z",
     "iopub.status.idle": "2021-10-08T18:49:12.496151Z",
     "shell.execute_reply": "2021-10-08T18:49:12.495273Z",
     "shell.execute_reply.started": "2021-10-08T18:49:06.388408Z"
    }
   },
   "outputs": [],
   "source": [
    "# for testing the models to find the best test score using the best estimated parameters for each algorithm\n",
    "test_models(x_train, x_test, y_train, y_test, models, model_names)"
   ]
  },
  {
   "cell_type": "code",
   "execution_count": null,
   "metadata": {
    "execution": {
     "iopub.execute_input": "2021-10-08T18:49:12.497897Z",
     "iopub.status.busy": "2021-10-08T18:49:12.497567Z",
     "iopub.status.idle": "2021-10-08T18:49:12.542772Z",
     "shell.execute_reply": "2021-10-08T18:49:12.541986Z",
     "shell.execute_reply.started": "2021-10-08T18:49:12.497861Z"
    }
   },
   "outputs": [],
   "source": [
    "# choosing the final model depending on best train and test scores\n",
    "\n",
    "classifier = LogisticRegression(solver='liblinear')\n",
    "\n",
    "classifier.fit(x_train, y_train)\n",
    "y_pred = classifier.predict(x_test)\n"
   ]
  },
  {
   "cell_type": "code",
   "execution_count": null,
   "metadata": {
    "execution": {
     "iopub.execute_input": "2021-10-08T18:49:12.544385Z",
     "iopub.status.busy": "2021-10-08T18:49:12.543962Z",
     "iopub.status.idle": "2021-10-08T18:49:12.55629Z",
     "shell.execute_reply": "2021-10-08T18:49:12.555415Z",
     "shell.execute_reply.started": "2021-10-08T18:49:12.544344Z"
    }
   },
   "outputs": [],
   "source": [
    "# classification report for imbalanced data\n",
    "from sklearn.metrics import classification_report\n",
    "print(classification_report(y_test, y_pred))"
   ]
  },
  {
   "cell_type": "markdown",
   "metadata": {},
   "source": [
    "### Dealing with data imbalance!!\n",
    "* Choosing a learning algorithm that provide weights for every class\n",
    "* Data-level approach:\n",
    "    1. Under-sampling,\n",
    "    2. over-sampling\n",
    "    3. Cluster-based over sampling\n",
    "    4. Synthetic minority over-sampling technique(SMOTE)\n",
    "        * The authors of the technique recommend using SMOTE on the minority class, followed by an undersampling technique on the majority class.\n",
    "            * SMOTE + Tomek Links (Tomek links helps to identify paris of Nearest Neighbors that have different classes, and then removing these pairs (from majority class). It helps in making decision boundary less noisy.)\n",
    "\n",
    "            * So, SMOTE is applied to oversample minority class and then Tomek links from majority classes are identified and removed (undersampling)\n",
    "\n",
    "            * SMOTE + Edited NearestNeighbors (ENN (Edited Nearest Neighbors)), using k=3 nearest neighbors to find those examples in the dataset that have been misclassified and then remove them. It can be applied to only majority class examples or all the classes.\n"
   ]
  },
  {
   "cell_type": "code",
   "execution_count": null,
   "metadata": {
    "execution": {
     "iopub.execute_input": "2021-10-08T18:49:12.562608Z",
     "iopub.status.busy": "2021-10-08T18:49:12.562255Z",
     "iopub.status.idle": "2021-10-08T18:49:12.84625Z",
     "shell.execute_reply": "2021-10-08T18:49:12.845523Z",
     "shell.execute_reply.started": "2021-10-08T18:49:12.562569Z"
    }
   },
   "outputs": [],
   "source": [
    "# Here, I have used SMOTE\n",
    "# from imblearn.combine import SMOTEENN (UpSampling + ENN-Edited NearestNeighbors)\n",
    "\n",
    "from imblearn.combine import SMOTEENN\n",
    "sm = SMOTEENN(random_state = 42) \n",
    "# Sampling_strategy is left 'auto' which is equivalent to 'not majority', i.e., multiple copies of minority class will be generated to match the number of samples in majority class\n",
    "# Then ENN  will be used to remove the misclassified majority samples\n",
    "X_resample, y_resample = sm.fit_resample(X_encoded, y) # resampling using SMOTE"
   ]
  },
  {
   "cell_type": "code",
   "execution_count": null,
   "metadata": {
    "execution": {
     "iopub.execute_input": "2021-10-08T18:49:12.847613Z",
     "iopub.status.busy": "2021-10-08T18:49:12.847352Z",
     "iopub.status.idle": "2021-10-08T18:49:12.854778Z",
     "shell.execute_reply": "2021-10-08T18:49:12.853518Z",
     "shell.execute_reply.started": "2021-10-08T18:49:12.847582Z"
    }
   },
   "outputs": [],
   "source": [
    "X_encoded.shape"
   ]
  },
  {
   "cell_type": "code",
   "execution_count": null,
   "metadata": {
    "execution": {
     "iopub.execute_input": "2021-10-08T18:49:12.856854Z",
     "iopub.status.busy": "2021-10-08T18:49:12.856571Z",
     "iopub.status.idle": "2021-10-08T18:49:12.863544Z",
     "shell.execute_reply": "2021-10-08T18:49:12.862583Z",
     "shell.execute_reply.started": "2021-10-08T18:49:12.85682Z"
    }
   },
   "outputs": [],
   "source": [
    "X_resample.shape\n",
    "# we can see first upsampling using SMOTE was done on minority class and then down sampling on majority class using ENN"
   ]
  },
  {
   "cell_type": "code",
   "execution_count": null,
   "metadata": {
    "execution": {
     "iopub.execute_input": "2021-10-08T18:49:12.865547Z",
     "iopub.status.busy": "2021-10-08T18:49:12.865241Z",
     "iopub.status.idle": "2021-10-08T18:49:12.873623Z",
     "shell.execute_reply": "2021-10-08T18:49:12.872783Z",
     "shell.execute_reply.started": "2021-10-08T18:49:12.865512Z"
    }
   },
   "outputs": [],
   "source": [
    "np.unique(y, return_counts=True)"
   ]
  },
  {
   "cell_type": "code",
   "execution_count": null,
   "metadata": {
    "execution": {
     "iopub.execute_input": "2021-10-08T18:49:12.875708Z",
     "iopub.status.busy": "2021-10-08T18:49:12.875253Z",
     "iopub.status.idle": "2021-10-08T18:49:12.882171Z",
     "shell.execute_reply": "2021-10-08T18:49:12.881446Z",
     "shell.execute_reply.started": "2021-10-08T18:49:12.875675Z"
    }
   },
   "outputs": [],
   "source": [
    "np.unique(y_resample, return_counts=True)"
   ]
  },
  {
   "cell_type": "markdown",
   "metadata": {},
   "source": [
    "#### Feature Scaling: MinMaxScaler"
   ]
  },
  {
   "cell_type": "code",
   "execution_count": null,
   "metadata": {
    "execution": {
     "iopub.execute_input": "2021-10-08T18:49:12.884208Z",
     "iopub.status.busy": "2021-10-08T18:49:12.883641Z",
     "iopub.status.idle": "2021-10-08T18:49:12.899688Z",
     "shell.execute_reply": "2021-10-08T18:49:12.898929Z",
     "shell.execute_reply.started": "2021-10-08T18:49:12.884172Z"
    }
   },
   "outputs": [],
   "source": [
    "cols = X_resample.columns # keeping the names of all columns\n",
    "\n",
    "from sklearn import preprocessing\n",
    "\n",
    "scaler = preprocessing.MinMaxScaler()\n",
    "x_scaled = scaler.fit_transform(X_resample)\n",
    "X_resample_scaled = pd.DataFrame(x_scaled, columns=cols)"
   ]
  },
  {
   "cell_type": "markdown",
   "metadata": {},
   "source": [
    "### Model creation and predictions using balanced data (SMOTE + ENN)"
   ]
  },
  {
   "cell_type": "code",
   "execution_count": null,
   "metadata": {
    "execution": {
     "iopub.execute_input": "2021-10-08T18:49:12.90121Z",
     "iopub.status.busy": "2021-10-08T18:49:12.900956Z",
     "iopub.status.idle": "2021-10-08T18:49:29.530584Z",
     "shell.execute_reply": "2021-10-08T18:49:29.529872Z",
     "shell.execute_reply.started": "2021-10-08T18:49:12.901179Z"
    }
   },
   "outputs": [],
   "source": [
    "# Train - test split\n",
    "# again spliting train and test data\n",
    "xr_train, xr_test, yr_train, yr_test = train_test_split(X_resample_scaled, y_resample, test_size=0.2)\n",
    "\n",
    "find_k_KNN(xr_train, xr_test, yr_train, yr_test) # decide using the pictorial graph"
   ]
  },
  {
   "cell_type": "code",
   "execution_count": null,
   "metadata": {
    "execution": {
     "iopub.execute_input": "2021-10-08T18:49:29.532193Z",
     "iopub.status.busy": "2021-10-08T18:49:29.531948Z",
     "iopub.status.idle": "2021-10-08T18:51:31.693138Z",
     "shell.execute_reply": "2021-10-08T18:51:31.692192Z",
     "shell.execute_reply.started": "2021-10-08T18:49:29.53216Z"
    }
   },
   "outputs": [],
   "source": [
    "k_values = [1]\n",
    "\n",
    "# for training the models to find the best estimators based on training score\n",
    "models, model_names = train_models(xr_train, yr_train, k_values)"
   ]
  },
  {
   "cell_type": "code",
   "execution_count": null,
   "metadata": {
    "execution": {
     "iopub.execute_input": "2021-10-08T18:51:31.695222Z",
     "iopub.status.busy": "2021-10-08T18:51:31.694955Z",
     "iopub.status.idle": "2021-10-08T18:51:36.188354Z",
     "shell.execute_reply": "2021-10-08T18:51:36.187688Z",
     "shell.execute_reply.started": "2021-10-08T18:51:31.695188Z"
    }
   },
   "outputs": [],
   "source": [
    "# for testing the models to find the best test score using the best estimated parameters for each algorithm\n",
    "test_models(xr_train, xr_test, yr_train, yr_test, models, model_names)"
   ]
  },
  {
   "cell_type": "code",
   "execution_count": null,
   "metadata": {
    "execution": {
     "iopub.execute_input": "2021-10-08T18:51:36.189923Z",
     "iopub.status.busy": "2021-10-08T18:51:36.189592Z",
     "iopub.status.idle": "2021-10-08T18:51:38.11582Z",
     "shell.execute_reply": "2021-10-08T18:51:38.114774Z",
     "shell.execute_reply.started": "2021-10-08T18:51:36.189885Z"
    }
   },
   "outputs": [],
   "source": [
    "# choosing the final model depending on best test scores\n",
    "\n",
    "classifier = XGBClassifier(base_score=0.5, booster='gbtree', colsample_bylevel=1,\n",
    "              colsample_bynode=1, colsample_bytree=0.5, gamma=0.2, gpu_id=-1,\n",
    "              importance_type='gain', interaction_constraints='',\n",
    "              learning_rate=0.1, max_delta_step=0, max_depth=8,\n",
    "              min_child_weight=1, missing=np.nan, monotone_constraints='()',\n",
    "              n_estimators=165, n_jobs=4, num_parallel_tree=1, random_state=0,\n",
    "              reg_alpha=0, reg_lambda=1, scale_pos_weight=1, subsample=1,\n",
    "              tree_method='exact', use_label_encoder=False,\n",
    "              validate_parameters=1, verbosity = 0, eval_metric='logloss')\n",
    "\n",
    "classifier.fit(xr_train, yr_train)\n",
    "yr_pred = classifier.predict(xr_test)\n",
    "# classifier.score(x_test, y_test)*100"
   ]
  },
  {
   "cell_type": "code",
   "execution_count": null,
   "metadata": {
    "execution": {
     "iopub.execute_input": "2021-10-08T18:51:38.123161Z",
     "iopub.status.busy": "2021-10-08T18:51:38.122739Z",
     "iopub.status.idle": "2021-10-08T18:51:38.136098Z",
     "shell.execute_reply": "2021-10-08T18:51:38.13547Z",
     "shell.execute_reply.started": "2021-10-08T18:51:38.12313Z"
    }
   },
   "outputs": [],
   "source": [
    "print(classification_report(yr_test, yr_pred))"
   ]
  },
  {
   "cell_type": "markdown",
   "metadata": {},
   "source": [
    "## Final Result: Balancing the data, clearly improved model's performance."
   ]
  },
  {
   "cell_type": "code",
   "execution_count": null,
   "metadata": {},
   "outputs": [],
   "source": []
  }
 ],
 "metadata": {
  "kernelspec": {
   "display_name": "Python 3",
   "language": "python",
   "name": "python3"
  },
  "language_info": {
   "codemirror_mode": {
    "name": "ipython",
    "version": 3
   },
   "file_extension": ".py",
   "mimetype": "text/x-python",
   "name": "python",
   "nbconvert_exporter": "python",
   "pygments_lexer": "ipython3",
   "version": "3.9.1"
  }
 },
 "nbformat": 4,
 "nbformat_minor": 4
}
