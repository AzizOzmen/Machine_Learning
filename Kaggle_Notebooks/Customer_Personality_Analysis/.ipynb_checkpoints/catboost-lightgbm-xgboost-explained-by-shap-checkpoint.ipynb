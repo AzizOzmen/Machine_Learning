{
 "cells": [
  {
   "cell_type": "markdown",
   "metadata": {
    "papermill": {
     "duration": 0.173046,
     "end_time": "2021-10-24T12:45:57.62389",
     "exception": false,
     "start_time": "2021-10-24T12:45:57.450844",
     "status": "completed"
    },
    "tags": []
   },
   "source": [
    "#### Hi all.  🙋\n",
    "\n",
    "#### We continue our **Beginner-Intermediate Friendly Machine Learning series**, which would help anyone who wants to learn or refresh the basics of ML.\n",
    "\n",
    "#### What we have covered: \n",
    "\n",
    "#### [Beginner Friendly Detailed Explained EDAs – For anyone at the beginnings of DS/ML journey](https://www.kaggle.com/general/253911#1393015) ✔️\n",
    "\n",
    "#### [BIAS & VARIANCE TRADEOFF](https://www.kaggle.com/kaanboke/ml-basics-bias-variance-tradeoff) ✔️\n",
    "\n",
    "#### [LINEAR ALGORITHMS](https://www.kaggle.com/kaanboke/ml-basics-linear-algorithms)  ✔️\n",
    "\n",
    "#### [NONLINEAR ALGORITHMS](https://www.kaggle.com/kaanboke/nonlinear-algorithms)  ✔️\n",
    "\n",
    "#### [The Most Used Methods to Deal with MISSING VALUES](https://www.kaggle.com/kaanboke/the-most-used-methods-to-deal-with-missing-values)  ✔️\n",
    "\n",
    "#### [Beginner Friendly End to End ML Project- Classification with Imbalanced Data](https://www.kaggle.com/kaanboke/beginner-friendly-end-to-end-ml-project-enjoy)  ✔️\n",
    "\n",
    "#### [How to Prevent the Data Leakage ?](https://www.kaggle.com/kaanboke/how-to-prevent-the-data-leakage) ✔️\n",
    "\n",
    "#### [The Most Common EVALUATION METRICS- A Gentle Intro](https://www.kaggle.com/kaanboke/the-most-common-evaluation-metrics-a-gentle-intro) ✔️\n",
    "\n",
    "#### [Feature Selection-The Most Common Methods to Know](https://www.kaggle.com/kaanboke/feature-selection-the-most-common-methods-to-know) ✔️\n",
    "\n",
    "#### [Beginner Friendly End to End ML Project- Car Price Prediction](https://www.kaggle.com/kaanboke/car-price-prediction-beginner-friendly-94-3)  ✔️\n",
    "\n",
    "#### [Beginner Friendly CATBOOST with OPTUNA](https://www.kaggle.com/kaanboke/beginner-friendly-catboost-with-optuna)  ✔️\n",
    "\n",
    "#### [A Gentle Intro to PYCARET-Beginner Friendly](https://www.kaggle.com/kaanboke/a-gentle-intro-to-pycaret-beginner-friendly)  ✔️\n",
    "\n",
    "#### [XGBoost & LightGBM & Catboost - Imbalanced Data](https://www.kaggle.com/kaanboke/xgboost-lightgbm-catboost-imbalanced-data)  ✔️\n",
    "\n",
    "\n",
    "#### In this notebook, we will look in detail at how the famous trio (**XGBoost & LightGBM & Catboost**) are explained by **SHAP**.\n",
    "\n",
    "\n",
    "#### **Enjoy** 🤘"
   ]
  },
  {
   "cell_type": "markdown",
   "metadata": {
    "papermill": {
     "duration": 0.104912,
     "end_time": "2021-10-24T12:45:57.833255",
     "exception": false,
     "start_time": "2021-10-24T12:45:57.728343",
     "status": "completed"
    },
    "tags": []
   },
   "source": [
    "![](https://user-images.githubusercontent.com/38404461/65588818-7734b500-df88-11e9-907c-a0bc0c0fdfc1.png)"
   ]
  },
  {
   "cell_type": "markdown",
   "metadata": {
    "papermill": {
     "duration": 0.124361,
     "end_time": "2021-10-24T12:45:58.064434",
     "exception": false,
     "start_time": "2021-10-24T12:45:57.940073",
     "status": "completed"
    },
    "tags": []
   },
   "source": [
    "Image Credit:https://user-images.githubusercontent.com/38404461/"
   ]
  },
  {
   "cell_type": "markdown",
   "metadata": {
    "papermill": {
     "duration": 0.110349,
     "end_time": "2021-10-24T12:45:58.285857",
     "exception": false,
     "start_time": "2021-10-24T12:45:58.175508",
     "status": "completed"
    },
    "tags": []
   },
   "source": [
    "<a id=\"toc\"></a>\n",
    "\n",
    "<h3 class=\"list-group-item list-group-item-action active\" data-toggle=\"list\" role=\"tab\" aria-controls=\"home\">Table of Contents</h3>\n",
    "    \n",
    "* [Data](#0)\n",
    "* [What Problem We Have and Which Metric to Use?](#1)\n",
    "\n",
    "* [Exploratory Data Analysis](#2)\n",
    "    * [Target Variable](#3)\n",
    "    * [Overall Insights from the EDA](#4)\n",
    "      \n",
    "      \n",
    "* [What is SHAP](#5) \n",
    "\n",
    "\n",
    "* [CATBOOST with SHAP](#6)\n",
    "    * [CatBoost (with adjusted Scale_Pos_Weight = 5) Deals With Imbalanced Data](#7)\n",
    "    * [SHAP Feature Importance](#8)\n",
    "    * [SHAP Summary Plot](#9)\n",
    "    * [SHAP Dependence Plot](#10)\n",
    "    * [SHAP Decision Plot](#11)\n",
    "    * [SHAP Force Plot](#12)\n",
    "    * [SHAP Waterfall Plot](#13)\n",
    "    \n",
    "* [LightGBM with SHAP](#14)\n",
    "    * [LightGBM (with adjusted Scale_Pos_Weight = 5) Deals With Imbalanced Data](#15)\n",
    "    * [SHAP Feature Importance](#16)\n",
    "    * [SHAP Summary Plot](#17)\n",
    "    * [SHAP Decision Plot](#18)\n",
    "    * [SHAP Force Plot](#19)\n",
    "    * [SHAP Waterfall Plot](#20)  \n",
    "\n",
    "* [XGBOOST with SHAP](#21)\n",
    "    * [XGBoost (with adjusted Scale_Pos_Weight = 5) Deals With Imbalanced Data](#22)\n",
    "    * [SHAP Feature Importance](#23)\n",
    "    * [SHAP Summary Plot](#24)\n",
    "    * [SHAP Decision Plot](#25)\n",
    "    * [SHAP Force Plot](#26)\n",
    "    * [SHAP Waterfall Plot](#27) \n",
    "    \n",
    "* [Conclusion](#28)\n",
    "\n",
    "* [References & Further Reading](#29)"
   ]
  },
  {
   "cell_type": "markdown",
   "metadata": {
    "papermill": {
     "duration": 0.102184,
     "end_time": "2021-10-24T12:45:58.504154",
     "exception": false,
     "start_time": "2021-10-24T12:45:58.40197",
     "status": "completed"
    },
    "tags": []
   },
   "source": [
    "<a id=\"0\"></a>\n",
    "<font color=\"Darkblue\" size=+2.5><b>Data</b></font>\n",
    "\n",
    "<a href=\"#toc\" class=\"btn btn-primary btn-sm\" role=\"button\" aria-pressed=\"true\" style=\"color:white\" data-toggle=\"popover\">Table of Contents</a>"
   ]
  },
  {
   "cell_type": "markdown",
   "metadata": {
    "papermill": {
     "duration": 0.102583,
     "end_time": "2021-10-24T12:45:58.710789",
     "exception": false,
     "start_time": "2021-10-24T12:45:58.608206",
     "status": "completed"
    },
    "tags": []
   },
   "source": [
    "# **Telco Customer Churn**"
   ]
  },
  {
   "cell_type": "markdown",
   "metadata": {
    "papermill": {
     "duration": 0.10213,
     "end_time": "2021-10-24T12:45:58.917982",
     "exception": false,
     "start_time": "2021-10-24T12:45:58.815852",
     "status": "completed"
    },
    "tags": []
   },
   "source": [
    "### **Data Dictionary**\n",
    "\n",
    "1. **`CustomerID`**: A unique ID that identifies each customer.\n",
    "\n",
    "2. **`Gender`**: The customer’s gender: Male, Female\n",
    "\n",
    "3. **`Age`**: The customer’s current age, in years, at the time the fiscal quarter ended.\n",
    "\n",
    "4. **`Senior Citizen`**: Indicates if the customer is 65 or older: Yes, No\n",
    "\n",
    "5. **`Married (Partner)`**: Indicates if the customer is married: Yes, No\n",
    "\n",
    "6. **`Dependents`**: Indicates if the customer lives with any dependents: Yes, No. Dependents could be children, parents, grandparents, etc.\n",
    "\n",
    "7. **`Number of Dependents`**: Indicates the number of dependents that live with the customer.\n",
    "\n",
    "8. **`Phone Service`**: Indicates if the customer subscribes to home phone service with the company: Yes, No\n",
    "\n",
    "9. **`Multiple Lines`**: Indicates if the customer subscribes to multiple telephone lines with the company: Yes, No\n",
    "\n",
    "10. **`Internet Service`**: Indicates if the customer subscribes to Internet service with the company: No, DSL, Fiber Optic, Cable.\n",
    "\n",
    "11. **`Online Security`**: Indicates if the customer subscribes to an additional online security service provided by the company: Yes, No\n",
    "\n",
    "12. **`Online Backup`**: Indicates if the customer subscribes to an additional online backup service provided by the company: Yes, No\n",
    "\n",
    "13. **`Device Protection Plan`**: Indicates if the customer subscribes to an additional device protection plan for their Internet equipment provided by the company: Yes, No\n",
    "\n",
    "14. **`Premium Tech Support`**: Indicates if the customer subscribes to an additional technical support plan from the company with reduced wait times: Yes, No\n",
    "\n",
    "15. **`Streaming TV`**: Indicates if the customer uses their Internet service to stream television programing from a third party provider: Yes, No. The company does not charge an additional fee for this service.\n",
    "\n",
    "16. **`Streaming Movies`**: Indicates if the customer uses their Internet service to stream movies from a third party provider: Yes, No. The company does not charge an additional fee for this service.\n",
    "\n",
    "17. **`Contract`**: Indicates the customer’s current contract type: Month-to-Month, One Year, Two Year.\n",
    "\n",
    "18. **`Paperless Billing`**: Indicates if the customer has chosen paperless billing: Yes, No\n",
    "\n",
    "19. **`Payment Method`**: Indicates how the customer pays their bill: Bank Withdrawal, Credit Card, Mailed Check\n",
    "\n",
    "20. **`Monthly Charge`**: Indicates the customer’s current total monthly charge for all their services from the company.\n",
    "\n",
    "21. **`Total Charges`**: Indicates the customer’s total charges, calculated to the end of the quarter specified above.\n",
    "\n",
    "22. **`Tenure`**: Indicates the total amount of months that the customer has been with the company.\n",
    "\n",
    "23. **`Churn`**: Yes = the customer left the company this quarter. No = the customer remained with the company. Directly related to Churn Value.\n",
    "\n",
    "Reference:\n",
    "https://www.kaggle.com/blastchar/telco-customer-churn\n",
    "\n",
    "https://community.ibm.com/community/user/businessanalytics/blogs/steven-macko/2019/07/11/telco-customer-churn-1113\n",
    "\n"
   ]
  },
  {
   "cell_type": "markdown",
   "metadata": {
    "papermill": {
     "duration": 0.104356,
     "end_time": "2021-10-24T12:45:59.125139",
     "exception": false,
     "start_time": "2021-10-24T12:45:59.020783",
     "status": "completed"
    },
    "tags": []
   },
   "source": [
    "<a id=\"1\"></a>\n",
    "<font color=\"Darkblue\" size=+1.5><b>What Problem We Have and Which Metric to Use?</b></font>\n",
    "\n",
    "<a href=\"#toc\" class=\"btn btn-primary btn-sm\" role=\"button\" aria-pressed=\"true\" style=\"color:white\" data-toggle=\"popover\">Table of Contents</a>"
   ]
  },
  {
   "cell_type": "markdown",
   "metadata": {
    "papermill": {
     "duration": 0.102256,
     "end_time": "2021-10-24T12:45:59.330167",
     "exception": false,
     "start_time": "2021-10-24T12:45:59.227911",
     "status": "completed"
    },
    "tags": []
   },
   "source": [
    "- Based on the data and data dictionary, We have a classification problem.\n",
    "- We wil make classification on the target variable **`Churn`**\n",
    "- And we will build a model to get best classification possible on the target variable.\n",
    "- For that we will look at the balance of the target variable.\n",
    "- As we will see later, our target variable has imblanced data\n",
    "- For that reason we are not going to use Accuracy score, \n",
    "- Based on the problem on the hand, we will use **`Recall score`**.\n",
    "- [For the detailed info about the evaluation metrics](https://www.kaggle.com/kaanboke/the-most-common-evaluation-metrics-a-gentle-intro)"
   ]
  },
  {
   "cell_type": "markdown",
   "metadata": {
    "papermill": {
     "duration": 0.101724,
     "end_time": "2021-10-24T12:45:59.534564",
     "exception": false,
     "start_time": "2021-10-24T12:45:59.43284",
     "status": "completed"
    },
    "tags": []
   },
   "source": [
    "![](https://e7.pngegg.com/pngimages/301/649/png-clipart-snake-scale-measuring-scales-measurement-scale-light-fixture-measuring-scales-thumbnail.png)"
   ]
  },
  {
   "cell_type": "markdown",
   "metadata": {
    "papermill": {
     "duration": 0.102656,
     "end_time": "2021-10-24T12:45:59.743192",
     "exception": false,
     "start_time": "2021-10-24T12:45:59.640536",
     "status": "completed"
    },
    "tags": []
   },
   "source": [
    "Image Credit: https://e7.pngegg.com"
   ]
  },
  {
   "cell_type": "markdown",
   "metadata": {
    "papermill": {
     "duration": 0.101689,
     "end_time": "2021-10-24T12:45:59.947519",
     "exception": false,
     "start_time": "2021-10-24T12:45:59.84583",
     "status": "completed"
    },
    "tags": []
   },
   "source": [
    "<a id=\"2\"></a>\n",
    "<font color=\"Darkblue\" size=+2.5><b>Exploratory Data Analysis</b></font>\n",
    "\n",
    "<a href=\"#toc\" class=\"btn btn-primary btn-sm\" role=\"button\" aria-pressed=\"true\" style=\"color:white\" data-toggle=\"popover\">Table of Contents</a>"
   ]
  },
  {
   "cell_type": "markdown",
   "metadata": {
    "papermill": {
     "duration": 0.100861,
     "end_time": "2021-10-24T12:46:00.151325",
     "exception": false,
     "start_time": "2021-10-24T12:46:00.050464",
     "status": "completed"
    },
    "tags": []
   },
   "source": [
    "# [We have already covered detailed EDA in our previous notebook. For that reason, I won't include detailed EDA in this notebook.](https://www.kaggle.com/kaanboke/xgboost-lightgbm-catboost-imbalanced-data)"
   ]
  },
  {
   "cell_type": "markdown",
   "metadata": {
    "papermill": {
     "duration": 0.101543,
     "end_time": "2021-10-24T12:46:00.354154",
     "exception": false,
     "start_time": "2021-10-24T12:46:00.252611",
     "status": "completed"
    },
    "tags": []
   },
   "source": [
    "- Let's import the libraries"
   ]
  },
  {
   "cell_type": "code",
   "execution_count": null,
   "metadata": {
    "_cell_guid": "b1076dfc-b9ad-4769-8c92-a6c4dae69d19",
    "_kg_hide-input": true,
    "_uuid": "8f2839f25d086af736a60e9eeb907d3b93b6e0e5",
    "execution": {
     "iopub.execute_input": "2021-10-24T13:10:22.983388Z",
     "iopub.status.busy": "2021-10-24T13:10:22.982711Z",
     "iopub.status.idle": "2021-10-24T13:10:34.644899Z",
     "shell.execute_reply": "2021-10-24T13:10:34.64374Z",
     "shell.execute_reply.started": "2021-10-24T13:10:22.983254Z"
    },
    "papermill": {
     "duration": 12.458469,
     "end_time": "2021-10-24T12:46:12.914169",
     "exception": false,
     "start_time": "2021-10-24T12:46:00.4557",
     "status": "completed"
    },
    "tags": []
   },
   "outputs": [],
   "source": [
    "import numpy as np\n",
    "import pandas as pd\n",
    "import matplotlib.pyplot as plt\n",
    "import seaborn as sns\n",
    "\n",
    "\n",
    "\n",
    "from sklearn.model_selection import cross_val_score,cross_val_predict, train_test_split\n",
    "from sklearn.preprocessing import OneHotEncoder,StandardScaler,PowerTransformer,LabelEncoder\n",
    "\n",
    "from sklearn.metrics import accuracy_score,classification_report, recall_score,confusion_matrix, roc_auc_score, precision_score, f1_score, roc_curve, auc, plot_confusion_matrix,plot_roc_curve\n",
    "\n",
    "\n",
    "import optuna\n",
    "import lightgbm as lgb\n",
    "from xgboost import XGBClassifier\n",
    "#from lightgbm import LGBMClassifier, plot_importance\n",
    "from catboost import CatBoostClassifier\n",
    "\n",
    "\n",
    "\n",
    "\n",
    "#importing plotly and cufflinks in offline mode\n",
    "import cufflinks as cf\n",
    "import plotly.offline\n",
    "cf.go_offline()\n",
    "cf.set_config_file(offline=False, world_readable=True)\n",
    "\n",
    "\n",
    "import plotly \n",
    "import plotly.express as px\n",
    "import plotly.graph_objs as go\n",
    "import plotly.offline as py\n",
    "from plotly.offline import iplot\n",
    "from plotly.subplots import make_subplots\n",
    "import plotly.figure_factory as ff\n",
    "\n",
    "import shap \n",
    "\n",
    "import missingno as msno\n",
    "\n",
    "import warnings\n",
    "warnings.filterwarnings(\"ignore\")"
   ]
  },
  {
   "cell_type": "markdown",
   "metadata": {
    "papermill": {
     "duration": 0.104431,
     "end_time": "2021-10-24T12:46:13.126132",
     "exception": false,
     "start_time": "2021-10-24T12:46:13.021701",
     "status": "completed"
    },
    "tags": []
   },
   "source": [
    "- Let's look at the data."
   ]
  },
  {
   "cell_type": "code",
   "execution_count": null,
   "metadata": {
    "_kg_hide-input": true,
    "execution": {
     "iopub.execute_input": "2021-10-24T13:10:34.647226Z",
     "iopub.status.busy": "2021-10-24T13:10:34.646965Z",
     "iopub.status.idle": "2021-10-24T13:10:34.736941Z",
     "shell.execute_reply": "2021-10-24T13:10:34.735928Z",
     "shell.execute_reply.started": "2021-10-24T13:10:34.647179Z"
    },
    "papermill": {
     "duration": 0.206352,
     "end_time": "2021-10-24T12:46:13.435835",
     "exception": false,
     "start_time": "2021-10-24T12:46:13.229483",
     "status": "completed"
    },
    "tags": []
   },
   "outputs": [],
   "source": [
    "pd.set_option('max_columns',100)\n",
    "pd.set_option('max_rows',900)\n",
    "\n",
    "pd.set_option('max_colwidth',200)\n",
    "\n",
    "df = pd.read_csv('../input/telco-customer-churn/WA_Fn-UseC_-Telco-Customer-Churn.csv')\n",
    "df.head()"
   ]
  },
  {
   "cell_type": "markdown",
   "metadata": {
    "papermill": {
     "duration": 0.103788,
     "end_time": "2021-10-24T12:46:13.642729",
     "exception": false,
     "start_time": "2021-10-24T12:46:13.538941",
     "status": "completed"
    },
    "tags": []
   },
   "source": [
    "<a id=\"3\"></a>\n",
    "<font color=\"Darkblue\" size=+1.5><b>Target Variable</b></font>\n",
    "\n",
    "<a href=\"#toc\" class=\"btn btn-primary btn-sm\" role=\"button\" aria-pressed=\"true\" style=\"color:white\" data-toggle=\"popover\">Table of Contents</a>"
   ]
  },
  {
   "cell_type": "code",
   "execution_count": null,
   "metadata": {
    "_kg_hide-input": true,
    "execution": {
     "iopub.execute_input": "2021-10-24T13:10:34.743152Z",
     "iopub.status.busy": "2021-10-24T13:10:34.742578Z",
     "iopub.status.idle": "2021-10-24T13:10:34.762131Z",
     "shell.execute_reply": "2021-10-24T13:10:34.761158Z",
     "shell.execute_reply.started": "2021-10-24T13:10:34.743107Z"
    },
    "papermill": {
     "duration": 0.12611,
     "end_time": "2021-10-24T12:46:13.871655",
     "exception": false,
     "start_time": "2021-10-24T12:46:13.745545",
     "status": "completed"
    },
    "tags": []
   },
   "outputs": [],
   "source": [
    "y = df['Churn']\n",
    "print(f'Percentage of Churn:  {round(y.value_counts(normalize=True)[1]*100,2)} %  --> ({y.value_counts()[1]} customer)\\nPercentage of customer did not churn: {round(y.value_counts(normalize=True)[0]*100,2)}  %  --> ({y.value_counts()[0]} customer)')\n"
   ]
  },
  {
   "cell_type": "code",
   "execution_count": null,
   "metadata": {
    "_kg_hide-input": true,
    "execution": {
     "iopub.execute_input": "2021-10-24T13:10:34.764124Z",
     "iopub.status.busy": "2021-10-24T13:10:34.763815Z",
     "iopub.status.idle": "2021-10-24T13:10:35.645434Z",
     "shell.execute_reply": "2021-10-24T13:10:35.644688Z",
     "shell.execute_reply.started": "2021-10-24T13:10:34.764082Z"
    },
    "papermill": {
     "duration": 1.054691,
     "end_time": "2021-10-24T12:46:15.031962",
     "exception": false,
     "start_time": "2021-10-24T12:46:13.977271",
     "status": "completed"
    },
    "tags": []
   },
   "outputs": [],
   "source": [
    "y.iplot(kind='hist', title= 'Churn')"
   ]
  },
  {
   "cell_type": "markdown",
   "metadata": {
    "papermill": {
     "duration": 0.126658,
     "end_time": "2021-10-24T12:46:15.285946",
     "exception": false,
     "start_time": "2021-10-24T12:46:15.159288",
     "status": "completed"
    },
    "tags": []
   },
   "source": [
    "- We have imbalanced data.\n",
    "- Almost 27% of the customers didn't continue with the company and churned.\n",
    "- 1869 customer churned.\n",
    "- Almost 73% of the customers continue with the company and didn't churn.\n",
    "- 5174 customer didn't churn.\n"
   ]
  },
  {
   "cell_type": "markdown",
   "metadata": {
    "papermill": {
     "duration": 0.127023,
     "end_time": "2021-10-24T12:46:15.541331",
     "exception": false,
     "start_time": "2021-10-24T12:46:15.414308",
     "status": "completed"
    },
    "tags": []
   },
   "source": [
    "<a id=\"4\"></a>\n",
    "<font color=\"Darkblue\" size=+1.5><b>Overall Insights from the EDA</b></font>\n",
    "\n",
    "<a href=\"#toc\" class=\"btn btn-primary btn-sm\" role=\"button\" aria-pressed=\"true\" style=\"color:white\" data-toggle=\"popover\">Table of Contents</a>"
   ]
  },
  {
   "cell_type": "markdown",
   "metadata": {
    "papermill": {
     "duration": 0.125535,
     "end_time": "2021-10-24T12:46:15.794327",
     "exception": false,
     "start_time": "2021-10-24T12:46:15.668792",
     "status": "completed"
    },
    "tags": []
   },
   "source": [
    "- **`Gender`** : There is not much difference between gender on the churn rate. We won't include gender into our model.\n",
    "- **`Partner`** :  Customer without any relationship, single customer almost 1.7 times more likely churn than cutomer with a partner.\n",
    "- **`Dependents`** : Customer without any dependents, almost 2.03 times more likely churn than cutomer with a dependent.\n",
    "- **`Phone Service`**: Churn rate difference between customer has a phone service with the company and customer does not have a home phone service with the company is very small. We won't include phone service into our model.\n",
    "- **`Multiple Lines`** : Churn rate difference between customer has a multiple lines phone service with the company and customer does not have a multiple line phone service with the company is very small.\n",
    "- **`ìnternet Service`** : Customer with fiber optic internet with the company compare to customer without any internet service with the company 5.66 times more likely to churn.\n",
    "- **`Online Security`**: A customer with an online security service with the company almost 2.14 times less likely to leave the company than a customer without any online security service with the company.\n",
    "- **`Online Backup`** A customer with an online backup service with the company almost 1.35 times less likely to leave the company than a customer without any online backup service with the company.\n",
    "- **`Device Protection`** : A customer with a device protection service with the company almost 1.27 times less likely to leave the company than a customer without any a device protection service with the company.\n",
    "- **`Tech Support`** : A customer with a Tech Support service with the company almost 2.06 times less likely to leave the company than a customer without any a Tech Support service with the company.\n",
    "- **`Streaming TV Service`** : A customer with a Streaming TV service with the company almost 1.24 times more likely to leave the company than a customer without any a Streaming TV service with the company.\n",
    "- **`Streaming Movies Service`** : A customer with a Streaming Movies service with the company almost 1.23 times more likely to leave the company than a customer without any a Streaming movies service with the company.\n",
    "- **`Contract Type`** : Great differences based on the contract were seen in the histogram and mean differences.\n",
    "    - Customer with the 2 year contract almost 15.1 times less likely to churn compare to customer with a monthly contract.\n",
    "    - On the other hand customer with the 1 year contract almost 3.79 times less likely to churn compare to customer with a monthly contract.\n",
    "- **`Paperless Billing`** : A customer with a paperless billing with the company almost 2.06 times more likely to leave the company than a customer without a paperless billing with the company.\n",
    "- **`Payment Method`** : Almost half of the customers with a payment method as a Electornic Check churn, which is a quite big percentage.\n"
   ]
  },
  {
   "cell_type": "markdown",
   "metadata": {
    "papermill": {
     "duration": 0.127251,
     "end_time": "2021-10-24T12:46:16.048023",
     "exception": false,
     "start_time": "2021-10-24T12:46:15.920772",
     "status": "completed"
    },
    "tags": []
   },
   "source": [
    "<a id=\"5\"></a>\n",
    "<font color=\"Darkblue\" size=+2.5><b>What is SHAP?</b></font>\n",
    "\n",
    "<a href=\"#toc\" class=\"btn btn-primary btn-sm\" role=\"button\" aria-pressed=\"true\" style=\"color:white\" data-toggle=\"popover\">Table of Contents</a>"
   ]
  },
  {
   "cell_type": "markdown",
   "metadata": {
    "papermill": {
     "duration": 0.126432,
     "end_time": "2021-10-24T12:46:16.302543",
     "exception": false,
     "start_time": "2021-10-24T12:46:16.176111",
     "status": "completed"
    },
    "tags": []
   },
   "source": [
    "![](https://shap-lrjball.readthedocs.io/en/stable/_images/shap_header.png)"
   ]
  },
  {
   "cell_type": "markdown",
   "metadata": {
    "papermill": {
     "duration": 0.128359,
     "end_time": "2021-10-24T12:46:16.560864",
     "exception": false,
     "start_time": "2021-10-24T12:46:16.432505",
     "status": "completed"
    },
    "tags": []
   },
   "source": [
    "Image Credit: https://shap-lrjball.readthedocs.io/"
   ]
  },
  {
   "cell_type": "markdown",
   "metadata": {
    "papermill": {
     "duration": 0.132657,
     "end_time": "2021-10-24T12:46:16.824012",
     "exception": false,
     "start_time": "2021-10-24T12:46:16.691355",
     "status": "completed"
    },
    "tags": []
   },
   "source": [
    "> ### SHAP (SHapley Additive exPlanations) is a method to explain individual predictions. SHAP is based on the game theory.\n",
    "\n",
    "> ### A prediction can be explained by assuming that each feature value of the instance is a “player” in a game where the prediction is the payout. \n",
    "\n",
    "> ### Shapley values – a method from coalitional game theory – tells us how to fairly distribute the “payout” among the features.\n",
    "\n",
    "> ### The “game” is the prediction task for a single instance of the dataset. \n",
    "\n",
    "> ### The “gain” is the actual prediction for this instance minus the average prediction for all instances. \n",
    "\n",
    "> ### The “players” are the feature values of the instance that collaborate to receive the gain (= predict a certain value). \n",
    "\n",
    "> ### The Shapley value is the average marginal contribution of a feature value across all possible coalitions.\n",
    "\n",
    "Reference: https://christophm.github.io/interpretable-ml-book/shapley.html"
   ]
  },
  {
   "cell_type": "markdown",
   "metadata": {
    "papermill": {
     "duration": 0.128934,
     "end_time": "2021-10-24T12:46:17.082069",
     "exception": false,
     "start_time": "2021-10-24T12:46:16.953135",
     "status": "completed"
    },
    "tags": []
   },
   "source": [
    "<a id=\"6\"></a>\n",
    "<font color=\"Darkblue\" size=+2.5><b>CatBoost with SHAP</b></font>\n",
    "\n",
    "<a href=\"#toc\" class=\"btn btn-primary btn-sm\" role=\"button\" aria-pressed=\"true\" style=\"color:white\" data-toggle=\"popover\">Table of Contents</a>"
   ]
  },
  {
   "cell_type": "markdown",
   "metadata": {
    "papermill": {
     "duration": 0.126624,
     "end_time": "2021-10-24T12:46:17.336881",
     "exception": false,
     "start_time": "2021-10-24T12:46:17.210257",
     "status": "completed"
    },
    "tags": []
   },
   "source": [
    "![](https://avatars.mds.yandex.net/get-bunker/56833/dba868860690e7fe8b68223bb3b749ed8a36fbce/orig)"
   ]
  },
  {
   "cell_type": "markdown",
   "metadata": {
    "papermill": {
     "duration": 0.124991,
     "end_time": "2021-10-24T12:46:17.588281",
     "exception": false,
     "start_time": "2021-10-24T12:46:17.46329",
     "status": "completed"
    },
    "tags": []
   },
   "source": [
    "Image Credit: https://avatars.mds.yandex.net"
   ]
  },
  {
   "cell_type": "markdown",
   "metadata": {
    "papermill": {
     "duration": 0.124669,
     "end_time": "2021-10-24T12:46:17.839796",
     "exception": false,
     "start_time": "2021-10-24T12:46:17.715127",
     "status": "completed"
    },
    "tags": []
   },
   "source": [
    "<a id=\"7\"></a>\n",
    "<font color=\"Darkblue\" size=+1.5><b>CatBoost (with adjusted Scale_Pos_Weight = 5) Deals With Imbalanced Data</b></font>\n",
    "\n",
    "<a href=\"#toc\" class=\"btn btn-primary btn-sm\" role=\"button\" aria-pressed=\"true\" style=\"color:white\" data-toggle=\"popover\">Table of Contents</a>"
   ]
  },
  {
   "cell_type": "markdown",
   "metadata": {
    "papermill": {
     "duration": 0.127899,
     "end_time": "2021-10-24T12:46:18.094316",
     "exception": false,
     "start_time": "2021-10-24T12:46:17.966417",
     "status": "completed"
    },
    "tags": []
   },
   "source": [
    "### [As we discussed in the previous notebook](https://www.kaggle.com/kaanboke/xgboost-lightgbm-catboost-imbalanced-data), in this dataset we are dealing with imbalanced data.\n",
    "### [To handle imbalanced data](https://www.kaggle.com/kaanboke/xgboost-lightgbm-catboost-imbalanced-data) we use  **scale_pos_weight** and adjust it accordingly.\n",
    "###  By adjusting  **scale_pos_weight**  to **5**: Minority class gets 5 times more impact and 5 times more correction than errors made on the majority class. "
   ]
  },
  {
   "cell_type": "code",
   "execution_count": null,
   "metadata": {
    "_kg_hide-input": true,
    "execution": {
     "iopub.execute_input": "2021-10-24T13:10:35.647428Z",
     "iopub.status.busy": "2021-10-24T13:10:35.646987Z",
     "iopub.status.idle": "2021-10-24T13:10:43.910911Z",
     "shell.execute_reply": "2021-10-24T13:10:43.90978Z",
     "shell.execute_reply.started": "2021-10-24T13:10:35.647373Z"
    },
    "papermill": {
     "duration": 8.28178,
     "end_time": "2021-10-24T12:46:26.504973",
     "exception": false,
     "start_time": "2021-10-24T12:46:18.223193",
     "status": "completed"
    },
    "tags": []
   },
   "outputs": [],
   "source": [
    "accuracy= []\n",
    "recall =[]\n",
    "roc_auc= []\n",
    "precision = []\n",
    "\n",
    "\n",
    "df = pd.read_csv('../input/telco-customer-churn/WA_Fn-UseC_-Telco-Customer-Churn.csv')\n",
    "df1 = df.drop(['customerID','gender','PhoneService'],axis=1).copy()\n",
    "le = LabelEncoder()\n",
    "df1['Churn']=le.fit_transform(df1['Churn'])\n",
    "\n",
    "df1['tenure']= df1['tenure'].astype(float)\n",
    "df1['TotalCharges']= df1['TotalCharges'].apply(lambda x: x if x!= ' ' else np.nan).astype(float)\n",
    "\n",
    "df1[['OnlineSecurity','OnlineBackup','DeviceProtection','TechSupport','StreamingTV','StreamingMovies']]= df1[['OnlineSecurity','OnlineBackup','DeviceProtection','TechSupport','StreamingTV','StreamingMovies']].replace('No internet service','No')\n",
    "\n",
    "\n",
    "X= df1.drop('Churn', axis=1)\n",
    "y= df1['Churn']\n",
    "\n",
    "categorical_features_indices = np.where(X.dtypes != np.float)[0]\n",
    "\n",
    "X_train, X_test, y_train, y_test = train_test_split(X, y, test_size=0.3, random_state=42)\n",
    "\n",
    "catboost_5 = CatBoostClassifier(verbose=False,random_state=0,scale_pos_weight=5)\n",
    "\n",
    "catboost_5.fit(X_train, y_train,cat_features=categorical_features_indices,eval_set=(X_test, y_test))\n",
    "y_pred = catboost_5.predict(X_test)\n",
    "\n",
    "accuracy.append(round(accuracy_score(y_test, y_pred),4))\n",
    "recall.append(round(recall_score(y_test, y_pred),4))\n",
    "roc_auc.append(round(roc_auc_score(y_test, y_pred),4))\n",
    "precision.append(round(precision_score(y_test, y_pred),4))\n",
    "\n",
    "model_names = ['Catboost_adjusted_weight_5']\n",
    "result_df3 = pd.DataFrame({'Accuracy':accuracy,'Recall':recall, 'Roc_Auc':roc_auc, 'Precision':precision}, index=model_names)\n",
    "result_df3"
   ]
  },
  {
   "cell_type": "markdown",
   "metadata": {
    "papermill": {
     "duration": 0.127822,
     "end_time": "2021-10-24T12:46:26.762157",
     "exception": false,
     "start_time": "2021-10-24T12:46:26.634335",
     "status": "completed"
    },
    "tags": []
   },
   "source": [
    "- With the adjusted **`scale_pos_weight=5`**, **CatBoost** got  almost **.92 Recall and .75 Roc_Auc**"
   ]
  },
  {
   "cell_type": "code",
   "execution_count": null,
   "metadata": {
    "_kg_hide-input": true,
    "execution": {
     "iopub.execute_input": "2021-10-24T13:10:43.91328Z",
     "iopub.status.busy": "2021-10-24T13:10:43.91264Z",
     "iopub.status.idle": "2021-10-24T13:10:44.243945Z",
     "shell.execute_reply": "2021-10-24T13:10:44.243052Z",
     "shell.execute_reply.started": "2021-10-24T13:10:43.913232Z"
    },
    "papermill": {
     "duration": 0.469038,
     "end_time": "2021-10-24T12:46:27.361507",
     "exception": false,
     "start_time": "2021-10-24T12:46:26.892469",
     "status": "completed"
    },
    "tags": []
   },
   "outputs": [],
   "source": [
    "fig, ax = plt.subplots(figsize=(8, 8))\n",
    "plot_confusion_matrix(catboost_5, X_test, y_test, cmap=plt.cm.Blues, ax=ax);"
   ]
  },
  {
   "cell_type": "markdown",
   "metadata": {
    "papermill": {
     "duration": 0.127576,
     "end_time": "2021-10-24T12:46:27.616979",
     "exception": false,
     "start_time": "2021-10-24T12:46:27.489403",
     "status": "completed"
    },
    "tags": []
   },
   "source": [
    "- By using **`scale_pos_weight = 5`**, **CatBoost** correctly predict almost **92% of the churned customers**."
   ]
  },
  {
   "cell_type": "markdown",
   "metadata": {
    "papermill": {
     "duration": 0.12868,
     "end_time": "2021-10-24T12:46:27.875458",
     "exception": false,
     "start_time": "2021-10-24T12:46:27.746778",
     "status": "completed"
    },
    "tags": []
   },
   "source": [
    "<a id=\"8\"></a>\n",
    "<font color=\"Darkblue\" size=+1.5><b>SHAP Feature Importance</b></font>\n",
    "\n",
    "<a href=\"#toc\" class=\"btn btn-primary btn-sm\" role=\"button\" aria-pressed=\"true\" style=\"color:white\" data-toggle=\"popover\">Table of Contents</a>"
   ]
  },
  {
   "cell_type": "code",
   "execution_count": null,
   "metadata": {
    "_kg_hide-input": false,
    "execution": {
     "iopub.execute_input": "2021-10-24T13:10:44.245431Z",
     "iopub.status.busy": "2021-10-24T13:10:44.245169Z",
     "iopub.status.idle": "2021-10-24T13:10:44.852106Z",
     "shell.execute_reply": "2021-10-24T13:10:44.851202Z",
     "shell.execute_reply.started": "2021-10-24T13:10:44.2454Z"
    },
    "papermill": {
     "duration": 0.749623,
     "end_time": "2021-10-24T12:46:28.753451",
     "exception": false,
     "start_time": "2021-10-24T12:46:28.003828",
     "status": "completed"
    },
    "tags": []
   },
   "outputs": [],
   "source": [
    "explainercat = shap.TreeExplainer(catboost_5)\n",
    "shap_values_cat_test = explainercat.shap_values(X_test)\n",
    "shap_values_cat_train = explainercat.shap_values(X_train)"
   ]
  },
  {
   "cell_type": "code",
   "execution_count": null,
   "metadata": {
    "_kg_hide-input": true,
    "execution": {
     "iopub.execute_input": "2021-10-24T13:10:44.854332Z",
     "iopub.status.busy": "2021-10-24T13:10:44.853688Z",
     "iopub.status.idle": "2021-10-24T13:10:45.202084Z",
     "shell.execute_reply": "2021-10-24T13:10:45.201133Z",
     "shell.execute_reply.started": "2021-10-24T13:10:44.854298Z"
    },
    "papermill": {
     "duration": 0.507599,
     "end_time": "2021-10-24T12:46:29.389896",
     "exception": false,
     "start_time": "2021-10-24T12:46:28.882297",
     "status": "completed"
    },
    "tags": []
   },
   "outputs": [],
   "source": [
    "shap.summary_plot(shap_values_cat_train, X_train, plot_type=\"bar\",plot_size=(12,12))"
   ]
  },
  {
   "cell_type": "markdown",
   "metadata": {
    "papermill": {
     "duration": 0.15945,
     "end_time": "2021-10-24T12:46:29.728685",
     "exception": false,
     "start_time": "2021-10-24T12:46:29.569235",
     "status": "completed"
    },
    "tags": []
   },
   "source": [
    "- SHAP feature importance is easy to explain. Features with larger values are important. \n",
    "- As we have seen from the feature importance:\n",
    "   - **`contract`**\n",
    "   - **`internet service type`**\n",
    "   - **`tenure:How long they are with the company`** are the important features based on the Catboost model we have selected."
   ]
  },
  {
   "cell_type": "markdown",
   "metadata": {
    "papermill": {
     "duration": 0.132686,
     "end_time": "2021-10-24T12:46:30.005557",
     "exception": false,
     "start_time": "2021-10-24T12:46:29.872871",
     "status": "completed"
    },
    "tags": []
   },
   "source": [
    "<a id=\"9\"></a>\n",
    "<font color=\"Darkblue\" size=+1.5><b>SHAP Summary Plot</b></font>\n",
    "\n",
    "<a href=\"#toc\" class=\"btn btn-primary btn-sm\" role=\"button\" aria-pressed=\"true\" style=\"color:white\" data-toggle=\"popover\">Table of Contents</a>"
   ]
  },
  {
   "cell_type": "code",
   "execution_count": null,
   "metadata": {
    "_kg_hide-input": false,
    "execution": {
     "iopub.execute_input": "2021-10-24T13:10:45.205386Z",
     "iopub.status.busy": "2021-10-24T13:10:45.205081Z",
     "iopub.status.idle": "2021-10-24T13:10:46.516251Z",
     "shell.execute_reply": "2021-10-24T13:10:46.515062Z",
     "shell.execute_reply.started": "2021-10-24T13:10:45.205354Z"
    },
    "papermill": {
     "duration": 1.911703,
     "end_time": "2021-10-24T12:46:32.051945",
     "exception": false,
     "start_time": "2021-10-24T12:46:30.140242",
     "status": "completed"
    },
    "tags": []
   },
   "outputs": [],
   "source": [
    "fig = plt.subplots(figsize=(6,6),dpi=200)\n",
    "\n",
    "ax = shap.summary_plot(shap_values_cat_train, X_train,plot_type=\"dot\")"
   ]
  },
  {
   "cell_type": "markdown",
   "metadata": {
    "papermill": {
     "duration": 0.135074,
     "end_time": "2021-10-24T12:46:32.321972",
     "exception": false,
     "start_time": "2021-10-24T12:46:32.186898",
     "status": "completed"
    },
    "tags": []
   },
   "source": [
    "### SHAP summary plot gives in detail info by combining feature importance with its effects.\n",
    "### Color of the dots represents the value of the feature (Blue: low value, red: Higher value)\n",
    "### Features are ordered based on their importance\n",
    "### As we have seen in the tenure higher values of the tenure, lower the probability of the customer churn.\n",
    "### Higher monthly charges increase risk of the customer churn.\n",
    "### As you have seen that **contract** has kind of dark gray color, what does it mean?\n",
    "### Both CatBoost and LightGBM handles with the categorical variables internaly for that reason, categorical features are not included into SHAP model as numerical encoded versions.\n",
    "### We will see their importance in detail with **SHAP Dependence Plot**\n"
   ]
  },
  {
   "cell_type": "markdown",
   "metadata": {
    "papermill": {
     "duration": 0.134142,
     "end_time": "2021-10-24T12:46:32.590799",
     "exception": false,
     "start_time": "2021-10-24T12:46:32.456657",
     "status": "completed"
    },
    "tags": []
   },
   "source": [
    "<a id=\"10\"></a>\n",
    "<font color=\"Darkblue\" size=+2><b>SHAP Dependence Plot</b></font>\n",
    "\n",
    "<a href=\"#toc\" class=\"btn btn-primary btn-sm\" role=\"button\" aria-pressed=\"true\" style=\"color:white\" data-toggle=\"popover\">Table of Contents</a>"
   ]
  },
  {
   "cell_type": "markdown",
   "metadata": {
    "papermill": {
     "duration": 0.134131,
     "end_time": "2021-10-24T12:46:32.860527",
     "exception": false,
     "start_time": "2021-10-24T12:46:32.726396",
     "status": "completed"
    },
    "tags": []
   },
   "source": [
    "## **Contract**"
   ]
  },
  {
   "cell_type": "code",
   "execution_count": null,
   "metadata": {
    "_kg_hide-input": false,
    "execution": {
     "iopub.execute_input": "2021-10-24T13:10:46.518818Z",
     "iopub.status.busy": "2021-10-24T13:10:46.518349Z",
     "iopub.status.idle": "2021-10-24T13:10:46.73781Z",
     "shell.execute_reply": "2021-10-24T13:10:46.736767Z",
     "shell.execute_reply.started": "2021-10-24T13:10:46.518771Z"
    },
    "papermill": {
     "duration": 0.361961,
     "end_time": "2021-10-24T12:46:33.358093",
     "exception": false,
     "start_time": "2021-10-24T12:46:32.996132",
     "status": "completed"
    },
    "tags": []
   },
   "outputs": [],
   "source": [
    "fig, ax= plt.subplots(figsize=(6,6),dpi=100)\n",
    "shp_plt = shap.dependence_plot(\"Contract\", shap_values_cat_test, X_test,ax=ax,interaction_index=None)"
   ]
  },
  {
   "cell_type": "markdown",
   "metadata": {
    "papermill": {
     "duration": 0.137695,
     "end_time": "2021-10-24T12:46:33.635236",
     "exception": false,
     "start_time": "2021-10-24T12:46:33.497541",
     "status": "completed"
    },
    "tags": []
   },
   "source": [
    "### As seen very cleary form the dependence plot;\n",
    "### Customers with the **Month to month contract** most likely to churn\n",
    "### Customers with the **Two year contract** most likely to continue with the company"
   ]
  },
  {
   "cell_type": "markdown",
   "metadata": {
    "papermill": {
     "duration": 0.137007,
     "end_time": "2021-10-24T12:46:33.909307",
     "exception": false,
     "start_time": "2021-10-24T12:46:33.7723",
     "status": "completed"
    },
    "tags": []
   },
   "source": [
    "- Let' see one more categorical variable."
   ]
  },
  {
   "cell_type": "markdown",
   "metadata": {
    "papermill": {
     "duration": 0.136203,
     "end_time": "2021-10-24T12:46:34.183733",
     "exception": false,
     "start_time": "2021-10-24T12:46:34.04753",
     "status": "completed"
    },
    "tags": []
   },
   "source": [
    "## **Internet Service**"
   ]
  },
  {
   "cell_type": "code",
   "execution_count": null,
   "metadata": {
    "_kg_hide-input": false,
    "execution": {
     "iopub.execute_input": "2021-10-24T13:10:46.739354Z",
     "iopub.status.busy": "2021-10-24T13:10:46.739117Z",
     "iopub.status.idle": "2021-10-24T13:10:46.957143Z",
     "shell.execute_reply": "2021-10-24T13:10:46.956232Z",
     "shell.execute_reply.started": "2021-10-24T13:10:46.739309Z"
    },
    "papermill": {
     "duration": 0.375762,
     "end_time": "2021-10-24T12:46:34.695531",
     "exception": false,
     "start_time": "2021-10-24T12:46:34.319769",
     "status": "completed"
    },
    "tags": []
   },
   "outputs": [],
   "source": [
    "fig, ax= plt.subplots(figsize=(6,6),dpi=100)\n",
    "\n",
    "shap.dependence_plot(\"InternetService\", shap_values_cat_test, X_test,ax=ax, interaction_index=None)"
   ]
  },
  {
   "cell_type": "markdown",
   "metadata": {
    "papermill": {
     "duration": 0.141322,
     "end_time": "2021-10-24T12:46:34.979763",
     "exception": false,
     "start_time": "2021-10-24T12:46:34.838441",
     "status": "completed"
    },
    "tags": []
   },
   "source": [
    "### As seen very cleary form the dependence plot;\n",
    "### Customers with the **Fiber Optic Internet Service** with the company most likely to churn\n",
    "### Customers **without any internet service** with the company most likely to continue with the company."
   ]
  },
  {
   "cell_type": "markdown",
   "metadata": {
    "papermill": {
     "duration": 0.138758,
     "end_time": "2021-10-24T12:46:35.259471",
     "exception": false,
     "start_time": "2021-10-24T12:46:35.120713",
     "status": "completed"
    },
    "tags": []
   },
   "source": [
    "- And let's see one numerical feature"
   ]
  },
  {
   "cell_type": "markdown",
   "metadata": {
    "papermill": {
     "duration": 0.140247,
     "end_time": "2021-10-24T12:46:35.539167",
     "exception": false,
     "start_time": "2021-10-24T12:46:35.39892",
     "status": "completed"
    },
    "tags": []
   },
   "source": [
    "## **Monthly Charges**"
   ]
  },
  {
   "cell_type": "code",
   "execution_count": null,
   "metadata": {
    "_kg_hide-input": false,
    "execution": {
     "iopub.execute_input": "2021-10-24T13:10:46.958527Z",
     "iopub.status.busy": "2021-10-24T13:10:46.958275Z",
     "iopub.status.idle": "2021-10-24T13:10:47.236939Z",
     "shell.execute_reply": "2021-10-24T13:10:47.23622Z",
     "shell.execute_reply.started": "2021-10-24T13:10:46.9585Z"
    },
    "papermill": {
     "duration": 0.425178,
     "end_time": "2021-10-24T12:46:36.105106",
     "exception": false,
     "start_time": "2021-10-24T12:46:35.679928",
     "status": "completed"
    },
    "tags": []
   },
   "outputs": [],
   "source": [
    "fig, ax1= plt.subplots(figsize=(6,6),dpi=150)\n",
    "\n",
    "shp_plt = shap.dependence_plot(\"MonthlyCharges\", shap_values_cat_test,X_test,ax=ax1, interaction_index=None)"
   ]
  },
  {
   "cell_type": "markdown",
   "metadata": {
    "papermill": {
     "duration": 0.14252,
     "end_time": "2021-10-24T12:46:36.390629",
     "exception": false,
     "start_time": "2021-10-24T12:46:36.248109",
     "status": "completed"
    },
    "tags": []
   },
   "source": [
    "### **Monthly Charges**:\n",
    "### Monthly charges until at around 60 US Dollars, customer most likely not to churn and continue with the company.\n",
    "### When monthly charges start to increase from 100 US Dollar and up, customer is most likely to churn."
   ]
  },
  {
   "cell_type": "markdown",
   "metadata": {
    "papermill": {
     "duration": 0.140996,
     "end_time": "2021-10-24T12:46:36.673867",
     "exception": false,
     "start_time": "2021-10-24T12:46:36.532871",
     "status": "completed"
    },
    "tags": []
   },
   "source": [
    "## **Tenure**"
   ]
  },
  {
   "cell_type": "code",
   "execution_count": null,
   "metadata": {
    "_kg_hide-input": false,
    "execution": {
     "iopub.execute_input": "2021-10-24T13:10:47.238522Z",
     "iopub.status.busy": "2021-10-24T13:10:47.238227Z",
     "iopub.status.idle": "2021-10-24T13:10:47.573561Z",
     "shell.execute_reply": "2021-10-24T13:10:47.572564Z",
     "shell.execute_reply.started": "2021-10-24T13:10:47.238483Z"
    },
    "papermill": {
     "duration": 0.495321,
     "end_time": "2021-10-24T12:46:37.312199",
     "exception": false,
     "start_time": "2021-10-24T12:46:36.816878",
     "status": "completed"
    },
    "tags": []
   },
   "outputs": [],
   "source": [
    "fig, ax2 = plt.subplots(figsize=(6,6),dpi=200)\n",
    "shap.dependence_plot(\"tenure\", shap_values_cat_test, X_test,interaction_index=None,ax=ax2)"
   ]
  },
  {
   "cell_type": "markdown",
   "metadata": {
    "papermill": {
     "duration": 0.14743,
     "end_time": "2021-10-24T12:46:37.606321",
     "exception": false,
     "start_time": "2021-10-24T12:46:37.458891",
     "status": "completed"
    },
    "tags": []
   },
   "source": [
    "### **Tenure** as a numerical feature gives us a quite clear picture.\n",
    "### Customer more than at around 25 months with the company less likely to churn. "
   ]
  },
  {
   "cell_type": "markdown",
   "metadata": {
    "papermill": {
     "duration": 0.146435,
     "end_time": "2021-10-24T12:46:37.900807",
     "exception": false,
     "start_time": "2021-10-24T12:46:37.754372",
     "status": "completed"
    },
    "tags": []
   },
   "source": [
    "- Let's see different features interaction and how it effects the churn."
   ]
  },
  {
   "cell_type": "markdown",
   "metadata": {
    "papermill": {
     "duration": 0.148274,
     "end_time": "2021-10-24T12:46:38.196304",
     "exception": false,
     "start_time": "2021-10-24T12:46:38.04803",
     "status": "completed"
    },
    "tags": []
   },
   "source": [
    "## **Tenure & Contract-Churn**"
   ]
  },
  {
   "cell_type": "code",
   "execution_count": null,
   "metadata": {
    "_kg_hide-input": false,
    "execution": {
     "iopub.execute_input": "2021-10-24T13:10:47.575445Z",
     "iopub.status.busy": "2021-10-24T13:10:47.575157Z",
     "iopub.status.idle": "2021-10-24T13:10:48.153245Z",
     "shell.execute_reply": "2021-10-24T13:10:48.152118Z",
     "shell.execute_reply.started": "2021-10-24T13:10:47.575412Z"
    },
    "papermill": {
     "duration": 0.736422,
     "end_time": "2021-10-24T12:46:39.079387",
     "exception": false,
     "start_time": "2021-10-24T12:46:38.342965",
     "status": "completed"
    },
    "tags": []
   },
   "outputs": [],
   "source": [
    "fig, ax3 = plt.subplots(figsize=(6,6),dpi=200)\n",
    "shp_plt = shap.dependence_plot(\"tenure\", shap_values_cat_test, X_test,ax=ax3, cmap=plt.get_cmap('autumn'))"
   ]
  },
  {
   "cell_type": "markdown",
   "metadata": {
    "papermill": {
     "duration": 0.148413,
     "end_time": "2021-10-24T12:46:39.378857",
     "exception": false,
     "start_time": "2021-10-24T12:46:39.230444",
     "status": "completed"
    },
    "tags": []
   },
   "source": [
    "### **Tenure & Contract** interaction:\n",
    "### As expected customer with longer time with the company and with the two year contract less likely to churn\n",
    "### Customer with a month-to-month contract and less than at around 20 months with the company more likely to churn.\n",
    "### Customer with one year contract and less than 60 months with the company does not have much interaction with the churn rate.\n",
    "### Customer with one year contract and more than 60 months with the company more likely to stay with the company."
   ]
  },
  {
   "cell_type": "markdown",
   "metadata": {
    "papermill": {
     "duration": 0.14866,
     "end_time": "2021-10-24T12:46:39.675179",
     "exception": false,
     "start_time": "2021-10-24T12:46:39.526519",
     "status": "completed"
    },
    "tags": []
   },
   "source": [
    "## **Monthly Charges & Contract - Churn**"
   ]
  },
  {
   "cell_type": "code",
   "execution_count": null,
   "metadata": {
    "_kg_hide-input": false,
    "execution": {
     "iopub.execute_input": "2021-10-24T13:10:48.155001Z",
     "iopub.status.busy": "2021-10-24T13:10:48.154774Z",
     "iopub.status.idle": "2021-10-24T13:10:48.571902Z",
     "shell.execute_reply": "2021-10-24T13:10:48.570813Z",
     "shell.execute_reply.started": "2021-10-24T13:10:48.154973Z"
    },
    "papermill": {
     "duration": 0.579411,
     "end_time": "2021-10-24T12:46:40.407302",
     "exception": false,
     "start_time": "2021-10-24T12:46:39.827891",
     "status": "completed"
    },
    "tags": []
   },
   "outputs": [],
   "source": [
    "fig, ax4 = plt.subplots(figsize=(6,6),dpi=200)\n",
    "shp_plt = shap.dependence_plot('MonthlyCharges', shap_values_cat_test, X_test,interaction_index='Contract',ax=ax4, cmap=plt.get_cmap('Spectral'))"
   ]
  },
  {
   "cell_type": "markdown",
   "metadata": {
    "papermill": {
     "duration": 0.158424,
     "end_time": "2021-10-24T12:46:40.741833",
     "exception": false,
     "start_time": "2021-10-24T12:46:40.583409",
     "status": "completed"
    },
    "tags": []
   },
   "source": [
    "### **Monthly Charges & Contract** interaction:\n",
    "  \n",
    "### Customer with a month-to-month contract and less than at around 60 US Dollars  monthly charges is more likely to stay with the company.\n",
    "### When monthly charges get more than 100 US Dollars, probability of the customer churn in all contract types starts to increase.\n",
    "### Customer with two year contract or one year contract and with the monthly charges more than at around 110 US Dollars are more likely to churn."
   ]
  },
  {
   "cell_type": "markdown",
   "metadata": {
    "papermill": {
     "duration": 0.158304,
     "end_time": "2021-10-24T12:46:41.060494",
     "exception": false,
     "start_time": "2021-10-24T12:46:40.90219",
     "status": "completed"
    },
    "tags": []
   },
   "source": [
    "<a id=\"11\"></a>\n",
    "<font color=\"Darkblue\" size=+1.5><b>SHAP Decision Plot</b></font>\n",
    "\n",
    "<a href=\"#toc\" class=\"btn btn-primary btn-sm\" role=\"button\" aria-pressed=\"true\" style=\"color:white\" data-toggle=\"popover\">Table of Contents</a>"
   ]
  },
  {
   "cell_type": "markdown",
   "metadata": {
    "papermill": {
     "duration": 0.158729,
     "end_time": "2021-10-24T12:46:41.376538",
     "exception": false,
     "start_time": "2021-10-24T12:46:41.217809",
     "status": "completed"
    },
    "tags": []
   },
   "source": [
    "## SHAP Decison Plot gives us a clear picture of how models, in our case how complex models, reach their decisions.\n",
    "\n"
   ]
  },
  {
   "cell_type": "markdown",
   "metadata": {
    "papermill": {
     "duration": 0.157864,
     "end_time": "2021-10-24T12:46:41.69331",
     "exception": false,
     "start_time": "2021-10-24T12:46:41.535446",
     "status": "completed"
    },
    "tags": []
   },
   "source": [
    "#### OK. so far we  have seen general pictures.\n",
    "\n",
    "#### Since we want to explain model predictions to our (most probably non-technical) customers / stakeholders, let's make it more specific.\n",
    "\n",
    "#### We will focus on two different customers, who are customer 15 and customer 35 in test set.\n",
    "\n",
    "#### We will see how model decide the process and what features have affect on that decisions of the model.\n",
    "\n",
    "## Very enjoable, let's dive in."
   ]
  },
  {
   "cell_type": "code",
   "execution_count": null,
   "metadata": {
    "_kg_hide-input": true,
    "execution": {
     "iopub.execute_input": "2021-10-24T13:10:48.574625Z",
     "iopub.status.busy": "2021-10-24T13:10:48.573466Z",
     "iopub.status.idle": "2021-10-24T13:10:48.581014Z",
     "shell.execute_reply": "2021-10-24T13:10:48.579722Z",
     "shell.execute_reply.started": "2021-10-24T13:10:48.574555Z"
    },
    "papermill": {
     "duration": 0.169416,
     "end_time": "2021-10-24T12:46:42.02334",
     "exception": false,
     "start_time": "2021-10-24T12:46:41.853924",
     "status": "completed"
    },
    "tags": []
   },
   "outputs": [],
   "source": [
    "print(f'Expected Value-Base Value: {explainercat.expected_value}')"
   ]
  },
  {
   "cell_type": "markdown",
   "metadata": {
    "papermill": {
     "duration": 0.158174,
     "end_time": "2021-10-24T12:46:42.342482",
     "exception": false,
     "start_time": "2021-10-24T12:46:42.184308",
     "status": "completed"
    },
    "tags": []
   },
   "source": [
    "### The expected value – the average predicted probability – is:  - 0.1755.\n",
    "### In the plot, we will use **logit** function and  will change log-odds numbers into probabilities.\n",
    "### By using logit number, **base value- expected value** will be **0.4562**"
   ]
  },
  {
   "cell_type": "markdown",
   "metadata": {
    "papermill": {
     "duration": 0.16715,
     "end_time": "2021-10-24T12:46:42.673031",
     "exception": false,
     "start_time": "2021-10-24T12:46:42.505881",
     "status": "completed"
    },
    "tags": []
   },
   "source": [
    "### Before seeing how model make decison on the speficic case, let's see model decison plot on the **`first 50 customers' churn probability`**."
   ]
  },
  {
   "cell_type": "code",
   "execution_count": null,
   "metadata": {
    "_kg_hide-input": false,
    "execution": {
     "iopub.execute_input": "2021-10-24T13:10:48.583144Z",
     "iopub.status.busy": "2021-10-24T13:10:48.582773Z",
     "iopub.status.idle": "2021-10-24T13:10:49.418218Z",
     "shell.execute_reply": "2021-10-24T13:10:49.417245Z",
     "shell.execute_reply.started": "2021-10-24T13:10:48.583097Z"
    },
    "papermill": {
     "duration": 0.975327,
     "end_time": "2021-10-24T12:46:43.805452",
     "exception": false,
     "start_time": "2021-10-24T12:46:42.830125",
     "status": "completed"
    },
    "tags": []
   },
   "outputs": [],
   "source": [
    "fig = plt.subplots(figsize=(6,6),dpi=200)\n",
    "ax_1= shap.decision_plot(explainercat.expected_value, shap_values_cat_test[:50], X_test.iloc[:50],auto_size_plot=False, link= \"logit\")\n"
   ]
  },
  {
   "cell_type": "markdown",
   "metadata": {
    "papermill": {
     "duration": 0.251801,
     "end_time": "2021-10-24T12:46:44.240734",
     "exception": false,
     "start_time": "2021-10-24T12:46:43.988933",
     "status": "completed"
    },
    "tags": []
   },
   "source": [
    "\n",
    "# **It is beautiful**"
   ]
  },
  {
   "cell_type": "markdown",
   "metadata": {
    "papermill": {
     "duration": 0.18033,
     "end_time": "2021-10-24T12:46:44.598801",
     "exception": false,
     "start_time": "2021-10-24T12:46:44.418471",
     "status": "completed"
    },
    "tags": []
   },
   "source": [
    "> ### The x-axis represents the model’s output. In this case, the units are log odds. \n",
    "\n",
    "> ### The plot is centered on the x-axis at explainer.expected_value. All SHAP values are relative to the model’s expected value like a linear model’s effects are relative to the intercept. \n",
    "\n",
    "> ### The y-axis lists the model’s features. By default, the features are ordered by descending importance. The importance is calculated over the observations plotted. This is usually different than the importance ordering for the entire dataset. \n",
    "\n",
    "> ### In addition to feature importance ordering, the decision plot also supports hierarchical cluster feature ordering and user-defined feature ordering. \n",
    "\n",
    "> ### Each observation’s prediction is represented by a colored line. At the top of the plot, each line strikes the x-axis at its corresponding observation’s predicted value. This value determines the color of the line on a spectrum. \n",
    "\n",
    "> ### Moving from the bottom of the plot to the top, SHAP values for each feature are added to the model’s base value. This shows how each feature contributes to the overall prediction.  \n",
    "\n",
    "> ### At the bottom of the plot, the observations converge at **explainer.expected_value**.\n",
    "\n",
    "Reference: https://shap.readthedocs.io/\n"
   ]
  },
  {
   "cell_type": "markdown",
   "metadata": {
    "papermill": {
     "duration": 0.177466,
     "end_time": "2021-10-24T12:46:44.951839",
     "exception": false,
     "start_time": "2021-10-24T12:46:44.774373",
     "status": "completed"
    },
    "tags": []
   },
   "source": [
    "# **Customer Specific Cases: Customer 15 and Customer 35**"
   ]
  },
  {
   "cell_type": "markdown",
   "metadata": {
    "papermill": {
     "duration": 0.184422,
     "end_time": "2021-10-24T12:46:45.320293",
     "exception": false,
     "start_time": "2021-10-24T12:46:45.135871",
     "status": "completed"
    },
    "tags": []
   },
   "source": [
    "### **Customer 15**"
   ]
  },
  {
   "cell_type": "markdown",
   "metadata": {
    "papermill": {
     "duration": 0.170607,
     "end_time": "2021-10-24T12:46:45.669043",
     "exception": false,
     "start_time": "2021-10-24T12:46:45.498436",
     "status": "completed"
    },
    "tags": []
   },
   "source": [
    "- Let's see customer 15 in detail."
   ]
  },
  {
   "cell_type": "code",
   "execution_count": null,
   "metadata": {
    "_kg_hide-input": true,
    "execution": {
     "iopub.execute_input": "2021-10-24T13:10:49.419937Z",
     "iopub.status.busy": "2021-10-24T13:10:49.41958Z",
     "iopub.status.idle": "2021-10-24T13:10:49.428369Z",
     "shell.execute_reply": "2021-10-24T13:10:49.427572Z",
     "shell.execute_reply.started": "2021-10-24T13:10:49.4199Z"
    },
    "papermill": {
     "duration": 0.181729,
     "end_time": "2021-10-24T12:46:46.022411",
     "exception": false,
     "start_time": "2021-10-24T12:46:45.840682",
     "status": "completed"
    },
    "tags": []
   },
   "outputs": [],
   "source": [
    "X_test.iloc[15]"
   ]
  },
  {
   "cell_type": "markdown",
   "metadata": {
    "papermill": {
     "duration": 0.167808,
     "end_time": "2021-10-24T12:46:46.35917",
     "exception": false,
     "start_time": "2021-10-24T12:46:46.191362",
     "status": "completed"
    },
    "tags": []
   },
   "source": [
    "- So customer 15:\n",
    "   - Senior citizen\n",
    "   - Has Month to month contract\n",
    "   - 11 month tenure with the company\n",
    "   - Monthly charges is 95.15 $ and Total charges is around 1K\n",
    "   - Does not have any partner or dependent\n",
    "   - Internet service is Fiber optic\n",
    "   - No device protection, no online security, no tech support\n"
   ]
  },
  {
   "cell_type": "code",
   "execution_count": null,
   "metadata": {
    "_kg_hide-input": false,
    "execution": {
     "iopub.execute_input": "2021-10-24T13:10:49.430945Z",
     "iopub.status.busy": "2021-10-24T13:10:49.429922Z",
     "iopub.status.idle": "2021-10-24T13:10:50.511357Z",
     "shell.execute_reply": "2021-10-24T13:10:50.510699Z",
     "shell.execute_reply.started": "2021-10-24T13:10:49.430897Z"
    },
    "papermill": {
     "duration": 1.366718,
     "end_time": "2021-10-24T12:46:47.893769",
     "exception": false,
     "start_time": "2021-10-24T12:46:46.527051",
     "status": "completed"
    },
    "tags": []
   },
   "outputs": [],
   "source": [
    "fig = plt.subplots(figsize=(6,6),dpi=200)\n",
    "ax_2= shap.decision_plot(explainercat.expected_value, shap_values_cat_test[15], X_test.iloc[[15]], link= \"logit\")\n"
   ]
  },
  {
   "cell_type": "markdown",
   "metadata": {
    "papermill": {
     "duration": 0.178583,
     "end_time": "2021-10-24T12:46:48.264369",
     "exception": false,
     "start_time": "2021-10-24T12:46:48.085786",
     "status": "completed"
    },
    "tags": []
   },
   "source": [
    "### Model starts with the **expected value** – the average predicted probability:  **0.4562**.\n",
    "### Being **senior citizen**, doesn't have an **online security services**, having a **multiple lines** with the company, 1K **total charges**, **paperless billing** slightly increase probability of the churn.\n",
    "### **Monthly charges** with 95.15 US Dollars and having **Streaming TV** services have medium level effects on the increasing the probability of the churn.\n",
    "### On the other hand **payment method as a bank transfer automatic** has effect on the decreasing the probability of the churn decision.\n",
    "### Being 11 months **tenure** with the company and having **Fiber internet service** with the company have signigicantly increase the probability of the churn.  \n",
    "### From decision plot, it is seen that having **month-to-month contract** with the company has the most signigicant effect on the increasing the probability of the churn decision in this model for this specific customer."
   ]
  },
  {
   "cell_type": "markdown",
   "metadata": {
    "papermill": {
     "duration": 0.178507,
     "end_time": "2021-10-24T12:46:48.623863",
     "exception": false,
     "start_time": "2021-10-24T12:46:48.445356",
     "status": "completed"
    },
    "tags": []
   },
   "source": [
    "- Let's see our model prediction on the customer 15:"
   ]
  },
  {
   "cell_type": "code",
   "execution_count": null,
   "metadata": {
    "_kg_hide-input": true,
    "execution": {
     "iopub.execute_input": "2021-10-24T13:10:50.513035Z",
     "iopub.status.busy": "2021-10-24T13:10:50.512666Z",
     "iopub.status.idle": "2021-10-24T13:10:50.518588Z",
     "shell.execute_reply": "2021-10-24T13:10:50.517781Z",
     "shell.execute_reply.started": "2021-10-24T13:10:50.512991Z"
    },
    "papermill": {
     "duration": 0.188189,
     "end_time": "2021-10-24T12:46:48.991002",
     "exception": false,
     "start_time": "2021-10-24T12:46:48.802813",
     "status": "completed"
    },
    "tags": []
   },
   "outputs": [],
   "source": [
    "print(f'Customer 15: Actual value for the Customer Churn : {y_test.iloc[15]}')\n",
    "print(f\"Customer 15: CatBoost Model's prediction for the Customer Churn : {y_pred[15]}\")"
   ]
  },
  {
   "cell_type": "markdown",
   "metadata": {
    "papermill": {
     "duration": 0.174724,
     "end_time": "2021-10-24T12:46:49.34147",
     "exception": false,
     "start_time": "2021-10-24T12:46:49.166746",
     "status": "completed"
    },
    "tags": []
   },
   "source": [
    "![](https://media.giphy.com/media/11gC4odpiRKuha/giphy.gif)"
   ]
  },
  {
   "cell_type": "markdown",
   "metadata": {
    "papermill": {
     "duration": 0.174988,
     "end_time": "2021-10-24T12:46:49.692182",
     "exception": false,
     "start_time": "2021-10-24T12:46:49.517194",
     "status": "completed"
    },
    "tags": []
   },
   "source": [
    "Gif Credit: https://media.giphy.com/"
   ]
  },
  {
   "cell_type": "markdown",
   "metadata": {
    "papermill": {
     "duration": 0.177295,
     "end_time": "2021-10-24T12:46:50.044612",
     "exception": false,
     "start_time": "2021-10-24T12:46:49.867317",
     "status": "completed"
    },
    "tags": []
   },
   "source": [
    "### **Customer 35**"
   ]
  },
  {
   "cell_type": "markdown",
   "metadata": {
    "papermill": {
     "duration": 0.175601,
     "end_time": "2021-10-24T12:46:50.395692",
     "exception": false,
     "start_time": "2021-10-24T12:46:50.220091",
     "status": "completed"
    },
    "tags": []
   },
   "source": [
    "- Let's see customer 35 in detail."
   ]
  },
  {
   "cell_type": "code",
   "execution_count": null,
   "metadata": {
    "_kg_hide-input": true,
    "execution": {
     "iopub.execute_input": "2021-10-24T13:10:50.520251Z",
     "iopub.status.busy": "2021-10-24T13:10:50.520004Z",
     "iopub.status.idle": "2021-10-24T13:10:50.534153Z",
     "shell.execute_reply": "2021-10-24T13:10:50.533342Z",
     "shell.execute_reply.started": "2021-10-24T13:10:50.520221Z"
    },
    "papermill": {
     "duration": 0.188004,
     "end_time": "2021-10-24T12:46:50.760093",
     "exception": false,
     "start_time": "2021-10-24T12:46:50.572089",
     "status": "completed"
    },
    "tags": []
   },
   "outputs": [],
   "source": [
    "X_test.iloc[35]"
   ]
  },
  {
   "cell_type": "markdown",
   "metadata": {
    "papermill": {
     "duration": 0.179662,
     "end_time": "2021-10-24T12:46:51.116188",
     "exception": false,
     "start_time": "2021-10-24T12:46:50.936526",
     "status": "completed"
    },
    "tags": []
   },
   "source": [
    "- So customer 35:\n",
    "   - Not a Senior citizen\n",
    "   - Has two year contract\n",
    "   - 17 month tenure with the company\n",
    "   - Monthly charges is 19.45 $ and Total charges is 369.05 US Dollars.\n",
    "   - Does not have any partner or dependent \n",
    "   - Doesnot have any internet service with the company.\n",
    "   - No device protection, no online security, no tech support\n"
   ]
  },
  {
   "cell_type": "code",
   "execution_count": null,
   "metadata": {
    "_kg_hide-input": false,
    "execution": {
     "iopub.execute_input": "2021-10-24T13:10:50.535985Z",
     "iopub.status.busy": "2021-10-24T13:10:50.535589Z",
     "iopub.status.idle": "2021-10-24T13:10:51.329301Z",
     "shell.execute_reply": "2021-10-24T13:10:51.328402Z",
     "shell.execute_reply.started": "2021-10-24T13:10:50.535954Z"
    },
    "papermill": {
     "duration": 0.996551,
     "end_time": "2021-10-24T12:46:52.292633",
     "exception": false,
     "start_time": "2021-10-24T12:46:51.296082",
     "status": "completed"
    },
    "tags": []
   },
   "outputs": [],
   "source": [
    "fig = plt.subplots(figsize=(6,6),dpi=200)\n",
    "ax_2= shap.decision_plot(explainercat.expected_value, shap_values_cat_test[35], X_test.iloc[[35]],link= \"logit\")\n"
   ]
  },
  {
   "cell_type": "markdown",
   "metadata": {
    "papermill": {
     "duration": 0.184407,
     "end_time": "2021-10-24T12:46:52.662041",
     "exception": false,
     "start_time": "2021-10-24T12:46:52.477634",
     "status": "completed"
    },
    "tags": []
   },
   "source": [
    "### Model starts with the **expected value** – the average predicted probability:  0.4562.\n",
    "### Not having **multiple lines** and  **Streaming TV** with the company, have small effects on the increasing the probability of the not churn decision.\n",
    "### On the other hand being 17 months **tenure** has small effect on the increasing the probability of the churn decision.\n",
    "### **Monthly charges** with 19.45 US Dollars and not having **paperless billing`* have effects on the increasing the probability of the not churn decision.\n",
    "### Not having any **internet service** with the company have signigicant level effects on the increasing the probability of the not churn decision.\n",
    "### From decision plot, it is seen that having **two year contract** with the company has the most signigicant effect on the probability of the not churn decision in this model for this specific customer."
   ]
  },
  {
   "cell_type": "markdown",
   "metadata": {
    "papermill": {
     "duration": 0.188088,
     "end_time": "2021-10-24T12:46:53.031965",
     "exception": false,
     "start_time": "2021-10-24T12:46:52.843877",
     "status": "completed"
    },
    "tags": []
   },
   "source": [
    "- Let's see our model prediction on the customer 35:"
   ]
  },
  {
   "cell_type": "code",
   "execution_count": null,
   "metadata": {
    "_kg_hide-input": true,
    "execution": {
     "iopub.execute_input": "2021-10-24T13:10:51.331039Z",
     "iopub.status.busy": "2021-10-24T13:10:51.330822Z",
     "iopub.status.idle": "2021-10-24T13:10:51.337092Z",
     "shell.execute_reply": "2021-10-24T13:10:51.336105Z",
     "shell.execute_reply.started": "2021-10-24T13:10:51.331012Z"
    },
    "papermill": {
     "duration": 0.203053,
     "end_time": "2021-10-24T12:46:53.422099",
     "exception": false,
     "start_time": "2021-10-24T12:46:53.219046",
     "status": "completed"
    },
    "tags": []
   },
   "outputs": [],
   "source": [
    "print(f'Customer 35: Actual value for the Customer Churn : {y_test.iloc[35]}')\n",
    "print(f\"Customer 35: CatBoost Model's prediction for the Customer Churn : {y_pred[35]}\")"
   ]
  },
  {
   "cell_type": "markdown",
   "metadata": {
    "papermill": {
     "duration": 0.187206,
     "end_time": "2021-10-24T12:46:53.797465",
     "exception": false,
     "start_time": "2021-10-24T12:46:53.610259",
     "status": "completed"
    },
    "tags": []
   },
   "source": [
    "![](https://media.giphy.com/media/Qtp1Ps7V6mRZwja223/giphy.gif)"
   ]
  },
  {
   "cell_type": "markdown",
   "metadata": {
    "papermill": {
     "duration": 0.187096,
     "end_time": "2021-10-24T12:46:54.174021",
     "exception": false,
     "start_time": "2021-10-24T12:46:53.986925",
     "status": "completed"
    },
    "tags": []
   },
   "source": [
    "Gif Credit: https://media.giphy.com"
   ]
  },
  {
   "cell_type": "markdown",
   "metadata": {
    "papermill": {
     "duration": 0.186408,
     "end_time": "2021-10-24T12:46:54.548714",
     "exception": false,
     "start_time": "2021-10-24T12:46:54.362306",
     "status": "completed"
    },
    "tags": []
   },
   "source": [
    "<a id=\"12\"></a>\n",
    "<font color=\"Darkblue\" size=+1.5><b>SHAP Force Plot</b></font>\n",
    "\n",
    "<a href=\"#toc\" class=\"btn btn-primary btn-sm\" role=\"button\" aria-pressed=\"true\" style=\"color:white\" data-toggle=\"popover\">Table of Contents</a>"
   ]
  },
  {
   "cell_type": "markdown",
   "metadata": {
    "papermill": {
     "duration": 0.188366,
     "end_time": "2021-10-24T12:46:54.925973",
     "exception": false,
     "start_time": "2021-10-24T12:46:54.737607",
     "status": "completed"
    },
    "tags": []
   },
   "source": [
    "> ### You can visualize feature attributions such as Shapley values as “forces”. \n",
    "\n",
    "> ### Each feature value is a force that either increases or decreases the prediction. \n",
    "\n",
    "> ### The prediction starts from the baseline. The baseline for Shapley values is the average of all predictions. \n",
    "\n",
    "> ### In the plot, each Shapley value is an arrow that pushes to increase (positive value) or decrease (negative value) the prediction. These forces balance each other out at the actual prediction of the data instance.\n",
    "\n",
    "Reference: https://christophm.github.io/interpretable-ml-book/shap.html"
   ]
  },
  {
   "cell_type": "markdown",
   "metadata": {
    "papermill": {
     "duration": 0.182829,
     "end_time": "2021-10-24T12:46:55.295712",
     "exception": false,
     "start_time": "2021-10-24T12:46:55.112883",
     "status": "completed"
    },
    "tags": []
   },
   "source": [
    "## Before seeing how model make decison on the speficic case, let's see model force plot on the first 50 customers' churn probability.\n",
    "## Enjoy the beauty of the interactive SHAP Force plot."
   ]
  },
  {
   "cell_type": "code",
   "execution_count": null,
   "metadata": {
    "_kg_hide-input": false,
    "execution": {
     "iopub.execute_input": "2021-10-24T13:10:51.338522Z",
     "iopub.status.busy": "2021-10-24T13:10:51.338287Z",
     "iopub.status.idle": "2021-10-24T13:10:51.381019Z",
     "shell.execute_reply": "2021-10-24T13:10:51.380205Z",
     "shell.execute_reply.started": "2021-10-24T13:10:51.338496Z"
    },
    "papermill": {
     "duration": 0.22554,
     "end_time": "2021-10-24T12:46:55.704746",
     "exception": false,
     "start_time": "2021-10-24T12:46:55.479206",
     "status": "completed"
    },
    "tags": []
   },
   "outputs": [],
   "source": [
    "shap.initjs()\n",
    "shap.force_plot(explainercat.expected_value, shap_values_cat_test[:50], X_test.iloc[:50],link= \"logit\")"
   ]
  },
  {
   "cell_type": "markdown",
   "metadata": {
    "papermill": {
     "duration": 0.202899,
     "end_time": "2021-10-24T12:46:56.106281",
     "exception": false,
     "start_time": "2021-10-24T12:46:55.903382",
     "status": "completed"
    },
    "tags": []
   },
   "source": [
    "### **Customer 15**"
   ]
  },
  {
   "cell_type": "code",
   "execution_count": null,
   "metadata": {
    "_kg_hide-input": false,
    "execution": {
     "iopub.execute_input": "2021-10-24T13:10:51.38262Z",
     "iopub.status.busy": "2021-10-24T13:10:51.382391Z",
     "iopub.status.idle": "2021-10-24T13:10:51.401182Z",
     "shell.execute_reply": "2021-10-24T13:10:51.399995Z",
     "shell.execute_reply.started": "2021-10-24T13:10:51.382592Z"
    },
    "papermill": {
     "duration": 0.229214,
     "end_time": "2021-10-24T12:46:56.538456",
     "exception": false,
     "start_time": "2021-10-24T12:46:56.309242",
     "status": "completed"
    },
    "tags": []
   },
   "outputs": [],
   "source": [
    "shap.initjs()\n",
    "shap.force_plot(explainercat.expected_value, shap_values_cat_test[15], X_test.iloc[[15]],link= \"logit\")"
   ]
  },
  {
   "cell_type": "markdown",
   "metadata": {
    "papermill": {
     "duration": 0.217056,
     "end_time": "2021-10-24T12:46:56.975421",
     "exception": false,
     "start_time": "2021-10-24T12:46:56.758365",
     "status": "completed"
    },
    "tags": []
   },
   "source": [
    "#### The baseline is  0.4562. \n",
    "## Customer 15 has a very high predicted risk of **0.90 to churn**. \n",
    "###  **Month to month contract** significantly increases the probability of customer churn.\n",
    "### Only **Payment method: Bank Transfer-Automatic** decreases the probability of churn.\n",
    "### It is very similar to **Decision Plot** we have seen before."
   ]
  },
  {
   "cell_type": "markdown",
   "metadata": {
    "papermill": {
     "duration": 0.216112,
     "end_time": "2021-10-24T12:46:57.412566",
     "exception": false,
     "start_time": "2021-10-24T12:46:57.196454",
     "status": "completed"
    },
    "tags": []
   },
   "source": [
    "### **Customer 35**"
   ]
  },
  {
   "cell_type": "code",
   "execution_count": null,
   "metadata": {
    "_kg_hide-input": false,
    "execution": {
     "iopub.execute_input": "2021-10-24T13:10:51.403133Z",
     "iopub.status.busy": "2021-10-24T13:10:51.402675Z",
     "iopub.status.idle": "2021-10-24T13:10:51.425537Z",
     "shell.execute_reply": "2021-10-24T13:10:51.424619Z",
     "shell.execute_reply.started": "2021-10-24T13:10:51.403094Z"
    },
    "papermill": {
     "duration": 0.245286,
     "end_time": "2021-10-24T12:46:57.876807",
     "exception": false,
     "start_time": "2021-10-24T12:46:57.631521",
     "status": "completed"
    },
    "tags": []
   },
   "outputs": [],
   "source": [
    "shap.initjs()\n",
    "shap.force_plot(explainercat.expected_value, shap_values_cat_test[35], X_test.iloc[[35]],link= \"logit\")"
   ]
  },
  {
   "cell_type": "markdown",
   "metadata": {
    "papermill": {
     "duration": 0.228014,
     "end_time": "2021-10-24T12:46:58.339242",
     "exception": false,
     "start_time": "2021-10-24T12:46:58.111228",
     "status": "completed"
    },
    "tags": []
   },
   "source": [
    "#### The baseline is 0.4562. \n",
    "## Customer 35 has a very low predicted risk of **0.05 to churn**. \n",
    "### **Two year contract** significantly decreases the probability of customer churn.\n",
    "### Only **17 months of being with the company** increases the probability of churn.\n",
    "### It is very similar to **Decision Plot** we have seen before."
   ]
  },
  {
   "cell_type": "markdown",
   "metadata": {
    "papermill": {
     "duration": 0.236252,
     "end_time": "2021-10-24T12:46:58.817525",
     "exception": false,
     "start_time": "2021-10-24T12:46:58.581273",
     "status": "completed"
    },
    "tags": []
   },
   "source": [
    "<a id=\"13\"></a>\n",
    "<font color=\"Darkblue\" size=+2><b>SHAP Waterfall Plot</b></font>\n",
    "\n",
    "<a href=\"#toc\" class=\"btn btn-primary btn-sm\" role=\"button\" aria-pressed=\"true\" style=\"color:white\" data-toggle=\"popover\">Table of Contents</a>"
   ]
  },
  {
   "cell_type": "markdown",
   "metadata": {
    "papermill": {
     "duration": 0.232177,
     "end_time": "2021-10-24T12:46:59.284112",
     "exception": false,
     "start_time": "2021-10-24T12:46:59.051935",
     "status": "completed"
    },
    "tags": []
   },
   "source": [
    "- It is very similar to **`force plot`** so, it would be good to know."
   ]
  },
  {
   "cell_type": "markdown",
   "metadata": {
    "papermill": {
     "duration": 0.236076,
     "end_time": "2021-10-24T12:46:59.753432",
     "exception": false,
     "start_time": "2021-10-24T12:46:59.517356",
     "status": "completed"
    },
    "tags": []
   },
   "source": [
    "> ### Waterfall plots are designed to display explanations for individual predictions, so they expect a single row of an Explanation object as input. \n",
    "\n",
    "> ### The bottom of a waterfall plot starts as the expected value of the model output, and then each row shows how the positive (red) or negative (blue) contribution of each feature moves the value from the expected model output over the background dataset to the model output for this prediction.\n",
    "\n",
    "Reference: https://shap.readthedocs.io/\n"
   ]
  },
  {
   "cell_type": "markdown",
   "metadata": {
    "papermill": {
     "duration": 0.23037,
     "end_time": "2021-10-24T12:47:00.220158",
     "exception": false,
     "start_time": "2021-10-24T12:46:59.989788",
     "status": "completed"
    },
    "tags": []
   },
   "source": [
    "### **Customer 15**"
   ]
  },
  {
   "cell_type": "code",
   "execution_count": null,
   "metadata": {
    "_kg_hide-input": false,
    "execution": {
     "iopub.execute_input": "2021-10-24T13:10:51.432091Z",
     "iopub.status.busy": "2021-10-24T13:10:51.431625Z",
     "iopub.status.idle": "2021-10-24T13:10:52.829319Z",
     "shell.execute_reply": "2021-10-24T13:10:52.828395Z",
     "shell.execute_reply.started": "2021-10-24T13:10:51.432051Z"
    },
    "papermill": {
     "duration": 1.727423,
     "end_time": "2021-10-24T12:47:02.176359",
     "exception": false,
     "start_time": "2021-10-24T12:47:00.448936",
     "status": "completed"
    },
    "tags": []
   },
   "outputs": [],
   "source": [
    "fig = plt.subplots(figsize=(6,6),dpi=150)\n",
    "ax_3= shap.plots._waterfall.waterfall_legacy(explainercat.expected_value, shap_values_cat_test[15], feature_names = X_test.columns,max_display = 20)"
   ]
  },
  {
   "cell_type": "markdown",
   "metadata": {
    "papermill": {
     "duration": 0.244029,
     "end_time": "2021-10-24T12:47:02.678368",
     "exception": false,
     "start_time": "2021-10-24T12:47:02.434339",
     "status": "completed"
    },
    "tags": []
   },
   "source": [
    "### **Customer 35**"
   ]
  },
  {
   "cell_type": "code",
   "execution_count": null,
   "metadata": {
    "_kg_hide-input": false,
    "execution": {
     "iopub.execute_input": "2021-10-24T13:10:52.830961Z",
     "iopub.status.busy": "2021-10-24T13:10:52.830706Z",
     "iopub.status.idle": "2021-10-24T13:10:54.081688Z",
     "shell.execute_reply": "2021-10-24T13:10:54.080672Z",
     "shell.execute_reply.started": "2021-10-24T13:10:52.830913Z"
    },
    "papermill": {
     "duration": 1.496742,
     "end_time": "2021-10-24T12:47:04.414737",
     "exception": false,
     "start_time": "2021-10-24T12:47:02.917995",
     "status": "completed"
    },
    "tags": []
   },
   "outputs": [],
   "source": [
    "fig = plt.subplots(figsize=(6,6),dpi=150)\n",
    "ax_3= shap.plots._waterfall.waterfall_legacy(explainercat.expected_value, shap_values_cat_test[35], feature_names = X_test.columns,max_display = 20)"
   ]
  },
  {
   "cell_type": "markdown",
   "metadata": {
    "papermill": {
     "duration": 0.235269,
     "end_time": "2021-10-24T12:47:04.886994",
     "exception": false,
     "start_time": "2021-10-24T12:47:04.651725",
     "status": "completed"
    },
    "tags": []
   },
   "source": [
    "## **Decision Plot** , **Force Plot** and **Waterfall Plot** are very useful to understand and explain how the model arrived at its decision.\n"
   ]
  },
  {
   "cell_type": "markdown",
   "metadata": {
    "papermill": {
     "duration": 0.24174,
     "end_time": "2021-10-24T12:47:05.365515",
     "exception": false,
     "start_time": "2021-10-24T12:47:05.123775",
     "status": "completed"
    },
    "tags": []
   },
   "source": [
    "<a id=\"14\"></a>\n",
    "<font color=\"Darkblue\" size=+2.5><b>LightGBM with SHAP</b></font>\n",
    "\n",
    "<a href=\"#toc\" class=\"btn btn-primary btn-sm\" role=\"button\" aria-pressed=\"true\" style=\"color:white\" data-toggle=\"popover\">Table of Contents</a>"
   ]
  },
  {
   "cell_type": "markdown",
   "metadata": {
    "papermill": {
     "duration": 0.243713,
     "end_time": "2021-10-24T12:47:05.8551",
     "exception": false,
     "start_time": "2021-10-24T12:47:05.611387",
     "status": "completed"
    },
    "tags": []
   },
   "source": [
    "![](https://repository-images.githubusercontent.com/64991887/dc855780-e34b-11ea-9ab8-e08ca33288b0)"
   ]
  },
  {
   "cell_type": "markdown",
   "metadata": {
    "papermill": {
     "duration": 0.241859,
     "end_time": "2021-10-24T12:47:06.342975",
     "exception": false,
     "start_time": "2021-10-24T12:47:06.101116",
     "status": "completed"
    },
    "tags": []
   },
   "source": [
    "Image Credit: https://repository-images.githubusercontent.com/64991887/"
   ]
  },
  {
   "cell_type": "markdown",
   "metadata": {
    "papermill": {
     "duration": 0.23636,
     "end_time": "2021-10-24T12:47:06.816659",
     "exception": false,
     "start_time": "2021-10-24T12:47:06.580299",
     "status": "completed"
    },
    "tags": []
   },
   "source": [
    "<a id=\"15\"></a>\n",
    "<font color=\"Darkblue\" size=+1.5><b>LightGBM (with adjusted Scale_Pos_Weight =5) Deals With Imbalanced Data</b></font>\n",
    "\n",
    "<a href=\"#toc\" class=\"btn btn-primary btn-sm\" role=\"button\" aria-pressed=\"true\" style=\"color:white\" data-toggle=\"popover\">Table of Contents</a>"
   ]
  },
  {
   "cell_type": "markdown",
   "metadata": {
    "papermill": {
     "duration": 0.236601,
     "end_time": "2021-10-24T12:47:07.293429",
     "exception": false,
     "start_time": "2021-10-24T12:47:07.056828",
     "status": "completed"
    },
    "tags": []
   },
   "source": [
    "### [As we discussed in the previous notebook](https://www.kaggle.com/kaanboke/xgboost-lightgbm-catboost-imbalanced-data), in this dataset we are dealing with imbalanced data.\n",
    "### [To handle imbalanced data](https://www.kaggle.com/kaanboke/xgboost-lightgbm-catboost-imbalanced-data) we use  **scale_pos_weight** and adjust it accordingly.\n",
    "### By adjusting  **scale_pos_weight**  to **5**: Minority class gets 5 times more impact and 5 times more correction than errors made on the majority class. "
   ]
  },
  {
   "cell_type": "code",
   "execution_count": null,
   "metadata": {
    "_kg_hide-input": true,
    "execution": {
     "iopub.execute_input": "2021-10-24T13:10:54.084137Z",
     "iopub.status.busy": "2021-10-24T13:10:54.083803Z",
     "iopub.status.idle": "2021-10-24T13:10:54.461763Z",
     "shell.execute_reply": "2021-10-24T13:10:54.461065Z",
     "shell.execute_reply.started": "2021-10-24T13:10:54.084083Z"
    },
    "papermill": {
     "duration": 0.632608,
     "end_time": "2021-10-24T12:47:08.162663",
     "exception": false,
     "start_time": "2021-10-24T12:47:07.530055",
     "status": "completed"
    },
    "tags": []
   },
   "outputs": [],
   "source": [
    "accuracy= []\n",
    "recall =[]\n",
    "roc_auc= []\n",
    "precision = []\n",
    "\n",
    "\n",
    "df = pd.read_csv('../input/telco-customer-churn/WA_Fn-UseC_-Telco-Customer-Churn.csv')\n",
    "df1 = df.drop(['customerID','gender','PhoneService'],axis=1).copy()\n",
    "le = LabelEncoder()\n",
    "df1['Churn']=le.fit_transform(df1['Churn'])\n",
    "\n",
    "df1['TotalCharges']= df1['TotalCharges'].apply(lambda x: x if x!= ' ' else np.nan).astype(float)\n",
    "\n",
    "df1[['OnlineSecurity','OnlineBackup','DeviceProtection','TechSupport','StreamingTV','StreamingMovies']]= df1[['OnlineSecurity','OnlineBackup','DeviceProtection','TechSupport','StreamingTV','StreamingMovies']].replace('No internet service','No')\n",
    "\n",
    "X= df1.drop('Churn', axis=1)\n",
    "y= df1['Churn']\n",
    "\n",
    "for col in X.columns:\n",
    "    col_type = X[col].dtype\n",
    "    if col_type == 'object' or col_type.name == 'category':\n",
    "        X[col] = X[col].astype('category')\n",
    "\n",
    "X_train, X_test, y_train, y_test = train_test_split(X, y, test_size=0.3, random_state=42)\n",
    "\n",
    "lgbmc_5=lgb.LGBMClassifier(random_state=0,scale_pos_weight=5)\n",
    "\n",
    "lgbmc_5.fit(X_train, y_train,categorical_feature = 'auto',eval_set=(X_test, y_test),feature_name='auto', verbose=0)\n",
    "\n",
    "y_pred = lgbmc_5.predict(X_test)\n",
    "\n",
    "accuracy.append(round(accuracy_score(y_test, y_pred),4))\n",
    "recall.append(round(recall_score(y_test, y_pred),4))\n",
    "roc_auc.append(round(roc_auc_score(y_test, y_pred),4))\n",
    "precision.append(round(precision_score(y_test, y_pred),4))\n",
    "\n",
    "model_names = ['LightGBM_adjusted_weight_5']\n",
    "result_df9 = pd.DataFrame({'Accuracy':accuracy,'Recall':recall, 'Roc_Auc':roc_auc, 'Precision':precision}, index=model_names)\n",
    "result_df9"
   ]
  },
  {
   "cell_type": "markdown",
   "metadata": {
    "papermill": {
     "duration": 0.238679,
     "end_time": "2021-10-24T12:47:08.63987",
     "exception": false,
     "start_time": "2021-10-24T12:47:08.401191",
     "status": "completed"
    },
    "tags": []
   },
   "source": [
    "- With the adjusted **`scale_pos_weight = 5`**, **LightGBM** got **.84 Recall and  .76 Roc_Auc**"
   ]
  },
  {
   "cell_type": "code",
   "execution_count": null,
   "metadata": {
    "_kg_hide-input": true,
    "execution": {
     "iopub.execute_input": "2021-10-24T13:10:54.463435Z",
     "iopub.status.busy": "2021-10-24T13:10:54.4628Z",
     "iopub.status.idle": "2021-10-24T13:10:54.741349Z",
     "shell.execute_reply": "2021-10-24T13:10:54.740394Z",
     "shell.execute_reply.started": "2021-10-24T13:10:54.463404Z"
    },
    "papermill": {
     "duration": 0.54289,
     "end_time": "2021-10-24T12:47:09.420514",
     "exception": false,
     "start_time": "2021-10-24T12:47:08.877624",
     "status": "completed"
    },
    "tags": []
   },
   "outputs": [],
   "source": [
    "fig, ax = plt.subplots(figsize=(8, 8))\n",
    "plot_confusion_matrix(lgbmc_5, X_test, y_test, cmap=plt.cm.Blues, ax=ax);"
   ]
  },
  {
   "cell_type": "markdown",
   "metadata": {
    "papermill": {
     "duration": 0.243807,
     "end_time": "2021-10-24T12:47:09.911026",
     "exception": false,
     "start_time": "2021-10-24T12:47:09.667219",
     "status": "completed"
    },
    "tags": []
   },
   "source": [
    "- By using **`scale_pos_weight =5`**, **LightGBM** correctly predicted **83% of the churned customer**."
   ]
  },
  {
   "cell_type": "markdown",
   "metadata": {
    "papermill": {
     "duration": 0.244127,
     "end_time": "2021-10-24T12:47:10.407091",
     "exception": false,
     "start_time": "2021-10-24T12:47:10.162964",
     "status": "completed"
    },
    "tags": []
   },
   "source": [
    "<a id=\"16\"></a>\n",
    "<font color=\"Darkblue\" size=+1.5><b>SHAP Feature Importance</b></font>\n",
    "\n",
    "<a href=\"#toc\" class=\"btn btn-primary btn-sm\" role=\"button\" aria-pressed=\"true\" style=\"color:white\" data-toggle=\"popover\">Table of Contents</a>"
   ]
  },
  {
   "cell_type": "code",
   "execution_count": null,
   "metadata": {
    "_kg_hide-input": false,
    "execution": {
     "iopub.execute_input": "2021-10-24T13:10:54.742762Z",
     "iopub.status.busy": "2021-10-24T13:10:54.742538Z",
     "iopub.status.idle": "2021-10-24T13:10:56.669106Z",
     "shell.execute_reply": "2021-10-24T13:10:56.668358Z",
     "shell.execute_reply.started": "2021-10-24T13:10:54.742734Z"
    },
    "papermill": {
     "duration": 2.177161,
     "end_time": "2021-10-24T12:47:12.828408",
     "exception": false,
     "start_time": "2021-10-24T12:47:10.651247",
     "status": "completed"
    },
    "tags": []
   },
   "outputs": [],
   "source": [
    "explainerlgbmc = shap.TreeExplainer(lgbmc_5)\n",
    "shap_values_LightGBM_test = explainerlgbmc.shap_values(X_test)\n",
    "shap_values_LightGBM_train = explainerlgbmc.shap_values(X_train)"
   ]
  },
  {
   "cell_type": "code",
   "execution_count": null,
   "metadata": {
    "_kg_hide-input": false,
    "execution": {
     "iopub.execute_input": "2021-10-24T13:10:56.674231Z",
     "iopub.status.busy": "2021-10-24T13:10:56.673596Z",
     "iopub.status.idle": "2021-10-24T13:10:57.053074Z",
     "shell.execute_reply": "2021-10-24T13:10:57.052336Z",
     "shell.execute_reply.started": "2021-10-24T13:10:56.674189Z"
    },
    "papermill": {
     "duration": 0.612358,
     "end_time": "2021-10-24T12:47:13.688807",
     "exception": false,
     "start_time": "2021-10-24T12:47:13.076449",
     "status": "completed"
    },
    "tags": []
   },
   "outputs": [],
   "source": [
    "shap.summary_plot(shap_values_LightGBM_train[1], X_train, plot_type=\"bar\",plot_size=(12,12))"
   ]
  },
  {
   "cell_type": "markdown",
   "metadata": {
    "papermill": {
     "duration": 0.240865,
     "end_time": "2021-10-24T12:47:14.170199",
     "exception": false,
     "start_time": "2021-10-24T12:47:13.929334",
     "status": "completed"
    },
    "tags": []
   },
   "source": [
    "### SHAP feature importance is easy to explain. Features with larger values are important. \n",
    "### As we have seen from the feature importance:\n",
    "### **contract**\n",
    "### **tenure:How long they are with the company** \n",
    "### **monthly charges**\n",
    "### **internet service type** are the important features based on the Catboost model we have selected."
   ]
  },
  {
   "cell_type": "markdown",
   "metadata": {
    "papermill": {
     "duration": 0.247413,
     "end_time": "2021-10-24T12:47:14.661628",
     "exception": false,
     "start_time": "2021-10-24T12:47:14.414215",
     "status": "completed"
    },
    "tags": []
   },
   "source": [
    "<a id=\"17\"></a>\n",
    "<font color=\"Darkblue\" size=+2><b>SHAP Summary Plot</b></font>\n",
    "\n",
    "<a href=\"#toc\" class=\"btn btn-primary btn-sm\" role=\"button\" aria-pressed=\"true\" style=\"color:white\" data-toggle=\"popover\">Table of Contents</a>"
   ]
  },
  {
   "cell_type": "code",
   "execution_count": null,
   "metadata": {
    "_kg_hide-input": false,
    "execution": {
     "iopub.execute_input": "2021-10-24T13:10:57.054829Z",
     "iopub.status.busy": "2021-10-24T13:10:57.054194Z",
     "iopub.status.idle": "2021-10-24T13:10:58.791975Z",
     "shell.execute_reply": "2021-10-24T13:10:58.791232Z",
     "shell.execute_reply.started": "2021-10-24T13:10:57.054749Z"
    },
    "papermill": {
     "duration": 2.001318,
     "end_time": "2021-10-24T12:47:16.910386",
     "exception": false,
     "start_time": "2021-10-24T12:47:14.909068",
     "status": "completed"
    },
    "tags": []
   },
   "outputs": [],
   "source": [
    "fig = plt.subplots(figsize=(6,6),dpi=200)\n",
    "\n",
    "ax = shap.summary_plot(shap_values_LightGBM_train[1], X_train,plot_type=\"dot\")"
   ]
  },
  {
   "cell_type": "markdown",
   "metadata": {
    "papermill": {
     "duration": 0.245338,
     "end_time": "2021-10-24T12:47:17.408707",
     "exception": false,
     "start_time": "2021-10-24T12:47:17.163369",
     "status": "completed"
    },
    "tags": []
   },
   "source": [
    "<a id=\"18\"></a>\n",
    "<font color=\"Darkblue\" size=+1.5><b>SHAP Decision Plot</b></font>\n",
    "\n",
    "<a href=\"#toc\" class=\"btn btn-primary btn-sm\" role=\"button\" aria-pressed=\"true\" style=\"color:white\" data-toggle=\"popover\">Table of Contents</a>"
   ]
  },
  {
   "cell_type": "markdown",
   "metadata": {
    "papermill": {
     "duration": 0.247593,
     "end_time": "2021-10-24T12:47:17.90442",
     "exception": false,
     "start_time": "2021-10-24T12:47:17.656827",
     "status": "completed"
    },
    "tags": []
   },
   "source": [
    "## **Customer 15**"
   ]
  },
  {
   "cell_type": "code",
   "execution_count": null,
   "metadata": {
    "_kg_hide-input": false,
    "execution": {
     "iopub.execute_input": "2021-10-24T13:10:58.793618Z",
     "iopub.status.busy": "2021-10-24T13:10:58.793179Z",
     "iopub.status.idle": "2021-10-24T13:10:59.615234Z",
     "shell.execute_reply": "2021-10-24T13:10:59.614447Z",
     "shell.execute_reply.started": "2021-10-24T13:10:58.793573Z"
    },
    "papermill": {
     "duration": 1.077052,
     "end_time": "2021-10-24T12:47:19.233928",
     "exception": false,
     "start_time": "2021-10-24T12:47:18.156876",
     "status": "completed"
    },
    "tags": []
   },
   "outputs": [],
   "source": [
    "fig = plt.subplots(figsize=(6,6),dpi=200)\n",
    "ax_2= shap.decision_plot(explainerlgbmc.expected_value[1], shap_values_LightGBM_test[1][15], X_test.iloc[[15]],link= \"logit\")\n"
   ]
  },
  {
   "cell_type": "markdown",
   "metadata": {
    "papermill": {
     "duration": 0.255762,
     "end_time": "2021-10-24T12:47:19.74827",
     "exception": false,
     "start_time": "2021-10-24T12:47:19.492508",
     "status": "completed"
    },
    "tags": []
   },
   "source": [
    "## **Customer 35**"
   ]
  },
  {
   "cell_type": "code",
   "execution_count": null,
   "metadata": {
    "_kg_hide-input": false,
    "execution": {
     "iopub.execute_input": "2021-10-24T13:10:59.617709Z",
     "iopub.status.busy": "2021-10-24T13:10:59.616549Z",
     "iopub.status.idle": "2021-10-24T13:11:00.414164Z",
     "shell.execute_reply": "2021-10-24T13:11:00.413051Z",
     "shell.execute_reply.started": "2021-10-24T13:10:59.61767Z"
    },
    "papermill": {
     "duration": 1.040979,
     "end_time": "2021-10-24T12:47:21.047101",
     "exception": false,
     "start_time": "2021-10-24T12:47:20.006122",
     "status": "completed"
    },
    "tags": []
   },
   "outputs": [],
   "source": [
    "fig = plt.subplots(figsize=(6,6),dpi=200)\n",
    "ax_2= shap.decision_plot(explainerlgbmc.expected_value[1], shap_values_LightGBM_test[1][35], X_test.iloc[[35]],link= \"logit\")\n"
   ]
  },
  {
   "cell_type": "markdown",
   "metadata": {
    "papermill": {
     "duration": 0.258153,
     "end_time": "2021-10-24T12:47:21.569026",
     "exception": false,
     "start_time": "2021-10-24T12:47:21.310873",
     "status": "completed"
    },
    "tags": []
   },
   "source": [
    "<a id=\"19\"></a>\n",
    "<font color=\"Darkblue\" size=+2><b>SHAP Force Plot</b></font>\n",
    "\n",
    "<a href=\"#toc\" class=\"btn btn-primary btn-sm\" role=\"button\" aria-pressed=\"true\" style=\"color:white\" data-toggle=\"popover\">Table of Contents</a>"
   ]
  },
  {
   "cell_type": "markdown",
   "metadata": {
    "papermill": {
     "duration": 0.273169,
     "end_time": "2021-10-24T12:47:22.113023",
     "exception": false,
     "start_time": "2021-10-24T12:47:21.839854",
     "status": "completed"
    },
    "tags": []
   },
   "source": [
    "### **Customer 15**"
   ]
  },
  {
   "cell_type": "code",
   "execution_count": null,
   "metadata": {
    "_kg_hide-input": false,
    "execution": {
     "iopub.execute_input": "2021-10-24T13:11:00.416247Z",
     "iopub.status.busy": "2021-10-24T13:11:00.415971Z",
     "iopub.status.idle": "2021-10-24T13:11:00.438409Z",
     "shell.execute_reply": "2021-10-24T13:11:00.43761Z",
     "shell.execute_reply.started": "2021-10-24T13:11:00.416212Z"
    },
    "papermill": {
     "duration": 0.291748,
     "end_time": "2021-10-24T12:47:22.674175",
     "exception": false,
     "start_time": "2021-10-24T12:47:22.382427",
     "status": "completed"
    },
    "tags": []
   },
   "outputs": [],
   "source": [
    "shap.initjs()\n",
    "shap.force_plot(explainerlgbmc.expected_value[1],shap_values_LightGBM_test[1][15], X_test.iloc[[15]],link= \"logit\")"
   ]
  },
  {
   "cell_type": "markdown",
   "metadata": {
    "papermill": {
     "duration": 0.27355,
     "end_time": "2021-10-24T12:47:23.223803",
     "exception": false,
     "start_time": "2021-10-24T12:47:22.950253",
     "status": "completed"
    },
    "tags": []
   },
   "source": [
    "#### The baseline is  0.3025. \n",
    "## Customer 15 has a very high predicted risk of **0.94 to churn**. \n",
    "### **Month to month contract** significantly increases the probability of customer churn.\n",
    "### Only **Payment method: Bank Transfer-Automatic** decreases the probability of churn.\n",
    "### It is very similar to **Decision Plot** we have seen before."
   ]
  },
  {
   "cell_type": "markdown",
   "metadata": {
    "papermill": {
     "duration": 0.275656,
     "end_time": "2021-10-24T12:47:23.776216",
     "exception": false,
     "start_time": "2021-10-24T12:47:23.50056",
     "status": "completed"
    },
    "tags": []
   },
   "source": [
    "### **Customer 35**"
   ]
  },
  {
   "cell_type": "code",
   "execution_count": null,
   "metadata": {
    "_kg_hide-input": false,
    "execution": {
     "iopub.execute_input": "2021-10-24T13:11:00.440569Z",
     "iopub.status.busy": "2021-10-24T13:11:00.439675Z",
     "iopub.status.idle": "2021-10-24T13:11:00.462949Z",
     "shell.execute_reply": "2021-10-24T13:11:00.462154Z",
     "shell.execute_reply.started": "2021-10-24T13:11:00.440531Z"
    },
    "papermill": {
     "duration": 0.313193,
     "end_time": "2021-10-24T12:47:24.366008",
     "exception": false,
     "start_time": "2021-10-24T12:47:24.052815",
     "status": "completed"
    },
    "tags": []
   },
   "outputs": [],
   "source": [
    "shap.initjs()\n",
    "shap.force_plot(explainerlgbmc.expected_value[1],shap_values_LightGBM_test[1][35], X_test.iloc[[35]],link= \"logit\")"
   ]
  },
  {
   "cell_type": "markdown",
   "metadata": {
    "papermill": {
     "duration": 0.290619,
     "end_time": "2021-10-24T12:47:24.972869",
     "exception": false,
     "start_time": "2021-10-24T12:47:24.68225",
     "status": "completed"
    },
    "tags": []
   },
   "source": [
    "#### The baseline is 0.3025. \n",
    "## Customer 35 has a very low predicted risk of **0.01 to churn**. \n",
    "### **Two year contract** significantly decreases the probability of customer churn.\n",
    "### Only **17 months of being with the company** slightly increases the probability of churn.\n",
    "### It is very similar to **Decision Plot** we have seen before."
   ]
  },
  {
   "cell_type": "markdown",
   "metadata": {
    "papermill": {
     "duration": 0.300666,
     "end_time": "2021-10-24T12:47:25.582311",
     "exception": false,
     "start_time": "2021-10-24T12:47:25.281645",
     "status": "completed"
    },
    "tags": []
   },
   "source": [
    "<a id=\"20\"></a>\n",
    "<font color=\"Darkblue\" size=+2><b>SHAP Waterfall Plot</b></font>\n",
    "\n",
    "<a href=\"#toc\" class=\"btn btn-primary btn-sm\" role=\"button\" aria-pressed=\"true\" style=\"color:white\" data-toggle=\"popover\">Table of Contents</a>"
   ]
  },
  {
   "cell_type": "markdown",
   "metadata": {
    "papermill": {
     "duration": 0.304068,
     "end_time": "2021-10-24T12:47:26.187739",
     "exception": false,
     "start_time": "2021-10-24T12:47:25.883671",
     "status": "completed"
    },
    "tags": []
   },
   "source": [
    "- It is very similar to **`force plot`** so, it would be good to know it."
   ]
  },
  {
   "cell_type": "markdown",
   "metadata": {
    "papermill": {
     "duration": 0.300192,
     "end_time": "2021-10-24T12:47:26.790306",
     "exception": false,
     "start_time": "2021-10-24T12:47:26.490114",
     "status": "completed"
    },
    "tags": []
   },
   "source": [
    "### **Customer 15**"
   ]
  },
  {
   "cell_type": "code",
   "execution_count": null,
   "metadata": {
    "_kg_hide-input": false,
    "execution": {
     "iopub.execute_input": "2021-10-24T13:11:00.465016Z",
     "iopub.status.busy": "2021-10-24T13:11:00.464179Z",
     "iopub.status.idle": "2021-10-24T13:11:01.724393Z",
     "shell.execute_reply": "2021-10-24T13:11:01.723467Z",
     "shell.execute_reply.started": "2021-10-24T13:11:00.464947Z"
    },
    "papermill": {
     "duration": 1.547521,
     "end_time": "2021-10-24T12:47:28.638366",
     "exception": false,
     "start_time": "2021-10-24T12:47:27.090845",
     "status": "completed"
    },
    "tags": []
   },
   "outputs": [],
   "source": [
    "fig = plt.subplots(figsize=(6,6),dpi=150)\n",
    "ax_3= shap.plots._waterfall.waterfall_legacy(explainerlgbmc.expected_value[1],shap_values_LightGBM_test[1][15], feature_names = X_test.columns,max_display = 20)"
   ]
  },
  {
   "cell_type": "markdown",
   "metadata": {
    "papermill": {
     "duration": 0.296403,
     "end_time": "2021-10-24T12:47:29.234433",
     "exception": false,
     "start_time": "2021-10-24T12:47:28.93803",
     "status": "completed"
    },
    "tags": []
   },
   "source": [
    "### **Customer 35**"
   ]
  },
  {
   "cell_type": "code",
   "execution_count": null,
   "metadata": {
    "_kg_hide-input": false,
    "execution": {
     "iopub.execute_input": "2021-10-24T13:11:01.726036Z",
     "iopub.status.busy": "2021-10-24T13:11:01.725798Z",
     "iopub.status.idle": "2021-10-24T13:11:02.964704Z",
     "shell.execute_reply": "2021-10-24T13:11:02.963811Z",
     "shell.execute_reply.started": "2021-10-24T13:11:01.726005Z"
    },
    "papermill": {
     "duration": 1.532486,
     "end_time": "2021-10-24T12:47:31.068966",
     "exception": false,
     "start_time": "2021-10-24T12:47:29.53648",
     "status": "completed"
    },
    "tags": []
   },
   "outputs": [],
   "source": [
    "fig = plt.subplots(figsize=(6,6),dpi=150)\n",
    "ax_3= shap.plots._waterfall.waterfall_legacy(explainerlgbmc.expected_value[1],shap_values_LightGBM_test[1][35], feature_names = X_test.columns,max_display = 20)"
   ]
  },
  {
   "cell_type": "markdown",
   "metadata": {
    "papermill": {
     "duration": 0.296531,
     "end_time": "2021-10-24T12:47:31.670099",
     "exception": false,
     "start_time": "2021-10-24T12:47:31.373568",
     "status": "completed"
    },
    "tags": []
   },
   "source": [
    "## **Decision Plot** , **Force Plot** and **Waterfall Plot** are very useful to understand and explain how the model arrived at its decision.\n"
   ]
  },
  {
   "cell_type": "markdown",
   "metadata": {
    "papermill": {
     "duration": 0.302139,
     "end_time": "2021-10-24T12:47:32.276799",
     "exception": false,
     "start_time": "2021-10-24T12:47:31.97466",
     "status": "completed"
    },
    "tags": []
   },
   "source": [
    "<a id=\"21\"></a>\n",
    "<font color=\"Darkblue\" size=+2.5><b>XGBoost with SHAP</b></font>\n",
    "\n",
    "<a href=\"#toc\" class=\"btn btn-primary btn-sm\" role=\"button\" aria-pressed=\"true\" style=\"color:white\" data-toggle=\"popover\">Table of Contents</a>"
   ]
  },
  {
   "cell_type": "markdown",
   "metadata": {
    "papermill": {
     "duration": 0.300443,
     "end_time": "2021-10-24T12:47:32.877775",
     "exception": false,
     "start_time": "2021-10-24T12:47:32.577332",
     "status": "completed"
    },
    "tags": []
   },
   "source": [
    "![](https://miro.medium.com/max/1400/1*1kjLMDQMufaQoS-nNJfg1Q.png)"
   ]
  },
  {
   "cell_type": "markdown",
   "metadata": {
    "papermill": {
     "duration": 0.302384,
     "end_time": "2021-10-24T12:47:33.484249",
     "exception": false,
     "start_time": "2021-10-24T12:47:33.181865",
     "status": "completed"
    },
    "tags": []
   },
   "source": [
    "Image Credit: https://miro.medium.com/"
   ]
  },
  {
   "cell_type": "markdown",
   "metadata": {
    "papermill": {
     "duration": 0.319952,
     "end_time": "2021-10-24T12:47:34.103823",
     "exception": false,
     "start_time": "2021-10-24T12:47:33.783871",
     "status": "completed"
    },
    "tags": []
   },
   "source": [
    "<a id=\"22\"></a>\n",
    "<font color=\"Darkblue\" size=+1.5><b>XGBoost (with adjusted Scale_Pos_Weight = 5) Deals With Imbalanced Data</b></font>\n",
    "\n",
    "<a href=\"#toc\" class=\"btn btn-primary btn-sm\" role=\"button\" aria-pressed=\"true\" style=\"color:white\" data-toggle=\"popover\">Table of Contents</a>"
   ]
  },
  {
   "cell_type": "markdown",
   "metadata": {
    "papermill": {
     "duration": 0.30417,
     "end_time": "2021-10-24T12:47:34.760424",
     "exception": false,
     "start_time": "2021-10-24T12:47:34.456254",
     "status": "completed"
    },
    "tags": []
   },
   "source": [
    "### [As we discussed in the previous notebook](https://www.kaggle.com/kaanboke/xgboost-lightgbm-catboost-imbalanced-data), in this dataset we are dealing with imbalanced data.\n",
    "### [To handle imbalanced data](https://www.kaggle.com/kaanboke/xgboost-lightgbm-catboost-imbalanced-data) we use  **scale_pos_weight** and adjust it accordingly.\n",
    "### By adjusting  **scale_pos_weight**  to **5**: Minority class gets 5 times more impact and 5 times more correction than errors made on the majority class. "
   ]
  },
  {
   "cell_type": "code",
   "execution_count": null,
   "metadata": {
    "_kg_hide-input": true,
    "execution": {
     "iopub.execute_input": "2021-10-24T13:11:02.967049Z",
     "iopub.status.busy": "2021-10-24T13:11:02.966393Z",
     "iopub.status.idle": "2021-10-24T13:11:03.702928Z",
     "shell.execute_reply": "2021-10-24T13:11:03.702351Z",
     "shell.execute_reply.started": "2021-10-24T13:11:02.967006Z"
    },
    "papermill": {
     "duration": 1.120213,
     "end_time": "2021-10-24T12:47:36.193845",
     "exception": false,
     "start_time": "2021-10-24T12:47:35.073632",
     "status": "completed"
    },
    "tags": []
   },
   "outputs": [],
   "source": [
    "accuracy= []\n",
    "recall =[]\n",
    "roc_auc= []\n",
    "precision = []\n",
    "\n",
    "\n",
    "df = pd.read_csv('../input/telco-customer-churn/WA_Fn-UseC_-Telco-Customer-Churn.csv')\n",
    "df1 = df.drop(['customerID','gender','PhoneService'],axis=1).copy()\n",
    "le = LabelEncoder()\n",
    "df1['Churn']=le.fit_transform(df1['Churn'])\n",
    "\n",
    "df1['TotalCharges']= df1['TotalCharges'].apply(lambda x: x if x!= ' ' else np.nan).astype(float)\n",
    "\n",
    "df1[['OnlineSecurity','OnlineBackup','DeviceProtection','TechSupport','StreamingTV','StreamingMovies']]= df1[['OnlineSecurity','OnlineBackup','DeviceProtection','TechSupport','StreamingTV','StreamingMovies']].replace('No internet service','No')\n",
    "\n",
    "df1= pd.get_dummies(df1)\n",
    "X= df1.drop('Churn', axis=1)\n",
    "y= df1['Churn']\n",
    "\n",
    "X_train, X_test, y_train, y_test = train_test_split(X, y, test_size=0.3, random_state=42)\n",
    "\n",
    "xgbc_5 = XGBClassifier(random_state=0,scale_pos_weight=5)\n",
    "\n",
    "xgbc_5.fit(X_train, y_train)\n",
    "y_pred = xgbc_5.predict(X_test)\n",
    "\n",
    "accuracy.append(round(accuracy_score(y_test, y_pred),4))\n",
    "recall.append(round(recall_score(y_test, y_pred),4))\n",
    "roc_auc.append(round(roc_auc_score(y_test, y_pred),4))\n",
    "precision.append(round(precision_score(y_test, y_pred),4))\n",
    "\n",
    "model_names = ['XGBoost_adjusted_weight_5']\n",
    "result_df6 = pd.DataFrame({'Accuracy':accuracy,'Recall':recall, 'Roc_Auc':roc_auc, 'Precision':precision}, index=model_names)\n",
    "result_df6"
   ]
  },
  {
   "cell_type": "markdown",
   "metadata": {
    "papermill": {
     "duration": 0.31318,
     "end_time": "2021-10-24T12:47:36.812352",
     "exception": false,
     "start_time": "2021-10-24T12:47:36.499172",
     "status": "completed"
    },
    "tags": []
   },
   "source": [
    "- With the adjusted **`scale_pos_weight = 5`**, **XGBoost** got **.74 Recall and .75 Roc_Auc**"
   ]
  },
  {
   "cell_type": "code",
   "execution_count": null,
   "metadata": {
    "_kg_hide-input": true,
    "execution": {
     "iopub.execute_input": "2021-10-24T13:11:03.704357Z",
     "iopub.status.busy": "2021-10-24T13:11:03.703945Z",
     "iopub.status.idle": "2021-10-24T13:11:03.986956Z",
     "shell.execute_reply": "2021-10-24T13:11:03.98637Z",
     "shell.execute_reply.started": "2021-10-24T13:11:03.704302Z"
    },
    "papermill": {
     "duration": 0.600917,
     "end_time": "2021-10-24T12:47:37.722573",
     "exception": false,
     "start_time": "2021-10-24T12:47:37.121656",
     "status": "completed"
    },
    "tags": []
   },
   "outputs": [],
   "source": [
    "fig, ax = plt.subplots(figsize=(8, 8))\n",
    "plot_confusion_matrix(xgbc_5, X_test, y_test, cmap=plt.cm.Blues, ax=ax);"
   ]
  },
  {
   "cell_type": "markdown",
   "metadata": {
    "papermill": {
     "duration": 0.309763,
     "end_time": "2021-10-24T12:47:38.336046",
     "exception": false,
     "start_time": "2021-10-24T12:47:38.026283",
     "status": "completed"
    },
    "tags": []
   },
   "source": [
    "- **XGBoost** correctly predicted almost **74% of the churned customers** by using **scale_pos_weight=5** (Roc_Auc = .75)\n"
   ]
  },
  {
   "cell_type": "markdown",
   "metadata": {
    "papermill": {
     "duration": 0.315864,
     "end_time": "2021-10-24T12:47:38.963783",
     "exception": false,
     "start_time": "2021-10-24T12:47:38.647919",
     "status": "completed"
    },
    "tags": []
   },
   "source": [
    "<a id=\"23\"></a>\n",
    "<font color=\"Darkblue\" size=+2><b>SHAP Feature Importance</b></font>\n",
    "\n",
    "<a href=\"#toc\" class=\"btn btn-primary btn-sm\" role=\"button\" aria-pressed=\"true\" style=\"color:white\" data-toggle=\"popover\">Table of Contents</a>"
   ]
  },
  {
   "cell_type": "code",
   "execution_count": null,
   "metadata": {
    "_kg_hide-input": false,
    "execution": {
     "iopub.execute_input": "2021-10-24T13:11:03.988372Z",
     "iopub.status.busy": "2021-10-24T13:11:03.98803Z",
     "iopub.status.idle": "2021-10-24T13:11:05.821298Z",
     "shell.execute_reply": "2021-10-24T13:11:05.820568Z",
     "shell.execute_reply.started": "2021-10-24T13:11:03.988321Z"
    },
    "papermill": {
     "duration": 2.136482,
     "end_time": "2021-10-24T12:47:41.473529",
     "exception": false,
     "start_time": "2021-10-24T12:47:39.337047",
     "status": "completed"
    },
    "tags": []
   },
   "outputs": [],
   "source": [
    "explainerxgbc = shap.TreeExplainer(xgbc_5)\n",
    "shap_values_XGBoost_test = explainerxgbc.shap_values(X_test)\n",
    "shap_values_XGBoost_train = explainerxgbc.shap_values(X_train)"
   ]
  },
  {
   "cell_type": "code",
   "execution_count": null,
   "metadata": {
    "_kg_hide-input": false,
    "execution": {
     "iopub.execute_input": "2021-10-24T13:11:05.823093Z",
     "iopub.status.busy": "2021-10-24T13:11:05.822704Z",
     "iopub.status.idle": "2021-10-24T13:11:06.251192Z",
     "shell.execute_reply": "2021-10-24T13:11:06.250199Z",
     "shell.execute_reply.started": "2021-10-24T13:11:05.823061Z"
    },
    "papermill": {
     "duration": 0.740856,
     "end_time": "2021-10-24T12:47:42.531382",
     "exception": false,
     "start_time": "2021-10-24T12:47:41.790526",
     "status": "completed"
    },
    "tags": []
   },
   "outputs": [],
   "source": [
    "shap.summary_plot(shap_values_XGBoost_train, X_train, plot_type=\"bar\",plot_size=(12,12))"
   ]
  },
  {
   "cell_type": "markdown",
   "metadata": {
    "papermill": {
     "duration": 0.309205,
     "end_time": "2021-10-24T12:47:43.156766",
     "exception": false,
     "start_time": "2021-10-24T12:47:42.847561",
     "status": "completed"
    },
    "tags": []
   },
   "source": [
    "### SHAP feature importance is easy to explain. Features with larger values are important. \n",
    "### As we have seen from the feature importance:\n",
    "### **contract: month-to-month**\n",
    "### **tenure:How long they are with the company** \n",
    "### **Total charges**\n",
    "### **Monthly charges**\n",
    "### **Internet service type:: fiber optic** are the important features based on the XGboost model we have selected.\n",
    "   "
   ]
  },
  {
   "cell_type": "markdown",
   "metadata": {
    "papermill": {
     "duration": 0.302622,
     "end_time": "2021-10-24T12:47:43.766928",
     "exception": false,
     "start_time": "2021-10-24T12:47:43.464306",
     "status": "completed"
    },
    "tags": []
   },
   "source": [
    "<a id=\"24\"></a>\n",
    "<font color=\"Darkblue\" size=+1.5><b>SHAP Summary Plot</b></font>\n",
    "\n",
    "<a href=\"#toc\" class=\"btn btn-primary btn-sm\" role=\"button\" aria-pressed=\"true\" style=\"color:white\" data-toggle=\"popover\">Table of Contents</a>"
   ]
  },
  {
   "cell_type": "code",
   "execution_count": null,
   "metadata": {
    "_kg_hide-input": false,
    "execution": {
     "iopub.execute_input": "2021-10-24T13:11:06.253709Z",
     "iopub.status.busy": "2021-10-24T13:11:06.25314Z",
     "iopub.status.idle": "2021-10-24T13:11:09.328106Z",
     "shell.execute_reply": "2021-10-24T13:11:09.327411Z",
     "shell.execute_reply.started": "2021-10-24T13:11:06.25366Z"
    },
    "papermill": {
     "duration": 3.391518,
     "end_time": "2021-10-24T12:47:47.463901",
     "exception": false,
     "start_time": "2021-10-24T12:47:44.072383",
     "status": "completed"
    },
    "tags": []
   },
   "outputs": [],
   "source": [
    "fig = plt.subplots(figsize=(6,6),dpi=200)\n",
    "\n",
    "ax = shap.summary_plot(shap_values_XGBoost_train, X_train,plot_type=\"dot\")"
   ]
  },
  {
   "cell_type": "markdown",
   "metadata": {
    "papermill": {
     "duration": 0.311049,
     "end_time": "2021-10-24T12:47:48.089035",
     "exception": false,
     "start_time": "2021-10-24T12:47:47.777986",
     "status": "completed"
    },
    "tags": []
   },
   "source": [
    "<a id=\"25\"></a>\n",
    "<font color=\"Darkblue\" size=+1.5><b>SHAP Decision Plot</b></font>\n",
    "\n",
    "<a href=\"#toc\" class=\"btn btn-primary btn-sm\" role=\"button\" aria-pressed=\"true\" style=\"color:white\" data-toggle=\"popover\">Table of Contents</a>"
   ]
  },
  {
   "cell_type": "markdown",
   "metadata": {
    "papermill": {
     "duration": 0.312251,
     "end_time": "2021-10-24T12:47:48.715139",
     "exception": false,
     "start_time": "2021-10-24T12:47:48.402888",
     "status": "completed"
    },
    "tags": []
   },
   "source": [
    "### **Customer 15**"
   ]
  },
  {
   "cell_type": "code",
   "execution_count": null,
   "metadata": {
    "_kg_hide-input": false,
    "execution": {
     "iopub.execute_input": "2021-10-24T13:11:09.330134Z",
     "iopub.status.busy": "2021-10-24T13:11:09.329251Z",
     "iopub.status.idle": "2021-10-24T13:11:10.30238Z",
     "shell.execute_reply": "2021-10-24T13:11:10.301515Z",
     "shell.execute_reply.started": "2021-10-24T13:11:09.330094Z"
    },
    "papermill": {
     "duration": 1.29591,
     "end_time": "2021-10-24T12:47:50.323675",
     "exception": false,
     "start_time": "2021-10-24T12:47:49.027765",
     "status": "completed"
    },
    "tags": []
   },
   "outputs": [],
   "source": [
    "fig = plt.subplots(figsize=(6,6),dpi=200)\n",
    "ax_2= shap.decision_plot(explainerxgbc.expected_value, shap_values_XGBoost_test[15], X_test.iloc[[15]],link= \"logit\")\n"
   ]
  },
  {
   "cell_type": "markdown",
   "metadata": {
    "papermill": {
     "duration": 0.316575,
     "end_time": "2021-10-24T12:47:50.960694",
     "exception": false,
     "start_time": "2021-10-24T12:47:50.644119",
     "status": "completed"
    },
    "tags": []
   },
   "source": [
    "### **Customer 35**"
   ]
  },
  {
   "cell_type": "code",
   "execution_count": null,
   "metadata": {
    "_kg_hide-input": false,
    "execution": {
     "iopub.execute_input": "2021-10-24T13:11:10.304159Z",
     "iopub.status.busy": "2021-10-24T13:11:10.303709Z",
     "iopub.status.idle": "2021-10-24T13:11:11.385189Z",
     "shell.execute_reply": "2021-10-24T13:11:11.383869Z",
     "shell.execute_reply.started": "2021-10-24T13:11:10.304121Z"
    },
    "papermill": {
     "duration": 1.31803,
     "end_time": "2021-10-24T12:47:52.601787",
     "exception": false,
     "start_time": "2021-10-24T12:47:51.283757",
     "status": "completed"
    },
    "tags": []
   },
   "outputs": [],
   "source": [
    "fig = plt.subplots(figsize=(6,6),dpi=200)\n",
    "ax_2= shap.decision_plot(explainerxgbc.expected_value, shap_values_XGBoost_test[35], X_test.iloc[[35]],link= \"logit\")"
   ]
  },
  {
   "cell_type": "markdown",
   "metadata": {
    "papermill": {
     "duration": 0.338627,
     "end_time": "2021-10-24T12:47:53.271192",
     "exception": false,
     "start_time": "2021-10-24T12:47:52.932565",
     "status": "completed"
    },
    "tags": []
   },
   "source": [
    "<a id=\"26\"></a>\n",
    "<font color=\"Darkblue\" size=+2><b>SHAP Force Plot</b></font>\n",
    "\n",
    "<a href=\"#toc\" class=\"btn btn-primary btn-sm\" role=\"button\" aria-pressed=\"true\" style=\"color:white\" data-toggle=\"popover\">Table of Contents</a>"
   ]
  },
  {
   "cell_type": "markdown",
   "metadata": {
    "papermill": {
     "duration": 0.338034,
     "end_time": "2021-10-24T12:47:53.952092",
     "exception": false,
     "start_time": "2021-10-24T12:47:53.614058",
     "status": "completed"
    },
    "tags": []
   },
   "source": [
    "### **Customer 15**"
   ]
  },
  {
   "cell_type": "code",
   "execution_count": null,
   "metadata": {
    "_kg_hide-input": false,
    "execution": {
     "iopub.execute_input": "2021-10-24T13:11:11.387271Z",
     "iopub.status.busy": "2021-10-24T13:11:11.386909Z",
     "iopub.status.idle": "2021-10-24T13:11:11.40937Z",
     "shell.execute_reply": "2021-10-24T13:11:11.408703Z",
     "shell.execute_reply.started": "2021-10-24T13:11:11.387229Z"
    },
    "papermill": {
     "duration": 0.376023,
     "end_time": "2021-10-24T12:47:54.669849",
     "exception": false,
     "start_time": "2021-10-24T12:47:54.293826",
     "status": "completed"
    },
    "tags": []
   },
   "outputs": [],
   "source": [
    "shap.initjs()\n",
    "shap.force_plot(explainerxgbc.expected_value, shap_values_XGBoost_test[15], X_test.iloc[[15]],link= \"logit\")"
   ]
  },
  {
   "cell_type": "markdown",
   "metadata": {
    "papermill": {
     "duration": 0.349952,
     "end_time": "2021-10-24T12:47:55.375443",
     "exception": false,
     "start_time": "2021-10-24T12:47:55.025491",
     "status": "completed"
    },
    "tags": []
   },
   "source": [
    "#### The baseline is  0.6693. \n",
    "## Customer 15 has a very high predicted risk of **0.96 to churn**. \n",
    "### **Month to month contract** significantly increases the probability of customer churn.\n",
    "### Only **Payment method: Bank Transfer-Automatic** decreases the probability of churn.\n",
    "### It is very similar to **Decision Plot** we have seen before."
   ]
  },
  {
   "cell_type": "markdown",
   "metadata": {
    "papermill": {
     "duration": 0.341579,
     "end_time": "2021-10-24T12:47:56.062559",
     "exception": false,
     "start_time": "2021-10-24T12:47:55.72098",
     "status": "completed"
    },
    "tags": []
   },
   "source": [
    "### **Customer 35**"
   ]
  },
  {
   "cell_type": "code",
   "execution_count": null,
   "metadata": {
    "_kg_hide-input": false,
    "execution": {
     "iopub.execute_input": "2021-10-24T13:11:11.411749Z",
     "iopub.status.busy": "2021-10-24T13:11:11.410675Z",
     "iopub.status.idle": "2021-10-24T13:11:11.430075Z",
     "shell.execute_reply": "2021-10-24T13:11:11.429525Z",
     "shell.execute_reply.started": "2021-10-24T13:11:11.411709Z"
    },
    "papermill": {
     "duration": 0.383095,
     "end_time": "2021-10-24T12:47:56.789739",
     "exception": false,
     "start_time": "2021-10-24T12:47:56.406644",
     "status": "completed"
    },
    "tags": []
   },
   "outputs": [],
   "source": [
    "shap.initjs()\n",
    "shap.force_plot(explainerxgbc.expected_value, shap_values_XGBoost_test[35], X_test.iloc[[35]],link= \"logit\")"
   ]
  },
  {
   "cell_type": "markdown",
   "metadata": {
    "papermill": {
     "duration": 0.399912,
     "end_time": "2021-10-24T12:47:57.557982",
     "exception": false,
     "start_time": "2021-10-24T12:47:57.15807",
     "status": "completed"
    },
    "tags": []
   },
   "source": [
    "#### The baseline is 0.6693. \n",
    "## Customer 35 has a very low predicted risk of **0.0005 to churn**. \n",
    "### **Having Two year contract** instead of **month-to-month contract** significantly decreases the probability of customer churn.\n",
    "### It is very similar to **Decision Plot** we have seen before."
   ]
  },
  {
   "cell_type": "markdown",
   "metadata": {
    "papermill": {
     "duration": 0.371213,
     "end_time": "2021-10-24T12:47:58.30154",
     "exception": false,
     "start_time": "2021-10-24T12:47:57.930327",
     "status": "completed"
    },
    "tags": []
   },
   "source": [
    "<a id=\"27\"></a>\n",
    "<font color=\"Darkblue\" size=+1.5><b>SHAP Waterfall Plot</b></font>\n",
    "\n",
    "<a href=\"#toc\" class=\"btn btn-primary btn-sm\" role=\"button\" aria-pressed=\"true\" style=\"color:white\" data-toggle=\"popover\">Table of Contents</a>"
   ]
  },
  {
   "cell_type": "markdown",
   "metadata": {
    "papermill": {
     "duration": 0.371057,
     "end_time": "2021-10-24T12:47:59.045143",
     "exception": false,
     "start_time": "2021-10-24T12:47:58.674086",
     "status": "completed"
    },
    "tags": []
   },
   "source": [
    "- It is very similar to **force plot** so, it would be good to know it."
   ]
  },
  {
   "cell_type": "markdown",
   "metadata": {
    "papermill": {
     "duration": 0.362864,
     "end_time": "2021-10-24T12:47:59.779193",
     "exception": false,
     "start_time": "2021-10-24T12:47:59.416329",
     "status": "completed"
    },
    "tags": []
   },
   "source": [
    "### **Customer 15**"
   ]
  },
  {
   "cell_type": "code",
   "execution_count": null,
   "metadata": {
    "_kg_hide-input": false,
    "execution": {
     "iopub.execute_input": "2021-10-24T13:11:11.431909Z",
     "iopub.status.busy": "2021-10-24T13:11:11.431265Z",
     "iopub.status.idle": "2021-10-24T13:11:12.91681Z",
     "shell.execute_reply": "2021-10-24T13:11:12.91571Z",
     "shell.execute_reply.started": "2021-10-24T13:11:11.431878Z"
    },
    "papermill": {
     "duration": 1.94552,
     "end_time": "2021-10-24T12:48:02.085394",
     "exception": false,
     "start_time": "2021-10-24T12:48:00.139874",
     "status": "completed"
    },
    "tags": []
   },
   "outputs": [],
   "source": [
    "fig = plt.subplots(figsize=(6,6),dpi=200)\n",
    "ax_3= shap.plots._waterfall.waterfall_legacy(explainerxgbc.expected_value, shap_values_XGBoost_test[15], feature_names = X_test.columns,max_display = 20)"
   ]
  },
  {
   "cell_type": "markdown",
   "metadata": {
    "papermill": {
     "duration": 0.380823,
     "end_time": "2021-10-24T12:48:02.84847",
     "exception": false,
     "start_time": "2021-10-24T12:48:02.467647",
     "status": "completed"
    },
    "tags": []
   },
   "source": [
    "### **Customer 35**"
   ]
  },
  {
   "cell_type": "code",
   "execution_count": null,
   "metadata": {
    "_kg_hide-input": false,
    "execution": {
     "iopub.execute_input": "2021-10-24T13:11:12.918814Z",
     "iopub.status.busy": "2021-10-24T13:11:12.918568Z",
     "iopub.status.idle": "2021-10-24T13:11:14.504005Z",
     "shell.execute_reply": "2021-10-24T13:11:14.503024Z",
     "shell.execute_reply.started": "2021-10-24T13:11:12.918785Z"
    },
    "papermill": {
     "duration": 2.003156,
     "end_time": "2021-10-24T12:48:05.234826",
     "exception": false,
     "start_time": "2021-10-24T12:48:03.23167",
     "status": "completed"
    },
    "tags": []
   },
   "outputs": [],
   "source": [
    "fig = plt.subplots(figsize=(6,6),dpi=200)\n",
    "ax_3= shap.plots._waterfall.waterfall_legacy(explainerxgbc.expected_value, shap_values_XGBoost_test[35], feature_names = X_test.columns,max_display = 20)"
   ]
  },
  {
   "cell_type": "markdown",
   "metadata": {
    "papermill": {
     "duration": 0.401142,
     "end_time": "2021-10-24T12:48:06.090712",
     "exception": false,
     "start_time": "2021-10-24T12:48:05.68957",
     "status": "completed"
    },
    "tags": []
   },
   "source": [
    "## **Decision Plot** , **Force Plot** and **Waterfall Plot** are very useful to understand and explain how the model arrived at its decision.\n"
   ]
  },
  {
   "cell_type": "markdown",
   "metadata": {
    "papermill": {
     "duration": 0.382622,
     "end_time": "2021-10-24T12:48:06.863609",
     "exception": false,
     "start_time": "2021-10-24T12:48:06.480987",
     "status": "completed"
    },
    "tags": []
   },
   "source": [
    "<a id=\"28\"></a>\n",
    "<font color=\"Darkblue\" size=+2.5><b>Conclusion</b></font>\n",
    "\n",
    "<a href=\"#toc\" class=\"btn btn-primary btn-sm\" role=\"button\" aria-pressed=\"true\" style=\"color:white\" data-toggle=\"popover\">Table of Contents</a>"
   ]
  },
  {
   "cell_type": "markdown",
   "metadata": {
    "papermill": {
     "duration": 0.380938,
     "end_time": "2021-10-24T12:48:07.625488",
     "exception": false,
     "start_time": "2021-10-24T12:48:07.24455",
     "status": "completed"
    },
    "tags": []
   },
   "source": [
    "## In this notebook, we have looked in detail at how famous trio (XGBoost & LightGBM & Catboost)  models are explained by the SHAP.\n",
    "\n",
    "### First we started with the general explanation of  how model works.\n",
    "\n",
    "### Then we focused on the two different customer churn predictions to see everything in the action.\n",
    "\n",
    "### **SHAP (SHapley Additive exPlanations)** is a method to explain individual predictions.\n",
    "\n",
    "###  **SHAP summary plot** gives in detail info by combining feature importance with its effects.\n",
    "\n",
    "### **SHAP Decison Plot** gives us a clear picture of how models, in our case how complex models, reach their decisions.\n",
    "\n",
    "### **SHAP Force Plot**: We can visualize feature attributions such as Shapley values as “forces”. Each feature value is a force that either increases or decreases the prediction.\n",
    "\n",
    "### **SHAP Waterfall plots** are designed to display explanations for individual predictions, so they expect a single row of an Explanation object as input.\n",
    "\n",
    "### I have to emphasize that it is important to get deep knowledge on the data and problem on the hand. \n",
    "\n",
    "### Model interpretability is very important tool for any Data Scientist to have in her/his toolbox. \n",
    "\n",
    "## **SHAP** is very useful tool to understand and explain how the model arrived at its decision.\n",
    "\n",
    " "
   ]
  },
  {
   "cell_type": "markdown",
   "metadata": {
    "papermill": {
     "duration": 0.411332,
     "end_time": "2021-10-24T12:48:08.434737",
     "exception": false,
     "start_time": "2021-10-24T12:48:08.023405",
     "status": "completed"
    },
    "tags": []
   },
   "source": [
    "### By the way, when you like the topic, you can show it by supporting 👍\n",
    "\n",
    "###  **Feel free to leave a comment**. \n",
    "\n",
    "##  ENJOY YOUR DS / ML Learning Journey.\n",
    "\n",
    "## All the best 🤘"
   ]
  },
  {
   "cell_type": "markdown",
   "metadata": {
    "papermill": {
     "duration": 0.395147,
     "end_time": "2021-10-24T12:48:09.242711",
     "exception": false,
     "start_time": "2021-10-24T12:48:08.847564",
     "status": "completed"
    },
    "tags": []
   },
   "source": [
    "![](https://media.giphy.com/media/3orieM85kojJlOEYFy/giphy.gif)"
   ]
  },
  {
   "cell_type": "markdown",
   "metadata": {
    "papermill": {
     "duration": 0.384613,
     "end_time": "2021-10-24T12:48:10.019738",
     "exception": false,
     "start_time": "2021-10-24T12:48:09.635125",
     "status": "completed"
    },
    "tags": []
   },
   "source": [
    "Gif Credit: https://media.giphy.com/"
   ]
  },
  {
   "cell_type": "markdown",
   "metadata": {
    "execution": {
     "iopub.execute_input": "2021-10-20T19:17:43.789443Z",
     "iopub.status.busy": "2021-10-20T19:17:43.789159Z",
     "iopub.status.idle": "2021-10-20T19:17:43.796844Z",
     "shell.execute_reply": "2021-10-20T19:17:43.79576Z",
     "shell.execute_reply.started": "2021-10-20T19:17:43.789413Z"
    },
    "papermill": {
     "duration": 0.379607,
     "end_time": "2021-10-24T12:48:10.780285",
     "exception": false,
     "start_time": "2021-10-24T12:48:10.400678",
     "status": "completed"
    },
    "tags": []
   },
   "source": [
    "<a id=\"29\"></a>\n",
    "<font color=\"darkblue\" size=+1.5><b>References & Further Reading</b></font>\n",
    "\n",
    "<a href=\"#toc\" class=\"btn btn-primary btn-sm\" role=\"button\" aria-pressed=\"true\" style=\"color:white\" data-toggle=\"popover\">Table of Contents</a>\n",
    "\n",
    "[Machine Learning - Beginner &Intermediate-Friendly BOOKS](https://www.kaggle.com/general/255972)\n",
    "\n",
    "https://christophm.github.io/interpretable-ml-book/\n",
    "\n",
    "https://shap.readthedocs.io/\n",
    "\n",
    "https://shap-lrjball.readthedocs.io/en/docs_update/index.html"
   ]
  }
 ],
 "metadata": {
  "kernelspec": {
   "display_name": "Python 3",
   "language": "python",
   "name": "python3"
  },
  "language_info": {
   "codemirror_mode": {
    "name": "ipython",
    "version": 3
   },
   "file_extension": ".py",
   "mimetype": "text/x-python",
   "name": "python",
   "nbconvert_exporter": "python",
   "pygments_lexer": "ipython3",
   "version": "3.9.1"
  }
 },
 "nbformat": 4,
 "nbformat_minor": 4
}
